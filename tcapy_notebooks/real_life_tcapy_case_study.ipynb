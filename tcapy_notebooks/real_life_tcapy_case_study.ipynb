{
 "cells": [
  {
   "attachments": {
    "cuemacro_logo.png": {
     "image/png": "[encoded data removed]"
    }
   },
   "cell_type": "markdown",
   "metadata": {},
   "source": [
    "![cuemacro_logo.png](attachment:cuemacro_logo.png)\n",
    "\n",
    "# Real life tcapy case study on an asset manager's trade data\n",
    "\n",
    "**Saeed Amen / Founder of Cuemacro**\n",
    "\n",
    "https://www.cuemacro.com / saeed@cuemacro.com / @saeedamenfx / All material is copyright Cuemacro / 2020"
   ]
  },
  {
   "cell_type": "markdown",
   "metadata": {},
   "source": [
    "Many of the examples we have shown elsewhere use randomized trade/order data. However, in practice, the output of any TCA using randomized trade data is likely to be quite artificial. In this section, we use a real dataset of trade level data during most of 2017 from Swedbank Robur, a Swedish asset manager from their FX trading desk to run some TCA. We'd like to thank Swedbank Robur for allowing us to publish the results. Whilst, we aren't able to provide the raw data to readers (hence, you won't be able to recalculate the results on your own machines), it nevertheless illustrates some of the steps you'll need to take on your own trading data to normalize it, and in particular how you could approach your TCA. If you'd like us to run similar analysis on your firm's execution data, let us know!"
   ]
  },
  {
   "cell_type": "code",
   "execution_count": 1,
   "metadata": {
    "ExecuteTime": {
     "end_time": "2020-06-07T22:37:45.811233Z",
     "start_time": "2020-06-07T22:37:45.807243Z"
    }
   },
   "outputs": [],
   "source": [
    "# To reduce the logging output run this\n",
    "import logging\n",
    "import sys\n",
    "logging.disable(sys.maxsize)"
   ]
  },
  {
   "cell_type": "markdown",
   "metadata": {},
   "source": [
    "## Normalization of trade data format\n",
    "\n",
    "The first step of any sort of analysis of trade data, is to normalize the data. Basically, we need to convert it into a format that tcapy can read easily. tcapy includes a class `DataNorm` which can be used for this (you can extend this to fit your own normalization). In our case, we'll simply normalize the dataset before we even supply it to tcapy.\n",
    "\n",
    "Some of the steps we need to do:\n",
    "\n",
    "* Convert fields name to the stand ones for tcapy\n",
    "    * eg. `create_date_in_est` -> `Date` (and make `Date` index)\n",
    "* Change certain field contents\n",
    "    * eg. `EUR.USD` -> `EURUSD`\n",
    "* Making certain fields confidential for publishing reasons\n",
    "    * eg. client name\n",
    "* Only filter for FX spot trades, given that forwards/swaps etc. are not yet supported in tcapy\n",
    "\n",
    "The precise steps will of course vary depending on your dataset, however once the format you know is defined, you can reuse your normalisation code. Our dataset is in Excel format, which we then saved into CSV format, so once normalized, we'll dump to disk back into CSV format that can be ingested by tcapy."
   ]
  },
  {
   "cell_type": "code",
   "execution_count": 2,
   "metadata": {
    "ExecuteTime": {
     "end_time": "2020-06-07T22:37:46.331708Z",
     "start_time": "2020-06-07T22:37:45.812230Z"
    }
   },
   "outputs": [],
   "source": [
    "import pandas as pd\n",
    "\n",
    "import datetime\n",
    "\n",
    "csv_trade_data_path = \"e:/cuemacro/tcapy/external/trade_2017.csv\"\n",
    "output_csv_trade_data_path = \"e:/cuemacro/tcapy/external/trade_2017_output.csv\"\n",
    "linux_csv_trade_data_path = \"/home/tcapyuser/cuemacro/tcapy/external/trade_2017_output.csv\"\n",
    "\n",
    "# If not using Celery\n",
    "# linux_csv_trade_data_path = output_csv_trade_path\n",
    "\n",
    "df_trades = pd.read_csv(csv_trade_data_path)\n",
    "df_trades = df_trades[df_trades[\"type\"] == \"SPOT\"]"
   ]
  },
  {
   "cell_type": "markdown",
   "metadata": {},
   "source": [
    "The dates are in American date format. The original file was in Excel format, before being converted to CSV. However, Excel has \"detected\" them as European date. As a result we've ended up with two formats (eg 01/02/2017 05:58:55 mistakenly identified as European date, although the time has been correctly converted and 1/16/2017 3:36:18 AM left as a string by Excel). One check we can do is to make sure that the ordering hasn't been changed, by our date parsing. We write a function that tries parsing dates in two different ways."
   ]
  },
  {
   "cell_type": "code",
   "execution_count": 3,
   "metadata": {
    "ExecuteTime": {
     "end_time": "2020-06-07T22:37:46.336695Z",
     "start_time": "2020-06-07T22:37:46.333703Z"
    }
   },
   "outputs": [],
   "source": [
    "def parse_date(d):\n",
    "    try:\n",
    "        return datetime.datetime.strptime(d, \"%m/%d/%Y %H:%M:%S\")\n",
    "    except:\n",
    "        return datetime.datetime.strptime(d, \"%m/%d/%Y %H:%M:%S %p\")"
   ]
  },
  {
   "cell_type": "markdown",
   "metadata": {},
   "source": [
    "Apply the date parser to the trade date/time column."
   ]
  },
  {
   "cell_type": "code",
   "execution_count": 4,
   "metadata": {
    "ExecuteTime": {
     "end_time": "2020-06-07T22:37:46.424965Z",
     "start_time": "2020-06-07T22:37:46.337697Z"
    }
   },
   "outputs": [],
   "source": [
    "df_trades['create_date_in_est'] = df_trades['create_date_in_est'].apply(parse_date)"
   ]
  },
  {
   "cell_type": "markdown",
   "metadata": {},
   "source": [
    "Remove the empty fields with `user_field`."
   ]
  },
  {
   "cell_type": "code",
   "execution_count": 5,
   "metadata": {
    "ExecuteTime": {
     "end_time": "2020-06-07T22:37:46.431947Z",
     "start_time": "2020-06-07T22:37:46.425963Z"
    }
   },
   "outputs": [],
   "source": [
    "df_trades = df_trades.drop(columns=[x for x in df_trades.columns if 'user_field' in x])"
   ]
  },
  {
   "cell_type": "markdown",
   "metadata": {},
   "source": [
    "Rename the columns so they have the same names that tcapy expects."
   ]
  },
  {
   "cell_type": "code",
   "execution_count": 6,
   "metadata": {
    "ExecuteTime": {
     "end_time": "2020-06-07T22:37:46.441920Z",
     "start_time": "2020-06-07T22:37:46.432944Z"
    }
   },
   "outputs": [],
   "source": [
    "df_trades = df_trades.rename(\n",
    "    columns={\"trade_id\":\"id\", \"create_date_in_est\": \"Date\", \"provider\":\"broker_id\", \"ccy_pair\":\"ticker\",\n",
    "\"deal_side\":\"side\",\n",
    "\"dealt_ccy\":\"notional_currency\",\n",
    "\"dealt_amount\":\"executed_notional\",\n",
    "\"spot_rate\":\"executed_price\"\n",
    "})"
   ]
  },
  {
   "cell_type": "markdown",
   "metadata": {},
   "source": [
    "Let's look at the columns. Most columns we won't end up using anyway for the TCA calculation later."
   ]
  },
  {
   "cell_type": "code",
   "execution_count": 7,
   "metadata": {
    "ExecuteTime": {
     "end_time": "2020-06-07T22:37:46.453888Z",
     "start_time": "2020-06-07T22:37:46.442917Z"
    }
   },
   "outputs": [
    {
     "data": {
      "text/plain": [
       "Index(['id', 'sef', 'voluntary_sef', 'source', 'venue', 'trade_date', 'Date',\n",
       "       'cust_name', 'client_sef_member', 'autoexec', 'broker_id',\n",
       "       'prov_sef_member', 'ticker', 'type', 'tenor', 'side',\n",
       "       'notional_currency', 'executed_notional', 'contra_amount',\n",
       "       'executed_price', 'fwd_pts', 'all_in', 'mid_rate', 'value_date',\n",
       "       'fixing_date', 'manual', 'amend_type', 'amend_details', 'amend_status',\n",
       "       'in_competition', 'send_detail', 'batch_id', 'source_id', 'remarks',\n",
       "       'leg_usi'],\n",
       "      dtype='object')"
      ]
     },
     "execution_count": 7,
     "metadata": {},
     "output_type": "execute_result"
    }
   ],
   "source": [
    "df_trades.columns"
   ]
  },
  {
   "cell_type": "markdown",
   "metadata": {},
   "source": [
    "Multiple trades under the same `id` are listed with different `executed_notional` amounts, same time and prices. This suggests that they have just been booked under different accounts. From a TCA perspective, it would make things easier if we could view these as a single execution. So we aggregate each of these groups into 1 trade, and drop duplicates."
   ]
  },
  {
   "cell_type": "code",
   "execution_count": 8,
   "metadata": {
    "ExecuteTime": {
     "end_time": "2020-06-07T22:37:46.474106Z",
     "start_time": "2020-06-07T22:37:46.455883Z"
    }
   },
   "outputs": [],
   "source": [
    "df_trades_notionals = df_trades.groupby(['id'])['executed_notional'].sum()\n",
    "df_trades = df_trades.drop(columns=['executed_notional'])\n",
    "df_trades = df_trades.join(df_trades_notionals, on='id')\n",
    "df_trades = df_trades.drop_duplicates(subset='id', keep='first')"
   ]
  },
  {
   "cell_type": "markdown",
   "metadata": {},
   "source": [
    "The tickers have `.` in them eg. `EUR.USD`, we remove the `.` so it becomes compatible with the tickers in tcapy."
   ]
  },
  {
   "cell_type": "code",
   "execution_count": 9,
   "metadata": {
    "ExecuteTime": {
     "end_time": "2020-06-07T22:37:46.509012Z",
     "start_time": "2020-06-07T22:37:46.476101Z"
    }
   },
   "outputs": [],
   "source": [
    "df_trades['ticker'] = df_trades['ticker'].str.replace('.','')"
   ]
  },
  {
   "cell_type": "markdown",
   "metadata": {},
   "source": [
    "Ok, the tickers look as a expected now"
   ]
  },
  {
   "cell_type": "code",
   "execution_count": 10,
   "metadata": {
    "ExecuteTime": {
     "end_time": "2020-06-07T22:37:46.519983Z",
     "start_time": "2020-06-07T22:37:46.510009Z"
    }
   },
   "outputs": [
    {
     "data": {
      "text/plain": [
       "0     EURSEK\n",
       "6     USDSEK\n",
       "12    PLNSEK\n",
       "13    CADSEK\n",
       "14    GBPSEK\n",
       "Name: ticker, dtype: object"
      ]
     },
     "execution_count": 10,
     "metadata": {},
     "output_type": "execute_result"
    }
   ],
   "source": [
    "df_trades['ticker'].head(5)"
   ]
  },
  {
   "cell_type": "markdown",
   "metadata": {},
   "source": [
    "We set the index as `Date` which is what tcapy expects. Note, tcapy could handle different trades if they happened to be at exactly the same time."
   ]
  },
  {
   "cell_type": "code",
   "execution_count": 11,
   "metadata": {
    "ExecuteTime": {
     "end_time": "2020-06-07T22:37:46.529468Z",
     "start_time": "2020-06-07T22:37:46.520980Z"
    }
   },
   "outputs": [],
   "source": [
    "df_trades = df_trades.set_index('Date')\n",
    "df_trades.index = pd.to_datetime(df_trades.index)"
   ]
  },
  {
   "cell_type": "markdown",
   "metadata": {},
   "source": [
    "Let's have a look at the first few trades, to see if looks ok."
   ]
  },
  {
   "cell_type": "code",
   "execution_count": 12,
   "metadata": {
    "ExecuteTime": {
     "end_time": "2020-06-07T22:37:46.557393Z",
     "start_time": "2020-06-07T22:37:46.530464Z"
    }
   },
   "outputs": [
    {
     "data": {
      "text/html": [
       "<div>\n",
       "<style scoped>\n",
       "    .dataframe tbody tr th:only-of-type {\n",
       "        vertical-align: middle;\n",
       "    }\n",
       "\n",
       "    .dataframe tbody tr th {\n",
       "        vertical-align: top;\n",
       "    }\n",
       "\n",
       "    .dataframe thead th {\n",
       "        text-align: right;\n",
       "    }\n",
       "</style>\n",
       "<table border=\"1\" class=\"dataframe\">\n",
       "  <thead>\n",
       "    <tr style=\"text-align: right;\">\n",
       "      <th></th>\n",
       "      <th>id</th>\n",
       "      <th>sef</th>\n",
       "      <th>voluntary_sef</th>\n",
       "      <th>source</th>\n",
       "      <th>venue</th>\n",
       "      <th>trade_date</th>\n",
       "      <th>cust_name</th>\n",
       "      <th>client_sef_member</th>\n",
       "      <th>autoexec</th>\n",
       "      <th>broker_id</th>\n",
       "      <th>...</th>\n",
       "      <th>amend_type</th>\n",
       "      <th>amend_details</th>\n",
       "      <th>amend_status</th>\n",
       "      <th>in_competition</th>\n",
       "      <th>send_detail</th>\n",
       "      <th>batch_id</th>\n",
       "      <th>source_id</th>\n",
       "      <th>remarks</th>\n",
       "      <th>leg_usi</th>\n",
       "      <th>executed_notional</th>\n",
       "    </tr>\n",
       "    <tr>\n",
       "      <th>Date</th>\n",
       "      <th></th>\n",
       "      <th></th>\n",
       "      <th></th>\n",
       "      <th></th>\n",
       "      <th></th>\n",
       "      <th></th>\n",
       "      <th></th>\n",
       "      <th></th>\n",
       "      <th></th>\n",
       "      <th></th>\n",
       "      <th></th>\n",
       "      <th></th>\n",
       "      <th></th>\n",
       "      <th></th>\n",
       "      <th></th>\n",
       "      <th></th>\n",
       "      <th></th>\n",
       "      <th></th>\n",
       "      <th></th>\n",
       "      <th></th>\n",
       "      <th></th>\n",
       "    </tr>\n",
       "  </thead>\n",
       "  <tbody>\n",
       "    <tr>\n",
       "      <th>2017-01-02 05:58:55</th>\n",
       "      <td>127379984</td>\n",
       "      <td>N</td>\n",
       "      <td>-</td>\n",
       "      <td>RFQ2</td>\n",
       "      <td>CLASSIC RFQ</td>\n",
       "      <td>20170102</td>\n",
       "      <td>NaN</td>\n",
       "      <td>N</td>\n",
       "      <td>-</td>\n",
       "      <td>1</td>\n",
       "      <td>...</td>\n",
       "      <td>NONE</td>\n",
       "      <td>NaN</td>\n",
       "      <td>NONE</td>\n",
       "      <td>Y</td>\n",
       "      <td>N</td>\n",
       "      <td>0</td>\n",
       "      <td>-</td>\n",
       "      <td>NaN</td>\n",
       "      <td>YCDYZNMZ3J127379984L0</td>\n",
       "      <td>7315000.0</td>\n",
       "    </tr>\n",
       "    <tr>\n",
       "      <th>2017-01-02 08:27:24</th>\n",
       "      <td>127384679</td>\n",
       "      <td>N</td>\n",
       "      <td>-</td>\n",
       "      <td>RFQ2</td>\n",
       "      <td>CLASSIC RFQ</td>\n",
       "      <td>20170102</td>\n",
       "      <td>NaN</td>\n",
       "      <td>N</td>\n",
       "      <td>-</td>\n",
       "      <td>2</td>\n",
       "      <td>...</td>\n",
       "      <td>NONE</td>\n",
       "      <td>NaN</td>\n",
       "      <td>NONE</td>\n",
       "      <td>Y</td>\n",
       "      <td>N</td>\n",
       "      <td>0</td>\n",
       "      <td>-</td>\n",
       "      <td>NaN</td>\n",
       "      <td>YCDYZNMZ3J127384679L0</td>\n",
       "      <td>9600000.0</td>\n",
       "    </tr>\n",
       "  </tbody>\n",
       "</table>\n",
       "<p>2 rows × 34 columns</p>\n",
       "</div>"
      ],
      "text/plain": [
       "                            id sef voluntary_sef source        venue  \\\n",
       "Date                                                                   \n",
       "2017-01-02 05:58:55  127379984   N             -   RFQ2  CLASSIC RFQ   \n",
       "2017-01-02 08:27:24  127384679   N             -   RFQ2  CLASSIC RFQ   \n",
       "\n",
       "                     trade_date  cust_name client_sef_member autoexec  \\\n",
       "Date                                                                    \n",
       "2017-01-02 05:58:55    20170102        NaN                 N        -   \n",
       "2017-01-02 08:27:24    20170102        NaN                 N        -   \n",
       "\n",
       "                    broker_id  ... amend_type amend_details amend_status  \\\n",
       "Date                           ...                                         \n",
       "2017-01-02 05:58:55         1  ...       NONE           NaN         NONE   \n",
       "2017-01-02 08:27:24         2  ...       NONE           NaN         NONE   \n",
       "\n",
       "                    in_competition send_detail batch_id  source_id  remarks  \\\n",
       "Date                                                                          \n",
       "2017-01-02 05:58:55              Y           N        0          -      NaN   \n",
       "2017-01-02 08:27:24              Y           N        0          -      NaN   \n",
       "\n",
       "                                   leg_usi  executed_notional  \n",
       "Date                                                           \n",
       "2017-01-02 05:58:55  YCDYZNMZ3J127379984L0          7315000.0  \n",
       "2017-01-02 08:27:24  YCDYZNMZ3J127384679L0          9600000.0  \n",
       "\n",
       "[2 rows x 34 columns]"
      ]
     },
     "execution_count": 12,
     "metadata": {},
     "output_type": "execute_result"
    }
   ],
   "source": [
    "df_trades.head(2)"
   ]
  },
  {
   "cell_type": "markdown",
   "metadata": {},
   "source": [
    "We'll filter some trades which appear to be outliers, because of booking rate."
   ]
  },
  {
   "cell_type": "code",
   "execution_count": 13,
   "metadata": {
    "ExecuteTime": {
     "end_time": "2020-06-07T22:37:46.567366Z",
     "start_time": "2020-06-07T22:37:46.558390Z"
    }
   },
   "outputs": [],
   "source": [
    "df_trades = df_trades[(df_trades.broker_id != 13) & (df_trades.index.month != 8) & (df_trades.index.day != 15)]"
   ]
  },
  {
   "cell_type": "markdown",
   "metadata": {
    "ExecuteTime": {
     "end_time": "2020-04-03T23:30:26.849295Z",
     "start_time": "2020-04-03T23:30:26.841316Z"
    }
   },
   "source": [
    "Finally write to disk."
   ]
  },
  {
   "cell_type": "code",
   "execution_count": 14,
   "metadata": {
    "ExecuteTime": {
     "end_time": "2020-06-07T22:37:46.600277Z",
     "start_time": "2020-06-07T22:37:46.568363Z"
    }
   },
   "outputs": [],
   "source": [
    "df_trades.to_csv(output_csv_trade_data_path)"
   ]
  },
  {
   "cell_type": "markdown",
   "metadata": {},
   "source": [
    "We can query the dataset to see what types of trades there are. As we might expect, there are lots of SEK crosses. Note, that our market database does not have all the currencies in it. However, if we have some of the crosses, tcapy can construct a cross rate benchmark, if we have both USD crosses. tcapy first attempts to check if the pair is in the database, and then will then try constructing a cross. \n",
    "\n",
    "We should try to collect market tick data for the crosses we are likely to trade, eg. whilst theoretically we can construct EURSEK via EURUSD and USDSEK, EURSEK is the primary pair for SEK, hence EURSEK data would be better. Note, that we'll only be looking at a small number of the crosses traded. Note, that tcapy can ingest data even if its booked the non-conventional way, eg. SEKEUR etc."
   ]
  },
  {
   "cell_type": "code",
   "execution_count": 15,
   "metadata": {
    "ExecuteTime": {
     "end_time": "2020-06-07T22:37:46.606262Z",
     "start_time": "2020-06-07T22:37:46.601275Z"
    }
   },
   "outputs": [
    {
     "data": {
      "text/plain": [
       "array(['EURSEK', 'USDSEK', 'PLNSEK', 'CADSEK', 'GBPSEK', 'USDHKD',\n",
       "       'JPYSEK', 'ILSSEK', 'EURUSD', 'DKKSEK', 'ZARSEK', 'NOKSEK',\n",
       "       'AUDSEK', 'CHFSEK', 'USDTRY', 'USDPLN', 'HKDSEK', 'GBPUSD',\n",
       "       'USDCAD', 'USDJPY', 'EURGBP', 'EURCHF', 'CADJPY', 'SGDSEK',\n",
       "       'GBPCAD', 'USDZAR', 'AUDCAD', 'TRYSEK', 'CZKSEK', 'EURCAD',\n",
       "       'USDDKK', 'HUFSEK', 'NZDSEK', 'GBPCHF', 'AUDUSD', 'USDNOK',\n",
       "       'TRYPLN', 'MXNSEK', 'CNHSEK', 'EURDKK', 'GBPPLN', 'EURPLN',\n",
       "       'EURTRY', 'EURHKD', 'AUDJPY', 'EURZAR', 'USDSGD'], dtype=object)"
      ]
     },
     "execution_count": 15,
     "metadata": {},
     "output_type": "execute_result"
    }
   ],
   "source": [
    "df_trades['ticker'].unique()"
   ]
  },
  {
   "cell_type": "markdown",
   "metadata": {},
   "source": [
    "## Setting tcapy parameters and doing module imports\n",
    "\n",
    "We have now prepared our trade data so it is in the right format for tcapy, and dumped it to CSV. Let's define the paths that we'll use. We are assuming that we have tcapy running on Windows, and using WSL/Ubuntu for the backend (and Celery)."
   ]
  },
  {
   "cell_type": "code",
   "execution_count": 16,
   "metadata": {
    "ExecuteTime": {
     "end_time": "2020-06-07T22:37:46.614241Z",
     "start_time": "2020-06-07T22:37:46.607259Z"
    }
   },
   "outputs": [],
   "source": [
    "import sys\n",
    "import os\n",
    "\n",
    "windows_tcapy_path = 'e:/cuemacro/tcapy' # Windows platform\n",
    "linux_tcapy_path = '/home/tcapyuser/cuemacro/tcapy' # Linux platform\n",
    "local_test_data_path = 'e:/cuemacro/tcapy/tests_harness_data/' # Windows platform\n",
    "remote_test_data_path = '/home/tcapyuser/cuemacro/tcapy/tests_harness_data/' # WSL drive\n",
    "\n",
    "# Assuming the front end is on Windows\n",
    "sys.path.insert(0, windows_tcapy_path)\n",
    "\n",
    "# Using data from dukascopy (a free data source)\n",
    "data_vendor = 'dukascopy'"
   ]
  },
  {
   "cell_type": "markdown",
   "metadata": {},
   "source": [
    "Let's make a load of imports that we'll need to use later and also setting up of Plotly for plotting."
   ]
  },
  {
   "cell_type": "code",
   "execution_count": 17,
   "metadata": {
    "ExecuteTime": {
     "end_time": "2020-06-07T22:37:50.735609Z",
     "start_time": "2020-06-07T22:37:46.615238Z"
    }
   },
   "outputs": [],
   "source": [
    "from collections import OrderedDict\n",
    "\n",
    "# This is the entry point for our TCA analysis\n",
    "from tcapy.analysis.tcaengine import TCAEngineImpl\n",
    "\n",
    "# To construct the parameters for our TCA calculation\n",
    "from tcapy.analysis.tcarequest import TCARequest\n",
    "\n",
    "# To access trade and market data\n",
    "from tcapy.data.databasesource import DatabaseSourceCSVBinary, \\\n",
    "    DatabaseSourceDataFrame, DatabaseSourceDukascopy\n",
    "\n",
    "# Import all the metrics and benchmarks we'll use\n",
    "from tcapy.analysis.algos.benchmark import BenchmarkArrival, BenchmarkMarketSpreadToMid\n",
    "from tcapy.analysis.algos.metric import MetricSlippage, MetricTransientMarketImpact\n",
    "\n",
    "# To aggregate the TCA results\n",
    "from tcapy.analysis.algos.resultsform import TimelineResultsForm, DistResultsForm, \\\n",
    "    BarResultsForm, TableResultsForm, ScatterResultsForm, JoinTables\n",
    "\n",
    "# For filtering initial trades\n",
    "from tcapy.analysis.tradeorderfilter import TradeOrderFilterTag\n",
    "\n",
    "# To help display the output of a TCA calculation\n",
    "from tcapy.vis.tcaresults import TCAResults\n",
    "from tcapy.vis.report.tcareport import TCAReport\n",
    "from tcapy.vis.displaylisteners import PlotRender\n",
    "\n",
    "# General classes\n",
    "from tcapy.conf.constants import Constants\n",
    "from tcapy.util.mediator import Mediator\n",
    "\n",
    "# Prevent requests from displaying debug messages for certain libraries\n",
    "import logging\n",
    "\n",
    "logging.getLogger(\"findatapy\").setLevel(logging.WARNING)\n",
    "logging.getLogger(\"requests\").setLevel(logging.WARNING)\n",
    "logging.getLogger(\"urllib3\").setLevel(logging.WARNING)\n",
    "\n",
    "# For plotting later\n",
    "import plotly.io as pio\n",
    "\n",
    "# For interactive plots (but these disappear when we reopen Jupyter)\n",
    "# pio.renderers.default = \"notebook\" \n",
    "\n",
    "# For static plots, need Orca (but might not work properly on WSL)\n",
    "# pio.renderers.default = \"svg\"\n",
    "pio.renderers.default = \"png\"\n",
    "\n",
    "import plotly\n",
    "\n",
    "# plotly.io.orca.config.executable = '/home/tcapyuser/anaconda3/envs/py36tca/lib/orca_app/orca' # You might need to change this\n",
    "# plotly.io.orca.config.save()\n",
    "\n",
    "from chartpy import Chart, Style\n",
    "\n",
    "# default size for Plotly charts we use\n",
    "chart_width = 800\n",
    "chart_height = 500\n",
    "\n",
    "chart = Chart(engine='plotly')\n",
    "constants = Constants()\n",
    "style = Style(width=chart_width, height=chart_height, scale_factor=-1, silent_display=True)"
   ]
  },
  {
   "cell_type": "markdown",
   "metadata": {},
   "source": [
    "## What is slippage?\n",
    "\n",
    "Throughout this paper, we will be focusing on using slippage as a way to measure transaction costs for the client.\n",
    "\n",
    "Slippage is the difference between where we executed and a mid market price at the time or just before our execution which we use for comparison. \n",
    "\n",
    "* If slippage is negative, it implies we are doing worse than mid, which is the typical scenario when we are taking liquidity. \n",
    "* Hence, if we were buying above the mid, our slippage would be negative (eg. buying at the ask quote). \n",
    "* If we were selling below the mid, our slippage would also be negative (eg. selling at the bid quote).\n",
    "\n",
    "The mid price we use should be independent and aggregated from several liquidity sources (this might require a paid subscription). For simplicity here, we've used a free source though.\n",
    "\n",
    "There are also many other metrics we can use to understand our execution costs, such as market impact, which is the amount by which the mid moves following our execution."
   ]
  },
  {
   "cell_type": "markdown",
   "metadata": {},
   "source": [
    "## Running TCA calculation\n",
    "\n",
    "We've now done alll the imports, that we'll need for the calculation. Let's define where the CSV file is stored."
   ]
  },
  {
   "cell_type": "code",
   "execution_count": 18,
   "metadata": {
    "ExecuteTime": {
     "end_time": "2020-06-07T22:37:50.744583Z",
     "start_time": "2020-06-07T22:37:50.737602Z"
    }
   },
   "outputs": [],
   "source": [
    "local_csv_trade_order_mapping = {'trade_df' : linux_csv_trade_data_path}"
   ]
  },
  {
   "cell_type": "markdown",
   "metadata": {},
   "source": [
    "The `TCAEngine` class is the entry point for running a TCA calculation."
   ]
  },
  {
   "cell_type": "code",
   "execution_count": 19,
   "metadata": {
    "ExecuteTime": {
     "end_time": "2020-06-07T22:37:50.792555Z",
     "start_time": "2020-06-07T22:37:50.745581Z"
    }
   },
   "outputs": [],
   "source": [
    "tca_engine = TCAEngineImpl()\n",
    "\n",
    "volatile_cache = Mediator.get_volatile_cache()"
   ]
  },
  {
   "cell_type": "markdown",
   "metadata": {},
   "source": [
    "We now define our `TCARequest` object for our TCA calculation. \n",
    "\n",
    "We note that:\n",
    "\n",
    "* the trade dataset is from CSV and the market data has been downloaded from Dukascopy and dumped to the disk\n",
    "* for metrics, we are calculating slippage and for benchmarks we are adding a field for the arrival price\n",
    "* we are calculating aggregated results for\n",
    "    * timeline of average slippage by date\n",
    "    * timeline of total amount executed by date in reporting currency (by default USD)\n",
    "    * timeline of total amount executed by hour of day in London hours\n",
    "    * timeline of average slippage by hour of day in London hours\n",
    "    * distribution of slippage by side (buy/sell)\n",
    "    * average slippage by broker \n",
    "    * average slippage by side\n",
    "    * average slippage by ticker\n",
    "    * average executed notional per trade by broker\n",
    "    * total executed notional by broker\n",
    "* note, that typically these are weighted averages, based on the executed notional (you can choose to weight by other fields though)\n",
    "* we have multiplied slippage by 10000, to convert it into basis points"
   ]
  },
  {
   "cell_type": "code",
   "execution_count": 20,
   "metadata": {
    "ExecuteTime": {
     "end_time": "2020-06-07T22:37:50.804523Z",
     "start_time": "2020-06-07T22:37:50.793552Z"
    }
   },
   "outputs": [],
   "source": [
    "ticker = 'EURSEK'\n",
    "\n",
    "tca_request = TCARequest(start_date='01 Jan 2017', finish_date='08 Nov 2017', ticker=ticker,\n",
    "    tca_type='detailed',\n",
    "    trade_data_store='csv', market_data_store='arctic-' + data_vendor,\n",
    "    trade_order_mapping=local_csv_trade_order_mapping,\n",
    "    metric_calcs=[MetricSlippage()],\n",
    "    results_form=[\n",
    "        # Timeline of slippage (by date)\n",
    "        TimelineResultsForm(metric_name='slippage', scalar=10000.0),\n",
    "                             \n",
    "        # Timeline of sum of executed notional (by date)\n",
    "        TimelineResultsForm(metric_name='executed_notional_in_reporting_currency', \n",
    "                            aggregation_metric='sum', scalar=1.0),\n",
    "        \n",
    "        # Timeline of sum of executed notional (by hour of day - LDN)\n",
    "        TimelineResultsForm(metric_name='executed_notional_in_reporting_currency', \n",
    "                            aggregation_metric='sum', scalar=1.0, by_date='hourldn'),\n",
    "                             \n",
    "        # Timeline of average slippage by hour of day (in London timezone)\n",
    "        TimelineResultsForm(metric_name='slippage', scalar=10000.0, by_date='hourldn'),\n",
    "                             \n",
    "        # Timeline of sum of executed notional by hour of day (in London timezone)\n",
    "        TimelineResultsForm(metric_name='executed_notional_in_reporting_currency', \n",
    "                            aggregation_metric='sum', scalar=1.0, by_date='hourldn'),\n",
    "                             \n",
    "        # Distribution of the slippage by side of trade\n",
    "        DistResultsForm(metric_name='slippage', aggregate_by_field='side', scalar=10000.0),\n",
    "                             \n",
    "        # Aggregate the average slippage on trades/orders by broker_id\n",
    "        BarResultsForm(metric_name='slippage', aggregate_by_field='broker_id', scalar=10000.0),\n",
    "                             \n",
    "        # Aggregate the average slippage on trades/orders by side\n",
    "        BarResultsForm(metric_name='slippage', aggregate_by_field='side', scalar=10000.0),\n",
    "                             \n",
    "        # Aggregate the average slippage on trades/orders by ticker\n",
    "        BarResultsForm(metric_name='slippage', aggregate_by_field='ticker', scalar=10000.0),\n",
    "                         \n",
    "        # Aggregate the average executed notional on trades/orders by broker_id\n",
    "        BarResultsForm(metric_name='executed_notional_in_reporting_currency', \n",
    "                       aggregate_by_field='broker_id',\n",
    "                       aggregation_metric='mean'),\n",
    "                             \n",
    "        # Aggregate the sum executed notional on trades/orders by broker_id\n",
    "        BarResultsForm(metric_name='executed_notional_in_reporting_currency', \n",
    "                       aggregate_by_field='broker_id',\n",
    "                       aggregation_metric='sum'),\n",
    "                             \n",
    "        # Create a scatter plot between executed notional and slippage\n",
    "        ScatterResultsForm(scatter_fields=['executed_notional', 'slippage'], scalar={'slippage' : 10000.0})\n",
    "                                                ],\n",
    "        benchmark_calcs=[BenchmarkArrival(), BenchmarkMarketSpreadToMid()], dummy_market=True,\n",
    "        use_multithreading=True)"
   ]
  },
  {
   "cell_type": "markdown",
   "metadata": {},
   "source": [
    "Let's kick off the TCA calculation. The time it takes depends upon how much of the market data has already been cached in Redis."
   ]
  },
  {
   "cell_type": "code",
   "execution_count": 21,
   "metadata": {
    "ExecuteTime": {
     "end_time": "2020-06-07T22:38:06.653368Z",
     "start_time": "2020-06-07T22:37:50.805520Z"
    }
   },
   "outputs": [
    {
     "ename": "AttributeError",
     "evalue": "'NoneType' object has no attribute 'columns'",
     "output_type": "error",
     "traceback": [
      "\u001b[1;31m----------------------------------------\u001b[0m",
      "\u001b[1;31mAttributeError\u001b[0mTraceback (most recent call last)",
      "\u001b[1;32m<ipython-input-21-f886808e3e92>\u001b[0m in \u001b[0;36m<module>\u001b[1;34m\u001b[0m\n\u001b[0;32m      1\u001b[0m \u001b[1;31m# Dictionary of (mostly) dataframes as output from TCA calculation\u001b[0m\u001b[1;33m\u001b[0m\u001b[1;33m\u001b[0m\u001b[1;33m\u001b[0m\u001b[0m\n\u001b[1;32m----> 2\u001b[1;33m \u001b[0mdict_of_df\u001b[0m \u001b[1;33m=\u001b[0m \u001b[0mtca_engine\u001b[0m\u001b[1;33m.\u001b[0m\u001b[0mcalculate_tca\u001b[0m\u001b[1;33m(\u001b[0m\u001b[0mtca_request\u001b[0m\u001b[1;33m)\u001b[0m\u001b[1;33m\u001b[0m\u001b[1;33m\u001b[0m\u001b[0m\n\u001b[0m",
      "\u001b[1;32me:/cuemacro/tcapy\\tcapy\\analysis\\tcaengine.py\u001b[0m in \u001b[0;36mcalculate_tca\u001b[1;34m(self, tca_request)\u001b[0m\n\u001b[0;32m    127\u001b[0m                 \u001b[1;31m# Load market/trade data and compute all the TCA metrics/benchmarks etc.\u001b[0m\u001b[1;33m\u001b[0m\u001b[1;33m\u001b[0m\u001b[1;33m\u001b[0m\u001b[0m\n\u001b[0;32m    128\u001b[0m                 market_df_dict, trade_order_results_df_dict = self._tca_market_trade_loader.load_market_calculate_summarize_metrics(\n\u001b[1;32m--> 129\u001b[1;33m                     tca_request, dummy_market=tca_request.dummy_market)\n\u001b[0m\u001b[0;32m    130\u001b[0m \u001b[1;33m\u001b[0m\u001b[0m\n\u001b[0;32m    131\u001b[0m                 \u001b[1;32mif\u001b[0m \u001b[0mmarket_df_dict\u001b[0m \u001b[1;32mis\u001b[0m \u001b[1;32mnot\u001b[0m \u001b[1;32mNone\u001b[0m\u001b[1;33m:\u001b[0m\u001b[1;33m\u001b[0m\u001b[1;33m\u001b[0m\u001b[0m\n",
      "\u001b[1;32me:/cuemacro/tcapy\\tcapy\\analysis\\tcamarkettradeloader.py\u001b[0m in \u001b[0;36mload_market_calculate_summarize_metrics\u001b[1;34m(self, tca_request, dummy_market)\u001b[0m\n\u001b[0;32m    186\u001b[0m         \u001b[1;31m# Now summarize those metrics across all the tickers, for easier display\u001b[0m\u001b[1;33m\u001b[0m\u001b[1;33m\u001b[0m\u001b[1;33m\u001b[0m\u001b[0m\n\u001b[0;32m    187\u001b[0m         return self.summarize_metrics(market_df_dict, trade_order_results_df_dict, tca_request_list,\n\u001b[1;32m--> 188\u001b[1;33m                                       dummy_market=dummy_market)\n\u001b[0m\u001b[0;32m    189\u001b[0m \u001b[1;33m\u001b[0m\u001b[0m\n\u001b[0;32m    190\u001b[0m     \u001b[1;32mdef\u001b[0m \u001b[0msummarize_metrics\u001b[0m\u001b[1;33m(\u001b[0m\u001b[0mself\u001b[0m\u001b[1;33m,\u001b[0m \u001b[0mmarket_df_dict\u001b[0m\u001b[1;33m,\u001b[0m \u001b[0mtrade_order_results_df_dict\u001b[0m\u001b[1;33m,\u001b[0m \u001b[0mtca_request_list\u001b[0m\u001b[1;33m,\u001b[0m \u001b[0mdummy_market\u001b[0m\u001b[1;33m=\u001b[0m\u001b[1;32mFalse\u001b[0m\u001b[1;33m)\u001b[0m\u001b[1;33m:\u001b[0m\u001b[1;33m\u001b[0m\u001b[1;33m\u001b[0m\u001b[0m\n",
      "\u001b[1;32me:/cuemacro/tcapy\\tcapy\\analysis\\tcamarkettradeloader.py\u001b[0m in \u001b[0;36msummarize_metrics\u001b[1;34m(self, market_df_dict, trade_order_results_df_dict, tca_request_list, dummy_market)\u001b[0m\n\u001b[0;32m    206\u001b[0m \u001b[1;33m\u001b[0m\u001b[0m\n\u001b[0;32m    207\u001b[0m         \u001b[1;31m# Allow user defined summary of metrics\u001b[0m\u001b[1;33m\u001b[0m\u001b[1;33m\u001b[0m\u001b[1;33m\u001b[0m\u001b[0m\n\u001b[1;32m--> 208\u001b[1;33m         \u001b[0mtrade_order_results_df_dict\u001b[0m \u001b[1;33m=\u001b[0m \u001b[0mself\u001b[0m\u001b[1;33m.\u001b[0m\u001b[0m_apply_summary_metrics\u001b[0m\u001b[1;33m(\u001b[0m\u001b[0mtca_request_list\u001b[0m\u001b[1;33m,\u001b[0m \u001b[0mtrade_order_results_df_dict\u001b[0m\u001b[1;33m,\u001b[0m \u001b[0mmarket_df_dict\u001b[0m\u001b[1;33m)\u001b[0m\u001b[1;33m\u001b[0m\u001b[1;33m\u001b[0m\u001b[0m\n\u001b[0m\u001b[0;32m    209\u001b[0m \u001b[1;33m\u001b[0m\u001b[0m\n\u001b[0;32m    210\u001b[0m         \u001b[1;31m# Warning: do not ask for market data when requesting more than one ticker, could cause memory leaks!\u001b[0m\u001b[1;33m\u001b[0m\u001b[1;33m\u001b[0m\u001b[1;33m\u001b[0m\u001b[0m\n",
      "\u001b[1;32me:/cuemacro/tcapy\\tcapy\\analysis\\tcamarkettradeloaderimpl.py\u001b[0m in \u001b[0;36m_apply_summary_metrics\u001b[1;34m(self, tca_request_list, trade_order_results_df_dict, market_df_dict)\u001b[0m\n\u001b[0;32m    115\u001b[0m                         results = r.aggregate_results(\n\u001b[0;32m    116\u001b[0m                             \u001b[0mmarket_trade_order_df\u001b[0m\u001b[1;33m=\u001b[0m\u001b[0mmarket_df_dict\u001b[0m\u001b[1;33m[\u001b[0m\u001b[0mmarket_list\u001b[0m\u001b[1;33m[\u001b[0m\u001b[0mi\u001b[0m\u001b[1;33m]\u001b[0m\u001b[1;33m]\u001b[0m\u001b[1;33m,\u001b[0m\u001b[1;33m\u001b[0m\u001b[1;33m\u001b[0m\u001b[0m\n\u001b[1;32m--> 117\u001b[1;33m                             market_df=market_df_dict[market_list[i]], market_trade_order_name=market_list[i])\n\u001b[0m\u001b[0;32m    118\u001b[0m \u001b[1;33m\u001b[0m\u001b[0m\n\u001b[0;32m    119\u001b[0m                         \u001b[1;32mif\u001b[0m \u001b[0mresults\u001b[0m\u001b[1;33m[\u001b[0m\u001b[1;36m0\u001b[0m\u001b[1;33m]\u001b[0m \u001b[1;32mis\u001b[0m \u001b[1;32mnot\u001b[0m \u001b[1;32mNone\u001b[0m\u001b[1;33m:\u001b[0m\u001b[1;33m\u001b[0m\u001b[1;33m\u001b[0m\u001b[0m\n",
      "\u001b[1;32me:/cuemacro/tcapy\\tcapy\\analysis\\algos\\resultsform.py\u001b[0m in \u001b[0;36maggregate_results\u001b[1;34m(self, market_trade_order_df, market_df, market_trade_order_name, metric_name, ticker, aggregate_by_field, weighting_field, tag_value_combinations, filter_nan, scalar, round_figures_by, aggregation_metric)\u001b[0m\n\u001b[0;32m    315\u001b[0m                                                                                 tag_value_combinations=tag_value_combinations)\n\u001b[0;32m    316\u001b[0m \u001b[1;33m\u001b[0m\u001b[0m\n\u001b[1;32m--> 317\u001b[1;33m         \u001b[1;32mif\u001b[0m \u001b[0mweighting_field\u001b[0m \u001b[1;32mis\u001b[0m \u001b[1;32mnot\u001b[0m \u001b[1;32mNone\u001b[0m \u001b[1;32mand\u001b[0m \u001b[0mweighting_field\u001b[0m \u001b[1;32mnot\u001b[0m \u001b[1;32min\u001b[0m \u001b[0mmarket_trade_order_df\u001b[0m\u001b[1;33m.\u001b[0m\u001b[0mcolumns\u001b[0m\u001b[1;33m:\u001b[0m \u001b[1;32mreturn\u001b[0m \u001b[1;33m[\u001b[0m\u001b[1;32mNone\u001b[0m\u001b[1;33m]\u001b[0m\u001b[1;33m\u001b[0m\u001b[1;33m\u001b[0m\u001b[0m\n\u001b[0m\u001b[0;32m    318\u001b[0m \u001b[1;33m\u001b[0m\u001b[0m\n\u001b[0;32m    319\u001b[0m         \u001b[1;32mif\u001b[0m \u001b[1;32mnot\u001b[0m\u001b[1;33m(\u001b[0m\u001b[0misinstance\u001b[0m\u001b[1;33m(\u001b[0m\u001b[0maggregate_by_field\u001b[0m\u001b[1;33m,\u001b[0m \u001b[0mlist\u001b[0m\u001b[1;33m)\u001b[0m\u001b[1;33m)\u001b[0m\u001b[1;33m:\u001b[0m \u001b[0maggregate_by_field\u001b[0m \u001b[1;33m=\u001b[0m \u001b[1;33m[\u001b[0m\u001b[0maggregate_by_field\u001b[0m\u001b[1;33m]\u001b[0m\u001b[1;33m\u001b[0m\u001b[1;33m\u001b[0m\u001b[0m\n",
      "\u001b[1;31mAttributeError\u001b[0m: 'NoneType' object has no attribute 'columns'"
     ]
    }
   ],
   "source": [
    "# Dictionary of (mostly) dataframes as output from TCA calculation\n",
    "dict_of_df = tca_engine.calculate_tca(tca_request)"
   ]
  },
  {
   "cell_type": "markdown",
   "metadata": {},
   "source": [
    "Let's take a look at the output of our TCA calculation which is mixture of DataFrame objects and Plotly Figure objects. There's a lot here! We'll try to go through a few of these tables and charts to explain them."
   ]
  },
  {
   "cell_type": "code",
   "execution_count": null,
   "metadata": {
    "ExecuteTime": {
     "end_time": "2020-06-07T22:38:06.655364Z",
     "start_time": "2020-06-07T22:37:45.839Z"
    }
   },
   "outputs": [],
   "source": [
    "dict_of_df.keys()"
   ]
  },
  {
   "cell_type": "markdown",
   "metadata": {},
   "source": [
    "To make the output easier to understand, we use the `TCAResults` class, and we render all the charts as Plotly Figures (which haven't already been rendered). We also use `TCAReport` to create a PDF to summarize the TCA output. You can view the PDF report on [GitHub](TODO)."
   ]
  },
  {
   "cell_type": "code",
   "execution_count": null,
   "metadata": {
    "ExecuteTime": {
     "end_time": "2020-06-07T22:38:06.656360Z",
     "start_time": "2020-06-07T22:37:45.841Z"
    }
   },
   "outputs": [],
   "source": [
    "tca_results = TCAResults(dict_of_df, tca_request)\n",
    "tca_results.render_computation_charts()\n",
    "\n",
    "tca_report = TCAReport(tca_results)\n",
    "html_code = tca_report.create_report(output_filename='asset_manager_' + data_vendor + '.pdf', output_format='pdf');"
   ]
  },
  {
   "cell_type": "markdown",
   "metadata": {},
   "source": [
    "### Plotting market and trade data\n",
    "\n",
    "Let's see the keys of all the charts with market data for EURSEK and trades which we executed."
   ]
  },
  {
   "cell_type": "code",
   "execution_count": null,
   "metadata": {
    "ExecuteTime": {
     "end_time": "2020-06-07T22:38:06.657357Z",
     "start_time": "2020-06-07T22:37:45.842Z"
    }
   },
   "outputs": [],
   "source": [
    "tca_results.sparse_market_charts.keys()"
   ]
  },
  {
   "cell_type": "markdown",
   "metadata": {},
   "source": [
    "We can plot it directly in Jupyter notebook, given it's a Plotly Figure object. The buy EURSEK trades are in green and sell EURSEK trades are in red. Each trade bubble is proportional to the size of the trade. We see that most of the bubbles are green, showing that on average there were more buy trades. We also see that the largest trade was a buy EURSEK trade in June 2017, as indicated by the largest green bubble on the chart. The dotted green line is the arrival price."
   ]
  },
  {
   "cell_type": "code",
   "execution_count": null,
   "metadata": {
    "ExecuteTime": {
     "end_time": "2020-06-07T22:38:06.658354Z",
     "start_time": "2020-06-07T22:37:45.844Z"
    }
   },
   "outputs": [],
   "source": [
    "tca_results.sparse_market_charts['EURSEK_trade_df']"
   ]
  },
  {
   "cell_type": "markdown",
   "metadata": {},
   "source": [
    "Or we can plot using the `Chart` object from chartpy"
   ]
  },
  {
   "cell_type": "code",
   "execution_count": null,
   "metadata": {
    "ExecuteTime": {
     "end_time": "2020-06-07T22:38:06.659352Z",
     "start_time": "2020-06-07T22:37:45.845Z"
    }
   },
   "outputs": [],
   "source": [
    "chart.plot(tca_results.sparse_market_charts['EURSEK_trade_df'])"
   ]
  },
  {
   "cell_type": "markdown",
   "metadata": {},
   "source": [
    "### Plotting timeline charts for slippage and executed notional\n",
    "\n",
    "We can also view the timeline based charts, which are based on the slippage and total reported currency. Let's see what timeline charts we have calculated during our TCA analysis."
   ]
  },
  {
   "cell_type": "code",
   "execution_count": null,
   "metadata": {
    "ExecuteTime": {
     "end_time": "2020-06-07T22:38:06.659352Z",
     "start_time": "2020-06-07T22:37:45.846Z"
    }
   },
   "outputs": [],
   "source": [
    "tca_results.timeline_charts.keys()"
   ]
  },
  {
   "cell_type": "markdown",
   "metadata": {},
   "source": [
    "Let's plot the mean slippage for our trades bucketed by date and the units on the y-axis are in basis points. There are certain dates where our executions were much better than mid (ie. slippage was positive), in particular in February and September. We also see in January and July, the worst dates for slippage of around -40 basis points worse than mid. In other words, per 1 million of EURSEK transacted (in USD amounts, which we've defined as our reporting currency) on those dates, the slippage was costing us 4000 USD."
   ]
  },
  {
   "cell_type": "code",
   "execution_count": null,
   "metadata": {
    "ExecuteTime": {
     "end_time": "2020-06-07T22:38:06.660349Z",
     "start_time": "2020-06-07T22:37:45.848Z"
    },
    "scrolled": false
   },
   "outputs": [],
   "source": [
    "tca_results.timeline_charts['trade_df_slippage_by/mean_date/all']"
   ]
  },
  {
   "cell_type": "markdown",
   "metadata": {},
   "source": [
    "We can also slice up our slippage by time of day, which involves taking an average of each hour and minute of the date where we have trades. We need to be careful with this sort of analysis, given by the time we've sliced and diced the data, each point is likely to have a relatively small number of samples. Here, we're looking at the data in London time. The units on the y-axis are in basis points. On the x-axis, we have the hour of day in London time. So for example 5 would represent the hour between 0500-05:59:59.999 in LDN time.\n",
    "\n",
    "It can make it easier looking at it in London time or say New York time. If we look at time of day data in UTC time, it can be confusing because scheduled data points (eg. Riksbanks meetings), can shift during summer time, making it more difficult to understand price action around them.\n",
    "\n",
    "We see that generally that on average during the hour of 0500-05:59:59.999 LDN the slippage is the worst around -7 basis points (ie. 7 basis points worse than mid). By constrast trades done much earlier or much later in London hours the slippage appears to be around +10 basis points better than mid. Does that necessarily mean we should execute later in the day or very early in the morning? Not necessarily as we'll see next."
   ]
  },
  {
   "cell_type": "code",
   "execution_count": null,
   "metadata": {
    "ExecuteTime": {
     "end_time": "2020-06-07T22:38:06.661348Z",
     "start_time": "2020-06-07T22:37:45.849Z"
    }
   },
   "outputs": [],
   "source": [
    "tca_results.timeline_charts['trade_df_slippage_by/mean_hourldn/all']"
   ]
  },
  {
   "cell_type": "markdown",
   "metadata": {},
   "source": [
    "How much did we execute by hour of day in London hours? We see that we executed very little towards very early between 1200-1300 LDN or at 0200-0300 LDN (it's very close to zero). One of the explanations that the slippage in these hours was so \"good\" was basically because we executed so little, rather than these being the hours of day as being best for execution. In particular for 0200-0300 LDN it is unlikely that there'd be much activity in EURSEK, given the market hours for Sweden.\n",
    "\n",
    "In terms of hours of the day, the largest total amount was executed during the hour between 1100-1200 LDN around 475mm USD in total during our sample through 2017."
   ]
  },
  {
   "cell_type": "code",
   "execution_count": null,
   "metadata": {
    "ExecuteTime": {
     "end_time": "2020-06-07T22:38:06.662343Z",
     "start_time": "2020-06-07T22:37:45.850Z"
    }
   },
   "outputs": [],
   "source": [
    "tca_results.timeline_charts['trade_df_executed_notional_in_reporting_currency_by/sum_hourldn/all']"
   ]
  },
  {
   "cell_type": "markdown",
   "metadata": {},
   "source": [
    "### Plotting distribution charts for slippage by side"
   ]
  },
  {
   "cell_type": "markdown",
   "metadata": {},
   "source": [
    "We can plot the distribution of slippage, to understand if our results are being skewed by any particular outliers."
   ]
  },
  {
   "cell_type": "code",
   "execution_count": null,
   "metadata": {
    "ExecuteTime": {
     "end_time": "2020-06-07T22:38:06.663341Z",
     "start_time": "2020-06-07T22:37:45.852Z"
    }
   },
   "outputs": [],
   "source": [
    "tca_results.dist_charts.keys()"
   ]
  },
  {
   "cell_type": "markdown",
   "metadata": {},
   "source": [
    "Let's plot the distribution of the slippage. The y-axis gives the notional in the reporting currency (which we've defined as USD). The x-axis shows the slippage in basis point. Negative slippage implies that we are doing worse than mid (which is likely the typical scenario if we're taking liquidity, ie. having to sell at the bid and buying at the ask). Positive slippage implies that we're actually doing better than the mid. In this case, as elsewhere, ideally the mid price we use as a reference should be based on several liquidity providers.\n",
    "\n",
    "In this case, we see the sell trades (in red) have the slippage are negatively skewed to the left (the peak of the red lines are in negative territory), whilst the buy trades (in green) are skewed positively to the right (the peaks of the green lines are in positive territory). Later, we'll see that on average the slippage was negative for sell EURSEK, but was positive for buying EURSEK for the client, which tallies with this distribution chart."
   ]
  },
  {
   "cell_type": "code",
   "execution_count": null,
   "metadata": {
    "ExecuteTime": {
     "end_time": "2020-06-07T22:38:06.664338Z",
     "start_time": "2020-06-07T22:37:45.853Z"
    }
   },
   "outputs": [],
   "source": [
    "tca_results.dist_charts['trade_df_slippage_by/pdf/side']"
   ]
  },
  {
   "cell_type": "markdown",
   "metadata": {},
   "source": [
    "### Plotting bar charts for average slippage and executed notional by broker"
   ]
  },
  {
   "cell_type": "markdown",
   "metadata": {},
   "source": [
    "We can plot the bar charts which aggregate the various statistics, such as slippage and total notional executed. First, we get all the keys of the bar charts. Then, we plot the average slippage by broker."
   ]
  },
  {
   "cell_type": "code",
   "execution_count": null,
   "metadata": {
    "ExecuteTime": {
     "end_time": "2020-06-07T22:38:06.664338Z",
     "start_time": "2020-06-07T22:37:45.855Z"
    }
   },
   "outputs": [],
   "source": [
    "tca_results.bar_charts.keys()"
   ]
  },
  {
   "cell_type": "markdown",
   "metadata": {},
   "source": [
    "The y-axis is the average slippage in basis point for our executed trades. The x-axis gives the liquidity providers anonymized codes. We see that for brokers `2`, `8`, `10` and `13`, the slippage is positive, ie. the client is doing better than mid when executing here. By constrast, for most other brokers the slippage is negative, ie. we're paying for liquidity there.\n",
    "\n",
    "For `broker_id` of `9`, the slippage is most negative, suggesting that the executions are most costly with this broker and requires more investigation and perhaps a discussion with the broker to understand why we appear to be paying higher transaction costs with them compared with any other liquidity provider."
   ]
  },
  {
   "cell_type": "code",
   "execution_count": null,
   "metadata": {
    "ExecuteTime": {
     "end_time": "2020-06-07T22:38:06.665336Z",
     "start_time": "2020-06-07T22:37:45.856Z"
    }
   },
   "outputs": [],
   "source": [
    "tca_results.bar_charts['trade_df_slippage_by/mean/broker_id']"
   ]
  },
  {
   "cell_type": "markdown",
   "metadata": {},
   "source": [
    "Just knowing the slippage in isolation isn't giving us the full picture, as generally large trade sizes will have more slippage. Furthermore the relationship isn't linear. Hence, we now plot the average trade side and the total amount executed per broker.\n",
    "\n",
    "We see that the client has the largest average executed trade size is with liquidity provider with `broker_id` of `2`. By contrast, we see that only very small trades are being transacted with liquidity provider `12`. The amounts are in USD millions."
   ]
  },
  {
   "cell_type": "code",
   "execution_count": null,
   "metadata": {
    "ExecuteTime": {
     "end_time": "2020-06-07T22:38:06.666332Z",
     "start_time": "2020-06-07T22:37:45.857Z"
    }
   },
   "outputs": [],
   "source": [
    "tca_results.bar_charts['trade_df_executed_notional_in_reporting_currency_by/mean/broker_id']"
   ]
  },
  {
   "cell_type": "markdown",
   "metadata": {},
   "source": [
    "In terms of the total amount executed with each liquidity provider, we see that the most notional transacted was with liquidity provider number `5`, at nearly 450mm USD. For broker `2`, the amount executed during this sample in total is 250mm USD."
   ]
  },
  {
   "cell_type": "code",
   "execution_count": null,
   "metadata": {
    "ExecuteTime": {
     "end_time": "2020-06-07T22:38:06.667331Z",
     "start_time": "2020-06-07T22:37:45.859Z"
    }
   },
   "outputs": [],
   "source": [
    "tca_results.bar_charts['trade_df_executed_notional_in_reporting_currency_by/sum/broker_id']"
   ]
  },
  {
   "cell_type": "markdown",
   "metadata": {},
   "source": [
    "Lastly, we plot the average slippage by side of the trade, to understand whether we have done better on buys or sells. We see that on average, the slippage on selling EURSEK (lablled as -1 on the x-axis) is around -5 basis points (compared to the mid price). In other words, we are paying 5 basis point on average per EURSEK trade in terms of slippage costs.\n",
    "\n",
    "This contrasts to buying EURSEK (labelled as +1 on the x-axis), where the slippage for the client is around +1.5 basis points. So when the client buys EURSEK, the client is actually doing better than mid. One possible explanation is that liquidity providers for the client were on average long EURSEK in their inventory during this sample period. Hence, they may skew their spread to encourage buyers of EURSEK to flatten their exposure."
   ]
  },
  {
   "cell_type": "code",
   "execution_count": null,
   "metadata": {
    "ExecuteTime": {
     "end_time": "2020-06-07T22:38:06.668330Z",
     "start_time": "2020-06-07T22:37:45.860Z"
    }
   },
   "outputs": [],
   "source": [
    "tca_results.bar_charts['trade_df_slippage_by/mean/side']"
   ]
  },
  {
   "cell_type": "markdown",
   "metadata": {},
   "source": [
    "### Plotting scatter charts for slippage vs. executed notional"
   ]
  },
  {
   "cell_type": "markdown",
   "metadata": {},
   "source": [
    "Here we plot the executed notional (on x-axis) vs slippage (in basis points and on y-axis)."
   ]
  },
  {
   "cell_type": "code",
   "execution_count": null,
   "metadata": {
    "ExecuteTime": {
     "end_time": "2020-06-07T22:38:06.669325Z",
     "start_time": "2020-06-07T22:37:45.862Z"
    }
   },
   "outputs": [],
   "source": [
    "tca_results.scatter_charts.keys()"
   ]
  },
  {
   "cell_type": "code",
   "execution_count": null,
   "metadata": {
    "ExecuteTime": {
     "end_time": "2020-06-07T22:38:06.670323Z",
     "start_time": "2020-06-07T22:37:45.864Z"
    }
   },
   "outputs": [],
   "source": [
    "tca_results.scatter_charts['trade_df_executed_notional_vs_slippage']"
   ]
  },
  {
   "cell_type": "markdown",
   "metadata": {},
   "source": [
    "## Digging down into TCA for a specific liquidity provider"
   ]
  },
  {
   "cell_type": "markdown",
   "metadata": {},
   "source": [
    "Here we'll focus on trades done with broker `2`, where slippage is positive (ie. we've on average dealt at a better rate than mid) and also have executed a large amount in size. This seems like an unusual result. Is it consistent behaviour, or because of a small number of trades? We can use the `TradeOrderFilterTag` to filter the trades by the `broker_id` field. Note, that it can be used to filter whatever field we want. \n",
    "\n",
    "There are other classes which extend `TradeOrderFilter`, such as `TradeOrderFilterTimeOfDayWeekMonth` which lets us filter the trades by many parameters like:\n",
    "\n",
    "* day of week, month of year, time of day\n",
    "* around specific dates (eg. could examine payrolls dates)"
   ]
  },
  {
   "cell_type": "code",
   "execution_count": null,
   "metadata": {
    "ExecuteTime": {
     "end_time": "2020-06-07T22:38:06.670323Z",
     "start_time": "2020-06-07T22:37:45.866Z"
    }
   },
   "outputs": [],
   "source": [
    "tca_request.trade_order_filter = TradeOrderFilterTag(tag_value_combinations={'broker_id' : '2'})\n",
    "\n",
    "# Dictionary of (mostly) dataframes as output from TCA calculation\n",
    "dict_of_df = tca_engine.calculate_tca(tca_request)\n",
    "\n",
    "tca_results = TCAResults(dict_of_df, tca_request)\n",
    "tca_results.render_computation_charts()"
   ]
  },
  {
   "cell_type": "markdown",
   "metadata": {},
   "source": [
    "Let's look at the output of the TCA calculation."
   ]
  },
  {
   "cell_type": "code",
   "execution_count": null,
   "metadata": {
    "ExecuteTime": {
     "end_time": "2020-06-07T22:38:06.671319Z",
     "start_time": "2020-06-07T22:37:45.867Z"
    }
   },
   "outputs": [],
   "source": [
    "print(dict_of_df.keys())"
   ]
  },
  {
   "cell_type": "markdown",
   "metadata": {},
   "source": [
    "We can plot the average slippage by time with broker `2`. Alongside it, we also the plot the amount of executed notional in reporting currency we've executed with the broker `2`. The peak in September is just above +40 basis points, showing we execute much better than mid on trades that day."
   ]
  },
  {
   "cell_type": "code",
   "execution_count": null,
   "metadata": {
    "ExecuteTime": {
     "end_time": "2020-06-07T22:38:06.672317Z",
     "start_time": "2020-06-07T22:37:45.869Z"
    }
   },
   "outputs": [],
   "source": [
    "tca_results.timeline_charts['trade_df_slippage_by/mean_date/all']"
   ]
  },
  {
   "cell_type": "markdown",
   "metadata": {},
   "source": [
    "Let's also show the total amount executed (in USD millions) by date with this broker `2`. We can see that most days, we execute well under 20mm USD. In summer, we see a day when we executed over 100mm USD with this specific broker `2`."
   ]
  },
  {
   "cell_type": "code",
   "execution_count": null,
   "metadata": {
    "ExecuteTime": {
     "end_time": "2020-06-07T22:38:06.673314Z",
     "start_time": "2020-06-07T22:37:45.870Z"
    }
   },
   "outputs": [],
   "source": [
    "tca_results.timeline_charts['trade_df_executed_notional_in_reporting_currency_by/sum_date/all']"
   ]
  },
  {
   "cell_type": "markdown",
   "metadata": {},
   "source": [
    "Let's plot the trades we've executed with liquidity provider `2` only, excluding all the other liquidity providers, alongside the market data for EURSEK spot. We see that we did a big buy trade in EURSEK with this broker in June 2017, as evidenced by the large green bubble then."
   ]
  },
  {
   "cell_type": "code",
   "execution_count": null,
   "metadata": {
    "ExecuteTime": {
     "end_time": "2020-06-07T22:38:06.674312Z",
     "start_time": "2020-06-07T22:37:45.871Z"
    }
   },
   "outputs": [],
   "source": [
    "tca_results.sparse_market_charts['EURSEK_trade_df']"
   ]
  },
  {
   "cell_type": "markdown",
   "metadata": {},
   "source": [
    "We can also plot the distribution of the trades we've done only with `broker_id` of `2`. We see the distribution of the slippage of the sell EURSEK trades in red, and buy EURSEK trades in green.\n",
    "\n",
    "We see that for the buy trades, slippage is skewed in our favour, unlike the sell trades. We dug down into the trades further above, and the large trade in June, which we flagged above, was a buy trade, where we bought slightly below the mid. Hence, it does indeed appear that a single trade has skewed our result. We could simply exclude this trade from our analysis to confirm this."
   ]
  },
  {
   "cell_type": "code",
   "execution_count": null,
   "metadata": {
    "ExecuteTime": {
     "end_time": "2020-06-07T22:38:06.674312Z",
     "start_time": "2020-06-07T22:37:45.873Z"
    }
   },
   "outputs": [],
   "source": [
    "tca_results.dist_charts['trade_df_slippage_by/pdf/side']"
   ]
  },
  {
   "cell_type": "markdown",
   "metadata": {},
   "source": [
    "Here are all the bar charts which have been generated, which we could also plot with analysis too."
   ]
  },
  {
   "cell_type": "code",
   "execution_count": null,
   "metadata": {
    "ExecuteTime": {
     "end_time": "2020-06-07T22:38:06.675309Z",
     "start_time": "2020-06-07T22:37:45.874Z"
    }
   },
   "outputs": [],
   "source": [
    "tca_results.bar_charts.keys()"
   ]
  },
  {
   "cell_type": "markdown",
   "metadata": {},
   "source": [
    "## Run for multiple crosses\n",
    "\n",
    "We might wish to run our analysis for multiple tickers, to compare metrics between them. As we did before, we run the TCA output through the `TCAResults` object to simplify it."
   ]
  },
  {
   "cell_type": "code",
   "execution_count": null,
   "metadata": {
    "ExecuteTime": {
     "end_time": "2020-06-07T22:38:06.676306Z",
     "start_time": "2020-06-07T22:37:45.876Z"
    }
   },
   "outputs": [],
   "source": [
    "tca_request.trade_order_filter = None\n",
    "tca_request.ticker = ['EURSEK', 'USDSEK', 'GBPSEK']\n",
    "tca_request.tca_type = 'aggregated'\n",
    "tca_request.summary_display = 'candlestick'\n",
    "\n",
    "tca_request.results_form = [\n",
    "    # Timeline of slippage\n",
    "    TimelineResultsForm(metric_name='slippage', aggregate_by_field='ticker', scalar=10000.0),\n",
    "                             \n",
    "    # Distribution of the slippage by side of trade\n",
    "    DistResultsForm(metric_name='slippage', aggregate_by_field='ticker', scalar=10000.0),\n",
    "                            \n",
    "    # Aggregate the average slippage on trades/orders by broker_id\n",
    "    BarResultsForm(metric_name='slippage', aggregate_by_field='broker_id', scalar=10000.0),\n",
    "                             \n",
    "    # Aggregate the average slippage on trades/orders by broker_id\n",
    "    BarResultsForm(metric_name='slippage', aggregate_by_field='ticker', scalar=10000.0),\n",
    "                         \n",
    "    # Aggregate the average slippage on trades/orders by broker_id\n",
    "    BarResultsForm(metric_name='executed_notional_in_reporting_currency', \n",
    "                   aggregate_by_field='broker_id',\n",
    "                   aggregation_metric='mean'),\n",
    "                            \n",
    "    # Create a scatter plot between executed notional and slippage\n",
    "    ScatterResultsForm(scatter_fields=['executed_notional', 'slippage'], scalar={'slippage' : 10000.0})\n",
    "]\n",
    "\n",
    "# Dictionary of (mostly) dataframes as output from TCA calculation\n",
    "dict_of_df = tca_engine.calculate_tca(tca_request)\n",
    "\n",
    "tca_results = TCAResults(dict_of_df, tca_request)\n",
    "tca_results.render_computation_charts()"
   ]
  },
  {
   "cell_type": "markdown",
   "metadata": {},
   "source": [
    "Let's view the output DataFrames and Figures."
   ]
  },
  {
   "cell_type": "code",
   "execution_count": null,
   "metadata": {
    "ExecuteTime": {
     "end_time": "2020-06-07T22:38:06.677304Z",
     "start_time": "2020-06-07T22:37:45.877Z"
    }
   },
   "outputs": [],
   "source": [
    "dict_of_df.keys()"
   ]
  },
  {
   "cell_type": "markdown",
   "metadata": {},
   "source": [
    "### Average slippage by ticker"
   ]
  },
  {
   "cell_type": "markdown",
   "metadata": {},
   "source": [
    "We can compare the average slippage by ticker in our sample, which we plot before. The y-axis shows the avearge slippage in basis points. Again note that a negative slippage means that we are executing worse than mid, which is what we'd generally expect if we're taking liquidity. We see that USDSEK has a much large amount of slippage (around -8 basis points from the client perspective) compared to EURSEK (slightly less than -2 basis points). We would expect this, given EURSEK is a much more liquid pair than USDSEK."
   ]
  },
  {
   "cell_type": "code",
   "execution_count": null,
   "metadata": {
    "ExecuteTime": {
     "end_time": "2020-06-07T22:38:06.678302Z",
     "start_time": "2020-06-07T22:37:45.879Z"
    }
   },
   "outputs": [],
   "source": [
    "tca_results.bar_charts.keys()"
   ]
  },
  {
   "cell_type": "code",
   "execution_count": null,
   "metadata": {
    "ExecuteTime": {
     "end_time": "2020-06-07T22:38:06.679298Z",
     "start_time": "2020-06-07T22:37:45.880Z"
    }
   },
   "outputs": [],
   "source": [
    "tca_results.bar_charts['trade_df_slippage_by/mean/ticker']"
   ]
  },
  {
   "cell_type": "markdown",
   "metadata": {},
   "source": [
    "### Distribution of slippage by ticker"
   ]
  },
  {
   "cell_type": "markdown",
   "metadata": {},
   "source": [
    "We can also compare the distribution of the slippage by ticker. The y-axis shows the notional executed in reporting currency (USD) and the x-axis is the slippage in basis points. Again we see how USDSEK is more heavily skewed to the left in terms of slippage, more negatively skewed."
   ]
  },
  {
   "cell_type": "code",
   "execution_count": null,
   "metadata": {
    "ExecuteTime": {
     "end_time": "2020-06-07T22:38:06.679298Z",
     "start_time": "2020-06-07T22:37:45.881Z"
    }
   },
   "outputs": [],
   "source": [
    "tca_results.dist_charts.keys()"
   ]
  },
  {
   "cell_type": "code",
   "execution_count": null,
   "metadata": {
    "ExecuteTime": {
     "end_time": "2020-06-07T22:38:06.680295Z",
     "start_time": "2020-06-07T22:37:45.883Z"
    }
   },
   "outputs": [],
   "source": [
    "tca_results.dist_charts['trade_df_slippage_by/pdf/ticker']"
   ]
  },
  {
   "cell_type": "markdown",
   "metadata": {},
   "source": [
    "### Plotting trades vs market data\n",
    "\n",
    "We can look at the USDSEK trades alongside market data.. Let's check what the keys are for these market/trade plots and then plot the Plotly Figure object for USDSEK. We can see that most of the flow is for buying USDSEK, with a very small number of (large) exceptions, where they are selling, like in June 2017 (the large red bubble)."
   ]
  },
  {
   "cell_type": "code",
   "execution_count": null,
   "metadata": {
    "ExecuteTime": {
     "end_time": "2020-06-07T22:38:06.681293Z",
     "start_time": "2020-06-07T22:37:45.884Z"
    }
   },
   "outputs": [],
   "source": [
    "tca_results.sparse_market_charts.keys()"
   ]
  },
  {
   "cell_type": "code",
   "execution_count": null,
   "metadata": {
    "ExecuteTime": {
     "end_time": "2020-06-07T22:38:06.682290Z",
     "start_time": "2020-06-07T22:37:45.886Z"
    }
   },
   "outputs": [],
   "source": [
    "tca_results.sparse_market_charts['USDSEK_trade_df']"
   ]
  },
  {
   "cell_type": "markdown",
   "metadata": {},
   "source": [
    "# Conclusion\n",
    "\n",
    "We have seen how to run tcapy on a real dataset from a Swedish asset manager. We have looked at how we can create relatively elaborate queries for our TCA analysis to calculate statistics such as:\n",
    "\n",
    "* the slippage by time of day\n",
    "* the average slippage by broker or ticker\n",
    "* the PDF of the slippage\n",
    "\n",
    "Furthermore, we have illustrated our analysis through the use of visualisations generated by tcapy, which are in Plotly Figure form. These can be quickly displayed, with minimal work by users. Whilst, we have focused on looking at slippage, we can also calculate other metrics such as market impact and also markouts. In the future, we are planning to develop market impact models and other more complex metrics. \n",
    "\n",
    "We also explained the meaning of the various charts, and how they could allow us to compare the liquidity from various brokers, to understand how our trading costs differed between them.\n",
    "\n",
    "If you are interested in supporting the tcapy project, please contact saeed@cuemacro.com to help us add new features and improve the library. Or if you'd like us to do a research study on your firm's trade data, please do also get in contact."
   ]
  }
 ],
 "metadata": {
  "kernelspec": {
   "display_name": "Python 3",
   "language": "python",
   "name": "python3"
  },
  "language_info": {
   "codemirror_mode": {
    "name": "ipython",
    "version": 3
   },
   "file_extension": ".py",
   "mimetype": "text/x-python",
   "name": "python",
   "nbconvert_exporter": "python",
   "pygments_lexer": "ipython3",
   "version": "3.6.10"
  },
  "toc": {
   "base_numbering": 1,
   "nav_menu": {},
   "number_sections": true,
   "sideBar": true,
   "skip_h1_title": false,
   "title_cell": "Table of Contents",
   "title_sidebar": "Contents",
   "toc_cell": false,
   "toc_position": {},
   "toc_section_display": true,
   "toc_window_display": true
  }
 },
 "nbformat": 4,
 "nbformat_minor": 4
}
