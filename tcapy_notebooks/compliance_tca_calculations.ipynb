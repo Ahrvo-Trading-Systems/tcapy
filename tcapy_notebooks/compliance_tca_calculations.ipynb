{
 "cells": [
  {
   "attachments": {
    "cuemacro_logo.png": {
     "image/png": "[encoded data removed]"
    }
   },
   "cell_type": "markdown",
   "metadata": {},
   "source": [
    "![cuemacro_logo.png](attachment:cuemacro_logo.png)\n",
    "\n",
    "# Compliance and other more involved TCA calculations\n",
    "\n",
    "**Saeed Amen / Founder of Cuemacro**\n",
    "\n",
    "https://www.cuemacro.com / saeed@cuemacro.com / @saeedamenfx / All material is copyright Cuemacro / 2020"
   ]
  },
  {
   "cell_type": "markdown",
   "metadata": {},
   "source": [
    "tcapy is a transaction cost analysis library in Python and one of the first open source TCA library. Typically, internal solutions can cost hundreds of thousands of dollars to develop and maintain. Using external services to do TCA also often have a licence cost.\n",
    "\n",
    "This notebook assumes that you have already \n",
    "* installed it by following the instructions [here](https://github.com/cuemacro/tcapy/blob/master/INSTALL.md)) \n",
    "* read the introductory tcapy notebook [here](https://github.com/cuemacro/tcapy/blob/master/tcapy_notebooks/introducing_tcapy.ipynb)\n",
    "\n",
    "In this notebook, we show how we can do more involved TCA calculations with tcapy. We will show users how to construct Python based queries to:\n",
    "\n",
    "* Calculate notionals executed with each LP (liquidity provider)\n",
    "* Flag trades which have outlying slippage\n",
    "\n",
    "We shall also show you how to do to use some of the lower level parts of tcapy."
   ]
  },
  {
   "cell_type": "markdown",
   "metadata": {},
   "source": [
    "## Benchmark machines\n",
    "\n",
    "For reference, the benchmark times quoted in the text are for the following hardware setup, which is designed to replicate a typical environment, where databases are running on a different system. In our case, we are running on Windows and WSL/Ubuntu on our primary machine. This setup is the best of both worlds, allowing us to use features like Celery and Dash/web GUI undex Linux, but still using Windows, so we could also interact with applications like Excel easily. Note, that the times we quote are from running once (in practice, we should take an average over many runs).\n",
    "\n",
    "tcapy is running on\n",
    "* Processor: Intel(R) Core(TM) i9-7940X CPU @ 3.10GHz, 14 Core(s)\n",
    "* Memory: 64 GB RAM\n",
    "* Hard disk: NVMe m.2 SSD\n",
    "* OS: Windows Version 10.0.18362 and WSL/Windows Subsystem for Linux (Ubuntu 18.04) running Celery/Redis/Memcached backend\n",
    "\n",
    "Databases are running on (Arctic/MongoDB 3.6.5 for market tick data and Microsoft SQL Server 14.0.2027)\n",
    "* Intel(R) Xeon(R) CPU E3-1505M v6 @ 3.00GHz, 4 Core(s)\n",
    "* Memory: 32 GB RAM and \n",
    "* Hard disk: NVMe m.2 SSD\n",
    "* OS: Windows Version 10.0.17763"
   ]
  },
  {
   "cell_type": "markdown",
   "metadata": {},
   "source": [
    "Our first step is to add the tcapy library to our `PYTHONPATH`. You may need to change these lines. Note, that in our setup, we are running the Jupyter notebook on Windows, and the backend Celery workers on Linux. If you are running everything in the same environment, the paths are likely to be same."
   ]
  },
  {
   "cell_type": "code",
   "execution_count": 1,
   "metadata": {
    "ExecuteTime": {
     "end_time": "2020-03-27T15:51:56.437867Z",
     "start_time": "2020-03-27T15:51:56.432987Z"
    }
   },
   "outputs": [],
   "source": [
    "import sys\n",
    "import os\n",
    "\n",
    "tcapy_path = 'e:/Remote/tcapy' # Windows platform\n",
    "local_test_data_path = 'e:/Remote/tcapy/tests_harness_data/' # Windows platform\n",
    "remote_test_data_path = '/home/tcapyuser/cuemacro/tcapy/tests_harness_data/' # WSL drive\n",
    "\n",
    "sys.path.insert(0, tcapy_path)"
   ]
  },
  {
   "cell_type": "markdown",
   "metadata": {},
   "source": [
    "If the Python path now includes tcapy, we can do all the imports from it, that we'll need later. We'll also import all the other Python libraries we'll use."
   ]
  },
  {
   "cell_type": "code",
   "execution_count": 2,
   "metadata": {
    "ExecuteTime": {
     "end_time": "2020-03-27T15:51:59.576941Z",
     "start_time": "2020-03-27T15:51:56.438845Z"
    }
   },
   "outputs": [],
   "source": [
    "from collections import OrderedDict\n",
    "\n",
    "# This is the entry point for our TCA analysis\n",
    "from tcapy.analysis.tcaengine import TCAEngineImpl\n",
    "\n",
    "# To construct the parameters for our TCA calculation\n",
    "from tcapy.analysis.tcarequest import TCARequest\n",
    "\n",
    "# To access trade and market data\n",
    "from tcapy.data.databasesource import DatabaseSourceCSVBinary, \\\n",
    "    DatabaseSourceDataFrame, DatabaseSourceDukascopy\n",
    "\n",
    "# Import all the metrics and benchmarks we'll use\n",
    "from tcapy.analysis.algos.benchmark import BenchmarkArrival, BenchmarkSpreadToMid\n",
    "from tcapy.analysis.algos.metric import MetricSlippage, MetricTransientMarketImpact\n",
    "\n",
    "# To aggregate the TCA results\n",
    "from tcapy.analysis.algos.resultsform import TimelineResultsForm, DistResultsForm, \\\n",
    "    BarResultsForm, TableResultsForm, JoinTables\n",
    "\n",
    "# To help display the output of a TCA calculation\n",
    "from tcapy.vis.tcaresults import TCAResults\n",
    "from tcapy.vis.report.tcareport import TCAReport\n",
    "from tcapy.vis.displaylisteners import PlotRender\n",
    "\n",
    "# General classes\n",
    "from tcapy.conf.constants import Constants\n",
    "from tcapy.util.mediator import Mediator\n",
    "\n",
    "# Prevent requests from displaying debug messages for certain libraries\n",
    "import logging\n",
    "\n",
    "logging.getLogger(\"findatapy\").setLevel(logging.WARNING)\n",
    "logging.getLogger(\"requests\").setLevel(logging.WARNING)\n",
    "logging.getLogger(\"urllib3\").setLevel(logging.WARNING)\n",
    "\n",
    "# For plotting later\n",
    "import plotly.io as pio\n",
    "\n",
    "# For interactive plots (but these disappear when we reopen Jupyter)\n",
    "pio.renderers.default = \"notebook\" \n",
    "\n",
    "# For static plots, need Orca (but might not work properly on WSL)\n",
    "# pio.renderers.default = \"svg\"\n",
    "pio.renderers.default = \"png\"\n",
    "\n",
    "import plotly\n",
    "\n",
    "# plotly.io.orca.config.executable = '/home/tcapyuser/anaconda3/envs/py36tca/lib/orca_app/orca' # You might need to change this\n",
    "# plotly.io.orca.config.save()\n",
    "\n",
    "from chartpy import Chart, Style\n",
    "\n",
    "# default size for Plotly charts we use\n",
    "chart_width = 800\n",
    "chart_height = 500\n",
    "\n",
    "chart = Chart()\n",
    "constants = Constants()\n",
    "style = Style(width=chart_width, height=chart_height, scale_factor=-1, silent_display=True)"
   ]
  },
  {
   "cell_type": "markdown",
   "metadata": {},
   "source": [
    "Let's specify the paths of the trade/order data CSVs in the test folder of tcapy, which are included in the package."
   ]
  },
  {
   "cell_type": "code",
   "execution_count": 3,
   "metadata": {
    "ExecuteTime": {
     "end_time": "2020-03-27T15:51:59.583773Z",
     "start_time": "2020-03-27T15:51:59.577917Z"
    }
   },
   "outputs": [],
   "source": [
    "csv_trade_order_mapping = {'trade_df' : os.path.join(local_test_data_path, 'small_test_trade_df.csv'),\n",
    "                           'order_df' : os.path.join(local_test_data_path, 'small_test_order_df.csv')}\n",
    "\n",
    "# The test trade/order data is populated between 25 Apr 2017-05 Jun 2017\n",
    "# with trades/orders for 'EURUSD', 'USDJPY' and 'EURJPY'\n",
    "local_csv_trade_order_mapping = OrderedDict([('trade_df', os.path.join(local_test_data_path, 'small_test_trade_df.csv')),\n",
    "                                             ('order_df', os.path.join(local_test_data_path, 'small_test_order_df.csv'))])\n",
    "\n",
    "remote_csv_trade_order_mapping = OrderedDict([('trade_df', os.path.join(remote_test_data_path, 'small_test_trade_df.csv')),\n",
    "                                              ('order_df', os.path.join(remote_test_data_path, 'small_test_order_df.csv'))])"
   ]
  },
  {
   "cell_type": "markdown",
   "metadata": {},
   "source": [
    "We need to create the `TCAEngineImpl` object, which is the entry point for dealing with TCA calculations."
   ]
  },
  {
   "cell_type": "code",
   "execution_count": 4,
   "metadata": {
    "ExecuteTime": {
     "end_time": "2020-03-27T15:51:59.632573Z",
     "start_time": "2020-03-27T15:51:59.584749Z"
    }
   },
   "outputs": [
    {
     "name": "stderr",
     "output_type": "stream",
     "text": [
      "2020-03-27 15:51:59,627; INFO:tcapy.analysis.tcaengine: Init TCAEngine version: pro - Env: desktop_laptop_linux (tcaengine.py:53)\n"
     ]
    }
   ],
   "source": [
    "tca_version  = constants.tcapy_version\n",
    "tca_engine = TCAEngineImpl(version=tca_version)\n",
    "\n",
    "volatile_cache = Mediator.get_volatile_cache()"
   ]
  },
  {
   "cell_type": "markdown",
   "metadata": {},
   "source": [
    "# Creating a TCA calculation to flag outlying slippage on trades\n",
    "\n",
    "In this section, we show how to do TCA calculations with tcapy to\n",
    "\n",
    "* flag trades/orders which have a spread which are outliers\n",
    "* get the total notional executed by each broker\n",
    "* get the average slippage per broker\n",
    "\n",
    "We'll also aggregate some of these results into a single DataFrame.\n",
    "\n",
    "As a first step, let's specify our `MetricSlippage` object. We also create a `BenchmarkSpreadToMid` object, which will take the market data and the then calculate the spread from the bid/ask to the mid. For those market data sources, without a bid/ask and only mid, we specify 1 bp as our outlier amount (if bid/ask exist, tcapy will ignore this given we've specified `overwrite_bid_ask=False`."
   ]
  },
  {
   "cell_type": "code",
   "execution_count": 5,
   "metadata": {
    "ExecuteTime": {
     "end_time": "2020-03-27T15:51:59.637454Z",
     "start_time": "2020-03-27T15:51:59.633550Z"
    }
   },
   "outputs": [],
   "source": [
    "metric_slippage = MetricSlippage()\n",
    "benchmark_spread_to_mid = BenchmarkSpreadToMid(overwrite_bid_ask=False, bid_mid_bp=1, ask_mid_bp=1)"
   ]
  },
  {
   "cell_type": "markdown",
   "metadata": {},
   "source": [
    "Let's create a `TableResultsForm` which will look at the `slippage` of all the trades and pick out only those which are anomalous. The resulting DataFrame, will be ordered by the worst slippage."
   ]
  },
  {
   "cell_type": "code",
   "execution_count": 6,
   "metadata": {
    "ExecuteTime": {
     "end_time": "2020-03-27T15:51:59.645831Z",
     "start_time": "2020-03-27T15:51:59.638429Z"
    }
   },
   "outputs": [],
   "source": [
    "# Display a table of all the anomalous trades by slippage (ie. outside bid/ask)\n",
    "table_results_form = TableResultsForm(trade_order_list=['trade_df'],\n",
    "    metric_name='slippage',\n",
    "                                      \n",
    "    # Order by the worst slippage\n",
    "    filter_by='worst_all',  \n",
    "                                      \n",
    "    # Only flag trades outside bid/ask\n",
    "    tag_value_combinations={'slippage_anomalous': 1.0},\n",
    "                                                  \n",
    "    # Only display a small number of fields\n",
    "    keep_fields=['executed_notional_in_reporting_currency', 'side'],\n",
    "                                        \n",
    "    # Don't round any of the figures\n",
    "    round_figures_by=None)"
   ]
  },
  {
   "cell_type": "markdown",
   "metadata": {},
   "source": [
    "Here we create a `BarResultsForm` object to aggregate notional executed per broker."
   ]
  },
  {
   "cell_type": "code",
   "execution_count": 7,
   "metadata": {
    "ExecuteTime": {
     "end_time": "2020-03-27T15:51:59.654620Z",
     "start_time": "2020-03-27T15:51:59.646807Z"
    }
   },
   "outputs": [],
   "source": [
    " # Get the total notional executed by broker (in reporting currency)\n",
    "bar_results_form_notional = BarResultsForm(trade_order_list=['trade_df'],  # Trade\n",
    "    # Aggregate by broker name\n",
    "    aggregate_by_field='broker_id',  \n",
    "                                                \n",
    "    # Analyse notional\n",
    "    metric_name='executed_notional_in_reporting_currency',\n",
    "    \n",
    "    # Sum the notional\n",
    "    aggregation_metric='sum',  \n",
    "                                           \n",
    "    # No need for a multipler\n",
    "    scalar=1,  \n",
    "                                           \n",
    "    # Round to nearest unit\n",
    "    round_figures_by=0)"
   ]
  },
  {
   "cell_type": "markdown",
   "metadata": {},
   "source": [
    "Now let's create a `BarResultsForm` to calculate the average slippage per broker (weighted by trade size)."
   ]
  },
  {
   "cell_type": "code",
   "execution_count": 8,
   "metadata": {
    "ExecuteTime": {
     "end_time": "2020-03-27T15:51:59.661760Z",
     "start_time": "2020-03-27T15:51:59.656572Z"
    }
   },
   "outputs": [],
   "source": [
    "# Get average slippage per broker (weighted by notional)\n",
    "bar_results_form_slippage = BarResultsForm(trade_order_list=['trade_df'],\n",
    "                                           \n",
    "    # Aggregate the trades by broker_id\n",
    "    aggregate_by_field='broker_id',\n",
    "                                           \n",
    "    # Do calculations on the slippage field\n",
    "    metric_name='slippage',\n",
    "    aggregation_metric='mean',\n",
    "                                           \n",
    "    # Weight the mean by the amount executed in reported currency (usually USD)\n",
    "    weighting_field='executed_notional_in_reporting_currency',\n",
    "    \n",
    "    # Multiply the slippage by 10000 (converting to bp)\n",
    "    scalar=10000.0,\n",
    "    \n",
    "    # Round all output to 2 decimal places\n",
    "    round_figures_by=2)"
   ]
  },
  {
   "cell_type": "markdown",
   "metadata": {},
   "source": [
    "Lastly, create a `JoinTables` object to combine the total notional per broker and the associated slippage for each broker."
   ]
  },
  {
   "cell_type": "code",
   "execution_count": 9,
   "metadata": {
    "ExecuteTime": {
     "end_time": "2020-03-27T15:51:59.671498Z",
     "start_time": "2020-03-27T15:51:59.662714Z"
    }
   },
   "outputs": [],
   "source": [
    "join_tables_notional_slippage = JoinTables(tables_dict={'table_name': 'jointables_broker_id',\n",
    "\n",
    "    # Fetch the following calculated tables\n",
    "    'table_list': ['bar_trade_df_executed_notional_in_reporting_currency_by_broker_id',\n",
    "                   'bar_trade_df_slippage_by_broker_id'],\n",
    "\n",
    "    # Append to the columns of each table\n",
    "    'column_list': ['notional (rep cur)', 'slippage (bp)']})"
   ]
  },
  {
   "cell_type": "markdown",
   "metadata": {},
   "source": [
    "Here we create a detailed `TCARequest` loading our trade data from CSV files for a single ticker (in this case EURUSD). Given that we are downloading directly from Dukascopy, we shall set `use_multithreading=False` as the current downloader is not thread safe. If we want to use multithreading/Celery, we can use other data sources, such as a database (eg. Arctic/MongoDB). In general, it is better to use a market data database, which has been prepopulated from an external source, rather than repeatedly calling an external source, which is very slow (in particular when accessing a long history).\n",
    "\n",
    "Note, we are using the various `Metric`, `Benchmark`, `ResultsForm` and `JoinTables` objects which we have already defined earlier."
   ]
  },
  {
   "cell_type": "code",
   "execution_count": 10,
   "metadata": {
    "ExecuteTime": {
     "end_time": "2020-03-27T15:51:59.683210Z",
     "start_time": "2020-03-27T15:51:59.672474Z"
    }
   },
   "outputs": [],
   "source": [
    "# We are conducting a TCA computation for trade/order data between 05 May-10 May 2017 for EURUSD\n",
    "# The trade dataset is from CSV and the market data is downloaded from Dukascopy on the fly\n",
    "tca_request = TCARequest(start_date='05 May 2017', finish_date='10 May 2017', ticker=['EURUSD'],\n",
    "                         tca_type='detailed',\n",
    "                         trade_data_store='csv', market_data_store='dukascopy',\n",
    "                         trade_order_mapping=local_csv_trade_order_mapping,\n",
    "                         metric_calcs=[metric_slippage],\n",
    "                         results_form=[table_results_form, bar_results_form_notional, bar_results_form_slippage],\n",
    "                         benchmark_calcs=[benchmark_spread_to_mid],\n",
    "                         join_tables=[join_tables_notional_slippage],\n",
    "                         use_multithreading=False)"
   ]
  },
  {
   "cell_type": "markdown",
   "metadata": {},
   "source": [
    "Let's run the TCA calculation from our `TCARequest`. The output is a dictionary of DataFrames (and Figures)."
   ]
  },
  {
   "cell_type": "code",
   "execution_count": 11,
   "metadata": {
    "ExecuteTime": {
     "end_time": "2020-03-27T15:52:13.437061Z",
     "start_time": "2020-03-27T15:51:59.684186Z"
    }
   },
   "outputs": [
    {
     "name": "stderr",
     "output_type": "stream",
     "text": [
      "2020-03-27 15:51:59,691; DEBUG:tcapy.analysis.tcamarkettradeloader: Start loading trade/data/computation (tcamarkettradeloader.py:240)\n",
      "2020-03-27 15:51:59,695; DEBUG:tcapy.analysis.tcatickerloaderimpl: Get market and trade/order data for EURUSD from 2017-05-05 00:00:00+00:00 - 2017-05-10 00:00:00+00:00 (tcatickerloaderimpl.py:80)\n",
      "2020-03-27 15:51:59,697; DEBUG:tcapy.data.volatilecache: Attempting to get list from cache: ['dukascopy_EURUSD_2017-05-05 00:00:00+00:00_2017-05-10 00:00:00+00:00_market_df_None_comp'] (volatilecache.py:694)\n",
      "2020-03-27 15:51:59,699; DEBUG:tcapy.data.volatilecache: Attempting to get list from cache: ['dukascopy_EURUSD_2017-05-05 00:00:00+00:00_2017-05-10 00:00:00+00:00_market_df_None_comp'] (volatilecache.py:694)\n",
      "2020-03-27 15:51:59,703; DEBUG:tcapy.data.databasesource: Downloading 2017-05-05 00:00:00 - 2017-05-10 00:00:00 for EURUSD (databasesource.py:3164)\n"
     ]
    },
    {
     "name": "stdout",
     "output_type": "stream",
     "text": [
      "2020-03-27 15:52:00,520 - numexpr.utils - INFO - Note: NumExpr detected 28 cores but \"NUMEXPR_MAX_THREADS\" not set, so enforcing safe limit of 8.\n",
      "2020-03-27 15:52:00,523 - numexpr.utils - INFO - NumExpr defaulting to 8 threads.\n"
     ]
    },
    {
     "name": "stderr",
     "output_type": "stream",
     "text": [
      "2020-03-27 15:52:11,327; WARNING:tcapy.analysis.algos.benchmark: mid not in market data (benchmark.py:107)\n",
      "2020-03-27 15:52:11,328; DEBUG:tcapy.data.volatilecache: Attempting to push ['dukascopy_EURUSD_2017-05-05 00:00:00+00:00_2017-05-10 00:00:00+00:00_market_df_None_comp'] to cache (volatilecache.py:429)\n",
      "2020-03-27 15:52:11,433; DEBUG:tcapy.data.volatilecache: Pandas dataframe of size: ----------- 17.08 MB ----------- in 1 chunk(s) (volatilecache.py:538)\n",
      "2020-03-27 15:52:11,485; DEBUG:tcapy.data.volatilecache: Now pushing ['dukascopy_EURUSD_2017-05-05 00:00:00+00:00_2017-05-10 00:00:00+00:00_market_df_None_comp'] to cache (volatilecache.py:442)\n",
      "2020-03-27 15:52:11,495; DEBUG:tcapy.data.volatilecache: Pushed ['dukascopy_EURUSD_2017-05-05 00:00:00+00:00_2017-05-10 00:00:00+00:00_market_df_None_comp'] to cache (volatilecache.py:460)\n",
      "2020-03-27 15:52:11,497; DEBUG:tcapy.data.volatilecache: Attempting to push ['dukascopy_EURUSD_2017-05-05 00:00:00+00:00_2017-05-10 00:00:00+00:00_market_df_None_comp'] to cache (volatilecache.py:429)\n",
      "2020-03-27 15:52:11,601; DEBUG:tcapy.data.volatilecache: Pandas dataframe of size: ----------- 17.08 MB ----------- in 1 chunk(s) (volatilecache.py:538)\n",
      "2020-03-27 15:52:11,650; DEBUG:tcapy.data.volatilecache: Now pushing ['dukascopy_EURUSD_2017-05-05 00:00:00+00:00_2017-05-10 00:00:00+00:00_market_df_None_comp'] to cache (volatilecache.py:442)\n",
      "2020-03-27 15:52:11,662; DEBUG:tcapy.data.volatilecache: Pushed ['dukascopy_EURUSD_2017-05-05 00:00:00+00:00_2017-05-10 00:00:00+00:00_market_df_None_comp'] to cache (volatilecache.py:460)\n",
      "2020-03-27 15:52:11,663; DEBUG:tcapy.data.volatilecache: Attempting to push ['2020-03-27 15:52:11.663445__df_comp_75005_expiry_'] to cache (volatilecache.py:429)\n",
      "2020-03-27 15:52:11,802; DEBUG:tcapy.data.volatilecache: Pandas dataframe of size: ----------- 17.08 MB ----------- in 1 chunk(s) (volatilecache.py:538)\n",
      "2020-03-27 15:52:11,851; DEBUG:tcapy.data.volatilecache: Now pushing ['2020-03-27 15:52:11.663445__df_comp_75005_expiry_'] to cache (volatilecache.py:442)\n",
      "2020-03-27 15:52:11,864; DEBUG:tcapy.data.volatilecache: Pushed ['2020-03-27 15:52:11.663445__df_comp_75005_expiry_'] to cache (volatilecache.py:460)\n",
      "2020-03-27 15:52:11,866; DEBUG:tcapy.analysis.tcatickerloader: Get trade order holder for EURUSD from 2017-05-05 00:00:00+00:00 - 2017-05-10 00:00:00+00:00 (tcatickerloader.py:360)\n",
      "2020-03-27 15:52:11,911; WARNING:tcapy.data.datafactory: Dataframe empty for ticker USDEUR (datafactory.py:92)\n",
      "2020-03-27 15:52:11,913; DEBUG:tcapy.data.volatilecache: Attempting to get list from cache: ['dukascopy_EURUSD_2017-05-05 00:00:00+00:00_2017-05-10 00:00:00+00:00_market_df_None_comp'] (volatilecache.py:694)\n",
      "2020-03-27 15:52:11,978; DEBUG:tcapy.data.volatilecache: Attempting to push ['2020-03-27 15:52:11.978897__df_comp_96898_expiry_'] to cache (volatilecache.py:429)\n",
      "2020-03-27 15:52:11,984; DEBUG:tcapy.data.volatilecache: Pandas dataframe of size: ----------- 0.02 MB ----------- in 1 chunk(s) (volatilecache.py:538)\n",
      "2020-03-27 15:52:11,986; DEBUG:tcapy.data.volatilecache: Now pushing ['2020-03-27 15:52:11.978897__df_comp_96898_expiry_'] to cache (volatilecache.py:442)\n",
      "2020-03-27 15:52:11,987; DEBUG:tcapy.data.volatilecache: Pushed ['2020-03-27 15:52:11.978897__df_comp_96898_expiry_'] to cache (volatilecache.py:460)\n",
      "2020-03-27 15:52:12,021; WARNING:tcapy.data.datafactory: Dataframe empty for ticker USDEUR (datafactory.py:92)\n",
      "2020-03-27 15:52:12,022; DEBUG:tcapy.data.volatilecache: Attempting to get list from cache: ['dukascopy_EURUSD_2017-05-05 00:00:00+00:00_2017-05-10 00:00:00+00:00_market_df_None_comp'] (volatilecache.py:694)\n",
      "2020-03-27 15:52:12,084; DEBUG:tcapy.data.volatilecache: Attempting to push ['2020-03-27 15:52:12.084977__df_comp_88943_expiry_'] to cache (volatilecache.py:429)\n",
      "2020-03-27 15:52:12,088; DEBUG:tcapy.data.volatilecache: Pandas dataframe of size: ----------- 0.008 MB ----------- in 1 chunk(s) (volatilecache.py:538)\n",
      "2020-03-27 15:52:12,090; DEBUG:tcapy.data.volatilecache: Now pushing ['2020-03-27 15:52:12.084977__df_comp_88943_expiry_'] to cache (volatilecache.py:442)\n",
      "2020-03-27 15:52:12,091; DEBUG:tcapy.data.volatilecache: Pushed ['2020-03-27 15:52:12.084977__df_comp_88943_expiry_'] to cache (volatilecache.py:460)\n",
      "2020-03-27 15:52:12,092; DEBUG:tcapy.data.volatilecache: Attempting to get list from cache: ['2020-03-27 15:52:11.663445__df_comp_75005_expiry_'] (volatilecache.py:694)\n",
      "2020-03-27 15:52:12,115; DEBUG:tcapy.data.volatilecache: Deleted 1 keys (volatilecache.py:730)\n",
      "2020-03-27 15:52:12,151; DEBUG:tcapy.analysis.tcatickerloader: Filter the market date by start/finish date (tcatickerloader.py:717)\n",
      "2020-03-27 15:52:12,162; DEBUG:tcapy.analysis.tcatickerloader: Combine trade/order data (tcatickerloader.py:738)\n",
      "2020-03-27 15:52:12,163; DEBUG:tcapy.data.volatilecache: Attempting to get list from cache: ['2020-03-27 15:52:11.978897__df_comp_96898_expiry_'] (volatilecache.py:694)\n",
      "2020-03-27 15:52:12,164; DEBUG:tcapy.data.volatilecache: Deleted 1 keys (volatilecache.py:730)\n",
      "2020-03-27 15:52:12,167; DEBUG:tcapy.data.volatilecache: Attempting to get list from cache: ['2020-03-27 15:52:12.084977__df_comp_88943_expiry_'] (volatilecache.py:694)\n",
      "2020-03-27 15:52:12,168; DEBUG:tcapy.data.volatilecache: Deleted 1 keys (volatilecache.py:730)\n",
      "2020-03-27 15:52:12,178; DEBUG:tcapy.analysis.tcatickerloader: Filter trades by venue (tcatickerloader.py:436)\n",
      "2020-03-27 15:52:12,180; DEBUG:tcapy.analysis.tcatickerloader: Calculating derived fields and benchmarks (tcatickerloader.py:486)\n",
      "2020-03-27 15:52:12,181; DEBUG:tcapy.analysis.tcatickerloader: Calculating execution fields (tcatickerloader.py:488)\n",
      "2020-03-27 15:52:12,189; DEBUG:tcapy.analysis.tcatickerloader: Calculating benchmarks (tcatickerloader.py:514)\n",
      "2020-03-27 15:52:12,190; DEBUG:tcapy.analysis.tcatickerloader: Calculating BenchmarkSpreadToMid for market data (tcatickerloader.py:522)\n",
      "2020-03-27 15:52:12,219; DEBUG:tcapy.analysis.tcatickerloader: Calculating metrics (tcatickerloader.py:539)\n",
      "2020-03-27 15:52:12,221; DEBUG:tcapy.analysis.tcatickerloader: Calculating MetricSlippage for trade_df (tcatickerloader.py:545)\n",
      "2020-03-27 15:52:12,238; DEBUG:tcapy.analysis.tcatickerloader: Calculating MetricSlippage for order_df (tcatickerloader.py:545)\n",
      "2020-03-27 15:52:12,257; DEBUG:tcapy.analysis.tcatickerloader: Completed derived field calculations for EURUSD (tcatickerloader.py:553)\n",
      "2020-03-27 15:52:12,257; DEBUG:tcapy.analysis.tcatickerloaderimpl: Generating downsampled market data for potentional display (tcatickerloaderimpl.py:270)\n",
      "2020-03-27 15:52:12,283; DEBUG:tcapy.analysis.tcatickerloaderimpl: About to join (tcatickerloaderimpl.py:331)\n",
      "2020-03-27 15:52:12,287; DEBUG:tcapy.analysis.tcatickerloaderimpl: Finished joining (tcatickerloaderimpl.py:347)\n",
      "2020-03-27 15:52:12,290; DEBUG:tcapy.analysis.tcatickerloaderimpl: About to join (tcatickerloaderimpl.py:331)\n",
      "2020-03-27 15:52:12,294; DEBUG:tcapy.analysis.tcatickerloaderimpl: Finished joining (tcatickerloaderimpl.py:347)\n",
      "2020-03-27 15:52:13,024; DEBUG:tcapy.data.volatilecache: Attempting to push ['2020-03-27 15:52:13.024802__df_comp_13709_expiry_'] to cache (volatilecache.py:429)\n",
      "2020-03-27 15:52:13,132; DEBUG:tcapy.data.volatilecache: Pandas dataframe of size: ----------- 18.727 MB ----------- in 1 chunk(s) (volatilecache.py:538)\n",
      "2020-03-27 15:52:13,189; DEBUG:tcapy.data.volatilecache: Now pushing ['2020-03-27 15:52:13.024802__df_comp_13709_expiry_'] to cache (volatilecache.py:442)\n",
      "2020-03-27 15:52:13,209; DEBUG:tcapy.data.volatilecache: Pushed ['2020-03-27 15:52:13.024802__df_comp_13709_expiry_'] to cache (volatilecache.py:460)\n",
      "2020-03-27 15:52:13,210; DEBUG:tcapy.data.volatilecache: Attempting to push ['2020-03-27 15:52:13.210105__df_comp_90586_expiry_', '2020-03-27 15:52:13.210105__df_comp_99930_expiry_', '2020-03-27 15:52:13.210105__df_comp_64308_expiry_', '2020-03-27 15:52:13.210105__df_comp_8759_expiry_', '2020-03-27 15:52:13.210105__df_comp_92988_expiry_', '2020-03-27 15:52:13.210105__fig_comp_925_expiry_'] to cache (volatilecache.py:429)\n",
      "2020-03-27 15:52:13,214; DEBUG:tcapy.data.volatilecache: Pandas dataframe of size: ----------- 0.011 MB ----------- in 1 chunk(s) (volatilecache.py:538)\n"
     ]
    },
    {
     "name": "stderr",
     "output_type": "stream",
     "text": [
      "2020-03-27 15:52:13,219; DEBUG:tcapy.data.volatilecache: Pandas dataframe of size: ----------- 0.008 MB ----------- in 1 chunk(s) (volatilecache.py:538)\n",
      "2020-03-27 15:52:13,223; DEBUG:tcapy.data.volatilecache: Pandas dataframe of size: ----------- 0.032 MB ----------- in 1 chunk(s) (volatilecache.py:538)\n",
      "2020-03-27 15:52:13,227; DEBUG:tcapy.data.volatilecache: Pandas dataframe of size: ----------- 0.032 MB ----------- in 1 chunk(s) (volatilecache.py:538)\n",
      "2020-03-27 15:52:13,230; DEBUG:tcapy.data.volatilecache: Pandas dataframe of size: ----------- 0.025 MB ----------- in 1 chunk(s) (volatilecache.py:538)\n",
      "2020-03-27 15:52:13,248; DEBUG:tcapy.data.volatilecache: Now pushing ['2020-03-27 15:52:13.210105__df_comp_90586_expiry_', '2020-03-27 15:52:13.210105__df_comp_99930_expiry_', '2020-03-27 15:52:13.210105__df_comp_64308_expiry_', '2020-03-27 15:52:13.210105__df_comp_8759_expiry_', '2020-03-27 15:52:13.210105__df_comp_92988_expiry_', '2020-03-27 15:52:13.210105__fig_comp_925_expiry_'] to cache (volatilecache.py:442)\n",
      "2020-03-27 15:52:13,250; DEBUG:tcapy.data.volatilecache: Pushed ['2020-03-27 15:52:13.210105__df_comp_90586_expiry_', '2020-03-27 15:52:13.210105__df_comp_99930_expiry_', '2020-03-27 15:52:13.210105__df_comp_64308_expiry_', '2020-03-27 15:52:13.210105__df_comp_8759_expiry_', '2020-03-27 15:52:13.210105__df_comp_92988_expiry_', '2020-03-27 15:52:13.210105__fig_comp_925_expiry_'] to cache (volatilecache.py:460)\n",
      "2020-03-27 15:52:13,254; DEBUG:tcapy.data.volatilecache: Attempting to get list from cache: ['2020-03-27 15:52:13.210105__df_comp_90586_expiry_'] (volatilecache.py:694)\n",
      "2020-03-27 15:52:13,256; DEBUG:tcapy.data.volatilecache: Deleted 1 keys (volatilecache.py:730)\n",
      "2020-03-27 15:52:13,260; DEBUG:tcapy.data.volatilecache: Attempting to get list from cache: ['2020-03-27 15:52:13.210105__df_comp_99930_expiry_'] (volatilecache.py:694)\n",
      "2020-03-27 15:52:13,261; DEBUG:tcapy.data.volatilecache: Deleted 1 keys (volatilecache.py:730)\n",
      "2020-03-27 15:52:13,266; DEBUG:tcapy.data.volatilecache: Attempting to get list from cache: ['2020-03-27 15:52:13.210105__df_comp_64308_expiry_'] (volatilecache.py:694)\n",
      "2020-03-27 15:52:13,267; DEBUG:tcapy.data.volatilecache: Deleted 1 keys (volatilecache.py:730)\n",
      "2020-03-27 15:52:13,270; DEBUG:tcapy.data.volatilecache: Attempting to get list from cache: ['2020-03-27 15:52:13.210105__df_comp_8759_expiry_'] (volatilecache.py:694)\n",
      "2020-03-27 15:52:13,272; DEBUG:tcapy.data.volatilecache: Deleted 1 keys (volatilecache.py:730)\n",
      "2020-03-27 15:52:13,274; DEBUG:tcapy.data.volatilecache: Attempting to get list from cache: ['2020-03-27 15:52:13.210105__df_comp_92988_expiry_'] (volatilecache.py:694)\n",
      "2020-03-27 15:52:13,275; DEBUG:tcapy.data.volatilecache: Deleted 1 keys (volatilecache.py:730)\n",
      "2020-03-27 15:52:13,277; DEBUG:tcapy.data.volatilecache: Attempting to get list from cache: ['2020-03-27 15:52:13.210105__fig_comp_925_expiry_'] (volatilecache.py:694)\n",
      "2020-03-27 15:52:13,279; DEBUG:tcapy.data.volatilecache: Deleted 1 keys (volatilecache.py:730)\n",
      "2020-03-27 15:52:13,390; DEBUG:tcapy.analysis.tcamarkettradeloader: Finished loading data and calculating metrics on individual tickers (tcamarkettradeloader.py:247)\n",
      "2020-03-27 15:52:13,392; DEBUG:tcapy.analysis.tcamarkettradeloaderimpl: Constructing results form to summarize analysis... (tcamarkettradeloaderimpl.py:69)\n",
      "2020-03-27 15:52:13,428; DEBUG:tcapy.analysis.tcamarkettradeloaderimpl: Now join table results... (tcamarkettradeloaderimpl.py:99)\n",
      "2020-03-27 15:52:13,433; DEBUG:tcapy.analysis.tcamarkettradeloaderimpl: Finished calculating results form and join table results! (tcamarkettradeloaderimpl.py:112)\n"
     ]
    }
   ],
   "source": [
    "Mediator.get_volatile_cache().clear_cache()\n",
    "\n",
    "# Dictionary of (mostly) dataframes as output from TCA calculation\n",
    "dict_of_df = tca_engine.calculate_tca(tca_request)"
   ]
  },
  {
   "cell_type": "markdown",
   "metadata": {},
   "source": [
    "Let's have a look inside the output of our TCA calculation."
   ]
  },
  {
   "cell_type": "code",
   "execution_count": 12,
   "metadata": {
    "ExecuteTime": {
     "end_time": "2020-03-27T15:52:13.441941Z",
     "start_time": "2020-03-27T15:52:13.438037Z"
    }
   },
   "outputs": [
    {
     "name": "stdout",
     "output_type": "stream",
     "text": [
      "odict_keys(['trade_df', 'order_df', 'sparse_market_trade_df', 'sparse_market_order_df', 'market_df_downsampled', 'candlestick_fig', 'table_trade_df_slippage_by_worst_all', 'bar_trade_df_executed_notional_in_reporting_currency_by_broker_id', 'bar_trade_df_slippage_by_broker_id', 'jointables_broker_id', 'market_df'])\n"
     ]
    }
   ],
   "source": [
    "print(dict_of_df.keys())"
   ]
  },
  {
   "cell_type": "markdown",
   "metadata": {},
   "source": [
    "Below we explain what each of the keys in the dictionary output represent.\n",
    "\n",
    "* `trade_df` - trade data, with additional calculated fields\n",
    "* `order_df` - order data, with additional calculated fields\n",
    "* `sparse_market_trade_df` - combined downsampled market data with trade data\n",
    "* `sparse_market_order_df` - combined downsampled market data with order data\n",
    "* `market_df_downsampled` - downsampled market data\n",
    "* `candlestick_fig` - candlesticks of resampled market data as a Plotly Figure\n",
    "* `market_df` - this empty given default `dummy_market=True` set\n",
    "\n",
    "We also have various keys associated with the `ResultForm` and `JoinTable` objects we created.\n",
    "\n",
    "* `table_trade_df_slippage_by_worst_all` - table with trades which have outlying slippage\n",
    "* `bar_trade_df_executed_notional_in_reporting_currency_by_broker_id` - total notional by broker\n",
    "* `bar_trade_df_slippage_by_broker_id` - average slippage by broker\n",
    "* `jointables_broker_id` - combining the notional and slippage tables"
   ]
  },
  {
   "cell_type": "markdown",
   "metadata": {},
   "source": [
    "Let's use the `TCAResults` object to simplify the output into an easier form and create Plotly Figure charts/HTML styled tables."
   ]
  },
  {
   "cell_type": "code",
   "execution_count": 13,
   "metadata": {
    "ExecuteTime": {
     "end_time": "2020-03-27T15:52:14.186631Z",
     "start_time": "2020-03-27T15:52:13.442917Z"
    }
   },
   "outputs": [
    {
     "name": "stderr",
     "output_type": "stream",
     "text": [
      "2020-03-27 15:52:13,451; DEBUG:tcapy.vis.displaylisteners: Plotting main timeline 2214 (displaylisteners.py:855)\n",
      "2020-03-27 15:52:13,631; DEBUG:tcapy.vis.displaylisteners: Rendered plot 2214 and  (displaylisteners.py:865)\n",
      "2020-03-27 15:52:13,634; DEBUG:tcapy.vis.displaylisteners: Plotting main timeline 2208 (displaylisteners.py:855)\n",
      "2020-03-27 15:52:13,943; DEBUG:tcapy.vis.displaylisteners: Rendered plot 2208 and  (displaylisteners.py:865)\n"
     ]
    }
   ],
   "source": [
    "tca_results = TCAResults(dict_of_df, tca_request)\n",
    "tca_results.render_computation_charts()"
   ]
  },
  {
   "cell_type": "markdown",
   "metadata": {},
   "source": [
    "We can now access the DataFrames via properties like `bar`, `table` and `jointables`."
   ]
  },
  {
   "cell_type": "code",
   "execution_count": 14,
   "metadata": {
    "ExecuteTime": {
     "end_time": "2020-03-27T15:52:14.192486Z",
     "start_time": "2020-03-27T15:52:14.187606Z"
    }
   },
   "outputs": [
    {
     "name": "stdout",
     "output_type": "stream",
     "text": [
      "dict_keys(['trade_df_executed_notional_in_reporting_currency_by_broker_id', 'trade_df_slippage_by_broker_id'])\n",
      "dict_keys(['trade_df_slippage_by_worst_all'])\n",
      "dict_keys(['broker_id'])\n"
     ]
    }
   ],
   "source": [
    "print(tca_results.bar.keys())\n",
    "print(tca_results.table.keys())\n",
    "print(tca_results.join_tables.keys())"
   ]
  },
  {
   "cell_type": "markdown",
   "metadata": {},
   "source": [
    "Let's view the data related to the `BarResultsForm` for the executed notional for each broker, firstly as a DataFrame and secondly as a bar chart by accessing the `bar_charts` property of the `TCAResults` object."
   ]
  },
  {
   "cell_type": "code",
   "execution_count": 26,
   "metadata": {
    "ExecuteTime": {
     "end_time": "2020-03-27T16:04:51.152950Z",
     "start_time": "2020-03-27T16:04:51.146117Z"
    }
   },
   "outputs": [
    {
     "data": {
      "text/html": [
       "<div>\n",
       "<style scoped>\n",
       "    .dataframe tbody tr th:only-of-type {\n",
       "        vertical-align: middle;\n",
       "    }\n",
       "\n",
       "    .dataframe tbody tr th {\n",
       "        vertical-align: top;\n",
       "    }\n",
       "\n",
       "    .dataframe thead th {\n",
       "        text-align: right;\n",
       "    }\n",
       "</style>\n",
       "<table border=\"1\" class=\"dataframe\">\n",
       "  <thead>\n",
       "    <tr style=\"text-align: right;\">\n",
       "      <th></th>\n",
       "      <th>broker_id</th>\n",
       "    </tr>\n",
       "    <tr>\n",
       "      <th>broker_id_index</th>\n",
       "      <th></th>\n",
       "    </tr>\n",
       "  </thead>\n",
       "  <tbody>\n",
       "    <tr>\n",
       "      <th>broker2</th>\n",
       "      <td>19743083.0</td>\n",
       "    </tr>\n",
       "    <tr>\n",
       "      <th>broker3</th>\n",
       "      <td>21398742.0</td>\n",
       "    </tr>\n",
       "    <tr>\n",
       "      <th>broker4</th>\n",
       "      <td>3586887.0</td>\n",
       "    </tr>\n",
       "    <tr>\n",
       "      <th>broker5</th>\n",
       "      <td>8986275.0</td>\n",
       "    </tr>\n",
       "    <tr>\n",
       "      <th>broker6</th>\n",
       "      <td>27237125.0</td>\n",
       "    </tr>\n",
       "  </tbody>\n",
       "</table>\n",
       "</div>"
      ],
      "text/plain": [
       "                  broker_id\n",
       "broker_id_index            \n",
       "broker2          19743083.0\n",
       "broker3          21398742.0\n",
       "broker4           3586887.0\n",
       "broker5           8986275.0\n",
       "broker6          27237125.0"
      ]
     },
     "execution_count": 26,
     "metadata": {},
     "output_type": "execute_result"
    }
   ],
   "source": [
    "tca_results.bar['trade_df_executed_notional_in_reporting_currency_by_broker_id']"
   ]
  },
  {
   "cell_type": "code",
   "execution_count": 25,
   "metadata": {
    "ExecuteTime": {
     "end_time": "2020-03-27T16:04:09.398210Z",
     "start_time": "2020-03-27T16:04:02.824212Z"
    }
   },
   "outputs": [
    {
     "data": {
      "image/png": "[encoded data removed]"
     },
     "metadata": {},
     "output_type": "display_data"
    }
   ],
   "source": [
    "tca_results.bar_charts['trade_df_executed_notional_in_reporting_currency_by_broker_id']"
   ]
  },
  {
   "cell_type": "markdown",
   "metadata": {},
   "source": [
    "We can also show the DataFrame with the outlier trades, which are outside the bid/ask from Dukascopy data."
   ]
  },
  {
   "cell_type": "code",
   "execution_count": 27,
   "metadata": {
    "ExecuteTime": {
     "end_time": "2020-03-27T16:18:46.680442Z",
     "start_time": "2020-03-27T16:18:46.669671Z"
    }
   },
   "outputs": [
    {
     "data": {
      "text/html": [
       "<div>\n",
       "<style scoped>\n",
       "    .dataframe tbody tr th:only-of-type {\n",
       "        vertical-align: middle;\n",
       "    }\n",
       "\n",
       "    .dataframe tbody tr th {\n",
       "        vertical-align: top;\n",
       "    }\n",
       "\n",
       "    .dataframe thead th {\n",
       "        text-align: right;\n",
       "    }\n",
       "</style>\n",
       "<table border=\"1\" class=\"dataframe\">\n",
       "  <thead>\n",
       "    <tr style=\"text-align: right;\">\n",
       "      <th></th>\n",
       "      <th>executed_notional_in_reporting_currency</th>\n",
       "      <th>side</th>\n",
       "      <th>slippage_benchmark</th>\n",
       "      <th>slippage</th>\n",
       "      <th>slippage_anomalous</th>\n",
       "    </tr>\n",
       "  </thead>\n",
       "  <tbody>\n",
       "    <tr>\n",
       "      <th>2017-05-08 10:31:33.011000+00:00</th>\n",
       "      <td>3.586887e+06</td>\n",
       "      <td>1</td>\n",
       "      <td>1.094680</td>\n",
       "      <td>-0.000021</td>\n",
       "      <td>1.0</td>\n",
       "    </tr>\n",
       "    <tr>\n",
       "      <th>2017-05-05 14:56:49.373000+00:00</th>\n",
       "      <td>6.811655e+06</td>\n",
       "      <td>1</td>\n",
       "      <td>1.098875</td>\n",
       "      <td>-0.000016</td>\n",
       "      <td>1.0</td>\n",
       "    </tr>\n",
       "    <tr>\n",
       "      <th>2017-05-08 14:37:25.382000+00:00</th>\n",
       "      <td>1.551467e+07</td>\n",
       "      <td>1</td>\n",
       "      <td>1.093750</td>\n",
       "      <td>-0.000015</td>\n",
       "      <td>1.0</td>\n",
       "    </tr>\n",
       "    <tr>\n",
       "      <th>2017-05-05 06:27:26.514000+00:00</th>\n",
       "      <td>1.976319e+07</td>\n",
       "      <td>-1</td>\n",
       "      <td>1.097445</td>\n",
       "      <td>-0.000013</td>\n",
       "      <td>1.0</td>\n",
       "    </tr>\n",
       "    <tr>\n",
       "      <th>2017-05-09 11:18:39.206000+00:00</th>\n",
       "      <td>1.293143e+07</td>\n",
       "      <td>-1</td>\n",
       "      <td>1.089700</td>\n",
       "      <td>-0.000013</td>\n",
       "      <td>1.0</td>\n",
       "    </tr>\n",
       "    <tr>\n",
       "      <th>Avg</th>\n",
       "      <td>1.463584e+07</td>\n",
       "      <td>0</td>\n",
       "      <td>1.094755</td>\n",
       "      <td>-0.000014</td>\n",
       "      <td>1.0</td>\n",
       "    </tr>\n",
       "  </tbody>\n",
       "</table>\n",
       "</div>"
      ],
      "text/plain": [
       "                                  executed_notional_in_reporting_currency  \\\n",
       "2017-05-08 10:31:33.011000+00:00                             3.586887e+06   \n",
       "2017-05-05 14:56:49.373000+00:00                             6.811655e+06   \n",
       "2017-05-08 14:37:25.382000+00:00                             1.551467e+07   \n",
       "2017-05-05 06:27:26.514000+00:00                             1.976319e+07   \n",
       "2017-05-09 11:18:39.206000+00:00                             1.293143e+07   \n",
       "Avg                                                          1.463584e+07   \n",
       "\n",
       "                                  side  slippage_benchmark  slippage  \\\n",
       "2017-05-08 10:31:33.011000+00:00     1            1.094680 -0.000021   \n",
       "2017-05-05 14:56:49.373000+00:00     1            1.098875 -0.000016   \n",
       "2017-05-08 14:37:25.382000+00:00     1            1.093750 -0.000015   \n",
       "2017-05-05 06:27:26.514000+00:00    -1            1.097445 -0.000013   \n",
       "2017-05-09 11:18:39.206000+00:00    -1            1.089700 -0.000013   \n",
       "Avg                                  0            1.094755 -0.000014   \n",
       "\n",
       "                                  slippage_anomalous  \n",
       "2017-05-08 10:31:33.011000+00:00                 1.0  \n",
       "2017-05-05 14:56:49.373000+00:00                 1.0  \n",
       "2017-05-08 14:37:25.382000+00:00                 1.0  \n",
       "2017-05-05 06:27:26.514000+00:00                 1.0  \n",
       "2017-05-09 11:18:39.206000+00:00                 1.0  \n",
       "Avg                                              1.0  "
      ]
     },
     "execution_count": 27,
     "metadata": {},
     "output_type": "execute_result"
    }
   ],
   "source": [
    "tca_results.table['trade_df_slippage_by_worst_all']"
   ]
  },
  {
   "cell_type": "markdown",
   "metadata": {},
   "source": [
    "We can view the DataFrame for the combination of total amount executed per broker and the slippage (weighted by notional)."
   ]
  },
  {
   "cell_type": "code",
   "execution_count": 23,
   "metadata": {
    "ExecuteTime": {
     "end_time": "2020-03-27T16:01:43.778053Z",
     "start_time": "2020-03-27T16:01:43.769111Z"
    }
   },
   "outputs": [
    {
     "data": {
      "text/html": [
       "<div>\n",
       "<style scoped>\n",
       "    .dataframe tbody tr th:only-of-type {\n",
       "        vertical-align: middle;\n",
       "    }\n",
       "\n",
       "    .dataframe tbody tr th {\n",
       "        vertical-align: top;\n",
       "    }\n",
       "\n",
       "    .dataframe thead th {\n",
       "        text-align: right;\n",
       "    }\n",
       "</style>\n",
       "<table border=\"1\" class=\"dataframe\">\n",
       "  <thead>\n",
       "    <tr style=\"text-align: right;\">\n",
       "      <th></th>\n",
       "      <th>broker_id notional (rep cur)</th>\n",
       "      <th>broker_id slippage (bp)</th>\n",
       "    </tr>\n",
       "  </thead>\n",
       "  <tbody>\n",
       "    <tr>\n",
       "      <th>broker2</th>\n",
       "      <td>19743083.0</td>\n",
       "      <td>-0.14</td>\n",
       "    </tr>\n",
       "    <tr>\n",
       "      <th>broker3</th>\n",
       "      <td>21398742.0</td>\n",
       "      <td>-0.11</td>\n",
       "    </tr>\n",
       "    <tr>\n",
       "      <th>broker4</th>\n",
       "      <td>3586887.0</td>\n",
       "      <td>-0.21</td>\n",
       "    </tr>\n",
       "    <tr>\n",
       "      <th>broker5</th>\n",
       "      <td>8986275.0</td>\n",
       "      <td>-0.10</td>\n",
       "    </tr>\n",
       "    <tr>\n",
       "      <th>broker6</th>\n",
       "      <td>27237125.0</td>\n",
       "      <td>-0.12</td>\n",
       "    </tr>\n",
       "  </tbody>\n",
       "</table>\n",
       "</div>"
      ],
      "text/plain": [
       "         broker_id notional (rep cur)  broker_id slippage (bp)\n",
       "broker2                    19743083.0                    -0.14\n",
       "broker3                    21398742.0                    -0.11\n",
       "broker4                     3586887.0                    -0.21\n",
       "broker5                     8986275.0                    -0.10\n",
       "broker6                    27237125.0                    -0.12"
      ]
     },
     "execution_count": 23,
     "metadata": {},
     "output_type": "execute_result"
    }
   ],
   "source": [
    "tca_results.join_tables['broker_id']"
   ]
  },
  {
   "cell_type": "markdown",
   "metadata": {},
   "source": [
    "We can see the styled table, is a string of HTML code within an HTML IFrame. We could write this to disk as an HTML file or display to a user."
   ]
  },
  {
   "cell_type": "code",
   "execution_count": 22,
   "metadata": {
    "ExecuteTime": {
     "end_time": "2020-03-27T16:01:02.461439Z",
     "start_time": "2020-03-27T16:01:02.457534Z"
    }
   },
   "outputs": [
    {
     "data": {
      "text/plain": [
       "Iframe(height='300px', sandbox='', srcDoc='<style></style>\\n<table border=\"0\">\\n  <thead>\\n    <tr style=\"text-align: right;\">\\n      <th></th>\\n      <th>broker_id notional (rep cur)</th>\\n      <th>broker_id slippage (bp)</th>\\n    </tr>\\n  </thead>\\n  <tbody>\\n    <tr>\\n      <th>broker2</th>\\n      <td>19743083.0</td>\\n      <td>-0.14</td>\\n    </tr>\\n    <tr>\\n      <th>broker3</th>\\n      <td>21398742.0</td>\\n      <td>-0.11</td>\\n    </tr>\\n    <tr>\\n      <th>broker4</th>\\n      <td>3586887.0</td>\\n      <td>-0.21</td>\\n    </tr>\\n    <tr>\\n      <th>broker5</th>\\n      <td>8986275.0</td>\\n      <td>-0.10</td>\\n    </tr>\\n    <tr>\\n      <th>broker6</th>\\n      <td>27237125.0</td>\\n      <td>-0.12</td>\\n    </tr>\\n  </tbody>\\n</table>', width='975px', style={'border': 'thin lightgrey solid', 'padding': '0', 'margin': '0'})"
      ]
     },
     "execution_count": 22,
     "metadata": {},
     "output_type": "execute_result"
    }
   ],
   "source": [
    "tca_results.styled_join_tables['broker_id']"
   ]
  },
  {
   "cell_type": "markdown",
   "metadata": {},
   "source": [
    "# Conclusion\n",
    "\n",
    "We have seen how to call tcapy programatically for more involved usage, in particular how to use it for compliance purposes.\n",
    "\n",
    "If you are interesting supporting this project, such as sponsoring new features or to get commerical support, please contact saeed@cuemacro.com."
   ]
  }
 ],
 "metadata": {
  "kernelspec": {
   "display_name": "Python 3",
   "language": "python",
   "name": "python3"
  },
  "language_info": {
   "codemirror_mode": {
    "name": "ipython",
    "version": 3
   },
   "file_extension": ".py",
   "mimetype": "text/x-python",
   "name": "python",
   "nbconvert_exporter": "python",
   "pygments_lexer": "ipython3",
   "version": "3.6.10"
  },
  "toc": {
   "base_numbering": 1,
   "nav_menu": {},
   "number_sections": true,
   "sideBar": true,
   "skip_h1_title": false,
   "title_cell": "Table of Contents",
   "title_sidebar": "Contents",
   "toc_cell": false,
   "toc_position": {},
   "toc_section_display": true,
   "toc_window_display": false
  }
 },
 "nbformat": 4,
 "nbformat_minor": 4
}
