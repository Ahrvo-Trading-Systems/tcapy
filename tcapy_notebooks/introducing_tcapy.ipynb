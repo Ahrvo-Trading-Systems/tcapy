{
 "cells": [
  {
   "attachments": {
    "cuemacro_logo.png": {
     "image/png": "[encoded data removed]"
    }
   },
   "cell_type": "markdown",
   "metadata": {
    "ExecuteTime": {
     "end_time": "2020-03-13T09:14:47.623554Z",
     "start_time": "2020-03-13T09:14:47.619119Z"
    }
   },
   "source": [
    "![cuemacro_logo.png](attachment:cuemacro_logo.png)\n",
    "\n",
    "# Introducing tcapy and explaining TCA\n",
    "\n",
    "**Saeed Amen / Founder of Cuemacro**\n",
    "\n",
    "https://www.cuemacro.com / saeed@cuemacro.com / @saeedamenfx / All material is copyright Cuemacro / 2020"
   ]
  },
  {
   "cell_type": "markdown",
   "metadata": {},
   "source": [
    "In this notebook we introduce tcapy, with many Python examples and the the concept of TCA. tcapy is an open source Python library, which is designed to do TCA (transaction cost analysis) for markets. At present it supports FX spot, but over time we hope to add other markets to it. At the most basic level, TCA involves taking market data which is used as a benchmark and then combining it with your own trading data. We can then compute metrics by comparing the market data with trade/order data. If you are interested in sponsoring the addition of new features and helping to contribute to tcapy please contact us."
   ]
  },
  {
   "cell_type": "markdown",
   "metadata": {},
   "source": [
    "## Why is TCA necessary?\n",
    "\n",
    "There are several reasons why TCA is necessary for the buy side. The sell side might also wish to do TCA on their own trading activity and behalf of their clients. One reason is that regulations like MiFID II stipulate that buy side firms needs to show best execution. TCA can help to show best execution.\n",
    "\n",
    "TCA can also save you money when trading. It can show which types of trading activity is costing you most enabling you to compare between factors which include, liquidity providers and methods of execution (such as algos)."
   ]
  },
  {
   "cell_type": "markdown",
   "metadata": {},
   "source": [
    "## How can you do TCA?\n",
    "\n",
    "There are several ways of doing TCA for your trading activity, which we describe below.\n",
    "\n",
    "### Writing your own internal TCA library\n",
    "\n",
    "This is very customisable, you can keep your trade data internal and you have access to the source code. Hence, possible to add your own metrics and benchmarks, which you might want to keep proprietary. But can be time consuming and expensive, not to just to develop, but also to maintain (the biggest cost). You're also reinventing the wheel, for something which has been done many times before.\n",
    "\n",
    "### Using your liquidity provider's TCA\n",
    "    \n",
    "You can ask your liquidity provider to do TCA. This is easy! But it's difficult to customise and there might be a conflict of interest too. Also if every liquidity provider does their own TCA, it can be difficult to compare between them\n",
    "    \n",
    "### Use an external TCA vendor\n",
    "\n",
    "This is independent. You can compare your performance versus your peers who also use the same service. But it's difficult to customise, given you don't have access to the source code. There's also a risk of vendor lock in too.\n",
    "\n",
    "Or we can use an open source solution, like tcapy, which we describe next."
   ]
  },
  {
   "cell_type": "markdown",
   "metadata": {},
   "source": [
    "## Using open source tcapy to do TCA\n",
    "\n",
    "Much of the complexity in TCA is due to the need to handle large tick datasets and do calculations on them and is largely a\n",
    "software engineering problem. This work needs to be repeated in every single implementation. By open sourcing the library \n",
    "we hope that the industry will no longer need to keep reinventing the wheel when it comes to TCA. At the same time, \n",
    "because all the code is visible to users, tcapy allows you can add your own customized metrics and benchmarks, \n",
    "which is where you are likely have very particular IP in financial markets. You get the flexibility of a fully internal\n",
    "TCA solution for free.\n",
    "\n",
    "### Costs of TCA across the industry\n",
    "\n",
    "Across the industry many financial firms and corporates trading within financial markets spend a lot of money on TCA, either\n",
    "by developing in house tools or using external services. It is estimated that the typical buy side equities trading desk \n",
    "spends around 225k USD a year on TCA (see [MarketsMedia report](https://www.marketsmedia.com/tca-growth-fueled-regulators-investors/)). \n",
    "\n",
    "Many sell side firms and larger buy side firms build and maintain their own TCA libraries, which is very expensive. The cost of TCA across the industry is likely to run into many **hundreds of millions of dollars or possibly billions of dollars**. An open source solution would save millions!\n",
    "\n",
    "### Complexity of TCA is the software engineering aspect\n",
    "\n",
    "Much of the complexity in TCA is due to the need to handle large tick datasets and do calculations on them and is largely a\n",
    "software engineering problem. This work needs to be repeated in every single implementation. By open sourcing the library \n",
    "we hope that the industry will no longer need to keep reinventing the wheel when it comes to TCA. At the same time, \n",
    "because all the code is visible to users, tcapy allows you can add your own customized metrics and benchmarks, \n",
    "which is where you are likely have very particular IP in financial markets. You get the flexibility of a fully internal\n",
    "TCA solution for free. There are cases where you might wish to keep the metrics and benchmarks you use for TCA proprietary.\n",
    "\n",
    "### When did tcapy start?\n",
    "\n",
    "tcapy is one of the first open source libraries for TCA. You can run the library on your own hardware, so your trade/order\n",
    "data can be kept private or it can be run on a cloud service like AWS. It has been in development since June 2017, originally for a large asset manager and was open sourced in March 2020.\n",
    "\n",
    "### What technology does tcapy use?\n",
    "\n",
    "tcapy is tested with Python 3.6 (Anaconda distribution) and uses a lot of the Python libraries you expect such as Pandas and NumPy. It also makes extensive use of Plotly for charts, and Dash/Flask for the web GUI. Depending on what database and Linux distribution you use, the whole tcapy stack can be open source.\n",
    "\n",
    "We've tried to make tcapy to be vendor independent where possible, hence for example it supports:\n",
    "\n",
    "* multiple database types for storing\n",
    "market tick data (including Arctic/MongoDB, KDB and InfluxDB) and for trade/order data (including MySQL, PostgreSQL and \n",
    "Microsoft SQL Server).\n",
    "* Linux (tested on Ubuntu and Red Hat), and Windows (although Windows Subsystem for Linux is required for full functionality)\n",
    "\n",
    "tcapy has also been written to distribute the computation and make a lot of use of caching, using tools like Celery, Redis and Memcached to manage distributed computation. In the future, we are hoping to add features to make it easy to use serverless computing features on the cloud. Since you can see all the code, it also makes the TCA totally transparent. If you are doing TCA for regulatory reasons, it makes sense that the process should be fully open, rather than a black box."
   ]
  },
  {
   "cell_type": "markdown",
   "metadata": {},
   "source": [
    "## What do we define as trades and orders?\n",
    "\n",
    "We assume that an order has a start and end time, and hence a duration. It will have fields associated with it such as the\n",
    "ticker traded, the execution price, the account, the execution trader, the broker, the algo used etc.\n",
    " \n",
    "Underneath every order, there might be a number of trades and other events. The difference is that we assume these trade\n",
    "events, are points in time. These trades will tag their respective orders."
   ]
  },
  {
   "cell_type": "markdown",
   "metadata": {},
   "source": [
    "## Benchmark\n",
    "\n",
    "What should we consider as our benchmark? We need to have market data which is representative of the market as our reference point to compare our own trades. If we consider the FX spot market there are relatively small number of principal liquidity providers (LPs). At any one time, you might observe different skew in prices from different market makers, because of a number of reasons, such as different forecasts on where spot could go, their own inventory etc. Hence, using the mid of the pricing stream from a single market maker, it may not be representative of the market on aggregate. We are using the mid price as a proxy for the reference price.\n",
    "\n",
    "This liquidity is then recycled to the market through a number of sources such as agency brokers and also various trading venues. We could argue given that the same primary LPs are active on many venues, the mid price we generate from a single venue could be similar from that from many. I would to do empirical work to test whether this is really the case or not (if you have the tick data for this, please let me know, so I can try this!).\n",
    "\n",
    "At present tcapy has adapters to download market data from two data sources listed below to use as a benchmark. However, if you can feed whatever market data you want to the library and we hope to add more data sources in the future.\n",
    "* Duksacopy - FX retail broker (free data) - note: doesn't have the past few weeks of data - our examples focus on this given it's free download\n",
    "* New Change FX - data provider (paid data)\n",
    "\n",
    "We've focused on Dukascopy in the notebook, to make the code easier to run in an open source environment.\n",
    "\n",
    "Once you've decided which market data to use, you can calculate several benchmarks, which are below. Some benchmarks like TWAP are only appropriate for orders, which have a start and finish time. The abstract class `Benchmark` in tcapy can be extended to create your own customised benchmarks.\n",
    "* Mid price (`BenchmarkMid`)\n",
    "* TWAP (`BenchmarkTWAP`)\n",
    "* VWAP (`BenchmarkVWAP`)"
   ]
  },
  {
   "cell_type": "markdown",
   "metadata": {},
   "source": [
    "## Metrics\n",
    "\n",
    "Metrics you might wish to calculate include the below, and we've indicated the classes which implement these. In tcapy, there is the abstract `Metric` class, which can be extended so you can write your own metrics.\n",
    "\n",
    "* slippage - the difference between your benchmark and the executed price (`MetricSlippage`)\n",
    "* market impact - the price move following a trade/order (`MetricTransientMarketImpact` and `MetricPersistentMarketImpact`)\n",
    "\n"
   ]
  },
  {
   "cell_type": "markdown",
   "metadata": {},
   "source": [
    "## Aggregated statistics\n",
    "\n",
    "As part of TCA, we'd then want to generate statistics based on the metrics like those listed below. An abstract class `ResultsForm` aggregates various statistics. You can extend it to create your own aggregations.\n",
    "* average (`BarResultsForm`)\n",
    "* PDF (`DistResultsForm`)\n",
    "* outlier (`TableResultsForm`)"
   ]
  },
  {
   "cell_type": "markdown",
   "metadata": {},
   "source": [
    "## Storage of trade/order and market data for tcapy\n",
    "\n",
    "Your trade/order and market tick data can be stored internally in several ways for access by tcapy. The abstract class `DatabaseSource` can be extended to have customised sources (whether internal data sources or external data sources). You can also edit the below files, if you need to customise the database queries tcapy uses.\n",
    "\n",
    "* CSV files for trade/order/market data (`DatabaseSourceCSVBinary`)\n",
    "* DataFrames for trade/order/market data (`DatabaseSourceDataFrame`)\n",
    "* MongoDB/Arctic, KDB or InfluxDB for market data (`DatabaseSourceArctic`, `DatabaseSourceKDB` and `DatabaseSourceInfluxDB`)\n",
    "* Microsoft SQL Server, PostgreSQL or MySQL for trade/order data(`DatabaseSourceSQLServer`, `DatabaseSourcePostgreSQL` or `DatabaseSourceMySQL`)\n",
    "\n",
    "You can also download market data directly from data providers as mentioned earlier, without accessing a database. In practice, if you do TCA often, you'll usually want to download the market data store the market data in a database rather than downloading each time. If you want to use other data providers not yet in tcapy, you can write your own downloaders. Many larger instituions already maintain their own market tick databases, and you might be able to hook into that.\n",
    "\n",
    "Given that the computation is done internally, you can keep your trade/order data private."
   ]
  },
  {
   "cell_type": "markdown",
   "metadata": {},
   "source": [
    "# Offline computation versus on demand for TCA\n",
    "\n",
    "tcapy has been written to provide computatation on demand. Hence, it loads market and trade/order data on the fly, and then conducts any calculations on that. Whilst it does cache the original market/trade/order data, it does not cache the results of computations by tcapy (eg. metrics like slippage or benchmarks like arrival price).\n",
    "\n",
    "However, if you have a very large number of trades it might not be feasible to do this, without having access to a lot of hardware (or scaling the computation in the cloud), you might choose to run tcapy overnight and then save down the calculated fields to display later to users, eg. in its raw format (eg. CSV) or in a visual format such as PDF/HTML. Then users can bring up the results instantly, without having to wait."
   ]
  },
  {
   "cell_type": "markdown",
   "metadata": {},
   "source": [
    "# Maintaining market and trade/order databases\n",
    "\n",
    "In order to have effective TCA, we obviously need to make sure that our data sources are properly maintained. If we have poor input data, unsurprisingly, we can't rely on the results. We list suggestions when it comes to dealing both with your own internal trade/order data and also for storage of market data, both of which you'll need to maintain if you wish to run tcapy.\n",
    "\n",
    "* Here are some points to bear in mind for your trade/order databases\n",
    "    * If they are very inaccurate, then we will not be able to ascertain a reasonable benchmark\n",
    "    * Whilst persistent time offsets can be managed through the shifts of all timestamps (eg. on certain venues), we cannot easily do that if timestamps have a very random delay\n",
    "    * We also need to make sure that all our trades are recorded, not some random subset, otherwise our trade sample might not be representative of our trading activity\n",
    "    * Typically, electronically executed trades\n",
    "    * If you want to do analysis at both the trade and order level, you need to make sure that trades have a pointer to their associated order\n",
    "    \n",
    "* For market data\n",
    "    * Make sure it isn't plagued with gaps\n",
    "    * When loading up data, eg. by daily chunks, tcapy will load up market data and all the trade/order data for that chunk\n",
    "    * Then it will cut out any trade data which does not overlap with market data (given that we can't properly calculate metrics if there's no overlapping market data!)\n",
    "    * This means if you have random gaps, particularly towards the start or end of the chunks, tcapy will ignore any trading activity in that period\n",
    "        * Eg. let's say you have tcapy setup to use day chunks and your trades are between 0700-1700 UTC, but you are missing trade data between 0700-1000 UTC, tcapy will remove all the trades in that period from your analysis\n",
    "        * Even if you use bigger chunks, say monthly chunks, tcapy will end up \"filling down\" spot values, which could result in inaccurate analysis and also differences in the output depending on the type of chunk size you use\n",
    "        * An easy way to spot any problems in your market data, can be simply to plot and observe any gaps\n",
    "        * We are working on some more automated solutions of identifying gaps in your market data"
   ]
  },
  {
   "cell_type": "markdown",
   "metadata": {},
   "source": [
    "## Ways to access tcapy\n",
    "\n",
    "There are three ways to conduct TCA with tcapy.\n",
    "\n",
    "### Call the tcapy library directly from Python\n",
    "\n",
    "To call the tcapy library directly, we need to create a `TCARequest` with appropriate parameters to conduct our TCA calculation. This will include parameters such as the `start_date` and `finish_date` of our computation, as well as which trade and market data to use. This is then given to the `TCAEngineImpl` class, which then returns a dictionary of DataFrames as the output. The focus of this notebook is how to call tcapy programmatically in a direct fashion, when tcapy is installed on your machine.\n",
    "\n",
    "\n",
    "### Use the web GUIs\n",
    "\n",
    "These are built on top of [Plotly's Dash](https://plot.ly/dash/), which is built on the lightweight Flask web server framework. To define your own web GUI, you can modify `app.py` to add it. You then need to extend several abstract classes\n",
    "* `Layout` - to create a layout for the Dash application\n",
    "* `TCACaller` - which converts handles the callback from the GUI inputs (like the dropdown boxes, buttons etc.) into a `TCARequest` object and interacts with `TCAEngineImpl` which is the entry point for the underlying computation.\n",
    "\n",
    "The GUI uses `DisplayListeners` to handle callbacks to the outputs of the GUI (like the tables and plots), and `PlotRender` to generate the Plotly JSON necessary which can be rendered as charts.\n",
    "\n",
    "There are two different GUIs at present\n",
    "\n",
    "* `app.py` - has three different tabs, detailed TCA (trade/orders), aggregated TCA (trades) and compliance TCA (trades/orders)\n",
    "    * `LayoutGen`\n",
    "    * `TCACallerGen`\n",
    "* `app_board.py` - allows the user to upload their trade data (in CSV format)\n",
    "    * `LayoutBoard`\n",
    "    * `TCACallerBoard`\n",
    "    \n",
    "\n",
    "### Use the RESTful API\n",
    "\n",
    "At the current time, the RESTful API (`app_api.py`) is more of a proof of concept at this stage. The client makes a RESTful API call to the server.\n",
    "\n",
    "Like the web GUI the server constructs a `TCARequest` object (although from inputs from the RESTful API call) to be processed by the `TCAEngineImpl`. It then returns the outputs of that calculation as a dictionary of DataFrames, which can be converted into JSON format. The client needs to convert this JSON back into a dictionary of DataFrames. The benefit of doing this is that we don't have the overhead of installing everything on the client side. All we have a lightweight Python installation, with libraries like pandas and plotly.\n",
    "\n",
    "We are currently working on releasing a basic client for the RESTful API to interact with this, and also to make the RESTful API more functional."
   ]
  },
  {
   "cell_type": "markdown",
   "metadata": {},
   "source": [
    "# Calling tcapy programmatically\n",
    "\n",
    "We assume that readers have already followed the [instructions](https://github.com/cuemacro/tcapy/blob/master/README.md) to install tcapy on their Linux machine (eg. Red Hat, Ubuntu or Windows/WSL/Ubuntu). This includes details on how to setup your Python environment (usually Anaconda) and lots of dependencies which need to be installed like the various databases and Redis (to cache data, and also to use as message broker with Celery).\n",
    "\n",
    "To run the code in this notebook, we assume that:\n",
    "* the database/caching dependencies have been started using `restart_db.sh` (or we have databases running elsewhere we have configured tcapy to use) \n",
    "* Celery has been started by running `restart_tcapy.sh`, which is a distributed task manager"
   ]
  },
  {
   "cell_type": "markdown",
   "metadata": {},
   "source": [
    "## Benchmark machines\n",
    "\n",
    "For reference, the benchmark times quoted in the text are for the following hardware setup, which is designed to replicate a typical environment, where databases are running on a different system. In our case, we are running on Windows and WSL/Ubuntu on our primary machine. This setup is the best of both worlds, allowing us to use features like Celery and Dash/web GUI undex Linux, but still using Windows, so we could also interact with applications like Excel easily. Note, that the times we quote are from running once (in practice, we should take an average over many runs).\n",
    "\n",
    "tcapy is running on\n",
    "* Processor: Intel(R) Core(TM) i9-7940X CPU @ 3.10GHz, 14 Core(s)\n",
    "* Memory: 64 GB RAM\n",
    "* Hard disk: NVMe m.2 SSD\n",
    "* OS: Windows Version 10.0.18362 and WSL/Windows Subsystem for Linux (Ubuntu 18.04) running Celery/Redis/Memcached backend\n",
    "\n",
    "Databases are running on (Arctic/MongoDB 3.6.5 for market tick data and Microsoft SQL Server 14.0.2027)\n",
    "* Intel(R) Xeon(R) CPU E3-1505M v6 @ 3.00GHz, 4 Core(s)\n",
    "* Memory: 32 GB RAM and \n",
    "* Hard disk: NVMe m.2 SSD\n",
    "* OS: Windows Version 10.0.17763"
   ]
  },
  {
   "cell_type": "markdown",
   "metadata": {},
   "source": [
    "Our first step is to add the tcapy library to our `PYTHONPATH`. You may need to change these lines. Note, that in our setup, we are running the Jupyter notebook on Windows, and the backend Celery workers on Linux. If you are running everything in the same environment, the paths are likely to be same."
   ]
  },
  {
   "cell_type": "code",
   "execution_count": 1,
   "metadata": {
    "ExecuteTime": {
     "end_time": "2020-03-27T14:31:49.473256Z",
     "start_time": "2020-03-27T14:31:49.432394Z"
    }
   },
   "outputs": [],
   "source": [
    "import sys\n",
    "import os\n",
    "\n",
    "tcapy_path = 'e:/Remote/tcapy' # Windows platform\n",
    "local_test_data_path = 'e:/Remote/tcapy/tests_harness_data/' # Windows platform\n",
    "remote_test_data_path = '/home/tcapyuser/cuemacro/tcapy/tests_harness_data/' # WSL drive\n",
    "\n",
    "sys.path.insert(0, tcapy_path)"
   ]
  },
  {
   "cell_type": "markdown",
   "metadata": {},
   "source": [
    "If the Python path now includes tcapy, we can do all the imports from it, that we'll need later. We'll also import all the other Python libraries we'll use."
   ]
  },
  {
   "cell_type": "code",
   "execution_count": 2,
   "metadata": {
    "ExecuteTime": {
     "end_time": "2020-03-27T14:31:57.531112Z",
     "start_time": "2020-03-27T14:31:50.273910Z"
    }
   },
   "outputs": [],
   "source": [
    "from collections import OrderedDict\n",
    "\n",
    "# This is the entry point for our TCA analysis\n",
    "from tcapy.analysis.tcaengine import TCAEngineImpl\n",
    "\n",
    "# To construct the parameters for our TCA calculation\n",
    "from tcapy.analysis.tcarequest import TCARequest\n",
    "\n",
    "# To access trade and market data\n",
    "from tcapy.data.databasesource import DatabaseSourceCSVBinary, \\\n",
    "    DatabaseSourceDataFrame, DatabaseSourceDukascopy\n",
    "\n",
    "# Import all the metrics and benchmarks we'll use\n",
    "from tcapy.analysis.algos.benchmark import BenchmarkArrival, BenchmarkSpreadToMid\n",
    "from tcapy.analysis.algos.metric import MetricSlippage, MetricTransientMarketImpact\n",
    "\n",
    "# To aggregate the TCA results\n",
    "from tcapy.analysis.algos.resultsform import TimelineResultsForm, DistResultsForm, BarResultsForm\n",
    "\n",
    "# To help display the output of a TCA calculation\n",
    "from tcapy.vis.tcaresults import TCAResults\n",
    "from tcapy.vis.report.tcareport import TCAReport\n",
    "from tcapy.vis.displaylisteners import PlotRender\n",
    "\n",
    "# General classes\n",
    "from tcapy.conf.constants import Constants\n",
    "from tcapy.util.mediator import Mediator\n",
    "\n",
    "# Prevent requests from displaying debug messages for certain libraries\n",
    "import logging\n",
    "\n",
    "logging.getLogger(\"findatapy\").setLevel(logging.WARNING)\n",
    "logging.getLogger(\"requests\").setLevel(logging.WARNING)\n",
    "logging.getLogger(\"urllib3\").setLevel(logging.WARNING)\n",
    "\n",
    "# For plotting later\n",
    "import plotly.io as pio\n",
    "\n",
    "# For interactive plots (but these disappear when we reopen Jupyter)\n",
    "pio.renderers.default = \"notebook\" \n",
    "\n",
    "# For static plots, need Orca (but might not work properly on WSL)\n",
    "# pio.renderers.default = \"svg\"\n",
    "pio.renderers.default = \"png\" \n",
    "\n",
    "import plotly\n",
    "\n",
    "# plotly.io.orca.config.executable = '/home/tcapyuser/anaconda3/envs/py36tca/lib/orca_app/orca' # You might need to change this\n",
    "# plotly.io.orca.config.save()\n",
    "\n",
    "from chartpy import Chart, Style\n",
    "\n",
    "# default size for Plotly charts we use\n",
    "chart_width = 800\n",
    "chart_height = 500\n",
    "\n",
    "chart = Chart()\n",
    "constants = Constants()\n",
    "style = Style(width=chart_width, height=chart_height, scale_factor=-1, silent_display=True)"
   ]
  },
  {
   "cell_type": "markdown",
   "metadata": {},
   "source": [
    "## Format of trade/order data for tcapy and DatabaseSource"
   ]
  },
  {
   "cell_type": "markdown",
   "metadata": {},
   "source": [
    "tcapy has a test dataset of randomised trade/order data in CSV format, which we'll use later. We have generated these by taking market bid/ask data and then randomly perturbing the bid/ask for sells/buys respectively. Random sizes and directions have also been constructed. If you want to create your own randomized data you can use `DataTestCreator`. I'd suggest it's probably better to try using your own real trade data, as the output will be more 'realistic'. A lot of the output we'll get might end up looking artifical because of the simple assumptions we've made in the construction of the test data."
   ]
  },
  {
   "cell_type": "code",
   "execution_count": 3,
   "metadata": {
    "ExecuteTime": {
     "end_time": "2020-03-27T14:31:57.536968Z",
     "start_time": "2020-03-27T14:31:57.533064Z"
    }
   },
   "outputs": [],
   "source": [
    "# The test trade/order data is populated between 25 Apr 2017-05 Jun 2017\n",
    "# with trades/orders for 'EURUSD', 'USDJPY' and 'EURJPY'\n",
    "local_csv_trade_order_mapping = OrderedDict([('trade_df', os.path.join(local_test_data_path, 'small_test_trade_df.csv')),\n",
    "                                             ('order_df', os.path.join(local_test_data_path, 'small_test_order_df.csv'))])\n",
    "\n",
    "remote_csv_trade_order_mapping = OrderedDict([('trade_df', os.path.join(remote_test_data_path, 'small_test_trade_df.csv')),\n",
    "                                              ('order_df', os.path.join(remote_test_data_path, 'small_test_order_df.csv'))])"
   ]
  },
  {
   "cell_type": "markdown",
   "metadata": {},
   "source": [
    "### Directly download data from Dukascopy\n",
    "\n",
    "The `DatabaseSource` abstract class is extended to provide trade and market data access from internal sources (eg. CSV, Arctic/MongoDB), as well as external sources like Dukascopy. We demonsrate how to use `DatabaseSourceDukascopy` to download market data with quoted bid/ask from Dukascopy (we can't download trade data from that). If there are any timeouts in the external download, `findatapy` displays a warning, and will also retry the download."
   ]
  },
  {
   "cell_type": "code",
   "execution_count": 4,
   "metadata": {
    "ExecuteTime": {
     "end_time": "2020-03-27T14:32:03.524088Z",
     "start_time": "2020-03-27T14:31:57.537944Z"
    }
   },
   "outputs": [
    {
     "name": "stderr",
     "output_type": "stream",
     "text": [
      "2020-03-27 14:31:57,552; DEBUG:tcapy.data.databasesource: Downloading 2017-04-25 00:00:00 - 2017-04-28 00:00:00 for EURUSD (databasesource.py:3164)\n"
     ]
    },
    {
     "name": "stdout",
     "output_type": "stream",
     "text": [
      "2020-03-27 14:31:58,348 - numexpr.utils - INFO - Note: NumExpr detected 28 cores but \"NUMEXPR_MAX_THREADS\" not set, so enforcing safe limit of 8.\n",
      "2020-03-27 14:31:58,351 - numexpr.utils - INFO - NumExpr defaulting to 8 threads.\n",
      "Wall time: 5.98 s\n"
     ]
    }
   ],
   "source": [
    "%%time\n",
    "\n",
    "database_source_dukascopy = DatabaseSourceDukascopy()\n",
    "\n",
    "market_df = database_source_dukascopy.fetch_market_data(\n",
    "    ticker='EURUSD', start_date='25 Apr 2017', finish_date='28 Apr 2017')#finish_date='05 Jun 2017')"
   ]
  },
  {
   "cell_type": "markdown",
   "metadata": {},
   "source": [
    "We can look at the market data downloaded to see the format."
   ]
  },
  {
   "cell_type": "code",
   "execution_count": 5,
   "metadata": {
    "ExecuteTime": {
     "end_time": "2020-03-27T14:32:03.551417Z",
     "start_time": "2020-03-27T14:32:03.525065Z"
    }
   },
   "outputs": [
    {
     "data": {
      "text/html": [
       "<div>\n",
       "<style scoped>\n",
       "    .dataframe tbody tr th:only-of-type {\n",
       "        vertical-align: middle;\n",
       "    }\n",
       "\n",
       "    .dataframe tbody tr th {\n",
       "        vertical-align: top;\n",
       "    }\n",
       "\n",
       "    .dataframe thead th {\n",
       "        text-align: right;\n",
       "    }\n",
       "</style>\n",
       "<table border=\"1\" class=\"dataframe\">\n",
       "  <thead>\n",
       "    <tr style=\"text-align: right;\">\n",
       "      <th></th>\n",
       "      <th>bid</th>\n",
       "      <th>ask</th>\n",
       "      <th>mid</th>\n",
       "      <th>ticker</th>\n",
       "    </tr>\n",
       "    <tr>\n",
       "      <th>Date</th>\n",
       "      <th></th>\n",
       "      <th></th>\n",
       "      <th></th>\n",
       "      <th></th>\n",
       "    </tr>\n",
       "  </thead>\n",
       "  <tbody>\n",
       "    <tr>\n",
       "      <th>2017-04-25 00:00:01.466000+00:00</th>\n",
       "      <td>1.08648</td>\n",
       "      <td>1.08654</td>\n",
       "      <td>1.086510</td>\n",
       "      <td>EURUSD</td>\n",
       "    </tr>\n",
       "    <tr>\n",
       "      <th>2017-04-25 00:00:01.618000+00:00</th>\n",
       "      <td>1.08650</td>\n",
       "      <td>1.08654</td>\n",
       "      <td>1.086520</td>\n",
       "      <td>EURUSD</td>\n",
       "    </tr>\n",
       "    <tr>\n",
       "      <th>2017-04-25 00:00:02.276000+00:00</th>\n",
       "      <td>1.08650</td>\n",
       "      <td>1.08654</td>\n",
       "      <td>1.086520</td>\n",
       "      <td>EURUSD</td>\n",
       "    </tr>\n",
       "    <tr>\n",
       "      <th>2017-04-25 00:00:04.081000+00:00</th>\n",
       "      <td>1.08649</td>\n",
       "      <td>1.08654</td>\n",
       "      <td>1.086515</td>\n",
       "      <td>EURUSD</td>\n",
       "    </tr>\n",
       "    <tr>\n",
       "      <th>2017-04-25 00:00:05.470000+00:00</th>\n",
       "      <td>1.08650</td>\n",
       "      <td>1.08654</td>\n",
       "      <td>1.086520</td>\n",
       "      <td>EURUSD</td>\n",
       "    </tr>\n",
       "    <tr>\n",
       "      <th>2017-04-25 00:00:06.039000+00:00</th>\n",
       "      <td>1.08650</td>\n",
       "      <td>1.08654</td>\n",
       "      <td>1.086520</td>\n",
       "      <td>EURUSD</td>\n",
       "    </tr>\n",
       "    <tr>\n",
       "      <th>2017-04-25 00:00:06.567000+00:00</th>\n",
       "      <td>1.08651</td>\n",
       "      <td>1.08654</td>\n",
       "      <td>1.086525</td>\n",
       "      <td>EURUSD</td>\n",
       "    </tr>\n",
       "    <tr>\n",
       "      <th>2017-04-25 00:00:07.604000+00:00</th>\n",
       "      <td>1.08652</td>\n",
       "      <td>1.08655</td>\n",
       "      <td>1.086535</td>\n",
       "      <td>EURUSD</td>\n",
       "    </tr>\n",
       "    <tr>\n",
       "      <th>2017-04-25 00:00:08.503000+00:00</th>\n",
       "      <td>1.08654</td>\n",
       "      <td>1.08656</td>\n",
       "      <td>1.086550</td>\n",
       "      <td>EURUSD</td>\n",
       "    </tr>\n",
       "    <tr>\n",
       "      <th>2017-04-25 00:00:08.717000+00:00</th>\n",
       "      <td>1.08656</td>\n",
       "      <td>1.08660</td>\n",
       "      <td>1.086580</td>\n",
       "      <td>EURUSD</td>\n",
       "    </tr>\n",
       "  </tbody>\n",
       "</table>\n",
       "</div>"
      ],
      "text/plain": [
       "                                      bid      ask       mid  ticker\n",
       "Date                                                                \n",
       "2017-04-25 00:00:01.466000+00:00  1.08648  1.08654  1.086510  EURUSD\n",
       "2017-04-25 00:00:01.618000+00:00  1.08650  1.08654  1.086520  EURUSD\n",
       "2017-04-25 00:00:02.276000+00:00  1.08650  1.08654  1.086520  EURUSD\n",
       "2017-04-25 00:00:04.081000+00:00  1.08649  1.08654  1.086515  EURUSD\n",
       "2017-04-25 00:00:05.470000+00:00  1.08650  1.08654  1.086520  EURUSD\n",
       "2017-04-25 00:00:06.039000+00:00  1.08650  1.08654  1.086520  EURUSD\n",
       "2017-04-25 00:00:06.567000+00:00  1.08651  1.08654  1.086525  EURUSD\n",
       "2017-04-25 00:00:07.604000+00:00  1.08652  1.08655  1.086535  EURUSD\n",
       "2017-04-25 00:00:08.503000+00:00  1.08654  1.08656  1.086550  EURUSD\n",
       "2017-04-25 00:00:08.717000+00:00  1.08656  1.08660  1.086580  EURUSD"
      ]
     },
     "execution_count": 5,
     "metadata": {},
     "output_type": "execute_result"
    }
   ],
   "source": [
    "market_df.head(10)"
   ]
  },
  {
   "cell_type": "markdown",
   "metadata": {},
   "source": [
    "### Directly loading trade/order data from CSV\n",
    "\n",
    "We can use `DatabaseSourceCSVBinary` to open up the trade and order data."
   ]
  },
  {
   "cell_type": "code",
   "execution_count": 6,
   "metadata": {
    "ExecuteTime": {
     "end_time": "2020-03-27T14:32:03.585576Z",
     "start_time": "2020-03-27T14:32:03.552392Z"
    }
   },
   "outputs": [],
   "source": [
    "trade_df = DatabaseSourceCSVBinary(trade_data_database_csv=local_csv_trade_order_mapping['trade_df']) \\\n",
    "    .fetch_trade_order_data()\n",
    "\n",
    "order_df = DatabaseSourceCSVBinary(trade_data_database_csv=local_csv_trade_order_mapping['order_df']) \\\n",
    "    .fetch_trade_order_data()"
   ]
  },
  {
   "cell_type": "markdown",
   "metadata": {},
   "source": [
    "### Exploring trade/order data\n",
    "\n",
    "Let's look at the trade data so we can understand the type of format that tcapy needs. We can see that each trade is a point in time. In some cases, these are actual `trade` events, other times they are `placement`, `cancel` or `cancel/replace` messages. The times of two different events can be identical, and there are some instances of this in the test datasets of trade/orders. Note, that this can often cause problems with Pandas, so if do create your own `Metric` and `Benchmark` variations, do check that your implementations can manage it (can require some rewriting of the code)."
   ]
  },
  {
   "cell_type": "code",
   "execution_count": 7,
   "metadata": {
    "ExecuteTime": {
     "end_time": "2020-03-27T14:32:03.611499Z",
     "start_time": "2020-03-27T14:32:03.586552Z"
    }
   },
   "outputs": [
    {
     "data": {
      "text/html": [
       "<div>\n",
       "<style scoped>\n",
       "    .dataframe tbody tr th:only-of-type {\n",
       "        vertical-align: middle;\n",
       "    }\n",
       "\n",
       "    .dataframe tbody tr th {\n",
       "        vertical-align: top;\n",
       "    }\n",
       "\n",
       "    .dataframe thead th {\n",
       "        text-align: right;\n",
       "    }\n",
       "</style>\n",
       "<table border=\"1\" class=\"dataframe\">\n",
       "  <thead>\n",
       "    <tr style=\"text-align: right;\">\n",
       "      <th></th>\n",
       "      <th>account_id</th>\n",
       "      <th>algo_id</th>\n",
       "      <th>algo_settings</th>\n",
       "      <th>ancestor_pointer_id</th>\n",
       "      <th>broker_id</th>\n",
       "      <th>broker_sub_id</th>\n",
       "      <th>event_type</th>\n",
       "      <th>executed_notional</th>\n",
       "      <th>executed_price</th>\n",
       "      <th>id</th>\n",
       "      <th>...</th>\n",
       "      <th>market_mid</th>\n",
       "      <th>notional_currency</th>\n",
       "      <th>order_notional</th>\n",
       "      <th>portfolio_id</th>\n",
       "      <th>portfolio_manager_id</th>\n",
       "      <th>price_limit</th>\n",
       "      <th>side</th>\n",
       "      <th>ticker</th>\n",
       "      <th>trader_id</th>\n",
       "      <th>venue</th>\n",
       "    </tr>\n",
       "    <tr>\n",
       "      <th>Date</th>\n",
       "      <th></th>\n",
       "      <th></th>\n",
       "      <th></th>\n",
       "      <th></th>\n",
       "      <th></th>\n",
       "      <th></th>\n",
       "      <th></th>\n",
       "      <th></th>\n",
       "      <th></th>\n",
       "      <th></th>\n",
       "      <th></th>\n",
       "      <th></th>\n",
       "      <th></th>\n",
       "      <th></th>\n",
       "      <th></th>\n",
       "      <th></th>\n",
       "      <th></th>\n",
       "      <th></th>\n",
       "      <th></th>\n",
       "      <th></th>\n",
       "      <th></th>\n",
       "    </tr>\n",
       "  </thead>\n",
       "  <tbody>\n",
       "    <tr>\n",
       "      <th>2017-04-25 07:09:31.804000+00:00</th>\n",
       "      <td>account3</td>\n",
       "      <td>algo4</td>\n",
       "      <td>default</td>\n",
       "      <td>order_EURUSD2017-04-25 07:09:31.804000+00:00_2...</td>\n",
       "      <td>broker5</td>\n",
       "      <td>subbroker1</td>\n",
       "      <td>placement</td>\n",
       "      <td>0</td>\n",
       "      <td>0.000000</td>\n",
       "      <td>execution_EURUSD2017-04-25 07:09:31.804000+00:...</td>\n",
       "      <td>...</td>\n",
       "      <td>1.087965</td>\n",
       "      <td>EUR</td>\n",
       "      <td>18517881</td>\n",
       "      <td>portfolio4</td>\n",
       "      <td>pm2</td>\n",
       "      <td>1.087965</td>\n",
       "      <td>-1</td>\n",
       "      <td>EURUSD</td>\n",
       "      <td>trader1</td>\n",
       "      <td>venue4</td>\n",
       "    </tr>\n",
       "    <tr>\n",
       "      <th>2017-04-25 07:09:33.765000+00:00</th>\n",
       "      <td>account3</td>\n",
       "      <td>algo4</td>\n",
       "      <td>default</td>\n",
       "      <td>order_EURUSD2017-04-25 07:09:31.804000+00:00_2...</td>\n",
       "      <td>broker5</td>\n",
       "      <td>subbroker1</td>\n",
       "      <td>trade</td>\n",
       "      <td>18517881</td>\n",
       "      <td>1.087965</td>\n",
       "      <td>execution_EURUSD2017-04-25 07:09:33.765000+00:...</td>\n",
       "      <td>...</td>\n",
       "      <td>1.087990</td>\n",
       "      <td>EUR</td>\n",
       "      <td>18517881</td>\n",
       "      <td>portfolio4</td>\n",
       "      <td>pm2</td>\n",
       "      <td>1.087965</td>\n",
       "      <td>-1</td>\n",
       "      <td>EURUSD</td>\n",
       "      <td>trader1</td>\n",
       "      <td>venue3</td>\n",
       "    </tr>\n",
       "    <tr>\n",
       "      <th>2017-04-25 11:09:52.384000+00:00</th>\n",
       "      <td>account3</td>\n",
       "      <td>algo6</td>\n",
       "      <td>default</td>\n",
       "      <td>order_EURUSD2017-04-25 11:09:52.384000+00:00_2...</td>\n",
       "      <td>broker6</td>\n",
       "      <td>subbroker6</td>\n",
       "      <td>placement</td>\n",
       "      <td>0</td>\n",
       "      <td>0.000000</td>\n",
       "      <td>execution_EURUSD2017-04-25 11:09:52.384000+00:...</td>\n",
       "      <td>...</td>\n",
       "      <td>1.088090</td>\n",
       "      <td>EUR</td>\n",
       "      <td>8364696</td>\n",
       "      <td>portfolio4</td>\n",
       "      <td>pm3</td>\n",
       "      <td>1.088090</td>\n",
       "      <td>-1</td>\n",
       "      <td>EURUSD</td>\n",
       "      <td>trader5</td>\n",
       "      <td>venue4</td>\n",
       "    </tr>\n",
       "    <tr>\n",
       "      <th>2017-04-25 11:09:53.242000+00:00</th>\n",
       "      <td>account3</td>\n",
       "      <td>algo6</td>\n",
       "      <td>default</td>\n",
       "      <td>order_EURUSD2017-04-25 11:09:52.384000+00:00_2...</td>\n",
       "      <td>broker6</td>\n",
       "      <td>subbroker6</td>\n",
       "      <td>cancel/replace</td>\n",
       "      <td>0</td>\n",
       "      <td>0.000000</td>\n",
       "      <td>execution_EURUSD2017-04-25 11:09:53.242000+00:...</td>\n",
       "      <td>...</td>\n",
       "      <td>1.088080</td>\n",
       "      <td>EUR</td>\n",
       "      <td>0</td>\n",
       "      <td>portfolio4</td>\n",
       "      <td>pm3</td>\n",
       "      <td>1.088090</td>\n",
       "      <td>-1</td>\n",
       "      <td>EURUSD</td>\n",
       "      <td>trader5</td>\n",
       "      <td>venue3</td>\n",
       "    </tr>\n",
       "    <tr>\n",
       "      <th>2017-04-25 11:10:20.251000+00:00</th>\n",
       "      <td>account3</td>\n",
       "      <td>algo6</td>\n",
       "      <td>default</td>\n",
       "      <td>order_EURUSD2017-04-25 11:09:52.384000+00:00_2...</td>\n",
       "      <td>broker6</td>\n",
       "      <td>subbroker6</td>\n",
       "      <td>trade</td>\n",
       "      <td>8364696</td>\n",
       "      <td>1.088093</td>\n",
       "      <td>execution_EURUSD2017-04-25 11:10:20.251000+00:...</td>\n",
       "      <td>...</td>\n",
       "      <td>1.088125</td>\n",
       "      <td>EUR</td>\n",
       "      <td>8364696</td>\n",
       "      <td>portfolio4</td>\n",
       "      <td>pm3</td>\n",
       "      <td>1.088090</td>\n",
       "      <td>-1</td>\n",
       "      <td>EURUSD</td>\n",
       "      <td>trader5</td>\n",
       "      <td>venue4</td>\n",
       "    </tr>\n",
       "  </tbody>\n",
       "</table>\n",
       "<p>5 rows × 22 columns</p>\n",
       "</div>"
      ],
      "text/plain": [
       "                                 account_id algo_id algo_settings  \\\n",
       "Date                                                                \n",
       "2017-04-25 07:09:31.804000+00:00   account3   algo4       default   \n",
       "2017-04-25 07:09:33.765000+00:00   account3   algo4       default   \n",
       "2017-04-25 11:09:52.384000+00:00   account3   algo6       default   \n",
       "2017-04-25 11:09:53.242000+00:00   account3   algo6       default   \n",
       "2017-04-25 11:10:20.251000+00:00   account3   algo6       default   \n",
       "\n",
       "                                                                ancestor_pointer_id  \\\n",
       "Date                                                                                  \n",
       "2017-04-25 07:09:31.804000+00:00  order_EURUSD2017-04-25 07:09:31.804000+00:00_2...   \n",
       "2017-04-25 07:09:33.765000+00:00  order_EURUSD2017-04-25 07:09:31.804000+00:00_2...   \n",
       "2017-04-25 11:09:52.384000+00:00  order_EURUSD2017-04-25 11:09:52.384000+00:00_2...   \n",
       "2017-04-25 11:09:53.242000+00:00  order_EURUSD2017-04-25 11:09:52.384000+00:00_2...   \n",
       "2017-04-25 11:10:20.251000+00:00  order_EURUSD2017-04-25 11:09:52.384000+00:00_2...   \n",
       "\n",
       "                                 broker_id broker_sub_id      event_type  \\\n",
       "Date                                                                       \n",
       "2017-04-25 07:09:31.804000+00:00   broker5    subbroker1       placement   \n",
       "2017-04-25 07:09:33.765000+00:00   broker5    subbroker1           trade   \n",
       "2017-04-25 11:09:52.384000+00:00   broker6    subbroker6       placement   \n",
       "2017-04-25 11:09:53.242000+00:00   broker6    subbroker6  cancel/replace   \n",
       "2017-04-25 11:10:20.251000+00:00   broker6    subbroker6           trade   \n",
       "\n",
       "                                  executed_notional  executed_price  \\\n",
       "Date                                                                  \n",
       "2017-04-25 07:09:31.804000+00:00                  0        0.000000   \n",
       "2017-04-25 07:09:33.765000+00:00           18517881        1.087965   \n",
       "2017-04-25 11:09:52.384000+00:00                  0        0.000000   \n",
       "2017-04-25 11:09:53.242000+00:00                  0        0.000000   \n",
       "2017-04-25 11:10:20.251000+00:00            8364696        1.088093   \n",
       "\n",
       "                                                                                 id  \\\n",
       "Date                                                                                  \n",
       "2017-04-25 07:09:31.804000+00:00  execution_EURUSD2017-04-25 07:09:31.804000+00:...   \n",
       "2017-04-25 07:09:33.765000+00:00  execution_EURUSD2017-04-25 07:09:33.765000+00:...   \n",
       "2017-04-25 11:09:52.384000+00:00  execution_EURUSD2017-04-25 11:09:52.384000+00:...   \n",
       "2017-04-25 11:09:53.242000+00:00  execution_EURUSD2017-04-25 11:09:53.242000+00:...   \n",
       "2017-04-25 11:10:20.251000+00:00  execution_EURUSD2017-04-25 11:10:20.251000+00:...   \n",
       "\n",
       "                                  ...  market_mid  notional_currency  \\\n",
       "Date                              ...                                  \n",
       "2017-04-25 07:09:31.804000+00:00  ...    1.087965                EUR   \n",
       "2017-04-25 07:09:33.765000+00:00  ...    1.087990                EUR   \n",
       "2017-04-25 11:09:52.384000+00:00  ...    1.088090                EUR   \n",
       "2017-04-25 11:09:53.242000+00:00  ...    1.088080                EUR   \n",
       "2017-04-25 11:10:20.251000+00:00  ...    1.088125                EUR   \n",
       "\n",
       "                                  order_notional portfolio_id  \\\n",
       "Date                                                            \n",
       "2017-04-25 07:09:31.804000+00:00        18517881   portfolio4   \n",
       "2017-04-25 07:09:33.765000+00:00        18517881   portfolio4   \n",
       "2017-04-25 11:09:52.384000+00:00         8364696   portfolio4   \n",
       "2017-04-25 11:09:53.242000+00:00               0   portfolio4   \n",
       "2017-04-25 11:10:20.251000+00:00         8364696   portfolio4   \n",
       "\n",
       "                                  portfolio_manager_id price_limit side  \\\n",
       "Date                                                                      \n",
       "2017-04-25 07:09:31.804000+00:00                   pm2    1.087965   -1   \n",
       "2017-04-25 07:09:33.765000+00:00                   pm2    1.087965   -1   \n",
       "2017-04-25 11:09:52.384000+00:00                   pm3    1.088090   -1   \n",
       "2017-04-25 11:09:53.242000+00:00                   pm3    1.088090   -1   \n",
       "2017-04-25 11:10:20.251000+00:00                   pm3    1.088090   -1   \n",
       "\n",
       "                                  ticker  trader_id   venue  \n",
       "Date                                                         \n",
       "2017-04-25 07:09:31.804000+00:00  EURUSD    trader1  venue4  \n",
       "2017-04-25 07:09:33.765000+00:00  EURUSD    trader1  venue3  \n",
       "2017-04-25 11:09:52.384000+00:00  EURUSD    trader5  venue4  \n",
       "2017-04-25 11:09:53.242000+00:00  EURUSD    trader5  venue3  \n",
       "2017-04-25 11:10:20.251000+00:00  EURUSD    trader5  venue4  \n",
       "\n",
       "[5 rows x 22 columns]"
      ]
     },
     "execution_count": 7,
     "metadata": {},
     "output_type": "execute_result"
    }
   ],
   "source": [
    "trade_df.head(5)"
   ]
  },
  {
   "cell_type": "markdown",
   "metadata": {},
   "source": [
    "Let's print out all the fields. Some fields are compulsory for use in tcapy, including the index (`Date`), `ticker`, `side` etc. Some fields here are optional such as `market_ask`, `market_bid` and `market_mid`. Similar fields will be autogenerated from the market data and appends to the trade data. `DatabaseSource` does minimal changes to the format of the data. Internally, there's a higher level class `DataNorm` that can be edited to convert the field names to the ones which tcapy expects. Each of these trade message point to the order which they belong to. There can be multiple trade messages within a single order."
   ]
  },
  {
   "cell_type": "code",
   "execution_count": 8,
   "metadata": {
    "ExecuteTime": {
     "end_time": "2020-03-27T14:32:03.617356Z",
     "start_time": "2020-03-27T14:32:03.612475Z"
    }
   },
   "outputs": [
    {
     "data": {
      "text/plain": [
       "Index(['account_id', 'algo_id', 'algo_settings', 'ancestor_pointer_id',\n",
       "       'broker_id', 'broker_sub_id', 'event_type', 'executed_notional',\n",
       "       'executed_price', 'id', 'market_ask', 'market_bid', 'market_mid',\n",
       "       'notional_currency', 'order_notional', 'portfolio_id',\n",
       "       'portfolio_manager_id', 'price_limit', 'side', 'ticker', 'trader_id',\n",
       "       'venue'],\n",
       "      dtype='object')"
      ]
     },
     "execution_count": 8,
     "metadata": {},
     "output_type": "execute_result"
    }
   ],
   "source": [
    "trade_df.columns"
   ]
  },
  {
   "cell_type": "markdown",
   "metadata": {},
   "source": [
    "If we look at the order data, one the key differences, which we noted is that each order has a `benchmark_date_start` and `benchmark_date_end`, a start and end time. Note, obviously this randomized data. We also see that it doesn't have columns for `executed_notional` data or `executed_price` data. tcapy can generate this from the underlying trade fills from the earlier table."
   ]
  },
  {
   "cell_type": "code",
   "execution_count": 9,
   "metadata": {
    "ExecuteTime": {
     "end_time": "2020-03-27T14:32:03.638830Z",
     "start_time": "2020-03-27T14:32:03.618331Z"
    }
   },
   "outputs": [
    {
     "data": {
      "text/html": [
       "<div>\n",
       "<style scoped>\n",
       "    .dataframe tbody tr th:only-of-type {\n",
       "        vertical-align: middle;\n",
       "    }\n",
       "\n",
       "    .dataframe tbody tr th {\n",
       "        vertical-align: top;\n",
       "    }\n",
       "\n",
       "    .dataframe thead th {\n",
       "        text-align: right;\n",
       "    }\n",
       "</style>\n",
       "<table border=\"1\" class=\"dataframe\">\n",
       "  <thead>\n",
       "    <tr style=\"text-align: right;\">\n",
       "      <th></th>\n",
       "      <th>account_id</th>\n",
       "      <th>algo_id</th>\n",
       "      <th>algo_settings</th>\n",
       "      <th>arrival_price</th>\n",
       "      <th>benchmark_date_end</th>\n",
       "      <th>benchmark_date_start</th>\n",
       "      <th>broker_id</th>\n",
       "      <th>broker_sub_id</th>\n",
       "      <th>id</th>\n",
       "      <th>notional</th>\n",
       "      <th>notional_currency</th>\n",
       "      <th>portfolio_id</th>\n",
       "      <th>portfolio_manager_id</th>\n",
       "      <th>price_limit</th>\n",
       "      <th>side</th>\n",
       "      <th>ticker</th>\n",
       "      <th>trader_id</th>\n",
       "    </tr>\n",
       "    <tr>\n",
       "      <th>Date</th>\n",
       "      <th></th>\n",
       "      <th></th>\n",
       "      <th></th>\n",
       "      <th></th>\n",
       "      <th></th>\n",
       "      <th></th>\n",
       "      <th></th>\n",
       "      <th></th>\n",
       "      <th></th>\n",
       "      <th></th>\n",
       "      <th></th>\n",
       "      <th></th>\n",
       "      <th></th>\n",
       "      <th></th>\n",
       "      <th></th>\n",
       "      <th></th>\n",
       "      <th></th>\n",
       "    </tr>\n",
       "  </thead>\n",
       "  <tbody>\n",
       "    <tr>\n",
       "      <th>2017-04-25 07:09:31.804000+00:00</th>\n",
       "      <td>account3</td>\n",
       "      <td>algo4</td>\n",
       "      <td>default</td>\n",
       "      <td>1.087965</td>\n",
       "      <td>2017-04-25 10:40:16.512000+00:00</td>\n",
       "      <td>2017-04-25 07:09:31.804000+00:00</td>\n",
       "      <td>broker5</td>\n",
       "      <td>subbroker1</td>\n",
       "      <td>order_EURUSD2017-04-25 07:09:31.804000+00:00_2...</td>\n",
       "      <td>18517881</td>\n",
       "      <td>EUR</td>\n",
       "      <td>portfolio4</td>\n",
       "      <td>pm2</td>\n",
       "      <td>1.087965</td>\n",
       "      <td>-1</td>\n",
       "      <td>EURUSD</td>\n",
       "      <td>trader1</td>\n",
       "    </tr>\n",
       "    <tr>\n",
       "      <th>2017-04-25 11:09:52.384000+00:00</th>\n",
       "      <td>account3</td>\n",
       "      <td>algo6</td>\n",
       "      <td>default</td>\n",
       "      <td>1.088090</td>\n",
       "      <td>2017-04-25 14:33:06.745000+00:00</td>\n",
       "      <td>2017-04-25 11:09:52.384000+00:00</td>\n",
       "      <td>broker6</td>\n",
       "      <td>subbroker6</td>\n",
       "      <td>order_EURUSD2017-04-25 11:09:52.384000+00:00_2...</td>\n",
       "      <td>8364696</td>\n",
       "      <td>EUR</td>\n",
       "      <td>portfolio4</td>\n",
       "      <td>pm3</td>\n",
       "      <td>1.088090</td>\n",
       "      <td>-1</td>\n",
       "      <td>EURUSD</td>\n",
       "      <td>trader5</td>\n",
       "    </tr>\n",
       "    <tr>\n",
       "      <th>2017-04-25 15:50:41.479000+00:00</th>\n",
       "      <td>account1</td>\n",
       "      <td>algo3</td>\n",
       "      <td>default</td>\n",
       "      <td>1.093765</td>\n",
       "      <td>2017-04-26 06:01:27.935000+00:00</td>\n",
       "      <td>2017-04-25 15:50:41.479000+00:00</td>\n",
       "      <td>broker5</td>\n",
       "      <td>subbroker5</td>\n",
       "      <td>order_EURUSD2017-04-25 15:50:41.479000+00:00_2...</td>\n",
       "      <td>774423</td>\n",
       "      <td>EUR</td>\n",
       "      <td>portfolio1</td>\n",
       "      <td>pm6</td>\n",
       "      <td>1.093765</td>\n",
       "      <td>-1</td>\n",
       "      <td>EURUSD</td>\n",
       "      <td>trader3</td>\n",
       "    </tr>\n",
       "    <tr>\n",
       "      <th>2017-04-26 06:48:48.562000+00:00</th>\n",
       "      <td>account4</td>\n",
       "      <td>algo2</td>\n",
       "      <td>default</td>\n",
       "      <td>1.092460</td>\n",
       "      <td>2017-04-26 09:57:57.631000+00:00</td>\n",
       "      <td>2017-04-26 06:48:48.562000+00:00</td>\n",
       "      <td>broker3</td>\n",
       "      <td>subbroker3</td>\n",
       "      <td>order_EURUSD2017-04-26 06:48:48.562000+00:00_2...</td>\n",
       "      <td>16465763</td>\n",
       "      <td>EUR</td>\n",
       "      <td>portfolio3</td>\n",
       "      <td>pm5</td>\n",
       "      <td>1.092460</td>\n",
       "      <td>-1</td>\n",
       "      <td>EURUSD</td>\n",
       "      <td>trader5</td>\n",
       "    </tr>\n",
       "    <tr>\n",
       "      <th>2017-04-26 11:15:50.864000+00:00</th>\n",
       "      <td>account6</td>\n",
       "      <td>algo1</td>\n",
       "      <td>default</td>\n",
       "      <td>1.089585</td>\n",
       "      <td>2017-04-26 14:41:01.382000+00:00</td>\n",
       "      <td>2017-04-26 11:15:50.864000+00:00</td>\n",
       "      <td>broker3</td>\n",
       "      <td>subbroker6</td>\n",
       "      <td>order_EURUSD2017-04-26 11:15:50.864000+00:00_2...</td>\n",
       "      <td>11501881</td>\n",
       "      <td>EUR</td>\n",
       "      <td>portfolio4</td>\n",
       "      <td>pm3</td>\n",
       "      <td>1.089585</td>\n",
       "      <td>-1</td>\n",
       "      <td>EURUSD</td>\n",
       "      <td>trader4</td>\n",
       "    </tr>\n",
       "  </tbody>\n",
       "</table>\n",
       "</div>"
      ],
      "text/plain": [
       "                                 account_id algo_id algo_settings  \\\n",
       "Date                                                                \n",
       "2017-04-25 07:09:31.804000+00:00   account3   algo4       default   \n",
       "2017-04-25 11:09:52.384000+00:00   account3   algo6       default   \n",
       "2017-04-25 15:50:41.479000+00:00   account1   algo3       default   \n",
       "2017-04-26 06:48:48.562000+00:00   account4   algo2       default   \n",
       "2017-04-26 11:15:50.864000+00:00   account6   algo1       default   \n",
       "\n",
       "                                  arrival_price  \\\n",
       "Date                                              \n",
       "2017-04-25 07:09:31.804000+00:00       1.087965   \n",
       "2017-04-25 11:09:52.384000+00:00       1.088090   \n",
       "2017-04-25 15:50:41.479000+00:00       1.093765   \n",
       "2017-04-26 06:48:48.562000+00:00       1.092460   \n",
       "2017-04-26 11:15:50.864000+00:00       1.089585   \n",
       "\n",
       "                                               benchmark_date_end  \\\n",
       "Date                                                                \n",
       "2017-04-25 07:09:31.804000+00:00 2017-04-25 10:40:16.512000+00:00   \n",
       "2017-04-25 11:09:52.384000+00:00 2017-04-25 14:33:06.745000+00:00   \n",
       "2017-04-25 15:50:41.479000+00:00 2017-04-26 06:01:27.935000+00:00   \n",
       "2017-04-26 06:48:48.562000+00:00 2017-04-26 09:57:57.631000+00:00   \n",
       "2017-04-26 11:15:50.864000+00:00 2017-04-26 14:41:01.382000+00:00   \n",
       "\n",
       "                                             benchmark_date_start broker_id  \\\n",
       "Date                                                                          \n",
       "2017-04-25 07:09:31.804000+00:00 2017-04-25 07:09:31.804000+00:00   broker5   \n",
       "2017-04-25 11:09:52.384000+00:00 2017-04-25 11:09:52.384000+00:00   broker6   \n",
       "2017-04-25 15:50:41.479000+00:00 2017-04-25 15:50:41.479000+00:00   broker5   \n",
       "2017-04-26 06:48:48.562000+00:00 2017-04-26 06:48:48.562000+00:00   broker3   \n",
       "2017-04-26 11:15:50.864000+00:00 2017-04-26 11:15:50.864000+00:00   broker3   \n",
       "\n",
       "                                 broker_sub_id  \\\n",
       "Date                                             \n",
       "2017-04-25 07:09:31.804000+00:00    subbroker1   \n",
       "2017-04-25 11:09:52.384000+00:00    subbroker6   \n",
       "2017-04-25 15:50:41.479000+00:00    subbroker5   \n",
       "2017-04-26 06:48:48.562000+00:00    subbroker3   \n",
       "2017-04-26 11:15:50.864000+00:00    subbroker6   \n",
       "\n",
       "                                                                                 id  \\\n",
       "Date                                                                                  \n",
       "2017-04-25 07:09:31.804000+00:00  order_EURUSD2017-04-25 07:09:31.804000+00:00_2...   \n",
       "2017-04-25 11:09:52.384000+00:00  order_EURUSD2017-04-25 11:09:52.384000+00:00_2...   \n",
       "2017-04-25 15:50:41.479000+00:00  order_EURUSD2017-04-25 15:50:41.479000+00:00_2...   \n",
       "2017-04-26 06:48:48.562000+00:00  order_EURUSD2017-04-26 06:48:48.562000+00:00_2...   \n",
       "2017-04-26 11:15:50.864000+00:00  order_EURUSD2017-04-26 11:15:50.864000+00:00_2...   \n",
       "\n",
       "                                  notional notional_currency portfolio_id  \\\n",
       "Date                                                                        \n",
       "2017-04-25 07:09:31.804000+00:00  18517881               EUR   portfolio4   \n",
       "2017-04-25 11:09:52.384000+00:00   8364696               EUR   portfolio4   \n",
       "2017-04-25 15:50:41.479000+00:00    774423               EUR   portfolio1   \n",
       "2017-04-26 06:48:48.562000+00:00  16465763               EUR   portfolio3   \n",
       "2017-04-26 11:15:50.864000+00:00  11501881               EUR   portfolio4   \n",
       "\n",
       "                                 portfolio_manager_id  price_limit  side  \\\n",
       "Date                                                                       \n",
       "2017-04-25 07:09:31.804000+00:00                  pm2     1.087965    -1   \n",
       "2017-04-25 11:09:52.384000+00:00                  pm3     1.088090    -1   \n",
       "2017-04-25 15:50:41.479000+00:00                  pm6     1.093765    -1   \n",
       "2017-04-26 06:48:48.562000+00:00                  pm5     1.092460    -1   \n",
       "2017-04-26 11:15:50.864000+00:00                  pm3     1.089585    -1   \n",
       "\n",
       "                                  ticker trader_id  \n",
       "Date                                                \n",
       "2017-04-25 07:09:31.804000+00:00  EURUSD   trader1  \n",
       "2017-04-25 11:09:52.384000+00:00  EURUSD   trader5  \n",
       "2017-04-25 15:50:41.479000+00:00  EURUSD   trader3  \n",
       "2017-04-26 06:48:48.562000+00:00  EURUSD   trader5  \n",
       "2017-04-26 11:15:50.864000+00:00  EURUSD   trader4  "
      ]
     },
     "execution_count": 9,
     "metadata": {},
     "output_type": "execute_result"
    }
   ],
   "source": [
    "order_df.head(5)"
   ]
  },
  {
   "cell_type": "markdown",
   "metadata": {},
   "source": [
    "tcapy can do TCA on trade data on its own (or trade and order data together). Make sure that your trade/order is in a similar format to use with tcapy."
   ]
  },
  {
   "cell_type": "markdown",
   "metadata": {},
   "source": [
    "## TCA computations using external data download\n",
    "\n",
    "We first need to create a trade/order mapping, to tell tcapy where to find the trade/order data, which is this case is in CSV files. Note the use of `trade_df` and `order_df`, which you'll have to use each time.\n",
    "\n",
    "We could use an `OrderedDict` (as earlier), but for Python 3.6+ all dictionaries have ordering built in, so we'll just a `dict` given we are assuming that users have set up a Python 3.6 environment for tcapy, in line with the installation instructions."
   ]
  },
  {
   "cell_type": "code",
   "execution_count": 10,
   "metadata": {
    "ExecuteTime": {
     "end_time": "2020-03-27T14:32:03.646579Z",
     "start_time": "2020-03-27T14:32:03.639807Z"
    }
   },
   "outputs": [],
   "source": [
    "csv_trade_order_mapping = {'trade_df' : os.path.join(local_test_data_path, 'small_test_trade_df.csv'),\n",
    "                           'order_df' : os.path.join(local_test_data_path, 'small_test_order_df.csv')}"
   ]
  },
  {
   "cell_type": "markdown",
   "metadata": {},
   "source": [
    "We create a `TCAEngineImpl` object which will be used to accept a `TCARequest` for doing the TCA computation. We also get reference to the `VolatileCache` which uses Redis underneath."
   ]
  },
  {
   "cell_type": "code",
   "execution_count": 11,
   "metadata": {
    "ExecuteTime": {
     "end_time": "2020-03-27T14:32:03.696820Z",
     "start_time": "2020-03-27T14:32:03.647555Z"
    }
   },
   "outputs": [
    {
     "name": "stderr",
     "output_type": "stream",
     "text": [
      "2020-03-27 14:32:03,693; INFO:tcapy.analysis.tcaengine: Init TCAEngine version: pro - Env: desktop_laptop_linux (tcaengine.py:53)\n"
     ]
    }
   ],
   "source": [
    "tca_version  = constants.tcapy_version\n",
    "tca_engine = TCAEngineImpl(version=tca_version)\n",
    "\n",
    "volatile_cache = Mediator.get_volatile_cache()"
   ]
  },
  {
   "cell_type": "markdown",
   "metadata": {},
   "source": [
    "We create a `TCARequest`, which will be run on our trade/order CSV files. It allows us to specify our `TCARequest` in a Pythonic like way, as opposed to using some sort of query language directly (like SQL or q). Obviously, the key advantage of this is because tcapy supports all sorts of databases, we don't need to change our `TCARequest` much if we change our underlying data sources.\n",
    "\n",
    "The market data will be externally downloaded from Dukascopy. In this instance, we have set `use_multithreading=False` which avoids the use of Celery. In production though we'd recommend setting it to `True` to speed up computation significantly. We can add the below, for calculation:\n",
    "\n",
    "* `Metric` to measure the \"quality\" of each trade/order\n",
    "    * We've added `MetricSlippage` which by default calcualtes the difference between the `mid` price and the `executed_price`\n",
    "* `Benchmark` to capture what the market is around each trade/order\n",
    "    * We've added `BenchmarkArrival` which will the mid price for the arrival price of every trade/order\n",
    "* `ResultForm` objects to aggregate the statistics of various fields. \n",
    "    * We've added `TimelineResultsForm` will calculate the average `slippage` by day and hour. We use a `scalar` of `10000.0` to convert the values into basis points, which are easier to interpret\n",
    "    * By default the slippage will be weighted by the `executed_notional` although we can change the weighting field\n",
    "    \n",
    "Whilst we are asking for ticker `EURUSD`, tcapy will also search for trades/orders booked the \"wrong\" way round ie. `USDEUR` and normalize them so they are converted to `EURUSD` trades/orders."
   ]
  },
  {
   "cell_type": "code",
   "execution_count": 12,
   "metadata": {
    "ExecuteTime": {
     "end_time": "2020-03-27T14:32:03.704648Z",
     "start_time": "2020-03-27T14:32:03.697796Z"
    }
   },
   "outputs": [],
   "source": [
    "# We are conducting a TCA computation for trade/order data between 05 May-10 May 2017 for EURUSD\n",
    "# The trade dataset is from CSV and the market data is downloaded from Dukascopy on the fly\n",
    "# For metrics, we are calculating slippage and for benchmarks we are adding a field for the arrival price\n",
    "# We are creating a timeline of average slippage by date and hour\n",
    "tca_request = TCARequest(start_date='05 May 2017', finish_date='10 May 2017', ticker=['EURUSD'],\n",
    "                         tca_type='detailed',\n",
    "                         trade_data_store='csv', market_data_store='dukascopy',\n",
    "                         trade_order_mapping=local_csv_trade_order_mapping,\n",
    "                         metric_calcs=[MetricSlippage()],\n",
    "                         results_form=[TimelineResultsForm(metric_name='slippage', by_date='datehour', scalar=10000.0)],\n",
    "                         benchmark_calcs=[BenchmarkArrival(), BenchmarkSpreadToMid()],\n",
    "                         use_multithreading=False)"
   ]
  },
  {
   "cell_type": "markdown",
   "metadata": {},
   "source": [
    "Notice there a lot of the log output can be suppressed if we change the logging level to `INFO` in `constants.py`. Most of the output is related to the downloading of Dukascopy data. Depending on how the caching is setup, tcapy may try to download market data in month/week/day chunks and cache them.\n",
    "\n",
    "To force deletion of the cache you can run the `clear_cache()` command. Basically underneath `calculate_tca` will use several other classes. We describe the rough steps of the calculation before:\n",
    "* `TCAMarketTradeLoaderImpl` manages the computation\n",
    "* A different instance `TCATickerLoaderImpl` for each ticker (and often in parallel if `use_multithreading=True` and Celery is running) will then\n",
    "    * load the market, trade and order data (using `DataFactory`, `DatabaseSource` etc.)\n",
    "    * calculate all the metrics and benchmarks (using `Metric`, `Benchmark` etc.)\n",
    "* `TCAMarketTradeLoaderImpl` will then aggregate the statistics generated (using `ResultsForm`)\n",
    "* dictonary of (mostly) `DataFrame` objects returned to the caller by `calculate_tca`\n",
    "\n",
    "As we noted before if there are any timeouts in downloading the data, it will attempt to retry a few times."
   ]
  },
  {
   "cell_type": "code",
   "execution_count": 13,
   "metadata": {
    "ExecuteTime": {
     "end_time": "2020-03-27T14:32:17.136835Z",
     "start_time": "2020-03-27T14:32:03.705611Z"
    }
   },
   "outputs": [
    {
     "name": "stderr",
     "output_type": "stream",
     "text": [
      "2020-03-27 14:32:03,713; DEBUG:tcapy.analysis.tcamarkettradeloader: Start loading trade/data/computation (tcamarkettradeloader.py:240)\n",
      "2020-03-27 14:32:03,716; DEBUG:tcapy.analysis.tcatickerloaderimpl: Get market and trade/order data for EURUSD from 2017-05-05 00:00:00+00:00 - 2017-05-10 00:00:00+00:00 (tcatickerloaderimpl.py:80)\n",
      "2020-03-27 14:32:03,718; DEBUG:tcapy.data.volatilecache: Attempting to get list from cache: ['dukascopy_EURUSD_2017-05-05 00:00:00+00:00_2017-05-10 00:00:00+00:00_market_df_None_comp'] (volatilecache.py:694)\n",
      "2020-03-27 14:32:03,720; DEBUG:tcapy.data.volatilecache: Attempting to get list from cache: ['dukascopy_EURUSD_2017-05-05 00:00:00+00:00_2017-05-10 00:00:00+00:00_market_df_None_comp'] (volatilecache.py:694)\n",
      "2020-03-27 14:32:03,722; DEBUG:tcapy.data.databasesource: Downloading 2017-05-05 00:00:00 - 2017-05-10 00:00:00 for EURUSD (databasesource.py:3164)\n",
      "2020-03-27 14:32:15,032; WARNING:tcapy.analysis.algos.benchmark: mid not in market data (benchmark.py:107)\n",
      "2020-03-27 14:32:15,033; DEBUG:tcapy.data.volatilecache: Attempting to push ['dukascopy_EURUSD_2017-05-05 00:00:00+00:00_2017-05-10 00:00:00+00:00_market_df_None_comp'] to cache (volatilecache.py:429)\n",
      "2020-03-27 14:32:15,138; DEBUG:tcapy.data.volatilecache: Pandas dataframe of size: ----------- 17.08 MB ----------- in 1 chunk(s) (volatilecache.py:538)\n",
      "2020-03-27 14:32:15,184; DEBUG:tcapy.data.volatilecache: Now pushing ['dukascopy_EURUSD_2017-05-05 00:00:00+00:00_2017-05-10 00:00:00+00:00_market_df_None_comp'] to cache (volatilecache.py:442)\n",
      "2020-03-27 14:32:15,198; DEBUG:tcapy.data.volatilecache: Pushed ['dukascopy_EURUSD_2017-05-05 00:00:00+00:00_2017-05-10 00:00:00+00:00_market_df_None_comp'] to cache (volatilecache.py:460)\n",
      "2020-03-27 14:32:15,199; DEBUG:tcapy.data.volatilecache: Attempting to push ['dukascopy_EURUSD_2017-05-05 00:00:00+00:00_2017-05-10 00:00:00+00:00_market_df_None_comp'] to cache (volatilecache.py:429)\n",
      "2020-03-27 14:32:15,302; DEBUG:tcapy.data.volatilecache: Pandas dataframe of size: ----------- 17.08 MB ----------- in 1 chunk(s) (volatilecache.py:538)\n",
      "2020-03-27 14:32:15,348; DEBUG:tcapy.data.volatilecache: Now pushing ['dukascopy_EURUSD_2017-05-05 00:00:00+00:00_2017-05-10 00:00:00+00:00_market_df_None_comp'] to cache (volatilecache.py:442)\n",
      "2020-03-27 14:32:15,361; DEBUG:tcapy.data.volatilecache: Pushed ['dukascopy_EURUSD_2017-05-05 00:00:00+00:00_2017-05-10 00:00:00+00:00_market_df_None_comp'] to cache (volatilecache.py:460)\n",
      "2020-03-27 14:32:15,362; DEBUG:tcapy.data.volatilecache: Attempting to push ['2020-03-27 14:32:15.362842__df_comp_83268_expiry_'] to cache (volatilecache.py:429)\n",
      "2020-03-27 14:32:15,486; DEBUG:tcapy.data.volatilecache: Pandas dataframe of size: ----------- 17.08 MB ----------- in 1 chunk(s) (volatilecache.py:538)\n",
      "2020-03-27 14:32:15,534; DEBUG:tcapy.data.volatilecache: Now pushing ['2020-03-27 14:32:15.362842__df_comp_83268_expiry_'] to cache (volatilecache.py:442)\n",
      "2020-03-27 14:32:15,547; DEBUG:tcapy.data.volatilecache: Pushed ['2020-03-27 14:32:15.362842__df_comp_83268_expiry_'] to cache (volatilecache.py:460)\n",
      "2020-03-27 14:32:15,549; DEBUG:tcapy.analysis.tcatickerloader: Get trade order holder for EURUSD from 2017-05-05 00:00:00+00:00 - 2017-05-10 00:00:00+00:00 (tcatickerloader.py:360)\n",
      "2020-03-27 14:32:15,591; WARNING:tcapy.data.datafactory: Dataframe empty for ticker USDEUR (datafactory.py:92)\n",
      "2020-03-27 14:32:15,593; DEBUG:tcapy.data.volatilecache: Attempting to get list from cache: ['dukascopy_EURUSD_2017-05-05 00:00:00+00:00_2017-05-10 00:00:00+00:00_market_df_None_comp'] (volatilecache.py:694)\n",
      "2020-03-27 14:32:15,656; DEBUG:tcapy.data.volatilecache: Attempting to push ['2020-03-27 14:32:15.656573__df_comp_11386_expiry_'] to cache (volatilecache.py:429)\n",
      "2020-03-27 14:32:15,660; DEBUG:tcapy.data.volatilecache: Pandas dataframe of size: ----------- 0.02 MB ----------- in 1 chunk(s) (volatilecache.py:538)\n",
      "2020-03-27 14:32:15,662; DEBUG:tcapy.data.volatilecache: Now pushing ['2020-03-27 14:32:15.656573__df_comp_11386_expiry_'] to cache (volatilecache.py:442)\n",
      "2020-03-27 14:32:15,663; DEBUG:tcapy.data.volatilecache: Pushed ['2020-03-27 14:32:15.656573__df_comp_11386_expiry_'] to cache (volatilecache.py:460)\n",
      "2020-03-27 14:32:15,696; WARNING:tcapy.data.datafactory: Dataframe empty for ticker USDEUR (datafactory.py:92)\n",
      "2020-03-27 14:32:15,698; DEBUG:tcapy.data.volatilecache: Attempting to get list from cache: ['dukascopy_EURUSD_2017-05-05 00:00:00+00:00_2017-05-10 00:00:00+00:00_market_df_None_comp'] (volatilecache.py:694)\n",
      "2020-03-27 14:32:15,763; DEBUG:tcapy.data.volatilecache: Attempting to push ['2020-03-27 14:32:15.763171__df_comp_90521_expiry_'] to cache (volatilecache.py:429)\n",
      "2020-03-27 14:32:15,766; DEBUG:tcapy.data.volatilecache: Pandas dataframe of size: ----------- 0.008 MB ----------- in 1 chunk(s) (volatilecache.py:538)\n",
      "2020-03-27 14:32:15,768; DEBUG:tcapy.data.volatilecache: Now pushing ['2020-03-27 14:32:15.763171__df_comp_90521_expiry_'] to cache (volatilecache.py:442)\n",
      "2020-03-27 14:32:15,769; DEBUG:tcapy.data.volatilecache: Pushed ['2020-03-27 14:32:15.763171__df_comp_90521_expiry_'] to cache (volatilecache.py:460)\n",
      "2020-03-27 14:32:15,770; DEBUG:tcapy.data.volatilecache: Attempting to get list from cache: ['2020-03-27 14:32:15.362842__df_comp_83268_expiry_'] (volatilecache.py:694)\n",
      "2020-03-27 14:32:15,791; DEBUG:tcapy.data.volatilecache: Deleted 1 keys (volatilecache.py:730)\n",
      "2020-03-27 14:32:15,826; DEBUG:tcapy.analysis.tcatickerloader: Filter the market date by start/finish date (tcatickerloader.py:717)\n",
      "2020-03-27 14:32:15,837; DEBUG:tcapy.analysis.tcatickerloader: Combine trade/order data (tcatickerloader.py:738)\n",
      "2020-03-27 14:32:15,838; DEBUG:tcapy.data.volatilecache: Attempting to get list from cache: ['2020-03-27 14:32:15.656573__df_comp_11386_expiry_'] (volatilecache.py:694)\n",
      "2020-03-27 14:32:15,840; DEBUG:tcapy.data.volatilecache: Deleted 1 keys (volatilecache.py:730)\n",
      "2020-03-27 14:32:15,844; DEBUG:tcapy.data.volatilecache: Attempting to get list from cache: ['2020-03-27 14:32:15.763171__df_comp_90521_expiry_'] (volatilecache.py:694)\n",
      "2020-03-27 14:32:15,846; DEBUG:tcapy.data.volatilecache: Deleted 1 keys (volatilecache.py:730)\n",
      "2020-03-27 14:32:15,855; DEBUG:tcapy.analysis.tcatickerloader: Filter trades by venue (tcatickerloader.py:436)\n",
      "2020-03-27 14:32:15,857; DEBUG:tcapy.analysis.tcatickerloader: Calculating derived fields and benchmarks (tcatickerloader.py:486)\n",
      "2020-03-27 14:32:15,858; DEBUG:tcapy.analysis.tcatickerloader: Calculating execution fields (tcatickerloader.py:488)\n",
      "2020-03-27 14:32:15,867; DEBUG:tcapy.analysis.tcatickerloader: Calculating benchmarks (tcatickerloader.py:514)\n",
      "2020-03-27 14:32:15,868; DEBUG:tcapy.analysis.tcatickerloader: Calculating BenchmarkSpreadToMid for market data (tcatickerloader.py:522)\n",
      "2020-03-27 14:32:15,902; DEBUG:tcapy.analysis.tcatickerloader: Calculating BenchmarkArrival for trade_df (tcatickerloader.py:530)\n",
      "2020-03-27 14:32:15,908; DEBUG:tcapy.analysis.tcatickerloader: Calculating BenchmarkArrival for order_df (tcatickerloader.py:530)\n",
      "2020-03-27 14:32:15,914; DEBUG:tcapy.analysis.tcatickerloader: Calculating metrics (tcatickerloader.py:539)\n",
      "2020-03-27 14:32:15,915; DEBUG:tcapy.analysis.tcatickerloader: Calculating MetricSlippage for trade_df (tcatickerloader.py:545)\n",
      "2020-03-27 14:32:15,933; DEBUG:tcapy.analysis.tcatickerloader: Calculating MetricSlippage for order_df (tcatickerloader.py:545)\n",
      "2020-03-27 14:32:15,951; DEBUG:tcapy.analysis.tcatickerloader: Completed derived field calculations for EURUSD (tcatickerloader.py:553)\n",
      "2020-03-27 14:32:15,952; DEBUG:tcapy.analysis.tcatickerloaderimpl: Generating downsampled market data for potentional display (tcatickerloaderimpl.py:270)\n",
      "2020-03-27 14:32:15,979; DEBUG:tcapy.analysis.tcatickerloaderimpl: About to join (tcatickerloaderimpl.py:331)\n",
      "2020-03-27 14:32:15,982; DEBUG:tcapy.analysis.tcatickerloaderimpl: Finished joining (tcatickerloaderimpl.py:347)\n",
      "2020-03-27 14:32:15,985; DEBUG:tcapy.analysis.tcatickerloaderimpl: About to join (tcatickerloaderimpl.py:331)\n",
      "2020-03-27 14:32:15,989; DEBUG:tcapy.analysis.tcatickerloaderimpl: Finished joining (tcatickerloaderimpl.py:347)\n",
      "2020-03-27 14:32:16,613; DEBUG:tcapy.data.volatilecache: Attempting to push ['2020-03-27 14:32:16.612646__df_comp_38580_expiry_'] to cache (volatilecache.py:429)\n"
     ]
    },
    {
     "name": "stderr",
     "output_type": "stream",
     "text": [
      "2020-03-27 14:32:16,717; DEBUG:tcapy.data.volatilecache: Pandas dataframe of size: ----------- 18.727 MB ----------- in 1 chunk(s) (volatilecache.py:538)\n",
      "2020-03-27 14:32:16,772; DEBUG:tcapy.data.volatilecache: Now pushing ['2020-03-27 14:32:16.612646__df_comp_38580_expiry_'] to cache (volatilecache.py:442)\n",
      "2020-03-27 14:32:16,791; DEBUG:tcapy.data.volatilecache: Pushed ['2020-03-27 14:32:16.612646__df_comp_38580_expiry_'] to cache (volatilecache.py:460)\n",
      "2020-03-27 14:32:16,793; DEBUG:tcapy.data.volatilecache: Attempting to push ['2020-03-27 14:32:16.793388__df_comp_99078_expiry_', '2020-03-27 14:32:16.793388__df_comp_65833_expiry_', '2020-03-27 14:32:16.793388__df_comp_84704_expiry_', '2020-03-27 14:32:16.793388__df_comp_57075_expiry_', '2020-03-27 14:32:16.793388__df_comp_14413_expiry_', '2020-03-27 14:32:16.793388__fig_comp_33593_expiry_'] to cache (volatilecache.py:429)\n",
      "2020-03-27 14:32:16,797; DEBUG:tcapy.data.volatilecache: Pandas dataframe of size: ----------- 0.011 MB ----------- in 1 chunk(s) (volatilecache.py:538)\n",
      "2020-03-27 14:32:16,801; DEBUG:tcapy.data.volatilecache: Pandas dataframe of size: ----------- 0.008 MB ----------- in 1 chunk(s) (volatilecache.py:538)\n",
      "2020-03-27 14:32:16,805; DEBUG:tcapy.data.volatilecache: Pandas dataframe of size: ----------- 0.035 MB ----------- in 1 chunk(s) (volatilecache.py:538)\n",
      "2020-03-27 14:32:16,809; DEBUG:tcapy.data.volatilecache: Pandas dataframe of size: ----------- 0.035 MB ----------- in 1 chunk(s) (volatilecache.py:538)\n",
      "2020-03-27 14:32:16,811; DEBUG:tcapy.data.volatilecache: Pandas dataframe of size: ----------- 0.025 MB ----------- in 1 chunk(s) (volatilecache.py:538)\n",
      "2020-03-27 14:32:16,956; DEBUG:tcapy.data.volatilecache: Now pushing ['2020-03-27 14:32:16.793388__df_comp_99078_expiry_', '2020-03-27 14:32:16.793388__df_comp_65833_expiry_', '2020-03-27 14:32:16.793388__df_comp_84704_expiry_', '2020-03-27 14:32:16.793388__df_comp_57075_expiry_', '2020-03-27 14:32:16.793388__df_comp_14413_expiry_', '2020-03-27 14:32:16.793388__fig_comp_33593_expiry_'] to cache (volatilecache.py:442)\n",
      "2020-03-27 14:32:16,958; DEBUG:tcapy.data.volatilecache: Pushed ['2020-03-27 14:32:16.793388__df_comp_99078_expiry_', '2020-03-27 14:32:16.793388__df_comp_65833_expiry_', '2020-03-27 14:32:16.793388__df_comp_84704_expiry_', '2020-03-27 14:32:16.793388__df_comp_57075_expiry_', '2020-03-27 14:32:16.793388__df_comp_14413_expiry_', '2020-03-27 14:32:16.793388__fig_comp_33593_expiry_'] to cache (volatilecache.py:460)\n",
      "2020-03-27 14:32:16,962; DEBUG:tcapy.data.volatilecache: Attempting to get list from cache: ['2020-03-27 14:32:16.793388__df_comp_99078_expiry_'] (volatilecache.py:694)\n",
      "2020-03-27 14:32:16,964; DEBUG:tcapy.data.volatilecache: Deleted 1 keys (volatilecache.py:730)\n",
      "2020-03-27 14:32:16,967; DEBUG:tcapy.data.volatilecache: Attempting to get list from cache: ['2020-03-27 14:32:16.793388__df_comp_65833_expiry_'] (volatilecache.py:694)\n",
      "2020-03-27 14:32:16,968; DEBUG:tcapy.data.volatilecache: Deleted 1 keys (volatilecache.py:730)\n",
      "2020-03-27 14:32:16,972; DEBUG:tcapy.data.volatilecache: Attempting to get list from cache: ['2020-03-27 14:32:16.793388__df_comp_84704_expiry_'] (volatilecache.py:694)\n",
      "2020-03-27 14:32:16,973; DEBUG:tcapy.data.volatilecache: Deleted 1 keys (volatilecache.py:730)\n",
      "2020-03-27 14:32:16,976; DEBUG:tcapy.data.volatilecache: Attempting to get list from cache: ['2020-03-27 14:32:16.793388__df_comp_57075_expiry_'] (volatilecache.py:694)\n",
      "2020-03-27 14:32:16,977; DEBUG:tcapy.data.volatilecache: Deleted 1 keys (volatilecache.py:730)\n",
      "2020-03-27 14:32:16,980; DEBUG:tcapy.data.volatilecache: Attempting to get list from cache: ['2020-03-27 14:32:16.793388__df_comp_14413_expiry_'] (volatilecache.py:694)\n",
      "2020-03-27 14:32:16,981; DEBUG:tcapy.data.volatilecache: Deleted 1 keys (volatilecache.py:730)\n",
      "2020-03-27 14:32:16,984; DEBUG:tcapy.data.volatilecache: Attempting to get list from cache: ['2020-03-27 14:32:16.793388__fig_comp_33593_expiry_'] (volatilecache.py:694)\n",
      "2020-03-27 14:32:16,985; DEBUG:tcapy.data.volatilecache: Deleted 1 keys (volatilecache.py:730)\n",
      "2020-03-27 14:32:17,092; DEBUG:tcapy.analysis.tcamarkettradeloader: Finished loading data and calculating metrics on individual tickers (tcamarkettradeloader.py:247)\n",
      "2020-03-27 14:32:17,094; DEBUG:tcapy.analysis.tcamarkettradeloaderimpl: Constructing results form to summarize analysis... (tcamarkettradeloaderimpl.py:69)\n",
      "2020-03-27 14:32:17,131; DEBUG:tcapy.analysis.tcamarkettradeloaderimpl: Now join table results... (tcamarkettradeloaderimpl.py:99)\n",
      "2020-03-27 14:32:17,132; DEBUG:tcapy.analysis.tcamarkettradeloaderimpl: Finished calculating results form and join table results! (tcamarkettradeloaderimpl.py:112)\n"
     ]
    },
    {
     "name": "stdout",
     "output_type": "stream",
     "text": [
      "Wall time: 13.4 s\n"
     ]
    }
   ],
   "source": [
    "%%time\n",
    "\n",
    "volatile_cache.clear_cache()\n",
    "\n",
    "# Dictionary of (mostly) dataframes as output from TCA calculation\n",
    "dict_of_df = tca_engine.calculate_tca(tca_request)"
   ]
  },
  {
   "cell_type": "markdown",
   "metadata": {},
   "source": [
    "### Impact of caching market data\n",
    "\n",
    "The step which involves loading market/trade/order data tends to be slow and IO intensive, hence parallelisation of it can speed it up a lot (which we'll see later). Generally, it tends to be quicker to cut up our database calls into smaller date chunks, and do them in parallel, rather than downloading a massive chunk.\n",
    "\n",
    "By caching these datasets in-memory with Redis, we can avoiding constantly hammering our data source (whether that's external, which is very slow or internal, like a database). Here the computation takes 10 seconds."
   ]
  },
  {
   "cell_type": "code",
   "execution_count": 14,
   "metadata": {
    "ExecuteTime": {
     "end_time": "2020-03-27T14:32:28.587577Z",
     "start_time": "2020-03-27T14:32:17.137811Z"
    }
   },
   "outputs": [
    {
     "name": "stderr",
     "output_type": "stream",
     "text": [
      "2020-03-27 14:32:17,139; INFO:tcapy.analysis.tcaengine: More than 1 ticker specified for TCA detailed computation. Only working on first (tcaengine.py:122)\n",
      "2020-03-27 14:32:17,140; DEBUG:tcapy.analysis.tcamarkettradeloader: Start loading trade/data/computation (tcamarkettradeloader.py:240)\n",
      "2020-03-27 14:32:17,141; DEBUG:tcapy.analysis.tcatickerloaderimpl: Get market and trade/order data for EURUSD from 2017-05-05 00:00:00+00:00 - 2017-05-10 00:00:00+00:00 (tcatickerloaderimpl.py:80)\n",
      "2020-03-27 14:32:17,142; DEBUG:tcapy.data.volatilecache: Attempting to get list from cache: ['dukascopy_EURUSD_2017-05-05 00:00:00+00:00_2017-05-10 00:00:00+00:00_market_df_None_comp'] (volatilecache.py:694)\n",
      "2020-03-27 14:32:17,143; DEBUG:tcapy.data.volatilecache: Attempting to get list from cache: ['dukascopy_EURUSD_2017-05-05 00:00:00+00:00_2017-05-10 00:00:00+00:00_market_df_None_comp'] (volatilecache.py:694)\n",
      "2020-03-27 14:32:17,144; DEBUG:tcapy.data.databasesource: Downloading 2017-05-05 00:00:00 - 2017-05-10 00:00:00 for EURUSD (databasesource.py:3164)\n",
      "2020-03-27 14:32:27,084; WARNING:tcapy.analysis.algos.benchmark: mid not in market data (benchmark.py:107)\n",
      "2020-03-27 14:32:27,085; DEBUG:tcapy.data.volatilecache: Attempting to push ['dukascopy_EURUSD_2017-05-05 00:00:00+00:00_2017-05-10 00:00:00+00:00_market_df_None_comp'] to cache (volatilecache.py:429)\n",
      "2020-03-27 14:32:27,196; DEBUG:tcapy.data.volatilecache: Pandas dataframe of size: ----------- 17.08 MB ----------- in 1 chunk(s) (volatilecache.py:538)\n",
      "2020-03-27 14:32:27,244; DEBUG:tcapy.data.volatilecache: Now pushing ['dukascopy_EURUSD_2017-05-05 00:00:00+00:00_2017-05-10 00:00:00+00:00_market_df_None_comp'] to cache (volatilecache.py:442)\n",
      "2020-03-27 14:32:27,257; DEBUG:tcapy.data.volatilecache: Pushed ['dukascopy_EURUSD_2017-05-05 00:00:00+00:00_2017-05-10 00:00:00+00:00_market_df_None_comp'] to cache (volatilecache.py:460)\n",
      "2020-03-27 14:32:27,258; DEBUG:tcapy.data.volatilecache: Attempting to push ['dukascopy_EURUSD_2017-05-05 00:00:00+00:00_2017-05-10 00:00:00+00:00_market_df_None_comp'] to cache (volatilecache.py:429)\n",
      "2020-03-27 14:32:27,364; DEBUG:tcapy.data.volatilecache: Pandas dataframe of size: ----------- 17.08 MB ----------- in 1 chunk(s) (volatilecache.py:538)\n",
      "2020-03-27 14:32:27,410; DEBUG:tcapy.data.volatilecache: Now pushing ['dukascopy_EURUSD_2017-05-05 00:00:00+00:00_2017-05-10 00:00:00+00:00_market_df_None_comp'] to cache (volatilecache.py:442)\n",
      "2020-03-27 14:32:27,422; DEBUG:tcapy.data.volatilecache: Pushed ['dukascopy_EURUSD_2017-05-05 00:00:00+00:00_2017-05-10 00:00:00+00:00_market_df_None_comp'] to cache (volatilecache.py:460)\n",
      "2020-03-27 14:32:27,423; DEBUG:tcapy.data.volatilecache: Attempting to push ['2020-03-27 14:32:27.423934__df_comp_66514_expiry_'] to cache (volatilecache.py:429)\n",
      "2020-03-27 14:32:27,524; DEBUG:tcapy.data.volatilecache: Pandas dataframe of size: ----------- 17.08 MB ----------- in 1 chunk(s) (volatilecache.py:538)\n",
      "2020-03-27 14:32:27,570; DEBUG:tcapy.data.volatilecache: Now pushing ['2020-03-27 14:32:27.423934__df_comp_66514_expiry_'] to cache (volatilecache.py:442)\n",
      "2020-03-27 14:32:27,584; DEBUG:tcapy.data.volatilecache: Pushed ['2020-03-27 14:32:27.423934__df_comp_66514_expiry_'] to cache (volatilecache.py:460)\n",
      "2020-03-27 14:32:27,586; DEBUG:tcapy.analysis.tcatickerloader: Get trade order holder for EURUSD from 2017-05-05 00:00:00+00:00 - 2017-05-10 00:00:00+00:00 (tcatickerloader.py:360)\n",
      "2020-03-27 14:32:27,628; WARNING:tcapy.data.datafactory: Dataframe empty for ticker USDEUR (datafactory.py:92)\n",
      "2020-03-27 14:32:27,630; DEBUG:tcapy.data.volatilecache: Attempting to get list from cache: ['dukascopy_EURUSD_2017-05-05 00:00:00+00:00_2017-05-10 00:00:00+00:00_market_df_None_comp'] (volatilecache.py:694)\n",
      "2020-03-27 14:32:27,693; DEBUG:tcapy.data.volatilecache: Attempting to push ['2020-03-27 14:32:27.693924__df_comp_87014_expiry_'] to cache (volatilecache.py:429)\n",
      "2020-03-27 14:32:27,697; DEBUG:tcapy.data.volatilecache: Pandas dataframe of size: ----------- 0.02 MB ----------- in 1 chunk(s) (volatilecache.py:538)\n",
      "2020-03-27 14:32:27,700; DEBUG:tcapy.data.volatilecache: Now pushing ['2020-03-27 14:32:27.693924__df_comp_87014_expiry_'] to cache (volatilecache.py:442)\n",
      "2020-03-27 14:32:27,701; DEBUG:tcapy.data.volatilecache: Pushed ['2020-03-27 14:32:27.693924__df_comp_87014_expiry_'] to cache (volatilecache.py:460)\n",
      "2020-03-27 14:32:27,735; WARNING:tcapy.data.datafactory: Dataframe empty for ticker USDEUR (datafactory.py:92)\n",
      "2020-03-27 14:32:27,737; DEBUG:tcapy.data.volatilecache: Attempting to get list from cache: ['dukascopy_EURUSD_2017-05-05 00:00:00+00:00_2017-05-10 00:00:00+00:00_market_df_None_comp'] (volatilecache.py:694)\n",
      "2020-03-27 14:32:27,801; DEBUG:tcapy.data.volatilecache: Attempting to push ['2020-03-27 14:32:27.801140__df_comp_98205_expiry_'] to cache (volatilecache.py:429)\n",
      "2020-03-27 14:32:27,804; DEBUG:tcapy.data.volatilecache: Pandas dataframe of size: ----------- 0.008 MB ----------- in 1 chunk(s) (volatilecache.py:538)\n",
      "2020-03-27 14:32:27,806; DEBUG:tcapy.data.volatilecache: Now pushing ['2020-03-27 14:32:27.801140__df_comp_98205_expiry_'] to cache (volatilecache.py:442)\n",
      "2020-03-27 14:32:27,807; DEBUG:tcapy.data.volatilecache: Pushed ['2020-03-27 14:32:27.801140__df_comp_98205_expiry_'] to cache (volatilecache.py:460)\n",
      "2020-03-27 14:32:27,808; DEBUG:tcapy.data.volatilecache: Attempting to get list from cache: ['2020-03-27 14:32:27.423934__df_comp_66514_expiry_'] (volatilecache.py:694)\n",
      "2020-03-27 14:32:27,830; DEBUG:tcapy.data.volatilecache: Deleted 1 keys (volatilecache.py:730)\n",
      "2020-03-27 14:32:27,865; DEBUG:tcapy.analysis.tcatickerloader: Filter the market date by start/finish date (tcatickerloader.py:717)\n",
      "2020-03-27 14:32:27,876; DEBUG:tcapy.analysis.tcatickerloader: Combine trade/order data (tcatickerloader.py:738)\n",
      "2020-03-27 14:32:27,876; DEBUG:tcapy.data.volatilecache: Attempting to get list from cache: ['2020-03-27 14:32:27.693924__df_comp_87014_expiry_'] (volatilecache.py:694)\n",
      "2020-03-27 14:32:27,878; DEBUG:tcapy.data.volatilecache: Deleted 1 keys (volatilecache.py:730)\n",
      "2020-03-27 14:32:27,881; DEBUG:tcapy.data.volatilecache: Attempting to get list from cache: ['2020-03-27 14:32:27.801140__df_comp_98205_expiry_'] (volatilecache.py:694)\n",
      "2020-03-27 14:32:27,883; DEBUG:tcapy.data.volatilecache: Deleted 1 keys (volatilecache.py:730)\n",
      "2020-03-27 14:32:27,889; DEBUG:tcapy.analysis.tcatickerloader: Filter trades by venue (tcatickerloader.py:436)\n",
      "2020-03-27 14:32:27,891; DEBUG:tcapy.analysis.tcatickerloader: Calculating derived fields and benchmarks (tcatickerloader.py:486)\n",
      "2020-03-27 14:32:27,892; DEBUG:tcapy.analysis.tcatickerloader: Calculating execution fields (tcatickerloader.py:488)\n",
      "2020-03-27 14:32:27,900; DEBUG:tcapy.analysis.tcatickerloader: Calculating benchmarks (tcatickerloader.py:514)\n",
      "2020-03-27 14:32:27,901; DEBUG:tcapy.analysis.tcatickerloader: Calculating BenchmarkSpreadToMid for market data (tcatickerloader.py:522)\n",
      "2020-03-27 14:32:27,926; DEBUG:tcapy.analysis.tcatickerloader: Calculating BenchmarkArrival for trade_df (tcatickerloader.py:530)\n",
      "2020-03-27 14:32:27,932; DEBUG:tcapy.analysis.tcatickerloader: Calculating BenchmarkArrival for order_df (tcatickerloader.py:530)\n",
      "2020-03-27 14:32:27,936; DEBUG:tcapy.analysis.tcatickerloader: Calculating metrics (tcatickerloader.py:539)\n",
      "2020-03-27 14:32:27,937; DEBUG:tcapy.analysis.tcatickerloader: Calculating MetricSlippage for trade_df (tcatickerloader.py:545)\n",
      "2020-03-27 14:32:27,956; DEBUG:tcapy.analysis.tcatickerloader: Calculating MetricSlippage for order_df (tcatickerloader.py:545)\n",
      "2020-03-27 14:32:27,974; DEBUG:tcapy.analysis.tcatickerloader: Completed derived field calculations for EURUSD (tcatickerloader.py:553)\n",
      "2020-03-27 14:32:27,975; DEBUG:tcapy.analysis.tcatickerloaderimpl: Generating downsampled market data for potentional display (tcatickerloaderimpl.py:270)\n",
      "2020-03-27 14:32:28,000; DEBUG:tcapy.analysis.tcatickerloaderimpl: About to join (tcatickerloaderimpl.py:331)\n",
      "2020-03-27 14:32:28,003; DEBUG:tcapy.analysis.tcatickerloaderimpl: Finished joining (tcatickerloaderimpl.py:347)\n",
      "2020-03-27 14:32:28,006; DEBUG:tcapy.analysis.tcatickerloaderimpl: About to join (tcatickerloaderimpl.py:331)\n"
     ]
    },
    {
     "name": "stderr",
     "output_type": "stream",
     "text": [
      "2020-03-27 14:32:28,010; DEBUG:tcapy.analysis.tcatickerloaderimpl: Finished joining (tcatickerloaderimpl.py:347)\n",
      "2020-03-27 14:32:28,171; DEBUG:tcapy.data.volatilecache: Attempting to push ['2020-03-27 14:32:28.171152__df_comp_96027_expiry_'] to cache (volatilecache.py:429)\n",
      "2020-03-27 14:32:28,289; DEBUG:tcapy.data.volatilecache: Pandas dataframe of size: ----------- 18.727 MB ----------- in 1 chunk(s) (volatilecache.py:538)\n",
      "2020-03-27 14:32:28,345; DEBUG:tcapy.data.volatilecache: Now pushing ['2020-03-27 14:32:28.171152__df_comp_96027_expiry_'] to cache (volatilecache.py:442)\n",
      "2020-03-27 14:32:28,362; DEBUG:tcapy.data.volatilecache: Pushed ['2020-03-27 14:32:28.171152__df_comp_96027_expiry_'] to cache (volatilecache.py:460)\n",
      "2020-03-27 14:32:28,364; DEBUG:tcapy.data.volatilecache: Attempting to push ['2020-03-27 14:32:28.364541__df_comp_64815_expiry_', '2020-03-27 14:32:28.364541__df_comp_52650_expiry_', '2020-03-27 14:32:28.364541__df_comp_12758_expiry_', '2020-03-27 14:32:28.364541__df_comp_92493_expiry_', '2020-03-27 14:32:28.364541__df_comp_52536_expiry_', '2020-03-27 14:32:28.364541__fig_comp_19979_expiry_'] to cache (volatilecache.py:429)\n",
      "2020-03-27 14:32:28,368; DEBUG:tcapy.data.volatilecache: Pandas dataframe of size: ----------- 0.011 MB ----------- in 1 chunk(s) (volatilecache.py:538)\n",
      "2020-03-27 14:32:28,372; DEBUG:tcapy.data.volatilecache: Pandas dataframe of size: ----------- 0.008 MB ----------- in 1 chunk(s) (volatilecache.py:538)\n",
      "2020-03-27 14:32:28,376; DEBUG:tcapy.data.volatilecache: Pandas dataframe of size: ----------- 0.035 MB ----------- in 1 chunk(s) (volatilecache.py:538)\n",
      "2020-03-27 14:32:28,380; DEBUG:tcapy.data.volatilecache: Pandas dataframe of size: ----------- 0.035 MB ----------- in 1 chunk(s) (volatilecache.py:538)\n",
      "2020-03-27 14:32:28,384; DEBUG:tcapy.data.volatilecache: Pandas dataframe of size: ----------- 0.025 MB ----------- in 1 chunk(s) (volatilecache.py:538)\n",
      "2020-03-27 14:32:28,403; DEBUG:tcapy.data.volatilecache: Now pushing ['2020-03-27 14:32:28.364541__df_comp_64815_expiry_', '2020-03-27 14:32:28.364541__df_comp_52650_expiry_', '2020-03-27 14:32:28.364541__df_comp_12758_expiry_', '2020-03-27 14:32:28.364541__df_comp_92493_expiry_', '2020-03-27 14:32:28.364541__df_comp_52536_expiry_', '2020-03-27 14:32:28.364541__fig_comp_19979_expiry_'] to cache (volatilecache.py:442)\n",
      "2020-03-27 14:32:28,405; DEBUG:tcapy.data.volatilecache: Pushed ['2020-03-27 14:32:28.364541__df_comp_64815_expiry_', '2020-03-27 14:32:28.364541__df_comp_52650_expiry_', '2020-03-27 14:32:28.364541__df_comp_12758_expiry_', '2020-03-27 14:32:28.364541__df_comp_92493_expiry_', '2020-03-27 14:32:28.364541__df_comp_52536_expiry_', '2020-03-27 14:32:28.364541__fig_comp_19979_expiry_'] to cache (volatilecache.py:460)\n",
      "2020-03-27 14:32:28,409; DEBUG:tcapy.data.volatilecache: Attempting to get list from cache: ['2020-03-27 14:32:28.364541__df_comp_64815_expiry_'] (volatilecache.py:694)\n",
      "2020-03-27 14:32:28,411; DEBUG:tcapy.data.volatilecache: Deleted 1 keys (volatilecache.py:730)\n",
      "2020-03-27 14:32:28,414; DEBUG:tcapy.data.volatilecache: Attempting to get list from cache: ['2020-03-27 14:32:28.364541__df_comp_52650_expiry_'] (volatilecache.py:694)\n",
      "2020-03-27 14:32:28,416; DEBUG:tcapy.data.volatilecache: Deleted 1 keys (volatilecache.py:730)\n",
      "2020-03-27 14:32:28,420; DEBUG:tcapy.data.volatilecache: Attempting to get list from cache: ['2020-03-27 14:32:28.364541__df_comp_12758_expiry_'] (volatilecache.py:694)\n",
      "2020-03-27 14:32:28,422; DEBUG:tcapy.data.volatilecache: Deleted 1 keys (volatilecache.py:730)\n",
      "2020-03-27 14:32:28,424; DEBUG:tcapy.data.volatilecache: Attempting to get list from cache: ['2020-03-27 14:32:28.364541__df_comp_92493_expiry_'] (volatilecache.py:694)\n",
      "2020-03-27 14:32:28,426; DEBUG:tcapy.data.volatilecache: Deleted 1 keys (volatilecache.py:730)\n",
      "2020-03-27 14:32:28,427; DEBUG:tcapy.data.volatilecache: Attempting to get list from cache: ['2020-03-27 14:32:28.364541__df_comp_52536_expiry_'] (volatilecache.py:694)\n",
      "2020-03-27 14:32:28,429; DEBUG:tcapy.data.volatilecache: Deleted 1 keys (volatilecache.py:730)\n",
      "2020-03-27 14:32:28,431; DEBUG:tcapy.data.volatilecache: Attempting to get list from cache: ['2020-03-27 14:32:28.364541__fig_comp_19979_expiry_'] (volatilecache.py:694)\n",
      "2020-03-27 14:32:28,433; DEBUG:tcapy.data.volatilecache: Deleted 1 keys (volatilecache.py:730)\n",
      "2020-03-27 14:32:28,544; DEBUG:tcapy.analysis.tcamarkettradeloader: Finished loading data and calculating metrics on individual tickers (tcamarkettradeloader.py:247)\n",
      "2020-03-27 14:32:28,546; DEBUG:tcapy.analysis.tcamarkettradeloaderimpl: Constructing results form to summarize analysis... (tcamarkettradeloaderimpl.py:69)\n",
      "2020-03-27 14:32:28,582; DEBUG:tcapy.analysis.tcamarkettradeloaderimpl: Now join table results... (tcamarkettradeloaderimpl.py:99)\n",
      "2020-03-27 14:32:28,583; DEBUG:tcapy.analysis.tcamarkettradeloaderimpl: Finished calculating results form and join table results! (tcamarkettradeloaderimpl.py:112)\n"
     ]
    },
    {
     "name": "stdout",
     "output_type": "stream",
     "text": [
      "Wall time: 11.4 s\n"
     ]
    }
   ],
   "source": [
    "%%time\n",
    "volatile_cache.clear_cache()\n",
    "\n",
    "# Dictionary of (mostly) dataframes as output from TCA calculation\n",
    "dict_of_df = tca_engine.calculate_tca(tca_request)"
   ]
  },
  {
   "cell_type": "markdown",
   "metadata": {},
   "source": [
    "If caching it enabled, and we run it again, we see the computation only takes around 1 seconds. This contrasts to about 10 seconds the first time around."
   ]
  },
  {
   "cell_type": "code",
   "execution_count": 15,
   "metadata": {
    "ExecuteTime": {
     "end_time": "2020-03-27T14:32:29.653459Z",
     "start_time": "2020-03-27T14:32:28.588553Z"
    },
    "scrolled": false
   },
   "outputs": [
    {
     "name": "stderr",
     "output_type": "stream",
     "text": [
      "2020-03-27 14:32:28,589; INFO:tcapy.analysis.tcaengine: More than 1 ticker specified for TCA detailed computation. Only working on first (tcaengine.py:122)\n",
      "2020-03-27 14:32:28,590; DEBUG:tcapy.analysis.tcamarkettradeloader: Start loading trade/data/computation (tcamarkettradeloader.py:240)\n",
      "2020-03-27 14:32:28,591; DEBUG:tcapy.analysis.tcatickerloaderimpl: Get market and trade/order data for EURUSD from 2017-05-05 00:00:00+00:00 - 2017-05-10 00:00:00+00:00 (tcatickerloaderimpl.py:80)\n",
      "2020-03-27 14:32:28,592; DEBUG:tcapy.data.volatilecache: Attempting to get list from cache: ['dukascopy_EURUSD_2017-05-05 00:00:00+00:00_2017-05-10 00:00:00+00:00_market_df_None_comp'] (volatilecache.py:694)\n",
      "2020-03-27 14:32:28,652; DEBUG:tcapy.analysis.tcatickerloader: Get trade order holder for EURUSD from 2017-05-05 00:00:00+00:00 - 2017-05-10 00:00:00+00:00 (tcatickerloader.py:360)\n",
      "2020-03-27 14:32:28,694; WARNING:tcapy.data.datafactory: Dataframe empty for ticker USDEUR (datafactory.py:92)\n",
      "2020-03-27 14:32:28,696; DEBUG:tcapy.data.volatilecache: Attempting to get list from cache: ['dukascopy_EURUSD_2017-05-05 00:00:00+00:00_2017-05-10 00:00:00+00:00_market_df_None_comp'] (volatilecache.py:694)\n",
      "2020-03-27 14:32:28,759; DEBUG:tcapy.data.volatilecache: Attempting to push ['2020-03-27 14:32:28.759745__df_comp_36918_expiry_'] to cache (volatilecache.py:429)\n",
      "2020-03-27 14:32:28,764; DEBUG:tcapy.data.volatilecache: Pandas dataframe of size: ----------- 0.02 MB ----------- in 1 chunk(s) (volatilecache.py:538)\n",
      "2020-03-27 14:32:28,766; DEBUG:tcapy.data.volatilecache: Now pushing ['2020-03-27 14:32:28.759745__df_comp_36918_expiry_'] to cache (volatilecache.py:442)\n",
      "2020-03-27 14:32:28,768; DEBUG:tcapy.data.volatilecache: Pushed ['2020-03-27 14:32:28.759745__df_comp_36918_expiry_'] to cache (volatilecache.py:460)\n",
      "2020-03-27 14:32:28,802; WARNING:tcapy.data.datafactory: Dataframe empty for ticker USDEUR (datafactory.py:92)\n",
      "2020-03-27 14:32:28,804; DEBUG:tcapy.data.volatilecache: Attempting to get list from cache: ['dukascopy_EURUSD_2017-05-05 00:00:00+00:00_2017-05-10 00:00:00+00:00_market_df_None_comp'] (volatilecache.py:694)\n",
      "2020-03-27 14:32:28,872; DEBUG:tcapy.data.volatilecache: Attempting to push ['2020-03-27 14:32:28.872949__df_comp_84412_expiry_'] to cache (volatilecache.py:429)\n",
      "2020-03-27 14:32:28,876; DEBUG:tcapy.data.volatilecache: Pandas dataframe of size: ----------- 0.008 MB ----------- in 1 chunk(s) (volatilecache.py:538)\n",
      "2020-03-27 14:32:28,878; DEBUG:tcapy.data.volatilecache: Now pushing ['2020-03-27 14:32:28.872949__df_comp_84412_expiry_'] to cache (volatilecache.py:442)\n",
      "2020-03-27 14:32:28,879; DEBUG:tcapy.data.volatilecache: Pushed ['2020-03-27 14:32:28.872949__df_comp_84412_expiry_'] to cache (volatilecache.py:460)\n",
      "2020-03-27 14:32:28,880; DEBUG:tcapy.data.volatilecache: Attempting to get list from cache: ['dukascopy_EURUSD_2017-05-05 00:00:00+00:00_2017-05-10 00:00:00+00:00_market_df_None_comp'] (volatilecache.py:694)\n",
      "2020-03-27 14:32:28,938; DEBUG:tcapy.analysis.tcatickerloader: Filter the market date by start/finish date (tcatickerloader.py:717)\n",
      "2020-03-27 14:32:28,948; DEBUG:tcapy.analysis.tcatickerloader: Combine trade/order data (tcatickerloader.py:738)\n",
      "2020-03-27 14:32:28,949; DEBUG:tcapy.data.volatilecache: Attempting to get list from cache: ['2020-03-27 14:32:28.759745__df_comp_36918_expiry_'] (volatilecache.py:694)\n",
      "2020-03-27 14:32:28,950; DEBUG:tcapy.data.volatilecache: Deleted 1 keys (volatilecache.py:730)\n",
      "2020-03-27 14:32:28,953; DEBUG:tcapy.data.volatilecache: Attempting to get list from cache: ['2020-03-27 14:32:28.872949__df_comp_84412_expiry_'] (volatilecache.py:694)\n",
      "2020-03-27 14:32:28,955; DEBUG:tcapy.data.volatilecache: Deleted 1 keys (volatilecache.py:730)\n",
      "2020-03-27 14:32:28,961; DEBUG:tcapy.analysis.tcatickerloader: Filter trades by venue (tcatickerloader.py:436)\n",
      "2020-03-27 14:32:28,963; DEBUG:tcapy.analysis.tcatickerloader: Calculating derived fields and benchmarks (tcatickerloader.py:486)\n",
      "2020-03-27 14:32:28,964; DEBUG:tcapy.analysis.tcatickerloader: Calculating execution fields (tcatickerloader.py:488)\n",
      "2020-03-27 14:32:28,973; DEBUG:tcapy.analysis.tcatickerloader: Calculating benchmarks (tcatickerloader.py:514)\n",
      "2020-03-27 14:32:28,974; DEBUG:tcapy.analysis.tcatickerloader: Calculating BenchmarkSpreadToMid for market data (tcatickerloader.py:522)\n",
      "2020-03-27 14:32:28,998; DEBUG:tcapy.analysis.tcatickerloader: Calculating BenchmarkArrival for trade_df (tcatickerloader.py:530)\n",
      "2020-03-27 14:32:29,004; DEBUG:tcapy.analysis.tcatickerloader: Calculating BenchmarkArrival for order_df (tcatickerloader.py:530)\n",
      "2020-03-27 14:32:29,009; DEBUG:tcapy.analysis.tcatickerloader: Calculating metrics (tcatickerloader.py:539)\n",
      "2020-03-27 14:32:29,010; DEBUG:tcapy.analysis.tcatickerloader: Calculating MetricSlippage for trade_df (tcatickerloader.py:545)\n",
      "2020-03-27 14:32:29,029; DEBUG:tcapy.analysis.tcatickerloader: Calculating MetricSlippage for order_df (tcatickerloader.py:545)\n",
      "2020-03-27 14:32:29,046; DEBUG:tcapy.analysis.tcatickerloader: Completed derived field calculations for EURUSD (tcatickerloader.py:553)\n",
      "2020-03-27 14:32:29,047; DEBUG:tcapy.analysis.tcatickerloaderimpl: Generating downsampled market data for potentional display (tcatickerloaderimpl.py:270)\n",
      "2020-03-27 14:32:29,073; DEBUG:tcapy.analysis.tcatickerloaderimpl: About to join (tcatickerloaderimpl.py:331)\n",
      "2020-03-27 14:32:29,077; DEBUG:tcapy.analysis.tcatickerloaderimpl: Finished joining (tcatickerloaderimpl.py:347)\n",
      "2020-03-27 14:32:29,080; DEBUG:tcapy.analysis.tcatickerloaderimpl: About to join (tcatickerloaderimpl.py:331)\n",
      "2020-03-27 14:32:29,083; DEBUG:tcapy.analysis.tcatickerloaderimpl: Finished joining (tcatickerloaderimpl.py:347)\n",
      "2020-03-27 14:32:29,251; DEBUG:tcapy.data.volatilecache: Attempting to push ['2020-03-27 14:32:29.251699__df_comp_15334_expiry_'] to cache (volatilecache.py:429)\n",
      "2020-03-27 14:32:29,359; DEBUG:tcapy.data.volatilecache: Pandas dataframe of size: ----------- 18.727 MB ----------- in 1 chunk(s) (volatilecache.py:538)\n",
      "2020-03-27 14:32:29,414; DEBUG:tcapy.data.volatilecache: Now pushing ['2020-03-27 14:32:29.251699__df_comp_15334_expiry_'] to cache (volatilecache.py:442)\n",
      "2020-03-27 14:32:29,433; DEBUG:tcapy.data.volatilecache: Pushed ['2020-03-27 14:32:29.251699__df_comp_15334_expiry_'] to cache (volatilecache.py:460)\n",
      "2020-03-27 14:32:29,434; DEBUG:tcapy.data.volatilecache: Attempting to push ['2020-03-27 14:32:29.434044__df_comp_69254_expiry_', '2020-03-27 14:32:29.434044__df_comp_45004_expiry_', '2020-03-27 14:32:29.434044__df_comp_8498_expiry_', '2020-03-27 14:32:29.434044__df_comp_2022_expiry_', '2020-03-27 14:32:29.434044__df_comp_45247_expiry_', '2020-03-27 14:32:29.434044__fig_comp_68527_expiry_'] to cache (volatilecache.py:429)\n",
      "2020-03-27 14:32:29,437; DEBUG:tcapy.data.volatilecache: Pandas dataframe of size: ----------- 0.011 MB ----------- in 1 chunk(s) (volatilecache.py:538)\n",
      "2020-03-27 14:32:29,442; DEBUG:tcapy.data.volatilecache: Pandas dataframe of size: ----------- 0.008 MB ----------- in 1 chunk(s) (volatilecache.py:538)\n",
      "2020-03-27 14:32:29,445; DEBUG:tcapy.data.volatilecache: Pandas dataframe of size: ----------- 0.035 MB ----------- in 1 chunk(s) (volatilecache.py:538)\n",
      "2020-03-27 14:32:29,449; DEBUG:tcapy.data.volatilecache: Pandas dataframe of size: ----------- 0.035 MB ----------- in 1 chunk(s) (volatilecache.py:538)\n",
      "2020-03-27 14:32:29,453; DEBUG:tcapy.data.volatilecache: Pandas dataframe of size: ----------- 0.025 MB ----------- in 1 chunk(s) (volatilecache.py:538)\n",
      "2020-03-27 14:32:29,472; DEBUG:tcapy.data.volatilecache: Now pushing ['2020-03-27 14:32:29.434044__df_comp_69254_expiry_', '2020-03-27 14:32:29.434044__df_comp_45004_expiry_', '2020-03-27 14:32:29.434044__df_comp_8498_expiry_', '2020-03-27 14:32:29.434044__df_comp_2022_expiry_', '2020-03-27 14:32:29.434044__df_comp_45247_expiry_', '2020-03-27 14:32:29.434044__fig_comp_68527_expiry_'] to cache (volatilecache.py:442)\n",
      "2020-03-27 14:32:29,474; DEBUG:tcapy.data.volatilecache: Pushed ['2020-03-27 14:32:29.434044__df_comp_69254_expiry_', '2020-03-27 14:32:29.434044__df_comp_45004_expiry_', '2020-03-27 14:32:29.434044__df_comp_8498_expiry_', '2020-03-27 14:32:29.434044__df_comp_2022_expiry_', '2020-03-27 14:32:29.434044__df_comp_45247_expiry_', '2020-03-27 14:32:29.434044__fig_comp_68527_expiry_'] to cache (volatilecache.py:460)\n"
     ]
    },
    {
     "name": "stderr",
     "output_type": "stream",
     "text": [
      "2020-03-27 14:32:29,478; DEBUG:tcapy.data.volatilecache: Attempting to get list from cache: ['2020-03-27 14:32:29.434044__df_comp_69254_expiry_'] (volatilecache.py:694)\n",
      "2020-03-27 14:32:29,480; DEBUG:tcapy.data.volatilecache: Deleted 1 keys (volatilecache.py:730)\n",
      "2020-03-27 14:32:29,484; DEBUG:tcapy.data.volatilecache: Attempting to get list from cache: ['2020-03-27 14:32:29.434044__df_comp_45004_expiry_'] (volatilecache.py:694)\n",
      "2020-03-27 14:32:29,485; DEBUG:tcapy.data.volatilecache: Deleted 1 keys (volatilecache.py:730)\n",
      "2020-03-27 14:32:29,489; DEBUG:tcapy.data.volatilecache: Attempting to get list from cache: ['2020-03-27 14:32:29.434044__df_comp_8498_expiry_'] (volatilecache.py:694)\n",
      "2020-03-27 14:32:29,490; DEBUG:tcapy.data.volatilecache: Deleted 1 keys (volatilecache.py:730)\n",
      "2020-03-27 14:32:29,493; DEBUG:tcapy.data.volatilecache: Attempting to get list from cache: ['2020-03-27 14:32:29.434044__df_comp_2022_expiry_'] (volatilecache.py:694)\n",
      "2020-03-27 14:32:29,495; DEBUG:tcapy.data.volatilecache: Deleted 1 keys (volatilecache.py:730)\n",
      "2020-03-27 14:32:29,497; DEBUG:tcapy.data.volatilecache: Attempting to get list from cache: ['2020-03-27 14:32:29.434044__df_comp_45247_expiry_'] (volatilecache.py:694)\n",
      "2020-03-27 14:32:29,498; DEBUG:tcapy.data.volatilecache: Deleted 1 keys (volatilecache.py:730)\n",
      "2020-03-27 14:32:29,501; DEBUG:tcapy.data.volatilecache: Attempting to get list from cache: ['2020-03-27 14:32:29.434044__fig_comp_68527_expiry_'] (volatilecache.py:694)\n",
      "2020-03-27 14:32:29,502; DEBUG:tcapy.data.volatilecache: Deleted 1 keys (volatilecache.py:730)\n",
      "2020-03-27 14:32:29,611; DEBUG:tcapy.analysis.tcamarkettradeloader: Finished loading data and calculating metrics on individual tickers (tcamarkettradeloader.py:247)\n",
      "2020-03-27 14:32:29,612; DEBUG:tcapy.analysis.tcamarkettradeloaderimpl: Constructing results form to summarize analysis... (tcamarkettradeloaderimpl.py:69)\n",
      "2020-03-27 14:32:29,648; DEBUG:tcapy.analysis.tcamarkettradeloaderimpl: Now join table results... (tcamarkettradeloaderimpl.py:99)\n",
      "2020-03-27 14:32:29,649; DEBUG:tcapy.analysis.tcamarkettradeloaderimpl: Finished calculating results form and join table results! (tcamarkettradeloaderimpl.py:112)\n"
     ]
    },
    {
     "name": "stdout",
     "output_type": "stream",
     "text": [
      "Wall time: 1.06 s\n"
     ]
    }
   ],
   "source": [
    "%%time\n",
    "\n",
    "# Dictionary of (mostly) dataframes as output from TCA calculation\n",
    "dict_of_df = tca_engine.calculate_tca(tca_request)"
   ]
  },
  {
   "cell_type": "markdown",
   "metadata": {},
   "source": [
    "### Interpreting the TCA computation output\n",
    "\n",
    "Let's take a look at the dictionary returned."
   ]
  },
  {
   "cell_type": "code",
   "execution_count": 16,
   "metadata": {
    "ExecuteTime": {
     "end_time": "2020-03-27T14:32:29.658845Z",
     "start_time": "2020-03-27T14:32:29.654944Z"
    }
   },
   "outputs": [
    {
     "data": {
      "text/plain": [
       "odict_keys(['trade_df', 'order_df', 'sparse_market_trade_df', 'sparse_market_order_df', 'market_df_downsampled', 'candlestick_fig', 'timeline_trade_df_slippage_by_all', 'timeline_order_df_slippage_by_all', 'market_df'])"
      ]
     },
     "execution_count": 16,
     "metadata": {},
     "output_type": "execute_result"
    }
   ],
   "source": [
    "dict_of_df.keys()"
   ]
  },
  {
   "cell_type": "markdown",
   "metadata": {},
   "source": [
    "We explain what each item in the dictionary is below:\n",
    "\n",
    "* for further analysis\n",
    "    * `trade_df` - DataFrame of trades (with added calculated fields like slippage, arrival price etc.)\n",
    "    * `order_df` - DataFrame of orders (with added calculated fields like slippage, arrival price etc.)\n",
    "* for plotting\n",
    "    * `sparse_market_trade_df` - DataFrame with market data and trades\n",
    "    * `sparse_market_order_df` - DataFrame with market data and orders\n",
    "    * `market_df_downsampled` - DataFrame with downsampled market data\n",
    "    * `candlestick_fig` - Plotly JSON of the market data as candlesticks\n",
    "* aggregated data\n",
    "    * `timeline_trade_df_slippage_by_all` - a timeline of the slippage for the trades\n",
    "    * `timeline_order_df_slippage_by_all` - a timeline of the slippage for the orders"
   ]
  },
  {
   "cell_type": "markdown",
   "metadata": {},
   "source": [
    "We can plot the timeline of the slippage by day. During this period the slippage has been between 0.2 and 0.05 basis points (bp), which seems reasonable for EUR/USD."
   ]
  },
  {
   "cell_type": "code",
   "execution_count": 17,
   "metadata": {
    "ExecuteTime": {
     "end_time": "2020-03-27T14:32:40.572750Z",
     "start_time": "2020-03-27T14:32:29.659822Z"
    }
   },
   "outputs": [
    {
     "data": {
      "image/png": "[encoded data removed]"
     },
     "metadata": {},
     "output_type": "display_data"
    }
   ],
   "source": [
    "style.title = 'Timeline of slippage by day (bp)'\n",
    "chart.plot(dict_of_df['timeline_trade_df_slippage_by_all'], engine='plotly', style=style)"
   ]
  },
  {
   "cell_type": "markdown",
   "metadata": {},
   "source": [
    "### Explaining output of tcapy calculation in trade/order DataFrames\n",
    "\n",
    "Let's also take a look at the returned `trade_df` DataFrame. Most of the fields are the same, but there now additional fields fields calculated by tcapy. Note, these will vary depending on which `Metric` and `Benchmark` objects you specify in the `TCARequest`:\n",
    "* `arrival` - arrival price from the benchmark at time of the order/just before\n",
    "* `slippage_benchmark` - difference between mid price from the market data, just before/at trade\n",
    "* `spread_to_benchmark` - differnce to the bid (for sells) and to the ask (for buys) - if this data is available\n",
    "* `slippage` - difference between `executed_price` and benchmark\n",
    "* `slippage_anomalous` - 1 if the slippage is beyond a certain \n",
    "\n",
    "We also have fields for the notional in reporting currency (here `USD`) which are autogenerated from the market data combined with the trade data. You can specify you own reporting currency in `Constants`. It is useful to have this field, if you want to calculate total trading costs across many different currency pairs later."
   ]
  },
  {
   "cell_type": "markdown",
   "metadata": {},
   "source": [
    "### Using TCAResults class\n",
    "\n",
    "We can use a higher level `TCAResults` object to simplify the output of the TCA calculation. Here we create the Plotly JSON for all the charts which have been requested."
   ]
  },
  {
   "cell_type": "code",
   "execution_count": 19,
   "metadata": {
    "ExecuteTime": {
     "end_time": "2020-03-27T14:32:41.246819Z",
     "start_time": "2020-03-27T14:32:40.594221Z"
    }
   },
   "outputs": [
    {
     "name": "stderr",
     "output_type": "stream",
     "text": [
      "2020-03-27 14:32:40,840; DEBUG:tcapy.vis.displaylisteners: Plotting main timeline 2583 (displaylisteners.py:855)\n",
      "2020-03-27 14:32:41,026; DEBUG:tcapy.vis.displaylisteners: Rendered plot 2583 and  (displaylisteners.py:865)\n",
      "2020-03-27 14:32:41,028; DEBUG:tcapy.vis.displaylisteners: Plotting main timeline 2576 (displaylisteners.py:855)\n",
      "2020-03-27 14:32:41,242; DEBUG:tcapy.vis.displaylisteners: Rendered plot 2576 and  (displaylisteners.py:865)\n"
     ]
    }
   ],
   "source": [
    "tca_results = TCAResults(dict_of_df, tca_request, chart_width=chart_width, chart_height=chart_height)\n",
    "tca_results.render_computation_charts()"
   ]
  },
  {
   "cell_type": "markdown",
   "metadata": {},
   "source": [
    "Let's get the trade data from the `TCAResults` objects."
   ]
  },
  {
   "cell_type": "code",
   "execution_count": 20,
   "metadata": {
    "ExecuteTime": {
     "end_time": "2020-03-27T14:32:41.270451Z",
     "start_time": "2020-03-27T14:32:41.248770Z"
    }
   },
   "outputs": [
    {
     "data": {
      "text/html": [
       "<div>\n",
       "<style scoped>\n",
       "    .dataframe tbody tr th:only-of-type {\n",
       "        vertical-align: middle;\n",
       "    }\n",
       "\n",
       "    .dataframe tbody tr th {\n",
       "        vertical-align: top;\n",
       "    }\n",
       "\n",
       "    .dataframe thead th {\n",
       "        text-align: right;\n",
       "    }\n",
       "</style>\n",
       "<table border=\"1\" class=\"dataframe\">\n",
       "  <thead>\n",
       "    <tr style=\"text-align: right;\">\n",
       "      <th></th>\n",
       "      <th>account_id</th>\n",
       "      <th>algo_id</th>\n",
       "      <th>algo_settings</th>\n",
       "      <th>ancestor_pointer_id</th>\n",
       "      <th>broker_id</th>\n",
       "      <th>broker_sub_id</th>\n",
       "      <th>event_type</th>\n",
       "      <th>executed_notional</th>\n",
       "      <th>executed_price</th>\n",
       "      <th>id</th>\n",
       "      <th>...</th>\n",
       "      <th>notional_reporting_currency_mid</th>\n",
       "      <th>reporting_currency</th>\n",
       "      <th>executed_notional_in_reporting_currency</th>\n",
       "      <th>order_notional_in_reporting_currency</th>\n",
       "      <th>notional</th>\n",
       "      <th>arrival</th>\n",
       "      <th>slippage_benchmark</th>\n",
       "      <th>spread_to_benchmark</th>\n",
       "      <th>slippage</th>\n",
       "      <th>slippage_anomalous</th>\n",
       "    </tr>\n",
       "    <tr>\n",
       "      <th>Date</th>\n",
       "      <th></th>\n",
       "      <th></th>\n",
       "      <th></th>\n",
       "      <th></th>\n",
       "      <th></th>\n",
       "      <th></th>\n",
       "      <th></th>\n",
       "      <th></th>\n",
       "      <th></th>\n",
       "      <th></th>\n",
       "      <th></th>\n",
       "      <th></th>\n",
       "      <th></th>\n",
       "      <th></th>\n",
       "      <th></th>\n",
       "      <th></th>\n",
       "      <th></th>\n",
       "      <th></th>\n",
       "      <th></th>\n",
       "      <th></th>\n",
       "      <th></th>\n",
       "    </tr>\n",
       "  </thead>\n",
       "  <tbody>\n",
       "    <tr>\n",
       "      <th>2017-05-05 06:27:26.514000+00:00</th>\n",
       "      <td>account5</td>\n",
       "      <td>algo2</td>\n",
       "      <td>default</td>\n",
       "      <td>order_EURUSD2017-05-05 06:26:47.189000+00:00_2...</td>\n",
       "      <td>broker6</td>\n",
       "      <td>subbroker1</td>\n",
       "      <td>trade</td>\n",
       "      <td>18008368</td>\n",
       "      <td>1.097430</td>\n",
       "      <td>execution_EURUSD2017-05-05 06:27:26.514000+00:...</td>\n",
       "      <td>...</td>\n",
       "      <td>1.097445</td>\n",
       "      <td>USD</td>\n",
       "      <td>1.976319e+07</td>\n",
       "      <td>1.976319e+07</td>\n",
       "      <td>18008368</td>\n",
       "      <td>1.097445</td>\n",
       "      <td>1.097445</td>\n",
       "      <td>-0.000005</td>\n",
       "      <td>-0.000013</td>\n",
       "      <td>1</td>\n",
       "    </tr>\n",
       "    <tr>\n",
       "      <th>2017-05-05 11:30:00.791000+00:00</th>\n",
       "      <td>account5</td>\n",
       "      <td>algo3</td>\n",
       "      <td>default</td>\n",
       "      <td>order_EURUSD2017-05-05 11:28:43.816000+00:00_2...</td>\n",
       "      <td>broker3</td>\n",
       "      <td>subbroker3</td>\n",
       "      <td>trade</td>\n",
       "      <td>5370024</td>\n",
       "      <td>1.095723</td>\n",
       "      <td>execution_EURUSD2017-05-05 11:30:00.791000+00:...</td>\n",
       "      <td>...</td>\n",
       "      <td>1.095725</td>\n",
       "      <td>USD</td>\n",
       "      <td>5.884070e+06</td>\n",
       "      <td>5.884070e+06</td>\n",
       "      <td>5370024</td>\n",
       "      <td>1.095725</td>\n",
       "      <td>1.095725</td>\n",
       "      <td>-0.000014</td>\n",
       "      <td>-0.000002</td>\n",
       "      <td>0</td>\n",
       "    </tr>\n",
       "    <tr>\n",
       "      <th>2017-05-05 14:56:49.373000+00:00</th>\n",
       "      <td>account4</td>\n",
       "      <td>algo2</td>\n",
       "      <td>default</td>\n",
       "      <td>order_EURUSD2017-05-05 14:56:33.125000+00:00_2...</td>\n",
       "      <td>broker2</td>\n",
       "      <td>subbroker5</td>\n",
       "      <td>trade</td>\n",
       "      <td>6198753</td>\n",
       "      <td>1.098892</td>\n",
       "      <td>execution_EURUSD2017-05-05 14:56:49.373000+00:...</td>\n",
       "      <td>...</td>\n",
       "      <td>1.098875</td>\n",
       "      <td>USD</td>\n",
       "      <td>6.811655e+06</td>\n",
       "      <td>6.811655e+06</td>\n",
       "      <td>6198753</td>\n",
       "      <td>1.098875</td>\n",
       "      <td>1.098875</td>\n",
       "      <td>-0.000014</td>\n",
       "      <td>-0.000016</td>\n",
       "      <td>1</td>\n",
       "    </tr>\n",
       "    <tr>\n",
       "      <th>2017-05-05 20:33:21.932000+00:00</th>\n",
       "      <td>account6</td>\n",
       "      <td>algo2</td>\n",
       "      <td>default</td>\n",
       "      <td>order_EURUSD2017-05-05 20:33:14.677000+00:00_2...</td>\n",
       "      <td>broker5</td>\n",
       "      <td>subbroker6</td>\n",
       "      <td>trade</td>\n",
       "      <td>6270424</td>\n",
       "      <td>1.099439</td>\n",
       "      <td>execution_EURUSD2017-05-05 20:33:21.932000+00:...</td>\n",
       "      <td>...</td>\n",
       "      <td>1.099425</td>\n",
       "      <td>USD</td>\n",
       "      <td>6.893861e+06</td>\n",
       "      <td>6.893861e+06</td>\n",
       "      <td>6270424</td>\n",
       "      <td>1.099425</td>\n",
       "      <td>1.099425</td>\n",
       "      <td>-0.000023</td>\n",
       "      <td>-0.000012</td>\n",
       "      <td>0</td>\n",
       "    </tr>\n",
       "    <tr>\n",
       "      <th>2017-05-08 10:31:33.011000+00:00</th>\n",
       "      <td>account1</td>\n",
       "      <td>algo3</td>\n",
       "      <td>default</td>\n",
       "      <td>order_EURUSD2017-05-08 10:30:57.526000+00:00_2...</td>\n",
       "      <td>broker4</td>\n",
       "      <td>subbroker2</td>\n",
       "      <td>trade</td>\n",
       "      <td>3276653</td>\n",
       "      <td>1.094703</td>\n",
       "      <td>execution_EURUSD2017-05-08 10:31:33.011000+00:...</td>\n",
       "      <td>...</td>\n",
       "      <td>1.094680</td>\n",
       "      <td>USD</td>\n",
       "      <td>3.586887e+06</td>\n",
       "      <td>3.586887e+06</td>\n",
       "      <td>3276653</td>\n",
       "      <td>1.094680</td>\n",
       "      <td>1.094680</td>\n",
       "      <td>-0.000009</td>\n",
       "      <td>-0.000021</td>\n",
       "      <td>1</td>\n",
       "    </tr>\n",
       "  </tbody>\n",
       "</table>\n",
       "<p>5 rows × 32 columns</p>\n",
       "</div>"
      ],
      "text/plain": [
       "                                 account_id algo_id algo_settings  \\\n",
       "Date                                                                \n",
       "2017-05-05 06:27:26.514000+00:00   account5   algo2       default   \n",
       "2017-05-05 11:30:00.791000+00:00   account5   algo3       default   \n",
       "2017-05-05 14:56:49.373000+00:00   account4   algo2       default   \n",
       "2017-05-05 20:33:21.932000+00:00   account6   algo2       default   \n",
       "2017-05-08 10:31:33.011000+00:00   account1   algo3       default   \n",
       "\n",
       "                                                                ancestor_pointer_id  \\\n",
       "Date                                                                                  \n",
       "2017-05-05 06:27:26.514000+00:00  order_EURUSD2017-05-05 06:26:47.189000+00:00_2...   \n",
       "2017-05-05 11:30:00.791000+00:00  order_EURUSD2017-05-05 11:28:43.816000+00:00_2...   \n",
       "2017-05-05 14:56:49.373000+00:00  order_EURUSD2017-05-05 14:56:33.125000+00:00_2...   \n",
       "2017-05-05 20:33:21.932000+00:00  order_EURUSD2017-05-05 20:33:14.677000+00:00_2...   \n",
       "2017-05-08 10:31:33.011000+00:00  order_EURUSD2017-05-08 10:30:57.526000+00:00_2...   \n",
       "\n",
       "                                 broker_id broker_sub_id event_type  \\\n",
       "Date                                                                  \n",
       "2017-05-05 06:27:26.514000+00:00   broker6    subbroker1      trade   \n",
       "2017-05-05 11:30:00.791000+00:00   broker3    subbroker3      trade   \n",
       "2017-05-05 14:56:49.373000+00:00   broker2    subbroker5      trade   \n",
       "2017-05-05 20:33:21.932000+00:00   broker5    subbroker6      trade   \n",
       "2017-05-08 10:31:33.011000+00:00   broker4    subbroker2      trade   \n",
       "\n",
       "                                  executed_notional  executed_price  \\\n",
       "Date                                                                  \n",
       "2017-05-05 06:27:26.514000+00:00           18008368        1.097430   \n",
       "2017-05-05 11:30:00.791000+00:00            5370024        1.095723   \n",
       "2017-05-05 14:56:49.373000+00:00            6198753        1.098892   \n",
       "2017-05-05 20:33:21.932000+00:00            6270424        1.099439   \n",
       "2017-05-08 10:31:33.011000+00:00            3276653        1.094703   \n",
       "\n",
       "                                                                                 id  \\\n",
       "Date                                                                                  \n",
       "2017-05-05 06:27:26.514000+00:00  execution_EURUSD2017-05-05 06:27:26.514000+00:...   \n",
       "2017-05-05 11:30:00.791000+00:00  execution_EURUSD2017-05-05 11:30:00.791000+00:...   \n",
       "2017-05-05 14:56:49.373000+00:00  execution_EURUSD2017-05-05 14:56:49.373000+00:...   \n",
       "2017-05-05 20:33:21.932000+00:00  execution_EURUSD2017-05-05 20:33:21.932000+00:...   \n",
       "2017-05-08 10:31:33.011000+00:00  execution_EURUSD2017-05-08 10:31:33.011000+00:...   \n",
       "\n",
       "                                  ...  notional_reporting_currency_mid  \\\n",
       "Date                              ...                                    \n",
       "2017-05-05 06:27:26.514000+00:00  ...                         1.097445   \n",
       "2017-05-05 11:30:00.791000+00:00  ...                         1.095725   \n",
       "2017-05-05 14:56:49.373000+00:00  ...                         1.098875   \n",
       "2017-05-05 20:33:21.932000+00:00  ...                         1.099425   \n",
       "2017-05-08 10:31:33.011000+00:00  ...                         1.094680   \n",
       "\n",
       "                                  reporting_currency  \\\n",
       "Date                                                   \n",
       "2017-05-05 06:27:26.514000+00:00                 USD   \n",
       "2017-05-05 11:30:00.791000+00:00                 USD   \n",
       "2017-05-05 14:56:49.373000+00:00                 USD   \n",
       "2017-05-05 20:33:21.932000+00:00                 USD   \n",
       "2017-05-08 10:31:33.011000+00:00                 USD   \n",
       "\n",
       "                                  executed_notional_in_reporting_currency  \\\n",
       "Date                                                                        \n",
       "2017-05-05 06:27:26.514000+00:00                             1.976319e+07   \n",
       "2017-05-05 11:30:00.791000+00:00                             5.884070e+06   \n",
       "2017-05-05 14:56:49.373000+00:00                             6.811655e+06   \n",
       "2017-05-05 20:33:21.932000+00:00                             6.893861e+06   \n",
       "2017-05-08 10:31:33.011000+00:00                             3.586887e+06   \n",
       "\n",
       "                                 order_notional_in_reporting_currency  \\\n",
       "Date                                                                    \n",
       "2017-05-05 06:27:26.514000+00:00                         1.976319e+07   \n",
       "2017-05-05 11:30:00.791000+00:00                         5.884070e+06   \n",
       "2017-05-05 14:56:49.373000+00:00                         6.811655e+06   \n",
       "2017-05-05 20:33:21.932000+00:00                         6.893861e+06   \n",
       "2017-05-08 10:31:33.011000+00:00                         3.586887e+06   \n",
       "\n",
       "                                  notional   arrival slippage_benchmark  \\\n",
       "Date                                                                      \n",
       "2017-05-05 06:27:26.514000+00:00  18008368  1.097445           1.097445   \n",
       "2017-05-05 11:30:00.791000+00:00   5370024  1.095725           1.095725   \n",
       "2017-05-05 14:56:49.373000+00:00   6198753  1.098875           1.098875   \n",
       "2017-05-05 20:33:21.932000+00:00   6270424  1.099425           1.099425   \n",
       "2017-05-08 10:31:33.011000+00:00   3276653  1.094680           1.094680   \n",
       "\n",
       "                                  spread_to_benchmark  slippage  \\\n",
       "Date                                                              \n",
       "2017-05-05 06:27:26.514000+00:00            -0.000005 -0.000013   \n",
       "2017-05-05 11:30:00.791000+00:00            -0.000014 -0.000002   \n",
       "2017-05-05 14:56:49.373000+00:00            -0.000014 -0.000016   \n",
       "2017-05-05 20:33:21.932000+00:00            -0.000023 -0.000012   \n",
       "2017-05-08 10:31:33.011000+00:00            -0.000009 -0.000021   \n",
       "\n",
       "                                 slippage_anomalous  \n",
       "Date                                                 \n",
       "2017-05-05 06:27:26.514000+00:00                  1  \n",
       "2017-05-05 11:30:00.791000+00:00                  0  \n",
       "2017-05-05 14:56:49.373000+00:00                  1  \n",
       "2017-05-05 20:33:21.932000+00:00                  0  \n",
       "2017-05-08 10:31:33.011000+00:00                  1  \n",
       "\n",
       "[5 rows x 32 columns]"
      ]
     },
     "execution_count": 20,
     "metadata": {},
     "output_type": "execute_result"
    }
   ],
   "source": [
    "tca_results.trade_order['trade_df'].head(5)"
   ]
  },
  {
   "cell_type": "markdown",
   "metadata": {},
   "source": [
    "We can access the timeline of the slippage for trades by accessing the `timeline` property."
   ]
  },
  {
   "cell_type": "code",
   "execution_count": 21,
   "metadata": {
    "ExecuteTime": {
     "end_time": "2020-03-27T14:32:41.282165Z",
     "start_time": "2020-03-27T14:32:41.271426Z"
    }
   },
   "outputs": [
    {
     "data": {
      "text/html": [
       "<div>\n",
       "<style scoped>\n",
       "    .dataframe tbody tr th:only-of-type {\n",
       "        vertical-align: middle;\n",
       "    }\n",
       "\n",
       "    .dataframe tbody tr th {\n",
       "        vertical-align: top;\n",
       "    }\n",
       "\n",
       "    .dataframe thead th {\n",
       "        text-align: right;\n",
       "    }\n",
       "</style>\n",
       "<table border=\"1\" class=\"dataframe\">\n",
       "  <thead>\n",
       "    <tr style=\"text-align: right;\">\n",
       "      <th></th>\n",
       "      <th>value</th>\n",
       "    </tr>\n",
       "    <tr>\n",
       "      <th>Date</th>\n",
       "      <th></th>\n",
       "    </tr>\n",
       "  </thead>\n",
       "  <tbody>\n",
       "    <tr>\n",
       "      <th>2017-05-05 06:00:00</th>\n",
       "      <td>-0.133895</td>\n",
       "    </tr>\n",
       "    <tr>\n",
       "      <th>2017-05-05 11:00:00</th>\n",
       "      <td>-0.017519</td>\n",
       "    </tr>\n",
       "    <tr>\n",
       "      <th>2017-05-05 14:00:00</th>\n",
       "      <td>-0.156906</td>\n",
       "    </tr>\n",
       "    <tr>\n",
       "      <th>2017-05-05 20:00:00</th>\n",
       "      <td>-0.122419</td>\n",
       "    </tr>\n",
       "    <tr>\n",
       "      <th>2017-05-08 10:00:00</th>\n",
       "      <td>-0.209665</td>\n",
       "    </tr>\n",
       "  </tbody>\n",
       "</table>\n",
       "</div>"
      ],
      "text/plain": [
       "                        value\n",
       "Date                         \n",
       "2017-05-05 06:00:00 -0.133895\n",
       "2017-05-05 11:00:00 -0.017519\n",
       "2017-05-05 14:00:00 -0.156906\n",
       "2017-05-05 20:00:00 -0.122419\n",
       "2017-05-08 10:00:00 -0.209665"
      ]
     },
     "execution_count": 21,
     "metadata": {},
     "output_type": "execute_result"
    }
   ],
   "source": [
    "tca_results.timeline['trade_df_slippage_by_all'].head(5)"
   ]
  },
  {
   "cell_type": "markdown",
   "metadata": {},
   "source": [
    "### Using TCAReport class\n",
    "\n",
    "We can also render the various charts into an HTML page using TCAReport (or PDF via plotly-orca, which converts the HTML file to PDF, although this hasn't been fully tested yet). You can see the HTML output [here](test.htm). You can extend `TCAReport` to create your own report designs. The current implementation is relatively basic."
   ]
  },
  {
   "cell_type": "code",
   "execution_count": 22,
   "metadata": {
    "ExecuteTime": {
     "end_time": "2020-03-27T14:32:42.086932Z",
     "start_time": "2020-03-27T14:32:41.283666Z"
    }
   },
   "outputs": [],
   "source": [
    "tca_report = TCAReport(tca_results)\n",
    "\n",
    "html_code = tca_report.create_report(output_filename='test.htm', output_format='html');"
   ]
  },
  {
   "cell_type": "markdown",
   "metadata": {},
   "source": [
    "The method also returns the HTML to the user, if they want to display it (maybe to a website, as an inline HTML page?)"
   ]
  },
  {
   "cell_type": "code",
   "execution_count": 23,
   "metadata": {
    "ExecuteTime": {
     "end_time": "2020-03-27T14:32:42.092788Z",
     "start_time": "2020-03-27T14:32:42.087908Z"
    }
   },
   "outputs": [
    {
     "data": {
      "text/plain": [
       "'<head>\\n <title>\\n  Cuemacro TCA\\n </title>\\n <style>\\n  a, a:focus, a:hover, a:active {\\n  color: #00afd7;\\n}\\n\\np, tr {\\n  font-family: \"Open Sans Light\", \"Raleway\", \"Helvetica Neue\", Helvetica, Arial, sans-serif;\\n}\\n\\nh1, h2, h3 {\\n  font-family: \"Open Sans Light\", \"Raleway\", \"Helvetica Neue\", Helvetica, Arial, sans-serif;\\n  margin: 12px 0;\\n}\\nh1 {\\n  font-size: 32px;\\n  font-weight: 100;\\n  letter-spacing: .02em;\\n  line-height: 48px;\\n  margin: 12px 0;\\n}\\nh2 {\\n  color: #2a333c;\\n  font-weight: 200;\\n  font-size:'"
      ]
     },
     "execution_count": 23,
     "metadata": {},
     "output_type": "execute_result"
    }
   ],
   "source": [
    "html_code[0:500]"
   ]
  },
  {
   "cell_type": "code",
   "execution_count": 18,
   "metadata": {
    "ExecuteTime": {
     "end_time": "2020-03-27T14:32:40.593245Z",
     "start_time": "2020-03-27T14:32:40.573726Z"
    }
   },
   "outputs": [
    {
     "data": {
      "text/html": [
       "<div>\n",
       "<style scoped>\n",
       "    .dataframe tbody tr th:only-of-type {\n",
       "        vertical-align: middle;\n",
       "    }\n",
       "\n",
       "    .dataframe tbody tr th {\n",
       "        vertical-align: top;\n",
       "    }\n",
       "\n",
       "    .dataframe thead th {\n",
       "        text-align: right;\n",
       "    }\n",
       "</style>\n",
       "<table border=\"1\" class=\"dataframe\">\n",
       "  <thead>\n",
       "    <tr style=\"text-align: right;\">\n",
       "      <th></th>\n",
       "      <th>account_id</th>\n",
       "      <th>algo_id</th>\n",
       "      <th>algo_settings</th>\n",
       "      <th>ancestor_pointer_id</th>\n",
       "      <th>broker_id</th>\n",
       "      <th>broker_sub_id</th>\n",
       "      <th>event_type</th>\n",
       "      <th>executed_notional</th>\n",
       "      <th>executed_price</th>\n",
       "      <th>id</th>\n",
       "      <th>...</th>\n",
       "      <th>notional_reporting_currency_mid</th>\n",
       "      <th>reporting_currency</th>\n",
       "      <th>executed_notional_in_reporting_currency</th>\n",
       "      <th>order_notional_in_reporting_currency</th>\n",
       "      <th>notional</th>\n",
       "      <th>arrival</th>\n",
       "      <th>slippage_benchmark</th>\n",
       "      <th>spread_to_benchmark</th>\n",
       "      <th>slippage</th>\n",
       "      <th>slippage_anomalous</th>\n",
       "    </tr>\n",
       "    <tr>\n",
       "      <th>Date</th>\n",
       "      <th></th>\n",
       "      <th></th>\n",
       "      <th></th>\n",
       "      <th></th>\n",
       "      <th></th>\n",
       "      <th></th>\n",
       "      <th></th>\n",
       "      <th></th>\n",
       "      <th></th>\n",
       "      <th></th>\n",
       "      <th></th>\n",
       "      <th></th>\n",
       "      <th></th>\n",
       "      <th></th>\n",
       "      <th></th>\n",
       "      <th></th>\n",
       "      <th></th>\n",
       "      <th></th>\n",
       "      <th></th>\n",
       "      <th></th>\n",
       "      <th></th>\n",
       "    </tr>\n",
       "  </thead>\n",
       "  <tbody>\n",
       "    <tr>\n",
       "      <th>2017-05-05 06:27:26.514000+00:00</th>\n",
       "      <td>account5</td>\n",
       "      <td>algo2</td>\n",
       "      <td>default</td>\n",
       "      <td>order_EURUSD2017-05-05 06:26:47.189000+00:00_2...</td>\n",
       "      <td>broker6</td>\n",
       "      <td>subbroker1</td>\n",
       "      <td>trade</td>\n",
       "      <td>18008368</td>\n",
       "      <td>1.097430</td>\n",
       "      <td>execution_EURUSD2017-05-05 06:27:26.514000+00:...</td>\n",
       "      <td>...</td>\n",
       "      <td>1.097445</td>\n",
       "      <td>USD</td>\n",
       "      <td>1.976319e+07</td>\n",
       "      <td>1.976319e+07</td>\n",
       "      <td>18008368</td>\n",
       "      <td>1.097445</td>\n",
       "      <td>1.097445</td>\n",
       "      <td>-0.000005</td>\n",
       "      <td>-0.000013</td>\n",
       "      <td>1</td>\n",
       "    </tr>\n",
       "    <tr>\n",
       "      <th>2017-05-05 11:30:00.791000+00:00</th>\n",
       "      <td>account5</td>\n",
       "      <td>algo3</td>\n",
       "      <td>default</td>\n",
       "      <td>order_EURUSD2017-05-05 11:28:43.816000+00:00_2...</td>\n",
       "      <td>broker3</td>\n",
       "      <td>subbroker3</td>\n",
       "      <td>trade</td>\n",
       "      <td>5370024</td>\n",
       "      <td>1.095723</td>\n",
       "      <td>execution_EURUSD2017-05-05 11:30:00.791000+00:...</td>\n",
       "      <td>...</td>\n",
       "      <td>1.095725</td>\n",
       "      <td>USD</td>\n",
       "      <td>5.884070e+06</td>\n",
       "      <td>5.884070e+06</td>\n",
       "      <td>5370024</td>\n",
       "      <td>1.095725</td>\n",
       "      <td>1.095725</td>\n",
       "      <td>-0.000014</td>\n",
       "      <td>-0.000002</td>\n",
       "      <td>0</td>\n",
       "    </tr>\n",
       "  </tbody>\n",
       "</table>\n",
       "<p>2 rows × 32 columns</p>\n",
       "</div>"
      ],
      "text/plain": [
       "                                 account_id algo_id algo_settings  \\\n",
       "Date                                                                \n",
       "2017-05-05 06:27:26.514000+00:00   account5   algo2       default   \n",
       "2017-05-05 11:30:00.791000+00:00   account5   algo3       default   \n",
       "\n",
       "                                                                ancestor_pointer_id  \\\n",
       "Date                                                                                  \n",
       "2017-05-05 06:27:26.514000+00:00  order_EURUSD2017-05-05 06:26:47.189000+00:00_2...   \n",
       "2017-05-05 11:30:00.791000+00:00  order_EURUSD2017-05-05 11:28:43.816000+00:00_2...   \n",
       "\n",
       "                                 broker_id broker_sub_id event_type  \\\n",
       "Date                                                                  \n",
       "2017-05-05 06:27:26.514000+00:00   broker6    subbroker1      trade   \n",
       "2017-05-05 11:30:00.791000+00:00   broker3    subbroker3      trade   \n",
       "\n",
       "                                  executed_notional  executed_price  \\\n",
       "Date                                                                  \n",
       "2017-05-05 06:27:26.514000+00:00           18008368        1.097430   \n",
       "2017-05-05 11:30:00.791000+00:00            5370024        1.095723   \n",
       "\n",
       "                                                                                 id  \\\n",
       "Date                                                                                  \n",
       "2017-05-05 06:27:26.514000+00:00  execution_EURUSD2017-05-05 06:27:26.514000+00:...   \n",
       "2017-05-05 11:30:00.791000+00:00  execution_EURUSD2017-05-05 11:30:00.791000+00:...   \n",
       "\n",
       "                                  ...  notional_reporting_currency_mid  \\\n",
       "Date                              ...                                    \n",
       "2017-05-05 06:27:26.514000+00:00  ...                         1.097445   \n",
       "2017-05-05 11:30:00.791000+00:00  ...                         1.095725   \n",
       "\n",
       "                                  reporting_currency  \\\n",
       "Date                                                   \n",
       "2017-05-05 06:27:26.514000+00:00                 USD   \n",
       "2017-05-05 11:30:00.791000+00:00                 USD   \n",
       "\n",
       "                                  executed_notional_in_reporting_currency  \\\n",
       "Date                                                                        \n",
       "2017-05-05 06:27:26.514000+00:00                             1.976319e+07   \n",
       "2017-05-05 11:30:00.791000+00:00                             5.884070e+06   \n",
       "\n",
       "                                 order_notional_in_reporting_currency  \\\n",
       "Date                                                                    \n",
       "2017-05-05 06:27:26.514000+00:00                         1.976319e+07   \n",
       "2017-05-05 11:30:00.791000+00:00                         5.884070e+06   \n",
       "\n",
       "                                  notional   arrival slippage_benchmark  \\\n",
       "Date                                                                      \n",
       "2017-05-05 06:27:26.514000+00:00  18008368  1.097445           1.097445   \n",
       "2017-05-05 11:30:00.791000+00:00   5370024  1.095725           1.095725   \n",
       "\n",
       "                                  spread_to_benchmark  slippage  \\\n",
       "Date                                                              \n",
       "2017-05-05 06:27:26.514000+00:00            -0.000005 -0.000013   \n",
       "2017-05-05 11:30:00.791000+00:00            -0.000014 -0.000002   \n",
       "\n",
       "                                 slippage_anomalous  \n",
       "Date                                                 \n",
       "2017-05-05 06:27:26.514000+00:00                  1  \n",
       "2017-05-05 11:30:00.791000+00:00                  0  \n",
       "\n",
       "[2 rows x 32 columns]"
      ]
     },
     "execution_count": 18,
     "metadata": {},
     "output_type": "execute_result"
    }
   ],
   "source": [
    "dict_of_df['trade_df'].head(2)"
   ]
  },
  {
   "cell_type": "markdown",
   "metadata": {},
   "source": [
    "### Distribution of slippage and average slippage"
   ]
  },
  {
   "cell_type": "markdown",
   "metadata": {},
   "source": [
    "Here we create a `TCARequest` for the same dataset. This time, however, we also calculate the `MetricTransientMarketImpact`, which we've defined as the 5 second move from a trade or start of an order. We also want to calculate the distribution of the slippage by side (ie. buy/sell) with `DistResultsForm` and to calculate the average slippage (weighted by the executed notional) with `BarResultForm`. Note, we've used `scalar` parameters of `10000.0` to convert to basis point to ease understanding.\n",
    "\n",
    "All these `Metric` and `ResultsForm` calculations will be calculated on both trades and orders. However, we can specify for it to be calculated only on for example trades, by instantiating the objects using the `trade_order_list` parameter eg. `MetricSlippage(trade_order_list=['trade_df'])`"
   ]
  },
  {
   "cell_type": "code",
   "execution_count": 32,
   "metadata": {
    "ExecuteTime": {
     "end_time": "2020-03-27T14:38:54.498749Z",
     "start_time": "2020-03-27T14:38:54.490940Z"
    }
   },
   "outputs": [],
   "source": [
    "tca_request = TCARequest(start_date='05 May 2017', finish_date='10 May 2017', ticker='EURUSD',\n",
    "                         tca_type='detailed',\n",
    "                         trade_data_store='csv', market_data_store='dukascopy',\n",
    "                         trade_order_mapping=csv_trade_order_mapping,\n",
    "                         metric_calcs=[MetricSlippage(), MetricTransientMarketImpact(\n",
    "                             transient_market_impact_gap={'5' : 's'})],\n",
    "                         results_form=[DistResultsForm(metric_name='slippage', aggregate_by_field='side', scalar=10000.0),\n",
    "                                       BarResultsForm(metric_name='slippage', aggregate_by_field='ticker', scalar=10000.0),\n",
    "                                       BarResultsForm(metric_name='slippage', aggregate_by_field='broker_id', scalar=10000.0)],\n",
    "                         benchmark_calcs=[BenchmarkSpreadToMid()],\n",
    "                         use_multithreading=False)"
   ]
  },
  {
   "cell_type": "markdown",
   "metadata": {},
   "source": [
    "Let's kick off the TCA calculation!"
   ]
  },
  {
   "cell_type": "code",
   "execution_count": 33,
   "metadata": {
    "ExecuteTime": {
     "end_time": "2020-03-27T14:38:56.721680Z",
     "start_time": "2020-03-27T14:38:55.554338Z"
    }
   },
   "outputs": [
    {
     "name": "stderr",
     "output_type": "stream",
     "text": [
      "2020-03-27 14:38:55,555; INFO:tcapy.analysis.tcaengine: More than 1 ticker specified for TCA detailed computation. Only working on first (tcaengine.py:122)\n",
      "2020-03-27 14:38:55,556; DEBUG:tcapy.analysis.tcamarkettradeloader: Start loading trade/data/computation (tcamarkettradeloader.py:240)\n",
      "2020-03-27 14:38:55,557; DEBUG:tcapy.analysis.tcatickerloaderimpl: Get market and trade/order data for EURUSD from 2017-05-05 00:00:00+00:00 - 2017-05-10 00:00:00+00:00 (tcatickerloaderimpl.py:80)\n",
      "2020-03-27 14:38:55,558; DEBUG:tcapy.data.volatilecache: Attempting to get list from cache: ['dukascopy_EURUSD_2017-05-05 00:00:00+00:00_2017-05-10 00:00:00+00:00_market_df_None_comp'] (volatilecache.py:694)\n",
      "2020-03-27 14:38:55,626; DEBUG:tcapy.analysis.tcatickerloader: Get trade order holder for EURUSD from 2017-05-05 00:00:00+00:00 - 2017-05-10 00:00:00+00:00 (tcatickerloader.py:360)\n",
      "2020-03-27 14:38:55,671; WARNING:tcapy.data.datafactory: Dataframe empty for ticker USDEUR (datafactory.py:92)\n",
      "2020-03-27 14:38:55,673; DEBUG:tcapy.data.volatilecache: Attempting to get list from cache: ['dukascopy_EURUSD_2017-05-05 00:00:00+00:00_2017-05-10 00:00:00+00:00_market_df_None_comp'] (volatilecache.py:694)\n",
      "2020-03-27 14:38:55,739; DEBUG:tcapy.data.volatilecache: Attempting to push ['2020-03-27 14:38:55.739426__df_comp_24694_expiry_'] to cache (volatilecache.py:429)\n",
      "2020-03-27 14:38:55,743; DEBUG:tcapy.data.volatilecache: Pandas dataframe of size: ----------- 0.02 MB ----------- in 1 chunk(s) (volatilecache.py:538)\n",
      "2020-03-27 14:38:55,745; DEBUG:tcapy.data.volatilecache: Now pushing ['2020-03-27 14:38:55.739426__df_comp_24694_expiry_'] to cache (volatilecache.py:442)\n",
      "2020-03-27 14:38:55,746; DEBUG:tcapy.data.volatilecache: Pushed ['2020-03-27 14:38:55.739426__df_comp_24694_expiry_'] to cache (volatilecache.py:460)\n",
      "2020-03-27 14:38:55,780; WARNING:tcapy.data.datafactory: Dataframe empty for ticker USDEUR (datafactory.py:92)\n",
      "2020-03-27 14:38:55,782; DEBUG:tcapy.data.volatilecache: Attempting to get list from cache: ['dukascopy_EURUSD_2017-05-05 00:00:00+00:00_2017-05-10 00:00:00+00:00_market_df_None_comp'] (volatilecache.py:694)\n",
      "2020-03-27 14:38:55,850; DEBUG:tcapy.data.volatilecache: Attempting to push ['2020-03-27 14:38:55.849563__df_comp_15794_expiry_'] to cache (volatilecache.py:429)\n",
      "2020-03-27 14:38:55,853; DEBUG:tcapy.data.volatilecache: Pandas dataframe of size: ----------- 0.008 MB ----------- in 1 chunk(s) (volatilecache.py:538)\n",
      "2020-03-27 14:38:55,856; DEBUG:tcapy.data.volatilecache: Now pushing ['2020-03-27 14:38:55.849563__df_comp_15794_expiry_'] to cache (volatilecache.py:442)\n",
      "2020-03-27 14:38:55,857; DEBUG:tcapy.data.volatilecache: Pushed ['2020-03-27 14:38:55.849563__df_comp_15794_expiry_'] to cache (volatilecache.py:460)\n",
      "2020-03-27 14:38:55,858; DEBUG:tcapy.data.volatilecache: Attempting to get list from cache: ['dukascopy_EURUSD_2017-05-05 00:00:00+00:00_2017-05-10 00:00:00+00:00_market_df_None_comp'] (volatilecache.py:694)\n",
      "2020-03-27 14:38:55,916; DEBUG:tcapy.analysis.tcatickerloader: Filter the market date by start/finish date (tcatickerloader.py:717)\n",
      "2020-03-27 14:38:55,928; DEBUG:tcapy.analysis.tcatickerloader: Combine trade/order data (tcatickerloader.py:738)\n",
      "2020-03-27 14:38:55,929; DEBUG:tcapy.data.volatilecache: Attempting to get list from cache: ['2020-03-27 14:38:55.739426__df_comp_24694_expiry_'] (volatilecache.py:694)\n",
      "2020-03-27 14:38:55,931; DEBUG:tcapy.data.volatilecache: Deleted 1 keys (volatilecache.py:730)\n",
      "2020-03-27 14:38:55,934; DEBUG:tcapy.data.volatilecache: Attempting to get list from cache: ['2020-03-27 14:38:55.849563__df_comp_15794_expiry_'] (volatilecache.py:694)\n",
      "2020-03-27 14:38:55,936; DEBUG:tcapy.data.volatilecache: Deleted 1 keys (volatilecache.py:730)\n",
      "2020-03-27 14:38:55,941; DEBUG:tcapy.analysis.tcatickerloader: Filter trades by venue (tcatickerloader.py:436)\n",
      "2020-03-27 14:38:55,943; DEBUG:tcapy.analysis.tcatickerloader: Calculating derived fields and benchmarks (tcatickerloader.py:486)\n",
      "2020-03-27 14:38:55,944; DEBUG:tcapy.analysis.tcatickerloader: Calculating execution fields (tcatickerloader.py:488)\n",
      "2020-03-27 14:38:55,953; DEBUG:tcapy.analysis.tcatickerloader: Calculating benchmarks (tcatickerloader.py:514)\n",
      "2020-03-27 14:38:55,954; DEBUG:tcapy.analysis.tcatickerloader: Calculating BenchmarkSpreadToMid for market data (tcatickerloader.py:522)\n",
      "2020-03-27 14:38:55,979; DEBUG:tcapy.analysis.tcatickerloader: Calculating metrics (tcatickerloader.py:539)\n",
      "2020-03-27 14:38:55,980; DEBUG:tcapy.analysis.tcatickerloader: Calculating MetricSlippage for trade_df (tcatickerloader.py:545)\n",
      "2020-03-27 14:38:56,000; DEBUG:tcapy.analysis.tcatickerloader: Calculating MetricTransientMarketImpact for trade_df (tcatickerloader.py:545)\n",
      "2020-03-27 14:38:56,026; DEBUG:tcapy.analysis.tcatickerloader: Calculating MetricSlippage for order_df (tcatickerloader.py:545)\n",
      "2020-03-27 14:38:56,048; DEBUG:tcapy.analysis.tcatickerloader: Calculating MetricTransientMarketImpact for order_df (tcatickerloader.py:545)\n",
      "2020-03-27 14:38:56,066; DEBUG:tcapy.analysis.tcatickerloader: Completed derived field calculations for EURUSD (tcatickerloader.py:553)\n",
      "2020-03-27 14:38:56,067; DEBUG:tcapy.analysis.tcatickerloaderimpl: Generating downsampled market data for potentional display (tcatickerloaderimpl.py:270)\n",
      "2020-03-27 14:38:56,087; DEBUG:tcapy.analysis.tcatickerloaderimpl: About to join (tcatickerloaderimpl.py:331)\n",
      "2020-03-27 14:38:56,090; DEBUG:tcapy.analysis.tcatickerloaderimpl: Finished joining (tcatickerloaderimpl.py:347)\n",
      "2020-03-27 14:38:56,093; DEBUG:tcapy.analysis.tcatickerloaderimpl: About to join (tcatickerloaderimpl.py:331)\n",
      "2020-03-27 14:38:56,097; DEBUG:tcapy.analysis.tcatickerloaderimpl: Finished joining (tcatickerloaderimpl.py:347)\n",
      "2020-03-27 14:38:56,257; DEBUG:tcapy.data.volatilecache: Attempting to push ['2020-03-27 14:38:56.257580__df_comp_19947_expiry_'] to cache (volatilecache.py:429)\n",
      "2020-03-27 14:38:56,366; DEBUG:tcapy.data.volatilecache: Pandas dataframe of size: ----------- 18.727 MB ----------- in 1 chunk(s) (volatilecache.py:538)\n",
      "2020-03-27 14:38:56,418; DEBUG:tcapy.data.volatilecache: Now pushing ['2020-03-27 14:38:56.257580__df_comp_19947_expiry_'] to cache (volatilecache.py:442)\n",
      "2020-03-27 14:38:56,437; DEBUG:tcapy.data.volatilecache: Pushed ['2020-03-27 14:38:56.257580__df_comp_19947_expiry_'] to cache (volatilecache.py:460)\n",
      "2020-03-27 14:38:56,439; DEBUG:tcapy.data.volatilecache: Attempting to push ['2020-03-27 14:38:56.439166__df_comp_78527_expiry_', '2020-03-27 14:38:56.439166__df_comp_45089_expiry_', '2020-03-27 14:38:56.439166__df_comp_83110_expiry_', '2020-03-27 14:38:56.439166__df_comp_83976_expiry_', '2020-03-27 14:38:56.439166__df_comp_22304_expiry_', '2020-03-27 14:38:56.439166__fig_comp_49479_expiry_'] to cache (volatilecache.py:429)\n",
      "2020-03-27 14:38:56,443; DEBUG:tcapy.data.volatilecache: Pandas dataframe of size: ----------- 0.011 MB ----------- in 1 chunk(s) (volatilecache.py:538)\n",
      "2020-03-27 14:38:56,447; DEBUG:tcapy.data.volatilecache: Pandas dataframe of size: ----------- 0.008 MB ----------- in 1 chunk(s) (volatilecache.py:538)\n",
      "2020-03-27 14:38:56,450; DEBUG:tcapy.data.volatilecache: Pandas dataframe of size: ----------- 0.032 MB ----------- in 1 chunk(s) (volatilecache.py:538)\n",
      "2020-03-27 14:38:56,454; DEBUG:tcapy.data.volatilecache: Pandas dataframe of size: ----------- 0.032 MB ----------- in 1 chunk(s) (volatilecache.py:538)\n",
      "2020-03-27 14:38:56,458; DEBUG:tcapy.data.volatilecache: Pandas dataframe of size: ----------- 0.025 MB ----------- in 1 chunk(s) (volatilecache.py:538)\n",
      "2020-03-27 14:38:56,478; DEBUG:tcapy.data.volatilecache: Now pushing ['2020-03-27 14:38:56.439166__df_comp_78527_expiry_', '2020-03-27 14:38:56.439166__df_comp_45089_expiry_', '2020-03-27 14:38:56.439166__df_comp_83110_expiry_', '2020-03-27 14:38:56.439166__df_comp_83976_expiry_', '2020-03-27 14:38:56.439166__df_comp_22304_expiry_', '2020-03-27 14:38:56.439166__fig_comp_49479_expiry_'] to cache (volatilecache.py:442)\n",
      "2020-03-27 14:38:56,480; DEBUG:tcapy.data.volatilecache: Pushed ['2020-03-27 14:38:56.439166__df_comp_78527_expiry_', '2020-03-27 14:38:56.439166__df_comp_45089_expiry_', '2020-03-27 14:38:56.439166__df_comp_83110_expiry_', '2020-03-27 14:38:56.439166__df_comp_83976_expiry_', '2020-03-27 14:38:56.439166__df_comp_22304_expiry_', '2020-03-27 14:38:56.439166__fig_comp_49479_expiry_'] to cache (volatilecache.py:460)\n"
     ]
    },
    {
     "name": "stderr",
     "output_type": "stream",
     "text": [
      "2020-03-27 14:38:56,485; DEBUG:tcapy.data.volatilecache: Attempting to get list from cache: ['2020-03-27 14:38:56.439166__df_comp_78527_expiry_'] (volatilecache.py:694)\n",
      "2020-03-27 14:38:56,487; DEBUG:tcapy.data.volatilecache: Deleted 1 keys (volatilecache.py:730)\n",
      "2020-03-27 14:38:56,490; DEBUG:tcapy.data.volatilecache: Attempting to get list from cache: ['2020-03-27 14:38:56.439166__df_comp_45089_expiry_'] (volatilecache.py:694)\n",
      "2020-03-27 14:38:56,492; DEBUG:tcapy.data.volatilecache: Deleted 1 keys (volatilecache.py:730)\n",
      "2020-03-27 14:38:56,497; DEBUG:tcapy.data.volatilecache: Attempting to get list from cache: ['2020-03-27 14:38:56.439166__df_comp_83110_expiry_'] (volatilecache.py:694)\n",
      "2020-03-27 14:38:56,497; DEBUG:tcapy.data.volatilecache: Deleted 1 keys (volatilecache.py:730)\n",
      "2020-03-27 14:38:56,500; DEBUG:tcapy.data.volatilecache: Attempting to get list from cache: ['2020-03-27 14:38:56.439166__df_comp_83976_expiry_'] (volatilecache.py:694)\n",
      "2020-03-27 14:38:56,502; DEBUG:tcapy.data.volatilecache: Deleted 1 keys (volatilecache.py:730)\n",
      "2020-03-27 14:38:56,505; DEBUG:tcapy.data.volatilecache: Attempting to get list from cache: ['2020-03-27 14:38:56.439166__df_comp_22304_expiry_'] (volatilecache.py:694)\n",
      "2020-03-27 14:38:56,506; DEBUG:tcapy.data.volatilecache: Deleted 1 keys (volatilecache.py:730)\n",
      "2020-03-27 14:38:56,509; DEBUG:tcapy.data.volatilecache: Attempting to get list from cache: ['2020-03-27 14:38:56.439166__fig_comp_49479_expiry_'] (volatilecache.py:694)\n",
      "2020-03-27 14:38:56,511; DEBUG:tcapy.data.volatilecache: Deleted 1 keys (volatilecache.py:730)\n",
      "2020-03-27 14:38:56,632; DEBUG:tcapy.analysis.tcamarkettradeloader: Finished loading data and calculating metrics on individual tickers (tcamarkettradeloader.py:247)\n",
      "2020-03-27 14:38:56,633; DEBUG:tcapy.analysis.tcamarkettradeloaderimpl: Constructing results form to summarize analysis... (tcamarkettradeloaderimpl.py:69)\n",
      "2020-03-27 14:38:56,716; DEBUG:tcapy.analysis.tcamarkettradeloaderimpl: Now join table results... (tcamarkettradeloaderimpl.py:99)\n",
      "2020-03-27 14:38:56,717; DEBUG:tcapy.analysis.tcamarkettradeloaderimpl: Finished calculating results form and join table results! (tcamarkettradeloaderimpl.py:112)\n"
     ]
    },
    {
     "name": "stdout",
     "output_type": "stream",
     "text": [
      "Wall time: 1.16 s\n"
     ]
    }
   ],
   "source": [
    "%%time\n",
    "\n",
    "# Dictionary of (mostly) dataframes as output from TCA calculation\n",
    "dict_of_df = tca_engine.calculate_tca(tca_request)"
   ]
  },
  {
   "cell_type": "markdown",
   "metadata": {},
   "source": [
    "Let's inspect the output. This time we have some different DataFrames, in particular:\n",
    "* `dist_trade_df_slippage_by_side` - distribution of slippage on trades split up by buy/sell\n",
    "* `bar_trade_df_slippage_by_ticker` - average of slippage on trades split by ticker\n",
    "* `bar_trade_df_slippage_by_broker_id` - average of slippage on trades split by broker\n",
    "* `dist_order_df_slippage_by_side` - distribution of slippage on orders split up by buy/sell\n",
    "* `bar_order_df_slippage_by_ticker` - average of slippage on trades split by ticker\n",
    "* `bar_order_df_slippage_by_broker_id` - average of slippage on trades split by broker"
   ]
  },
  {
   "cell_type": "code",
   "execution_count": 34,
   "metadata": {
    "ExecuteTime": {
     "end_time": "2020-03-27T14:38:58.462518Z",
     "start_time": "2020-03-27T14:38:58.457637Z"
    }
   },
   "outputs": [
    {
     "data": {
      "text/plain": [
       "odict_keys(['trade_df', 'order_df', 'sparse_market_trade_df', 'sparse_market_order_df', 'market_df_downsampled', 'candlestick_fig', 'dist_trade_df_slippage_by_side', 'bar_trade_df_slippage_by_ticker', 'bar_trade_df_slippage_by_broker_id', 'dist_order_df_slippage_by_side', 'bar_order_df_slippage_by_ticker', 'bar_order_df_slippage_by_broker_id', 'market_df'])"
      ]
     },
     "execution_count": 34,
     "metadata": {},
     "output_type": "execute_result"
    }
   ],
   "source": [
    "dict_of_df.keys()"
   ]
  },
  {
   "cell_type": "markdown",
   "metadata": {},
   "source": [
    "We can use  the `PlotRender` object (which is used by the GUI) to create different sorts of Ploty charts such as the timelines, distributions etc. In this case we are plotting the distribution of the slippage by buy/sell. Note that if we'd used the `TCAResults` object instead it would have simplified this code."
   ]
  },
  {
   "cell_type": "code",
   "execution_count": 35,
   "metadata": {
    "ExecuteTime": {
     "end_time": "2020-03-27T14:39:00.187526Z",
     "start_time": "2020-03-27T14:38:59.568653Z"
    }
   },
   "outputs": [
    {
     "name": "stderr",
     "output_type": "stream",
     "text": [
      "2020-03-27 14:38:59,573; DEBUG:tcapy.vis.displaylisteners: Plotting distribution  (displaylisteners.py:1070)\n",
      "2020-03-27 14:38:59,735; DEBUG:tcapy.vis.displaylisteners: Rendered distribution  (displaylisteners.py:1074)\n"
     ]
    },
    {
     "data": {
      "image/png": "[encoded data removed]"
     },
     "metadata": {},
     "output_type": "display_data"
    }
   ],
   "source": [
    "plot_render = PlotRender()\n",
    "\n",
    "# Generate Plotly JSON Figure\n",
    "dist_fig = plot_render.plot_dist(dist_df=dict_of_df['dist_order_df_slippage_by_side'], \n",
    "          metric='slippage', split_by='side', width=chart_width, height=chart_height)\n",
    "   \n",
    "# Render the Plotly JSON Figure to view\n",
    "chart.plot(dist_fig, engine='plotly', style=style)"
   ]
  },
  {
   "cell_type": "markdown",
   "metadata": {},
   "source": [
    "Alternatively, we can push the output into a `TCAResults` object, which can simplify the TCA output, in an easier to use way. We can see that several charts end up getting rendered, both timeline and distribution plots."
   ]
  },
  {
   "cell_type": "code",
   "execution_count": 36,
   "metadata": {
    "ExecuteTime": {
     "end_time": "2020-03-27T14:39:02.560697Z",
     "start_time": "2020-03-27T14:39:01.273301Z"
    }
   },
   "outputs": [
    {
     "name": "stderr",
     "output_type": "stream",
     "text": [
      "2020-03-27 14:39:01,277; DEBUG:tcapy.vis.displaylisteners: Plotting main timeline 2214 (displaylisteners.py:855)\n",
      "2020-03-27 14:39:01,447; DEBUG:tcapy.vis.displaylisteners: Rendered plot 2214 and  (displaylisteners.py:865)\n",
      "2020-03-27 14:39:01,451; DEBUG:tcapy.vis.displaylisteners: Plotting main timeline 2208 (displaylisteners.py:855)\n",
      "2020-03-27 14:39:01,619; DEBUG:tcapy.vis.displaylisteners: Rendered plot 2208 and  (displaylisteners.py:865)\n",
      "2020-03-27 14:39:02,071; DEBUG:tcapy.vis.displaylisteners: Plotting distribution  (displaylisteners.py:1070)\n",
      "2020-03-27 14:39:02,209; DEBUG:tcapy.vis.displaylisteners: Rendered distribution  (displaylisteners.py:1074)\n",
      "2020-03-27 14:39:02,211; DEBUG:tcapy.vis.displaylisteners: Plotting distribution  (displaylisteners.py:1070)\n",
      "2020-03-27 14:39:02,557; DEBUG:tcapy.vis.displaylisteners: Rendered distribution  (displaylisteners.py:1074)\n"
     ]
    }
   ],
   "source": [
    "tca_results = TCAResults(dict_of_df, tca_request, chart_width=chart_width, chart_height=chart_height)\n",
    "tca_results.render_computation_charts()"
   ]
  },
  {
   "cell_type": "markdown",
   "metadata": {},
   "source": [
    "We can pickup the Plotly JSON `Figure` object ready made to push to `chartpy` for plotting."
   ]
  },
  {
   "cell_type": "code",
   "execution_count": 37,
   "metadata": {
    "ExecuteTime": {
     "end_time": "2020-03-27T14:39:05.094831Z",
     "start_time": "2020-03-27T14:39:04.872796Z"
    }
   },
   "outputs": [
    {
     "data": {
      "image/png": "[encoded data removed]"
     },
     "metadata": {},
     "output_type": "display_data"
    }
   ],
   "source": [
    "chart.plot(tca_results.dist_charts['trade_df_slippage_by_side'], engine='plotly', style=style)"
   ]
  },
  {
   "cell_type": "markdown",
   "metadata": {},
   "source": [
    "Depending on what we have specified to be calculated in the `TCARequest` the `TCAReport` can render the following charts (which are available as attributes\n",
    "\n",
    "* `timeline_charts` - timeline aggregates\n",
    "* `sparse_market_charts` - mixture of market data with points to denote trades/orders\n",
    "* `bar_charts` - average aggregates\n",
    "* `dist_charts` - distribution charts\n",
    "* `styled_tables` - tables in HTML format\n",
    "\n",
    "We can also get the underlying DataFrames using the following properties\n",
    "\n",
    "* `trade_order` - DataFrames of trades/orders\n",
    "* `timeline` - DataFrames of timelines\n",
    "* `sparse_market` - DataFrames with a mixture of market data/trade/order data\n",
    "* `bar` - DataFrames with bar chart style data\n",
    "* `dist` - DataFrames with distribution style dat\n",
    "* `table` - DataFrames intended to be displayed as tables\n",
    "* `market` - DataFrames with high frequency tick market data"
   ]
  },
  {
   "cell_type": "markdown",
   "metadata": {},
   "source": [
    "Let's see inside the `dist_charts` and `bar_charts` to see keys are available."
   ]
  },
  {
   "cell_type": "code",
   "execution_count": 38,
   "metadata": {
    "ExecuteTime": {
     "end_time": "2020-03-27T14:39:06.813324Z",
     "start_time": "2020-03-27T14:39:06.809420Z"
    }
   },
   "outputs": [
    {
     "name": "stdout",
     "output_type": "stream",
     "text": [
      "dict_keys(['trade_df_slippage_by_side', 'order_df_slippage_by_side'])\n",
      "dict_keys(['trade_df_slippage_by_ticker', 'trade_df_slippage_by_broker_id', 'order_df_slippage_by_ticker', 'order_df_slippage_by_broker_id'])\n"
     ]
    }
   ],
   "source": [
    "print(tca_results.dist_charts.keys())\n",
    "print(tca_results.bar_charts.keys())"
   ]
  },
  {
   "cell_type": "markdown",
   "metadata": {},
   "source": [
    "Plot the average slippage by ticker! In this case, we only have one ticker, so probably just easier to report the number itself, which arount 0.5 bp."
   ]
  },
  {
   "cell_type": "code",
   "execution_count": 39,
   "metadata": {
    "ExecuteTime": {
     "end_time": "2020-03-27T14:39:07.965610Z",
     "start_time": "2020-03-27T14:39:07.769840Z"
    }
   },
   "outputs": [
    {
     "name": "stdout",
     "output_type": "stream",
     "text": [
      "                ticker\n",
      "ticker_index          \n",
      "EURUSD       -0.525355\n"
     ]
    },
    {
     "data": {
      "image/png": "[encoded data removed]"
     },
     "metadata": {},
     "output_type": "display_data"
    }
   ],
   "source": [
    "print(tca_results.bar['order_df_slippage_by_ticker'])\n",
    "\n",
    "chart.plot(tca_results.bar_charts['order_df_slippage_by_ticker'], engine='plotly', style=style)"
   ]
  },
  {
   "cell_type": "markdown",
   "metadata": {},
   "source": [
    "Plot the average slippage by broker. Looks like `broker6` hasn't been particularly good!"
   ]
  },
  {
   "cell_type": "code",
   "execution_count": 40,
   "metadata": {
    "ExecuteTime": {
     "end_time": "2020-03-27T14:39:09.193515Z",
     "start_time": "2020-03-27T14:39:09.001194Z"
    }
   },
   "outputs": [
    {
     "data": {
      "image/png": "[encoded data removed]"
     },
     "metadata": {},
     "output_type": "display_data"
    }
   ],
   "source": [
    "chart.plot(tca_results.bar_charts['order_df_slippage_by_broker_id'], engine='plotly', style=style)"
   ]
  },
  {
   "cell_type": "markdown",
   "metadata": {},
   "source": [
    "Let's try seeing what the `sparse_market_chart` property looks like."
   ]
  },
  {
   "cell_type": "code",
   "execution_count": 41,
   "metadata": {
    "ExecuteTime": {
     "end_time": "2020-03-27T14:39:10.989694Z",
     "start_time": "2020-03-27T14:39:10.984814Z"
    }
   },
   "outputs": [
    {
     "name": "stdout",
     "output_type": "stream",
     "text": [
      "dict_keys(['EURUSD_trade_df', 'EURUSD_order_df'])\n"
     ]
    }
   ],
   "source": [
    "print(tca_results.sparse_market_charts.keys())"
   ]
  },
  {
   "cell_type": "markdown",
   "metadata": {},
   "source": [
    "We plot the market data benchmark alongside the trades as dots, sized by their executed notional and with different colors for buy (green) and sell (red)."
   ]
  },
  {
   "cell_type": "code",
   "execution_count": 43,
   "metadata": {
    "ExecuteTime": {
     "end_time": "2020-03-27T14:39:16.360325Z",
     "start_time": "2020-03-27T14:39:16.058164Z"
    }
   },
   "outputs": [
    {
     "data": {
      "image/png": "[encoded data removed]"
     },
     "metadata": {},
     "output_type": "display_data"
    }
   ],
   "source": [
    "chart.plot(tca_results.sparse_market_charts['EURUSD_trade_df'], engine='plotly', style=style)"
   ]
  },
  {
   "cell_type": "markdown",
   "metadata": {},
   "source": [
    "Because these charts are already Plotly Figure objects in JSON, we can also display them directly, without the `Chart` object."
   ]
  },
  {
   "cell_type": "code",
   "execution_count": 45,
   "metadata": {
    "ExecuteTime": {
     "end_time": "2020-03-27T14:40:23.807770Z",
     "start_time": "2020-03-27T14:40:23.689908Z"
    }
   },
   "outputs": [
    {
     "data": {
      "image/png": "[encoded data removed]"
     },
     "metadata": {},
     "output_type": "display_data"
    }
   ],
   "source": [
    "tca_results.sparse_market_charts['EURUSD_trade_df']"
   ]
  },
  {
   "cell_type": "markdown",
   "metadata": {},
   "source": [
    "If we print the charts, we can see inside the Plotly Figure JSON format."
   ]
  },
  {
   "cell_type": "code",
   "execution_count": 46,
   "metadata": {
    "ExecuteTime": {
     "end_time": "2020-03-27T14:40:54.355653Z",
     "start_time": "2020-03-27T14:40:54.321962Z"
    }
   },
   "outputs": [
    {
     "name": "stdout",
     "output_type": "stream",
     "text": [
      "Figure({\n",
      "    'data': [{'connectgaps': True,\n",
      "              'line': {'color': 'rgba(0.20392156862745098, 0.5411764705882353, 0.7411764705882353, 1.0)',\n",
      "                       'dash': 'solid',\n",
      "                       'width': 3},\n",
      "              'mode': 'lines',\n",
      "              'name': 'mid',\n",
      "              'text': '',\n",
      "              'type': 'scatter',\n",
      "              'x': [2017-05-05 00:00:00+00:00, 2017-05-05 00:20:00+00:00,\n",
      "                    2017-05-05 00:40:00+00:00, ..., 2017-05-09 23:00:00+00:00,\n",
      "                    2017-05-09 23:20:00+00:00, 2017-05-09 23:40:00+00:00],\n",
      "              'y': array([1.0980240106582642, 1.0979187488555908, 1.0977914333343506, ...,\n",
      "                          1.088395118713379, 1.088489294052124, 1.0888340473175049], dtype=object)},\n",
      "             {'connectgaps': True,\n",
      "              'line': {'color': 'rgba(0.0, 0.0, 0.0, 1.0)', 'dash': 'solid', 'width': 0.5},\n",
      "              'mode': 'lines',\n",
      "              'name': 'bid',\n",
      "              'text': '',\n",
      "              'type': 'scatter',\n",
      "              'x': [2017-05-05 00:00:00+00:00, 2017-05-05 00:20:00+00:00,\n",
      "                    2017-05-05 00:40:00+00:00, ..., 2017-05-09 23:00:00+00:00,\n",
      "                    2017-05-09 23:20:00+00:00, 2017-05-09 23:40:00+00:00],\n",
      "              'y': array([1.0980037450790405, 1.0978997945785522, 1.0977717638015747, ...,\n",
      "                          1.0883690118789673, 1.0884661674499512, 1.0888111591339111],\n",
      "                         dtype=object)},\n",
      "             {'connectgaps': True,\n",
      "              'line': {'color': 'rgba(0.0, 0.0, 0.0, 1.0)', 'dash': 'solid', 'width': 0.5},\n",
      "              'mode': 'lines',\n",
      "              'name': 'ask',\n",
      "              'text': '',\n",
      "              'type': 'scatter',\n",
      "              'x': [2017-05-05 00:00:00+00:00, 2017-05-05 00:20:00+00:00,\n",
      "                    2017-05-05 00:40:00+00:00, ..., 2017-05-09 23:00:00+00:00,\n",
      "                    2017-05-09 23:20:00+00:00, 2017-05-09 23:40:00+00:00],\n",
      "              'y': array([1.0980442762374878, 1.0979375839233398, 1.0978111028671265, ...,\n",
      "                          1.0884212255477905, 1.0885125398635864, 1.0888570547103882],\n",
      "                         dtype=object)},\n",
      "             {'connectgaps': True,\n",
      "              'line': {'color': 'rgba(0.5568627450980392, 0.7294117647058823, 0.25882352941176473, 1.0)',\n",
      "                       'dash': 'solid',\n",
      "                       'width': 1},\n",
      "              'marker': {'size': [0.0, 0.0, 0.0, ..., 0.0, 0.0, 0.0]},\n",
      "              'mode': 'markers',\n",
      "              'name': 'buy trade',\n",
      "              'text': '',\n",
      "              'type': 'scatter',\n",
      "              'x': [2017-05-05 00:00:00+00:00, 2017-05-05 00:20:00+00:00,\n",
      "                    2017-05-05 00:40:00+00:00, ..., 2017-05-09 23:00:00+00:00,\n",
      "                    2017-05-09 23:20:00+00:00, 2017-05-09 23:40:00+00:00],\n",
      "              'y': array(['', '', '', ..., '', '', ''], dtype=object)},\n",
      "             {'connectgaps': True,\n",
      "              'line': {'color': 'rgba(0.8862745098039215, 0.2901960784313726, 0.2, 1.0)', 'dash': 'solid', 'width': 1},\n",
      "              'marker': {'size': [0.0, 0.0, 0.0, ..., 0.0, 0.0, 0.0]},\n",
      "              'mode': 'markers',\n",
      "              'name': 'sell trade',\n",
      "              'text': '',\n",
      "              'type': 'scatter',\n",
      "              'x': [2017-05-05 00:00:00+00:00, 2017-05-05 00:20:00+00:00,\n",
      "                    2017-05-05 00:40:00+00:00, ..., 2017-05-09 23:00:00+00:00,\n",
      "                    2017-05-09 23:20:00+00:00, 2017-05-09 23:40:00+00:00],\n",
      "              'y': array(['', '', '', ..., '', '', ''], dtype=object)},\n",
      "             {'boxpoints': False,\n",
      "              'fillcolor': '#FFFFFF',\n",
      "              'line': {'color': '#808080'},\n",
      "              'name': 'Increasing',\n",
      "              'showlegend': False,\n",
      "              'type': 'box',\n",
      "              'whiskerwidth': 0,\n",
      "              'x': [2017-05-05T00:00:00, 2017-05-05T00:00:00, 2017-05-05T00:00:00,\n",
      "                    ..., 2017-05-09T23:20:00, 2017-05-09T23:20:00,\n",
      "                    2017-05-09T23:20:00],\n",
      "              'y': [1.0978950262069702, 1.098075032234192, 1.098140001296997, ...,\n",
      "                    1.088710069656372, 1.088710069656372, 1.0887550115585327]},\n",
      "             {'boxpoints': False,\n",
      "              'fillcolor': '#348ABD',\n",
      "              'line': {'color': '#348ABD'},\n",
      "              'name': 'Decreasing',\n",
      "              'showlegend': False,\n",
      "              'type': 'box',\n",
      "              'whiskerwidth': 0,\n",
      "              'x': [2017-05-05T00:20:00, 2017-05-05T00:20:00, 2017-05-05T00:20:00,\n",
      "                    ..., 2017-05-09T23:40:00, 2017-05-09T23:40:00,\n",
      "                    2017-05-09T23:40:00],\n",
      "              'y': [1.097754955291748, 1.0981299877166748, 1.0978000164031982,\n",
      "                    ..., 1.088629961013794, 1.088629961013794, 1.0890899896621704]}],\n",
      "    'layout': {'height': 500,\n",
      "               'legend': {'bgcolor': '#F5F6F9', 'font': {'color': '#4D5663'}, 'x': 0.05, 'y': 1},\n",
      "               'paper_bgcolor': 'rgba(0,0,0,0)',\n",
      "               'plot_bgcolor': 'rgba(0,0,0,0)',\n",
      "               'showlegend': True,\n",
      "               'template': '...',\n",
      "               'title': {'font': {'color': '#4D5663'}, 'text': 'EURUSD_trade_df'},\n",
      "               'width': 800,\n",
      "               'xaxis': {'gridcolor': '#E1E5ED',\n",
      "                         'showgrid': True,\n",
      "                         'tickfont': {'color': '#4D5663'},\n",
      "                         'title': {'font': {'color': '#4D5663'}, 'text': ''},\n",
      "                         'zerolinecolor': '#E1E5ED'},\n",
      "               'yaxis': {'gridcolor': '#E1E5ED',\n",
      "                         'showgrid': True,\n",
      "                         'tickfont': {'color': '#4D5663'},\n",
      "                         'title': {'font': {'color': '#4D5663'}, 'text': ''},\n",
      "                         'zerolinecolor': '#E1E5ED'}}\n",
      "})\n"
     ]
    }
   ],
   "source": [
    "print(tca_results.sparse_market_charts['EURUSD_trade_df'])"
   ]
  },
  {
   "cell_type": "markdown",
   "metadata": {},
   "source": [
    "### Turning off all caching"
   ]
  },
  {
   "cell_type": "markdown",
   "metadata": {},
   "source": [
    "Even if we have `use_multithreading=False` as a parameter it is likely that we'll end up doing using some caching Redis. \n",
    "\n",
    "We can turn off all caching entirely if we want by setting the below parameters in `multithreading_params`. If we just want to make a limited query of external market data this might be a good approach. In practive, we would recommend enabling both caching (in Redis), that reduces unneccessary downloading of market data and also `use_multithreading` to take advantage of parallel computation using Celery, which we'll discuss later."
   ]
  },
  {
   "cell_type": "code",
   "execution_count": 35,
   "metadata": {
    "ExecuteTime": {
     "end_time": "2020-03-20T00:15:40.405298Z",
     "start_time": "2020-03-20T00:15:15.099775Z"
    }
   },
   "outputs": [
    {
     "name": "stderr",
     "output_type": "stream",
     "text": [
      "2020-03-20 00:15:15,102; INFO:tcapy.analysis.tcaengine: More than 1 ticker specified for TCA detailed computation. Only working on first (tcaengine.py:122)\n",
      "2020-03-20 00:15:15,103; DEBUG:tcapy.analysis.tcamarkettradeloader: Start loading trade/data/computation (tcamarkettradeloader.py:229)\n",
      "2020-03-20 00:15:15,104; DEBUG:tcapy.analysis.tcatickerloaderimpl: Get market and trade/order data for EURUSD from 2017-05-05 00:00:00+00:00 - 2017-05-10 00:00:00+00:00 (tcatickerloaderimpl.py:80)\n",
      "2020-03-20 00:15:15,105; DEBUG:tcapy.data.databasesource: Downloading 2017-05-05 00:00:00 - 2017-05-10 00:00:00 for EURUSD (databasesource.py:3164)\n",
      "2020-03-20 00:15:23,402; WARNING:tcapy.analysis.algos.benchmark: mid not in market data (benchmark.py:106)\n",
      "2020-03-20 00:15:23,403; DEBUG:tcapy.analysis.tcatickerloader: Get trade order holder for EURUSD from 2017-05-05 00:00:00+00:00 - 2017-05-10 00:00:00+00:00 (tcatickerloader.py:359)\n",
      "2020-03-20 00:15:23,441; WARNING:tcapy.data.datafactory: Dataframe empty for ticker USDEUR (datafactory.py:92)\n",
      "2020-03-20 00:15:23,443; DEBUG:tcapy.data.databasesource: Downloading 2017-05-05 00:00:00 - 2017-05-10 00:00:00 for EURUSD (databasesource.py:3164)\n",
      "2020-03-20 00:15:31,696; WARNING:tcapy.analysis.algos.benchmark: mid not in market data (benchmark.py:106)\n",
      "2020-03-20 00:15:31,732; WARNING:tcapy.data.datafactory: Dataframe empty for ticker USDEUR (datafactory.py:92)\n",
      "2020-03-20 00:15:31,733; DEBUG:tcapy.data.databasesource: Downloading 2017-05-05 00:00:00 - 2017-05-10 00:00:00 for EURUSD (databasesource.py:3164)\n",
      "2020-03-20 00:15:40,004; WARNING:tcapy.analysis.algos.benchmark: mid not in market data (benchmark.py:106)\n",
      "2020-03-20 00:15:40,009; DEBUG:tcapy.analysis.tcatickerloader: Filter the market date by start/finish date (tcatickerloader.py:716)\n",
      "2020-03-20 00:15:40,017; DEBUG:tcapy.analysis.tcatickerloader: Combine trade/order data (tcatickerloader.py:737)\n",
      "2020-03-20 00:15:40,024; DEBUG:tcapy.analysis.tcatickerloader: Filter trades by venue (tcatickerloader.py:435)\n",
      "2020-03-20 00:15:40,026; DEBUG:tcapy.analysis.tcatickerloader: Calculating derived fields and benchmarks (tcatickerloader.py:485)\n",
      "2020-03-20 00:15:40,027; DEBUG:tcapy.analysis.tcatickerloader: Calculating execution fields (tcatickerloader.py:487)\n",
      "2020-03-20 00:15:40,035; DEBUG:tcapy.analysis.tcatickerloader: Calculating benchmarks (tcatickerloader.py:513)\n",
      "2020-03-20 00:15:40,036; DEBUG:tcapy.analysis.tcatickerloader: Calculating BenchmarkSpreadToMid for market data (tcatickerloader.py:521)\n",
      "2020-03-20 00:15:40,056; DEBUG:tcapy.analysis.tcatickerloader: Calculating metrics (tcatickerloader.py:538)\n",
      "2020-03-20 00:15:40,057; DEBUG:tcapy.analysis.tcatickerloader: Calculating MetricSlippage for trade_df (tcatickerloader.py:544)\n",
      "2020-03-20 00:15:40,074; DEBUG:tcapy.analysis.tcatickerloader: Calculating MetricTransientMarketImpact for trade_df (tcatickerloader.py:544)\n",
      "2020-03-20 00:15:40,096; DEBUG:tcapy.analysis.tcatickerloader: Calculating MetricSlippage for order_df (tcatickerloader.py:544)\n",
      "2020-03-20 00:15:40,114; DEBUG:tcapy.analysis.tcatickerloader: Calculating MetricTransientMarketImpact for order_df (tcatickerloader.py:544)\n",
      "2020-03-20 00:15:40,130; DEBUG:tcapy.analysis.tcatickerloader: Completed derived field calculations for EURUSD (tcatickerloader.py:552)\n",
      "2020-03-20 00:15:40,131; DEBUG:tcapy.analysis.tcatickerloaderimpl: Generating downsampled market data for potentional display (tcatickerloaderimpl.py:270)\n",
      "2020-03-20 00:15:40,149; DEBUG:tcapy.analysis.tcatickerloaderimpl: About to join (tcatickerloaderimpl.py:331)\n",
      "2020-03-20 00:15:40,152; DEBUG:tcapy.analysis.tcatickerloaderimpl: Finished joining (tcatickerloaderimpl.py:347)\n",
      "2020-03-20 00:15:40,155; DEBUG:tcapy.analysis.tcatickerloaderimpl: About to join (tcatickerloaderimpl.py:331)\n",
      "2020-03-20 00:15:40,158; DEBUG:tcapy.analysis.tcatickerloaderimpl: Finished joining (tcatickerloaderimpl.py:347)\n",
      "2020-03-20 00:15:40,315; DEBUG:tcapy.analysis.tcamarkettradeloader: Finished loading data and calculating metrics on individual tickers (tcamarkettradeloader.py:236)\n",
      "2020-03-20 00:15:40,315; DEBUG:tcapy.analysis.tcamarkettradeloaderimpl: Constructing results form to summarize analysis... (tcamarkettradeloaderimpl.py:69)\n",
      "2020-03-20 00:15:40,400; DEBUG:tcapy.analysis.tcamarkettradeloaderimpl: Now join table results... (tcamarkettradeloaderimpl.py:99)\n",
      "2020-03-20 00:15:40,401; DEBUG:tcapy.analysis.tcamarkettradeloaderimpl: Finished calculating results form and join table results! (tcamarkettradeloaderimpl.py:112)\n"
     ]
    },
    {
     "name": "stdout",
     "output_type": "stream",
     "text": [
      "Wall time: 25.3 s\n"
     ]
    }
   ],
   "source": [
    "%%time\n",
    "\n",
    "tca_request.multithreading_params = {'splice_request_by_dates': False,  # True or False\n",
    "    'cache_period': 'day',  # month or week or day\n",
    "    'cache_period_trade_data': False, # Cache trade data in monthly/periodic chunks in Redis\n",
    "    'cache_period_market_data': False, # Cache market data in monthly/periodic chunks in Redis\n",
    "    'return_cache_handles_trade_data': False, # Return trade data internally as handles (usually necessary for Celery)\n",
    "    'return_cache_handles_market_data': False, # Return market data internally as handles (usually necessary for Celery)\n",
    "    'parallel_library': 'single' # Use single threading                           \n",
    "}\n",
    "\n",
    "# Dictionary of (mostly) dataframes as output from TCA calculation\n",
    "dict_of_df = tca_engine.calculate_tca(tca_request)"
   ]
  },
  {
   "cell_type": "markdown",
   "metadata": {},
   "source": [
    "Let's see what's in the output."
   ]
  },
  {
   "cell_type": "code",
   "execution_count": 36,
   "metadata": {
    "ExecuteTime": {
     "end_time": "2020-03-20T00:15:40.411281Z",
     "start_time": "2020-03-20T00:15:40.406296Z"
    }
   },
   "outputs": [
    {
     "data": {
      "text/plain": [
       "odict_keys(['trade_df', 'order_df', 'sparse_market_trade_df', 'sparse_market_order_df', 'market_df_downsampled', 'candlestick_fig', 'dist_trade_df_slippage_by_side', 'bar_trade_df_slippage_by_ticker', 'bar_trade_df_slippage_by_broker_id', 'dist_order_df_slippage_by_side', 'bar_order_df_slippage_by_ticker', 'bar_order_df_slippage_by_broker_id', 'market_df'])"
      ]
     },
     "execution_count": 36,
     "metadata": {},
     "output_type": "execute_result"
    }
   ],
   "source": [
    "dict_of_df.keys()"
   ]
  },
  {
   "cell_type": "markdown",
   "metadata": {},
   "source": [
    "## Aggregated computation - Celery and using market data from database\n",
    "\n",
    "Let's say we want to compute several crosses? We can do that by changing the `tca_type` to `aggregated`. \n",
    "\n",
    "We'll also change our data source to use our (already populated) Arctic/MongoDB database which has Dukascopy data. There is a `DatabasePopulator` class which helps us to populate databases. We'll also change `use_multithreading` to `True`, so we can use Celery, and hence different workers will be used for each currency pair to compute various metrics and benchmarks. Then the original process will do the final calculations, which are typically much less onerous (such as creating aggregated statistics).\n",
    "\n",
    "Underneath the caching when setting `use_multithreading` to `True` also becomes complicated (eg. into `month` or `week` or `day` chunks), so we might end up trying to get more data than needed, before truncating. This means that when we hit the cache again with slightly different dates, it is still likely we'll be able to get data. If you are using an external source, `monthly` could end up making your very first call quite slow. \n",
    "\n",
    "A few points about Celery\n",
    "\n",
    "* Redis as a message broker between the client and the Celery worker\n",
    "* Memcached as a result backend once the Celery worker has finished\n",
    "* If you use Redis for both, you can often encounter race conditions\n",
    "* Memcached should be used with `python-memcached` to manage communication between Celery and Memcached as `pylibmc` is not thread-safe\n",
    "* If you have more powerful hardware, you can increase the number of Celery workers in `restart_tcapy.py`\n",
    "\n",
    "Typically, we'd recommend using `day` and this is the default, as it enables tcapy to make many calls at once to fetch the data either from the cache or database, rather than blocking for a long time grabbing large periods of data. Furthermore, it parallelizes the various serialisation/deserialisation from the cache. At the same time, making the chunks very small (eg. hour) seemed to result in too much overhead related to the parallisation process. You have to be careful though that you are not overloading your database with too many calls.\n",
    "\n",
    "We can also split up computation by date, not only the loading/caching data, but this can impact the final results if orders go across boundaries (eg. across daily boundaries). Furthermore, in our testing it wasn't clear if there was any noticable improvement in speed. Most of the time of the calculation was typically spend loading market/trade/order data, hence, why the caching of this data and also the splitting up of these data requests, seemed to have a reasonable impact.\n",
    "\n",
    "*Note, at the current time that directly downloading for Dukascopy should only be done when `use_multithreading=False` as the implementation currently not thread-safe.*"
   ]
  },
  {
   "cell_type": "code",
   "execution_count": 37,
   "metadata": {
    "ExecuteTime": {
     "end_time": "2020-03-20T00:15:40.419260Z",
     "start_time": "2020-03-20T00:15:40.412279Z"
    }
   },
   "outputs": [],
   "source": [
    "tca_request = TCARequest(start_date='05 May 2017', finish_date='10 May 2017', ticker=['EURUSD', 'USDJPY'],\n",
    "                         tca_type='aggregated',\n",
    "                         trade_data_store='csv', market_data_store='arctic-dukascopy',\n",
    "                         trade_order_mapping=remote_csv_trade_order_mapping,\n",
    "                         metric_calcs=[MetricSlippage(), MetricTransientMarketImpact(\n",
    "                             transient_market_impact_gap={'5' : 's'})],\n",
    "                         results_form=[BarResultsForm(metric_name='slippage', aggregate_by_field='ticker', scalar=10000.0)],\n",
    "                         benchmark_calcs=[BenchmarkSpreadToMid()],\n",
    "                         use_multithreading=True)"
   ]
  },
  {
   "cell_type": "markdown",
   "metadata": {},
   "source": [
    "### Comparing speed between parallel and single threaded \n",
    "\n",
    "The log output will appear to be less, because most of it will now be in the `celery.log` file, generated by the various workers. It'll take around 7 seconds on my machine, with the cache emptied."
   ]
  },
  {
   "cell_type": "code",
   "execution_count": 38,
   "metadata": {
    "ExecuteTime": {
     "end_time": "2020-03-20T00:15:50.855976Z",
     "start_time": "2020-03-20T00:15:40.420258Z"
    }
   },
   "outputs": [
    {
     "name": "stderr",
     "output_type": "stream",
     "text": [
      "2020-03-20 00:15:40,427; DEBUG:tcapy.analysis.tcamarkettradeloader: Start loading trade/data/computation (tcamarkettradeloader.py:229)\n",
      "2020-03-20 00:15:40,429; DEBUG:tcapy.analysis.tcamarkettradeloaderimpl: Split TCA request for EURUSD dates  / 2017-05-05 00:00:00+00:00 to 2017-05-05 23:59:59.999999+00:00 / 2017-05-06 00:00:00+00:00 to 2017-05-06 23:59:59.999999+00:00 / 2017-05-07 00:00:00+00:00 to 2017-05-07 23:59:59.999999+00:00 / 2017-05-08 00:00:00+00:00 to 2017-05-08 23:59:59.999999+00:00 / 2017-05-09 00:00:00+00:00 to 2017-05-09 23:59:59.999999+00:00 / 2017-05-10 00:00:00+00:00 to 2017-05-10 23:59:59.999999+00:00 from original request 2017-05-05 00:00:00+00:00 to 2017-05-10 00:00:00+00:00 (tcamarkettradeloaderimpl.py:329)\n",
      "2020-03-20 00:15:44,538; DEBUG:tcapy.analysis.tcamarkettradeloaderimpl: Split TCA request for USDJPY dates  / 2017-05-05 00:00:00+00:00 to 2017-05-05 23:59:59.999999+00:00 / 2017-05-06 00:00:00+00:00 to 2017-05-06 23:59:59.999999+00:00 / 2017-05-07 00:00:00+00:00 to 2017-05-07 23:59:59.999999+00:00 / 2017-05-08 00:00:00+00:00 to 2017-05-08 23:59:59.999999+00:00 / 2017-05-09 00:00:00+00:00 to 2017-05-09 23:59:59.999999+00:00 / 2017-05-10 00:00:00+00:00 to 2017-05-10 23:59:59.999999+00:00 from original request 2017-05-05 00:00:00+00:00 to 2017-05-10 00:00:00+00:00 (tcamarkettradeloaderimpl.py:329)\n",
      "2020-03-20 00:15:50,555; DEBUG:tcapy.analysis.tcamarkettradeloaderimpl: Finished parallel computation (tcamarkettradeloaderimpl.py:241)\n",
      "2020-03-20 00:15:50,556; DEBUG:tcapy.data.volatilecache: Attempting to get list from cache: ['2020-03-20 00:15:49.995508__df_comp_382_expiry_'] (volatilecache.py:763)\n",
      "2020-03-20 00:15:50,608; DEBUG:tcapy.data.volatilecache: Deleted 1 keys (volatilecache.py:799)\n",
      "2020-03-20 00:15:50,678; DEBUG:tcapy.data.volatilecache: Attempting to get list from cache: ['2020-03-20 00:15:46.154403__df_comp_7025_expiry_'] (volatilecache.py:763)\n",
      "2020-03-20 00:15:50,728; DEBUG:tcapy.data.volatilecache: Deleted 1 keys (volatilecache.py:799)\n",
      "2020-03-20 00:15:50,801; DEBUG:tcapy.data.volatilecache: Attempting to get list from cache: ['2020-03-20 00:15:50.283860__df_comp_2665_expiry_', '2020-03-20 00:15:46.447042__df_comp_80039_expiry_'] (volatilecache.py:763)\n",
      "2020-03-20 00:15:50,803; DEBUG:tcapy.data.volatilecache: Deleted 2 keys (volatilecache.py:799)\n",
      "2020-03-20 00:15:50,815; DEBUG:tcapy.data.volatilecache: Attempting to get list from cache: ['2020-03-20 00:15:50.283885__df_comp_69493_expiry_', '2020-03-20 00:15:46.447067__df_comp_26419_expiry_'] (volatilecache.py:763)\n",
      "2020-03-20 00:15:50,817; DEBUG:tcapy.data.volatilecache: Deleted 2 keys (volatilecache.py:799)\n",
      "2020-03-20 00:15:50,828; DEBUG:tcapy.analysis.tcamarkettradeloader: Finished loading data and calculating metrics on individual tickers (tcamarkettradeloader.py:236)\n",
      "2020-03-20 00:15:50,829; DEBUG:tcapy.analysis.tcamarkettradeloaderimpl: Constructing results form to summarize analysis... (tcamarkettradeloaderimpl.py:69)\n",
      "2020-03-20 00:15:50,851; DEBUG:tcapy.analysis.tcamarkettradeloaderimpl: Now join table results... (tcamarkettradeloaderimpl.py:99)\n",
      "2020-03-20 00:15:50,852; DEBUG:tcapy.analysis.tcamarkettradeloaderimpl: Finished calculating results form and join table results! (tcamarkettradeloaderimpl.py:112)\n"
     ]
    },
    {
     "name": "stdout",
     "output_type": "stream",
     "text": [
      "Wall time: 10.4 s\n"
     ]
    }
   ],
   "source": [
    "%%time\n",
    "\n",
    "volatile_cache.clear_cache()\n",
    "\n",
    "# Dictionary of (mostly) dataframes as output from TCA calculation\n",
    "dict_of_df = tca_engine.calculate_tca(tca_request)"
   ]
  },
  {
   "cell_type": "markdown",
   "metadata": {},
   "source": [
    "If we empty the cache, and turn off multithreading on my machine it takes around 5 seconds. It isn't always the case that single threading is going to be faster for small date windows."
   ]
  },
  {
   "cell_type": "code",
   "execution_count": 39,
   "metadata": {
    "ExecuteTime": {
     "end_time": "2020-03-20T00:15:56.079091Z",
     "start_time": "2020-03-20T00:15:50.856972Z"
    }
   },
   "outputs": [
    {
     "name": "stderr",
     "output_type": "stream",
     "text": [
      "2020-03-20 00:15:50,859; DEBUG:tcapy.analysis.tcamarkettradeloader: Start loading trade/data/computation (tcamarkettradeloader.py:229)\n",
      "2020-03-20 00:15:50,860; DEBUG:tcapy.analysis.tcatickerloaderimpl: Get market and trade/order data for EURUSD from 2017-05-05 00:00:00+00:00 - 2017-05-10 00:00:00+00:00 (tcatickerloaderimpl.py:80)\n",
      "2020-03-20 00:15:50,861; DEBUG:tcapy.data.volatilecache: Attempting to get list from cache: ['arctic-dukascopy_EURUSD_2017-05-05 00:00:00+00:00_2017-05-10 00:00:00+00:00_market_df_None_comp'] (volatilecache.py:763)\n",
      "2020-03-20 00:15:50,862; DEBUG:tcapy.data.volatilecache: Attempting to get list from cache: ['arctic-dukascopy_EURUSD_2017-05-05 00:00:00+00:00_2017-05-10 00:00:00+00:00_market_df_None_comp'] (volatilecache.py:763)\n",
      "2020-03-20 00:15:50,911; INFO:tcapy.data.databasesource: Attempting to load Arctic/MongoDB library: market_data_table (databasesource.py:1792)\n",
      "2020-03-20 00:15:50,913; INFO:tcapy.data.databasesource: Got Arctic/MongoDB library: market_data_table (databasesource.py:1812)\n",
      "2020-03-20 00:15:51,164; DEBUG:tcapy.data.databasesource: Extracted Arctic/MongoDB library: market_data_table for ticker EURUSD-dukascopy between 2017-05-05 00:00:00 - 2017-05-10 00:00:00 from VERSION_STORE (databasesource.py:1864)\n",
      "2020-03-20 00:15:51,235; DEBUG:tcapy.data.volatilecache: Attempting to push ['arctic-dukascopy_EURUSD_2017-05-05 00:00:00+00:00_2017-05-10 00:00:00+00:00_market_df_None_comp'] to cache (volatilecache.py:429)\n",
      "2020-03-20 00:15:51,434; DEBUG:tcapy.data.volatilecache: Pandas dataframe of size: ----------- 32.309 MB ----------- in 1 chunk(s) (volatilecache.py:517)\n",
      "2020-03-20 00:15:51,527; DEBUG:tcapy.data.volatilecache: Now pushing ['arctic-dukascopy_EURUSD_2017-05-05 00:00:00+00:00_2017-05-10 00:00:00+00:00_market_df_None_comp'] to cache (volatilecache.py:442)\n",
      "2020-03-20 00:15:51,554; DEBUG:tcapy.data.volatilecache: Pushed ['arctic-dukascopy_EURUSD_2017-05-05 00:00:00+00:00_2017-05-10 00:00:00+00:00_market_df_None_comp'] to cache (volatilecache.py:460)\n",
      "2020-03-20 00:15:51,556; DEBUG:tcapy.data.volatilecache: Attempting to push ['arctic-dukascopy_EURUSD_2017-05-05 00:00:00+00:00_2017-05-10 00:00:00+00:00_market_df_None_comp'] to cache (volatilecache.py:429)\n",
      "2020-03-20 00:15:51,748; DEBUG:tcapy.data.volatilecache: Pandas dataframe of size: ----------- 32.309 MB ----------- in 1 chunk(s) (volatilecache.py:517)\n",
      "2020-03-20 00:15:51,842; DEBUG:tcapy.data.volatilecache: Now pushing ['arctic-dukascopy_EURUSD_2017-05-05 00:00:00+00:00_2017-05-10 00:00:00+00:00_market_df_None_comp'] to cache (volatilecache.py:442)\n",
      "2020-03-20 00:15:51,870; DEBUG:tcapy.data.volatilecache: Pushed ['arctic-dukascopy_EURUSD_2017-05-05 00:00:00+00:00_2017-05-10 00:00:00+00:00_market_df_None_comp'] to cache (volatilecache.py:460)\n",
      "2020-03-20 00:15:51,872; DEBUG:tcapy.data.volatilecache: Attempting to push ['2020-03-20 00:15:51.872885__df_comp_81142_expiry_'] to cache (volatilecache.py:429)\n",
      "2020-03-20 00:15:52,068; DEBUG:tcapy.data.volatilecache: Pandas dataframe of size: ----------- 32.309 MB ----------- in 1 chunk(s) (volatilecache.py:517)\n",
      "2020-03-20 00:15:52,163; DEBUG:tcapy.data.volatilecache: Now pushing ['2020-03-20 00:15:51.872885__df_comp_81142_expiry_'] to cache (volatilecache.py:442)\n",
      "2020-03-20 00:15:52,189; DEBUG:tcapy.data.volatilecache: Pushed ['2020-03-20 00:15:51.872885__df_comp_81142_expiry_'] to cache (volatilecache.py:460)\n",
      "2020-03-20 00:15:52,198; DEBUG:tcapy.analysis.tcatickerloader: Get trade order holder for EURUSD from 2017-05-05 00:00:00+00:00 - 2017-05-10 00:00:00+00:00 (tcatickerloader.py:359)\n",
      "2020-03-20 00:15:52,241; WARNING:tcapy.data.datafactory: Dataframe empty for ticker USDEUR (datafactory.py:92)\n",
      "2020-03-20 00:15:52,243; DEBUG:tcapy.data.volatilecache: Attempting to get list from cache: ['arctic-dukascopy_EURUSD_2017-05-05 00:00:00+00:00_2017-05-10 00:00:00+00:00_market_df_None_comp'] (volatilecache.py:763)\n",
      "2020-03-20 00:15:52,361; DEBUG:tcapy.data.volatilecache: Attempting to push ['2020-03-20 00:15:52.361735__df_comp_47394_expiry_'] to cache (volatilecache.py:429)\n",
      "2020-03-20 00:15:52,364; DEBUG:tcapy.data.volatilecache: Pandas dataframe of size: ----------- 0.02 MB ----------- in 1 chunk(s) (volatilecache.py:517)\n",
      "2020-03-20 00:15:52,367; DEBUG:tcapy.data.volatilecache: Now pushing ['2020-03-20 00:15:52.361735__df_comp_47394_expiry_'] to cache (volatilecache.py:442)\n",
      "2020-03-20 00:15:52,368; DEBUG:tcapy.data.volatilecache: Pushed ['2020-03-20 00:15:52.361735__df_comp_47394_expiry_'] to cache (volatilecache.py:460)\n",
      "2020-03-20 00:15:52,400; WARNING:tcapy.data.datafactory: Dataframe empty for ticker USDEUR (datafactory.py:92)\n",
      "2020-03-20 00:15:52,401; DEBUG:tcapy.data.volatilecache: Attempting to get list from cache: ['arctic-dukascopy_EURUSD_2017-05-05 00:00:00+00:00_2017-05-10 00:00:00+00:00_market_df_None_comp'] (volatilecache.py:763)\n",
      "2020-03-20 00:15:52,521; DEBUG:tcapy.data.volatilecache: Attempting to push ['2020-03-20 00:15:52.521838__df_comp_87504_expiry_'] to cache (volatilecache.py:429)\n",
      "2020-03-20 00:15:52,525; DEBUG:tcapy.data.volatilecache: Pandas dataframe of size: ----------- 0.008 MB ----------- in 1 chunk(s) (volatilecache.py:517)\n",
      "2020-03-20 00:15:52,527; DEBUG:tcapy.data.volatilecache: Now pushing ['2020-03-20 00:15:52.521838__df_comp_87504_expiry_'] to cache (volatilecache.py:442)\n",
      "2020-03-20 00:15:52,528; DEBUG:tcapy.data.volatilecache: Pushed ['2020-03-20 00:15:52.521838__df_comp_87504_expiry_'] to cache (volatilecache.py:460)\n",
      "2020-03-20 00:15:52,529; DEBUG:tcapy.data.volatilecache: Attempting to get list from cache: ['2020-03-20 00:15:51.872885__df_comp_81142_expiry_'] (volatilecache.py:763)\n",
      "2020-03-20 00:15:52,572; DEBUG:tcapy.data.volatilecache: Deleted 1 keys (volatilecache.py:799)\n",
      "2020-03-20 00:15:52,637; DEBUG:tcapy.analysis.tcatickerloader: Filter the market date by start/finish date (tcatickerloader.py:716)\n",
      "2020-03-20 00:15:52,652; DEBUG:tcapy.analysis.tcatickerloader: Combine trade/order data (tcatickerloader.py:737)\n",
      "2020-03-20 00:15:52,653; DEBUG:tcapy.data.volatilecache: Attempting to get list from cache: ['2020-03-20 00:15:52.361735__df_comp_47394_expiry_'] (volatilecache.py:763)\n",
      "2020-03-20 00:15:52,654; DEBUG:tcapy.data.volatilecache: Deleted 1 keys (volatilecache.py:799)\n",
      "2020-03-20 00:15:52,657; DEBUG:tcapy.data.volatilecache: Attempting to get list from cache: ['2020-03-20 00:15:52.521838__df_comp_87504_expiry_'] (volatilecache.py:763)\n",
      "2020-03-20 00:15:52,658; DEBUG:tcapy.data.volatilecache: Deleted 1 keys (volatilecache.py:799)\n",
      "2020-03-20 00:15:52,664; DEBUG:tcapy.analysis.tcatickerloader: Filter trades by venue (tcatickerloader.py:435)\n",
      "2020-03-20 00:15:52,666; DEBUG:tcapy.analysis.tcatickerloader: Calculating derived fields and benchmarks (tcatickerloader.py:485)\n",
      "2020-03-20 00:15:52,667; DEBUG:tcapy.analysis.tcatickerloader: Calculating execution fields (tcatickerloader.py:487)\n",
      "2020-03-20 00:15:52,676; DEBUG:tcapy.analysis.tcatickerloader: Calculating benchmarks (tcatickerloader.py:513)\n",
      "2020-03-20 00:15:52,677; DEBUG:tcapy.analysis.tcatickerloader: Calculating BenchmarkSpreadToMid for market data (tcatickerloader.py:521)\n",
      "2020-03-20 00:15:52,697; DEBUG:tcapy.analysis.tcatickerloader: Calculating metrics (tcatickerloader.py:538)\n",
      "2020-03-20 00:15:52,698; DEBUG:tcapy.analysis.tcatickerloader: Calculating MetricSlippage for trade_df (tcatickerloader.py:544)\n",
      "2020-03-20 00:15:52,715; DEBUG:tcapy.analysis.tcatickerloader: Calculating MetricTransientMarketImpact for trade_df (tcatickerloader.py:544)\n",
      "2020-03-20 00:15:52,739; DEBUG:tcapy.analysis.tcatickerloader: Calculating MetricSlippage for order_df (tcatickerloader.py:544)\n",
      "2020-03-20 00:15:52,757; DEBUG:tcapy.analysis.tcatickerloader: Calculating MetricTransientMarketImpact for order_df (tcatickerloader.py:544)\n",
      "2020-03-20 00:15:52,773; DEBUG:tcapy.analysis.tcatickerloader: Completed derived field calculations for EURUSD (tcatickerloader.py:552)\n",
      "2020-03-20 00:15:52,774; DEBUG:tcapy.data.volatilecache: Attempting to push ['2020-03-20 00:15:52.774185__df_comp_18404_expiry_'] to cache (volatilecache.py:429)\n",
      "2020-03-20 00:15:52,973; DEBUG:tcapy.data.volatilecache: Pandas dataframe of size: ----------- 33.955 MB ----------- in 1 chunk(s) (volatilecache.py:517)\n",
      "2020-03-20 00:15:53,074; DEBUG:tcapy.data.volatilecache: Now pushing ['2020-03-20 00:15:52.774185__df_comp_18404_expiry_'] to cache (volatilecache.py:442)\n",
      "2020-03-20 00:15:53,105; DEBUG:tcapy.data.volatilecache: Pushed ['2020-03-20 00:15:52.774185__df_comp_18404_expiry_'] to cache (volatilecache.py:460)\n",
      "2020-03-20 00:15:53,107; DEBUG:tcapy.data.volatilecache: Attempting to push ['2020-03-20 00:15:53.107903__df_comp_62508_expiry_', '2020-03-20 00:15:53.107903__df_comp_78269_expiry_'] to cache (volatilecache.py:429)\n",
      "2020-03-20 00:15:53,111; DEBUG:tcapy.data.volatilecache: Pandas dataframe of size: ----------- 0.011 MB ----------- in 1 chunk(s) (volatilecache.py:517)\n",
      "2020-03-20 00:15:53,117; DEBUG:tcapy.data.volatilecache: Pandas dataframe of size: ----------- 0.008 MB ----------- in 1 chunk(s) (volatilecache.py:517)\n",
      "2020-03-20 00:15:53,119; DEBUG:tcapy.data.volatilecache: Now pushing ['2020-03-20 00:15:53.107903__df_comp_62508_expiry_', '2020-03-20 00:15:53.107903__df_comp_78269_expiry_'] to cache (volatilecache.py:442)\n",
      "2020-03-20 00:15:53,120; DEBUG:tcapy.data.volatilecache: Pushed ['2020-03-20 00:15:53.107903__df_comp_62508_expiry_', '2020-03-20 00:15:53.107903__df_comp_78269_expiry_'] to cache (volatilecache.py:460)\n",
      "2020-03-20 00:15:53,129; DEBUG:tcapy.analysis.tcatickerloaderimpl: Get market and trade/order data for USDJPY from 2017-05-05 00:00:00+00:00 - 2017-05-10 00:00:00+00:00 (tcatickerloaderimpl.py:80)\n",
      "2020-03-20 00:15:53,129; DEBUG:tcapy.data.volatilecache: Attempting to get list from cache: ['arctic-dukascopy_USDJPY_2017-05-05 00:00:00+00:00_2017-05-10 00:00:00+00:00_market_df_None_comp'] (volatilecache.py:763)\n",
      "2020-03-20 00:15:53,131; DEBUG:tcapy.data.volatilecache: Attempting to get list from cache: ['arctic-dukascopy_USDJPY_2017-05-05 00:00:00+00:00_2017-05-10 00:00:00+00:00_market_df_None_comp'] (volatilecache.py:763)\n",
      "2020-03-20 00:15:53,162; INFO:tcapy.data.databasesource: Attempting to load Arctic/MongoDB library: market_data_table (databasesource.py:1792)\n",
      "2020-03-20 00:15:53,164; INFO:tcapy.data.databasesource: Got Arctic/MongoDB library: market_data_table (databasesource.py:1812)\n",
      "2020-03-20 00:15:53,424; DEBUG:tcapy.data.databasesource: Extracted Arctic/MongoDB library: market_data_table for ticker USDJPY-dukascopy between 2017-05-05 00:00:00 - 2017-05-10 00:00:00 from VERSION_STORE (databasesource.py:1864)\n",
      "2020-03-20 00:15:53,496; DEBUG:tcapy.data.volatilecache: Attempting to push ['arctic-dukascopy_USDJPY_2017-05-05 00:00:00+00:00_2017-05-10 00:00:00+00:00_market_df_None_comp'] to cache (volatilecache.py:429)\n",
      "2020-03-20 00:15:53,726; DEBUG:tcapy.data.volatilecache: Pandas dataframe of size: ----------- 33.62 MB ----------- in 1 chunk(s) (volatilecache.py:517)\n",
      "2020-03-20 00:15:53,824; DEBUG:tcapy.data.volatilecache: Now pushing ['arctic-dukascopy_USDJPY_2017-05-05 00:00:00+00:00_2017-05-10 00:00:00+00:00_market_df_None_comp'] to cache (volatilecache.py:442)\n",
      "2020-03-20 00:15:53,856; DEBUG:tcapy.data.volatilecache: Pushed ['arctic-dukascopy_USDJPY_2017-05-05 00:00:00+00:00_2017-05-10 00:00:00+00:00_market_df_None_comp'] to cache (volatilecache.py:460)\n",
      "2020-03-20 00:15:53,857; DEBUG:tcapy.data.volatilecache: Attempting to push ['arctic-dukascopy_USDJPY_2017-05-05 00:00:00+00:00_2017-05-10 00:00:00+00:00_market_df_None_comp'] to cache (volatilecache.py:429)\n",
      "2020-03-20 00:15:54,059; DEBUG:tcapy.data.volatilecache: Pandas dataframe of size: ----------- 33.62 MB ----------- in 1 chunk(s) (volatilecache.py:517)\n",
      "2020-03-20 00:15:54,158; DEBUG:tcapy.data.volatilecache: Now pushing ['arctic-dukascopy_USDJPY_2017-05-05 00:00:00+00:00_2017-05-10 00:00:00+00:00_market_df_None_comp'] to cache (volatilecache.py:442)\n",
      "2020-03-20 00:15:54,187; DEBUG:tcapy.data.volatilecache: Pushed ['arctic-dukascopy_USDJPY_2017-05-05 00:00:00+00:00_2017-05-10 00:00:00+00:00_market_df_None_comp'] to cache (volatilecache.py:460)\n",
      "2020-03-20 00:15:54,188; DEBUG:tcapy.data.volatilecache: Attempting to push ['2020-03-20 00:15:54.188018__df_comp_84822_expiry_'] to cache (volatilecache.py:429)\n",
      "2020-03-20 00:15:54,419; DEBUG:tcapy.data.volatilecache: Pandas dataframe of size: ----------- 33.62 MB ----------- in 1 chunk(s) (volatilecache.py:517)\n",
      "2020-03-20 00:15:54,533; DEBUG:tcapy.data.volatilecache: Now pushing ['2020-03-20 00:15:54.188018__df_comp_84822_expiry_'] to cache (volatilecache.py:442)\n",
      "2020-03-20 00:15:54,564; DEBUG:tcapy.data.volatilecache: Pushed ['2020-03-20 00:15:54.188018__df_comp_84822_expiry_'] to cache (volatilecache.py:460)\n",
      "2020-03-20 00:15:54,574; DEBUG:tcapy.analysis.tcatickerloader: Get trade order holder for USDJPY from 2017-05-05 00:00:00+00:00 - 2017-05-10 00:00:00+00:00 (tcatickerloader.py:359)\n",
      "2020-03-20 00:15:54,625; DEBUG:tcapy.data.volatilecache: Attempting to get list from cache: ['arctic-dukascopy_JPYUSD_2017-05-05 00:00:00+00:00_2017-05-10 00:00:00+00:00_market_df_None_comp'] (volatilecache.py:763)\n",
      "2020-03-20 00:15:54,626; DEBUG:tcapy.data.volatilecache: Attempting to get list from cache: ['arctic-dukascopy_USDJPY_2017-05-05 00:00:00+00:00_2017-05-10 00:00:00+00:00_market_df_None_comp'] (volatilecache.py:763)\n",
      "2020-03-20 00:15:54,755; DEBUG:tcapy.data.volatilecache: Attempting to push ['arctic-dukascopy_JPYUSD_2017-05-05 00:00:00+00:00_2017-05-10 00:00:00+00:00_market_df_None_comp'] to cache (volatilecache.py:429)\n",
      "2020-03-20 00:15:54,998; DEBUG:tcapy.data.volatilecache: Pandas dataframe of size: ----------- 33.62 MB ----------- in 1 chunk(s) (volatilecache.py:517)\n",
      "2020-03-20 00:15:55,089; DEBUG:tcapy.data.volatilecache: Now pushing ['arctic-dukascopy_JPYUSD_2017-05-05 00:00:00+00:00_2017-05-10 00:00:00+00:00_market_df_None_comp'] to cache (volatilecache.py:442)\n",
      "2020-03-20 00:15:55,120; DEBUG:tcapy.data.volatilecache: Pushed ['arctic-dukascopy_JPYUSD_2017-05-05 00:00:00+00:00_2017-05-10 00:00:00+00:00_market_df_None_comp'] to cache (volatilecache.py:460)\n",
      "2020-03-20 00:15:55,136; DEBUG:tcapy.data.volatilecache: Attempting to push ['2020-03-20 00:15:55.136754__df_comp_83165_expiry_'] to cache (volatilecache.py:429)\n",
      "2020-03-20 00:15:55,140; DEBUG:tcapy.data.volatilecache: Pandas dataframe of size: ----------- 0.029 MB ----------- in 1 chunk(s) (volatilecache.py:517)\n",
      "2020-03-20 00:15:55,142; DEBUG:tcapy.data.volatilecache: Now pushing ['2020-03-20 00:15:55.136754__df_comp_83165_expiry_'] to cache (volatilecache.py:442)\n",
      "2020-03-20 00:15:55,144; DEBUG:tcapy.data.volatilecache: Pushed ['2020-03-20 00:15:55.136754__df_comp_83165_expiry_'] to cache (volatilecache.py:460)\n",
      "2020-03-20 00:15:55,194; DEBUG:tcapy.data.volatilecache: Attempting to get list from cache: ['arctic-dukascopy_JPYUSD_2017-05-05 00:00:00+00:00_2017-05-10 00:00:00+00:00_market_df_None_comp'] (volatilecache.py:763)\n",
      "2020-03-20 00:15:55,332; DEBUG:tcapy.data.volatilecache: Attempting to push ['2020-03-20 00:15:55.332742__df_comp_63380_expiry_'] to cache (volatilecache.py:429)\n",
      "2020-03-20 00:15:55,336; DEBUG:tcapy.data.volatilecache: Pandas dataframe of size: ----------- 0.011 MB ----------- in 1 chunk(s) (volatilecache.py:517)\n",
      "2020-03-20 00:15:55,337; DEBUG:tcapy.data.volatilecache: Now pushing ['2020-03-20 00:15:55.332742__df_comp_63380_expiry_'] to cache (volatilecache.py:442)\n",
      "2020-03-20 00:15:55,339; DEBUG:tcapy.data.volatilecache: Pushed ['2020-03-20 00:15:55.332742__df_comp_63380_expiry_'] to cache (volatilecache.py:460)\n",
      "2020-03-20 00:15:55,339; DEBUG:tcapy.data.volatilecache: Attempting to get list from cache: ['2020-03-20 00:15:54.188018__df_comp_84822_expiry_'] (volatilecache.py:763)\n",
      "2020-03-20 00:15:55,388; DEBUG:tcapy.data.volatilecache: Deleted 1 keys (volatilecache.py:799)\n",
      "2020-03-20 00:15:55,459; DEBUG:tcapy.analysis.tcatickerloader: Filter the market date by start/finish date (tcatickerloader.py:716)\n",
      "2020-03-20 00:15:55,475; DEBUG:tcapy.analysis.tcatickerloader: Combine trade/order data (tcatickerloader.py:737)\n",
      "2020-03-20 00:15:55,476; DEBUG:tcapy.data.volatilecache: Attempting to get list from cache: ['2020-03-20 00:15:55.136754__df_comp_83165_expiry_'] (volatilecache.py:763)\n",
      "2020-03-20 00:15:55,477; DEBUG:tcapy.data.volatilecache: Deleted 1 keys (volatilecache.py:799)\n"
     ]
    },
    {
     "name": "stderr",
     "output_type": "stream",
     "text": [
      "2020-03-20 00:15:55,480; DEBUG:tcapy.data.volatilecache: Attempting to get list from cache: ['2020-03-20 00:15:55.332742__df_comp_63380_expiry_'] (volatilecache.py:763)\n",
      "2020-03-20 00:15:55,481; DEBUG:tcapy.data.volatilecache: Deleted 1 keys (volatilecache.py:799)\n",
      "2020-03-20 00:15:55,488; DEBUG:tcapy.analysis.tcatickerloader: Filter trades by venue (tcatickerloader.py:435)\n",
      "2020-03-20 00:15:55,490; DEBUG:tcapy.analysis.tcatickerloader: Calculating derived fields and benchmarks (tcatickerloader.py:485)\n",
      "2020-03-20 00:15:55,491; DEBUG:tcapy.analysis.tcatickerloader: Calculating execution fields (tcatickerloader.py:487)\n",
      "2020-03-20 00:15:55,498; DEBUG:tcapy.analysis.tcatickerloader: Calculating benchmarks (tcatickerloader.py:513)\n",
      "2020-03-20 00:15:55,499; DEBUG:tcapy.analysis.tcatickerloader: Calculating BenchmarkSpreadToMid for market data (tcatickerloader.py:521)\n",
      "2020-03-20 00:15:55,518; DEBUG:tcapy.analysis.tcatickerloader: Calculating metrics (tcatickerloader.py:538)\n",
      "2020-03-20 00:15:55,519; DEBUG:tcapy.analysis.tcatickerloader: Calculating MetricSlippage for trade_df (tcatickerloader.py:544)\n",
      "2020-03-20 00:15:55,537; DEBUG:tcapy.analysis.tcatickerloader: Calculating MetricTransientMarketImpact for trade_df (tcatickerloader.py:544)\n",
      "2020-03-20 00:15:55,561; DEBUG:tcapy.analysis.tcatickerloader: Calculating MetricSlippage for order_df (tcatickerloader.py:544)\n",
      "2020-03-20 00:15:55,578; DEBUG:tcapy.analysis.tcatickerloader: Calculating MetricTransientMarketImpact for order_df (tcatickerloader.py:544)\n",
      "2020-03-20 00:15:55,594; DEBUG:tcapy.analysis.tcatickerloader: Completed derived field calculations for USDJPY (tcatickerloader.py:552)\n",
      "2020-03-20 00:15:55,595; DEBUG:tcapy.data.volatilecache: Attempting to push ['2020-03-20 00:15:55.595225__df_comp_62222_expiry_'] to cache (volatilecache.py:429)\n",
      "2020-03-20 00:15:55,814; DEBUG:tcapy.data.volatilecache: Pandas dataframe of size: ----------- 35.333 MB ----------- in 1 chunk(s) (volatilecache.py:517)\n",
      "2020-03-20 00:15:55,918; DEBUG:tcapy.data.volatilecache: Now pushing ['2020-03-20 00:15:55.595225__df_comp_62222_expiry_'] to cache (volatilecache.py:442)\n",
      "2020-03-20 00:15:55,963; DEBUG:tcapy.data.volatilecache: Pushed ['2020-03-20 00:15:55.595225__df_comp_62222_expiry_'] to cache (volatilecache.py:460)\n",
      "2020-03-20 00:15:55,965; DEBUG:tcapy.data.volatilecache: Attempting to push ['2020-03-20 00:15:55.965521__df_comp_20143_expiry_', '2020-03-20 00:15:55.965521__df_comp_50857_expiry_'] to cache (volatilecache.py:429)\n",
      "2020-03-20 00:15:55,970; DEBUG:tcapy.data.volatilecache: Pandas dataframe of size: ----------- 0.015 MB ----------- in 1 chunk(s) (volatilecache.py:517)\n",
      "2020-03-20 00:15:55,977; DEBUG:tcapy.data.volatilecache: Pandas dataframe of size: ----------- 0.011 MB ----------- in 1 chunk(s) (volatilecache.py:517)\n",
      "2020-03-20 00:15:55,980; DEBUG:tcapy.data.volatilecache: Now pushing ['2020-03-20 00:15:55.965521__df_comp_20143_expiry_', '2020-03-20 00:15:55.965521__df_comp_50857_expiry_'] to cache (volatilecache.py:442)\n",
      "2020-03-20 00:15:55,981; DEBUG:tcapy.data.volatilecache: Pushed ['2020-03-20 00:15:55.965521__df_comp_20143_expiry_', '2020-03-20 00:15:55.965521__df_comp_50857_expiry_'] to cache (volatilecache.py:460)\n",
      "2020-03-20 00:15:55,992; DEBUG:tcapy.data.volatilecache: Attempting to get list from cache: ['2020-03-20 00:15:53.107903__df_comp_62508_expiry_', '2020-03-20 00:15:55.965521__df_comp_20143_expiry_'] (volatilecache.py:763)\n",
      "2020-03-20 00:15:55,994; DEBUG:tcapy.data.volatilecache: Deleted 2 keys (volatilecache.py:799)\n",
      "2020-03-20 00:15:56,007; DEBUG:tcapy.data.volatilecache: Attempting to get list from cache: ['2020-03-20 00:15:53.107903__df_comp_78269_expiry_', '2020-03-20 00:15:55.965521__df_comp_50857_expiry_'] (volatilecache.py:763)\n",
      "2020-03-20 00:15:56,008; DEBUG:tcapy.data.volatilecache: Deleted 2 keys (volatilecache.py:799)\n",
      "2020-03-20 00:15:56,024; DEBUG:tcapy.analysis.tcamarkettradeloader: Finished loading data and calculating metrics on individual tickers (tcamarkettradeloader.py:236)\n",
      "2020-03-20 00:15:56,025; DEBUG:tcapy.analysis.tcamarkettradeloaderimpl: Constructing results form to summarize analysis... (tcamarkettradeloaderimpl.py:69)\n",
      "2020-03-20 00:15:56,055; DEBUG:tcapy.analysis.tcamarkettradeloaderimpl: Now join table results... (tcamarkettradeloaderimpl.py:99)\n",
      "2020-03-20 00:15:56,056; DEBUG:tcapy.analysis.tcamarkettradeloaderimpl: Finished calculating results form and join table results! (tcamarkettradeloaderimpl.py:112)\n"
     ]
    },
    {
     "name": "stdout",
     "output_type": "stream",
     "text": [
      "Wall time: 5.22 s\n"
     ]
    }
   ],
   "source": [
    "%%time\n",
    "volatile_cache.clear_cache()\n",
    "\n",
    "tca_request.use_multithreading = False\n",
    "tca_request.trade_order_mapping=local_csv_trade_order_mapping\n",
    "\n",
    "# Dictionary of (mostly) dataframes as output from TCA calculation\n",
    "dict_of_df = tca_engine.calculate_tca(tca_request)"
   ]
  },
  {
   "cell_type": "markdown",
   "metadata": {},
   "source": [
    "Let's run it with multithreading on again, but this time the machine data should be cached in Redis. This time we see a big improvement at 2 seconds."
   ]
  },
  {
   "cell_type": "code",
   "execution_count": 40,
   "metadata": {
    "ExecuteTime": {
     "end_time": "2020-03-20T00:15:58.423650Z",
     "start_time": "2020-03-20T00:15:56.080089Z"
    }
   },
   "outputs": [
    {
     "name": "stderr",
     "output_type": "stream",
     "text": [
      "2020-03-20 00:15:56,082; DEBUG:tcapy.analysis.tcamarkettradeloader: Start loading trade/data/computation (tcamarkettradeloader.py:229)\n",
      "2020-03-20 00:15:56,085; DEBUG:tcapy.analysis.tcamarkettradeloaderimpl: Split TCA request for EURUSD dates  / 2017-05-05 00:00:00+00:00 to 2017-05-05 23:59:59.999999+00:00 / 2017-05-06 00:00:00+00:00 to 2017-05-06 23:59:59.999999+00:00 / 2017-05-07 00:00:00+00:00 to 2017-05-07 23:59:59.999999+00:00 / 2017-05-08 00:00:00+00:00 to 2017-05-08 23:59:59.999999+00:00 / 2017-05-09 00:00:00+00:00 to 2017-05-09 23:59:59.999999+00:00 / 2017-05-10 00:00:00+00:00 to 2017-05-10 23:59:59.999999+00:00 from original request 2017-05-05 00:00:00+00:00 to 2017-05-10 00:00:00+00:00 (tcamarkettradeloaderimpl.py:329)\n",
      "2020-03-20 00:15:56,095; DEBUG:tcapy.analysis.tcamarkettradeloaderimpl: Split TCA request for USDJPY dates  / 2017-05-05 00:00:00+00:00 to 2017-05-05 23:59:59.999999+00:00 / 2017-05-06 00:00:00+00:00 to 2017-05-06 23:59:59.999999+00:00 / 2017-05-07 00:00:00+00:00 to 2017-05-07 23:59:59.999999+00:00 / 2017-05-08 00:00:00+00:00 to 2017-05-08 23:59:59.999999+00:00 / 2017-05-09 00:00:00+00:00 to 2017-05-09 23:59:59.999999+00:00 / 2017-05-10 00:00:00+00:00 to 2017-05-10 23:59:59.999999+00:00 from original request 2017-05-05 00:00:00+00:00 to 2017-05-10 00:00:00+00:00 (tcamarkettradeloaderimpl.py:329)\n",
      "2020-03-20 00:15:58,111; DEBUG:tcapy.analysis.tcamarkettradeloaderimpl: Finished parallel computation (tcamarkettradeloaderimpl.py:241)\n",
      "2020-03-20 00:15:58,112; DEBUG:tcapy.data.volatilecache: Attempting to get list from cache: ['2020-03-20 00:15:57.537372__df_comp_50194_expiry_'] (volatilecache.py:763)\n",
      "2020-03-20 00:15:58,167; DEBUG:tcapy.data.volatilecache: Deleted 1 keys (volatilecache.py:799)\n",
      "2020-03-20 00:15:58,245; DEBUG:tcapy.data.volatilecache: Attempting to get list from cache: ['2020-03-20 00:15:57.706128__df_comp_92634_expiry_'] (volatilecache.py:763)\n",
      "2020-03-20 00:15:58,296; DEBUG:tcapy.data.volatilecache: Deleted 1 keys (volatilecache.py:799)\n",
      "2020-03-20 00:15:58,369; DEBUG:tcapy.data.volatilecache: Attempting to get list from cache: ['2020-03-20 00:15:57.810749__df_comp_89916_expiry_', '2020-03-20 00:15:57.994609__df_comp_75396_expiry_'] (volatilecache.py:763)\n",
      "2020-03-20 00:15:58,371; DEBUG:tcapy.data.volatilecache: Deleted 2 keys (volatilecache.py:799)\n",
      "2020-03-20 00:15:58,382; DEBUG:tcapy.data.volatilecache: Attempting to get list from cache: ['2020-03-20 00:15:57.810777__df_comp_47946_expiry_', '2020-03-20 00:15:57.994635__df_comp_63959_expiry_'] (volatilecache.py:763)\n",
      "2020-03-20 00:15:58,383; DEBUG:tcapy.data.volatilecache: Deleted 2 keys (volatilecache.py:799)\n",
      "2020-03-20 00:15:58,396; DEBUG:tcapy.analysis.tcamarkettradeloader: Finished loading data and calculating metrics on individual tickers (tcamarkettradeloader.py:236)\n",
      "2020-03-20 00:15:58,396; DEBUG:tcapy.analysis.tcamarkettradeloaderimpl: Constructing results form to summarize analysis... (tcamarkettradeloaderimpl.py:69)\n",
      "2020-03-20 00:15:58,418; DEBUG:tcapy.analysis.tcamarkettradeloaderimpl: Now join table results... (tcamarkettradeloaderimpl.py:99)\n",
      "2020-03-20 00:15:58,419; DEBUG:tcapy.analysis.tcamarkettradeloaderimpl: Finished calculating results form and join table results! (tcamarkettradeloaderimpl.py:112)\n"
     ]
    },
    {
     "name": "stdout",
     "output_type": "stream",
     "text": [
      "Wall time: 2.34 s\n"
     ]
    }
   ],
   "source": [
    "%%time\n",
    "tca_request.use_multithreading = True\n",
    "tca_request.trade_order_mapping=remote_csv_trade_order_mapping\n",
    "\n",
    "# Dictionary of (mostly) dataframes as output from TCA calculation\n",
    "dict_of_df = tca_engine.calculate_tca(tca_request)"
   ]
  },
  {
   "cell_type": "markdown",
   "metadata": {},
   "source": [
    "### Using CacheHandle object\n",
    "\n",
    "Throughout the parallelization process, `CacheHandle` objects are used extensively. Returning very large objects via Celery can cause problems, because of pickling/depickling. Rather than doing that, we instead create `CacheHandle` objects which are like pointers that point to keys in Redis, where the large DataFrames might be stored (sometimes in chunks given the limits on size of Redis values). The process is easier to control this way. Where possible we try to avoid serialisation/deserialisation of `CacheHandle` objects, until they're needed. Compression on these Redis values is enabled by default, so your RAM is not overwhelmed. In practice, you might to adjust your `redis.conf` settings to manage the store, depending on how much RAM is on your machine."
   ]
  },
  {
   "cell_type": "markdown",
   "metadata": {},
   "source": [
    "### Output of an aggregated TCA computation\n",
    "\n",
    "Let's check out the output. As an aggregated computation, we don't have the sparse market/trade DataFrames any more."
   ]
  },
  {
   "cell_type": "code",
   "execution_count": 41,
   "metadata": {
    "ExecuteTime": {
     "end_time": "2020-03-20T00:15:58.428636Z",
     "start_time": "2020-03-20T00:15:58.424647Z"
    }
   },
   "outputs": [
    {
     "data": {
      "text/plain": [
       "odict_keys(['trade_df', 'order_df', 'bar_trade_df_slippage_by_ticker', 'bar_order_df_slippage_by_ticker', 'EURUSD_df', 'USDJPY_df'])"
      ]
     },
     "execution_count": 41,
     "metadata": {},
     "output_type": "execute_result"
    }
   ],
   "source": [
    "dict_of_df.keys()"
   ]
  },
  {
   "cell_type": "markdown",
   "metadata": {},
   "source": [
    "If we want to have all those nice extra DataFrames, we need to set the `summary_display` parameter, and rerun the computation."
   ]
  },
  {
   "cell_type": "code",
   "execution_count": 42,
   "metadata": {
    "ExecuteTime": {
     "end_time": "2020-03-20T00:16:02.640035Z",
     "start_time": "2020-03-20T00:15:58.429633Z"
    }
   },
   "outputs": [
    {
     "name": "stderr",
     "output_type": "stream",
     "text": [
      "2020-03-20 00:15:58,434; DEBUG:tcapy.analysis.tcamarkettradeloader: Start loading trade/data/computation (tcamarkettradeloader.py:229)\n",
      "2020-03-20 00:15:58,436; DEBUG:tcapy.analysis.tcamarkettradeloaderimpl: Split TCA request for EURUSD dates  / 2017-05-05 00:00:00+00:00 to 2017-05-05 23:59:59.999999+00:00 / 2017-05-06 00:00:00+00:00 to 2017-05-06 23:59:59.999999+00:00 / 2017-05-07 00:00:00+00:00 to 2017-05-07 23:59:59.999999+00:00 / 2017-05-08 00:00:00+00:00 to 2017-05-08 23:59:59.999999+00:00 / 2017-05-09 00:00:00+00:00 to 2017-05-09 23:59:59.999999+00:00 / 2017-05-10 00:00:00+00:00 to 2017-05-10 23:59:59.999999+00:00 from original request 2017-05-05 00:00:00+00:00 to 2017-05-10 00:00:00+00:00 (tcamarkettradeloaderimpl.py:329)\n",
      "2020-03-20 00:15:58,445; DEBUG:tcapy.analysis.tcamarkettradeloaderimpl: Split TCA request for USDJPY dates  / 2017-05-05 00:00:00+00:00 to 2017-05-05 23:59:59.999999+00:00 / 2017-05-06 00:00:00+00:00 to 2017-05-06 23:59:59.999999+00:00 / 2017-05-07 00:00:00+00:00 to 2017-05-07 23:59:59.999999+00:00 / 2017-05-08 00:00:00+00:00 to 2017-05-08 23:59:59.999999+00:00 / 2017-05-09 00:00:00+00:00 to 2017-05-09 23:59:59.999999+00:00 / 2017-05-10 00:00:00+00:00 to 2017-05-10 23:59:59.999999+00:00 from original request 2017-05-05 00:00:00+00:00 to 2017-05-10 00:00:00+00:00 (tcamarkettradeloaderimpl.py:329)\n",
      "2020-03-20 00:16:01,542; DEBUG:tcapy.analysis.tcamarkettradeloaderimpl: Finished parallel computation (tcamarkettradeloaderimpl.py:241)\n",
      "2020-03-20 00:16:01,543; DEBUG:tcapy.data.volatilecache: Attempting to get list from cache: ['2020-03-20 00:16:00.870579__df_comp_59016_expiry_'] (volatilecache.py:763)\n",
      "2020-03-20 00:16:01,592; DEBUG:tcapy.data.volatilecache: Deleted 1 keys (volatilecache.py:799)\n",
      "2020-03-20 00:16:01,664; DEBUG:tcapy.data.volatilecache: Attempting to get list from cache: ['2020-03-20 00:16:00.792535__df_comp_4444_expiry_'] (volatilecache.py:763)\n",
      "2020-03-20 00:16:01,715; DEBUG:tcapy.data.volatilecache: Deleted 1 keys (volatilecache.py:799)\n",
      "2020-03-20 00:16:01,788; DEBUG:tcapy.data.volatilecache: Attempting to get list from cache: ['2020-03-20 00:16:01.147491__df_comp_1812_expiry_', '2020-03-20 00:16:01.081799__df_comp_2256_expiry_'] (volatilecache.py:763)\n",
      "2020-03-20 00:16:01,790; DEBUG:tcapy.data.volatilecache: Deleted 2 keys (volatilecache.py:799)\n",
      "2020-03-20 00:16:01,802; DEBUG:tcapy.data.volatilecache: Attempting to get list from cache: ['2020-03-20 00:16:01.147514__df_comp_85655_expiry_', '2020-03-20 00:16:01.081826__df_comp_41072_expiry_'] (volatilecache.py:763)\n",
      "2020-03-20 00:16:01,803; DEBUG:tcapy.data.volatilecache: Deleted 2 keys (volatilecache.py:799)\n",
      "2020-03-20 00:16:01,815; DEBUG:tcapy.data.volatilecache: Attempting to get list from cache: ['2020-03-20 00:16:01.147521__df_comp_46877_expiry_'] (volatilecache.py:763)\n",
      "2020-03-20 00:16:01,816; DEBUG:tcapy.data.volatilecache: Deleted 1 keys (volatilecache.py:799)\n",
      "2020-03-20 00:16:01,819; DEBUG:tcapy.data.volatilecache: Attempting to get list from cache: ['2020-03-20 00:16:01.147526__df_comp_78482_expiry_'] (volatilecache.py:763)\n",
      "2020-03-20 00:16:01,821; DEBUG:tcapy.data.volatilecache: Deleted 1 keys (volatilecache.py:799)\n",
      "2020-03-20 00:16:01,824; DEBUG:tcapy.data.volatilecache: Attempting to get list from cache: ['2020-03-20 00:16:01.147531__df_comp_80906_expiry_'] (volatilecache.py:763)\n",
      "2020-03-20 00:16:01,825; DEBUG:tcapy.data.volatilecache: Deleted 1 keys (volatilecache.py:799)\n",
      "2020-03-20 00:16:01,828; DEBUG:tcapy.data.volatilecache: Attempting to get list from cache: ['2020-03-20 00:16:01.147539__fig_comp_80427_expiry_'] (volatilecache.py:763)\n",
      "2020-03-20 00:16:01,829; DEBUG:tcapy.data.volatilecache: Deleted 1 keys (volatilecache.py:799)\n",
      "2020-03-20 00:16:01,937; DEBUG:tcapy.data.volatilecache: Attempting to get list from cache: ['2020-03-20 00:16:01.147545__fig_comp_17359_expiry_'] (volatilecache.py:763)\n",
      "2020-03-20 00:16:01,940; DEBUG:tcapy.data.volatilecache: Deleted 1 keys (volatilecache.py:799)\n",
      "2020-03-20 00:16:02,077; DEBUG:tcapy.data.volatilecache: Attempting to get list from cache: ['2020-03-20 00:16:01.147550__fig_comp_49189_expiry_'] (volatilecache.py:763)\n",
      "2020-03-20 00:16:02,079; DEBUG:tcapy.data.volatilecache: Deleted 1 keys (volatilecache.py:799)\n",
      "2020-03-20 00:16:02,215; DEBUG:tcapy.data.volatilecache: Attempting to get list from cache: ['2020-03-20 00:16:01.081832__df_comp_62265_expiry_'] (volatilecache.py:763)\n",
      "2020-03-20 00:16:02,217; DEBUG:tcapy.data.volatilecache: Deleted 1 keys (volatilecache.py:799)\n",
      "2020-03-20 00:16:02,220; DEBUG:tcapy.data.volatilecache: Attempting to get list from cache: ['2020-03-20 00:16:01.081837__df_comp_60737_expiry_'] (volatilecache.py:763)\n",
      "2020-03-20 00:16:02,221; DEBUG:tcapy.data.volatilecache: Deleted 1 keys (volatilecache.py:799)\n",
      "2020-03-20 00:16:02,224; DEBUG:tcapy.data.volatilecache: Attempting to get list from cache: ['2020-03-20 00:16:01.081842__df_comp_97390_expiry_'] (volatilecache.py:763)\n",
      "2020-03-20 00:16:02,226; DEBUG:tcapy.data.volatilecache: Deleted 1 keys (volatilecache.py:799)\n",
      "2020-03-20 00:16:02,229; DEBUG:tcapy.data.volatilecache: Attempting to get list from cache: ['2020-03-20 00:16:01.081851__fig_comp_3897_expiry_'] (volatilecache.py:763)\n",
      "2020-03-20 00:16:02,230; DEBUG:tcapy.data.volatilecache: Deleted 1 keys (volatilecache.py:799)\n",
      "2020-03-20 00:16:02,336; DEBUG:tcapy.data.volatilecache: Attempting to get list from cache: ['2020-03-20 00:16:01.081856__fig_comp_91427_expiry_'] (volatilecache.py:763)\n",
      "2020-03-20 00:16:02,338; DEBUG:tcapy.data.volatilecache: Deleted 1 keys (volatilecache.py:799)\n",
      "2020-03-20 00:16:02,474; DEBUG:tcapy.data.volatilecache: Attempting to get list from cache: ['2020-03-20 00:16:01.081861__fig_comp_96279_expiry_'] (volatilecache.py:763)\n",
      "2020-03-20 00:16:02,476; DEBUG:tcapy.data.volatilecache: Deleted 1 keys (volatilecache.py:799)\n",
      "2020-03-20 00:16:02,612; DEBUG:tcapy.analysis.tcamarkettradeloader: Finished loading data and calculating metrics on individual tickers (tcamarkettradeloader.py:236)\n",
      "2020-03-20 00:16:02,612; DEBUG:tcapy.analysis.tcamarkettradeloaderimpl: Constructing results form to summarize analysis... (tcamarkettradeloaderimpl.py:69)\n",
      "2020-03-20 00:16:02,636; DEBUG:tcapy.analysis.tcamarkettradeloaderimpl: Now join table results... (tcamarkettradeloaderimpl.py:99)\n",
      "2020-03-20 00:16:02,637; DEBUG:tcapy.analysis.tcamarkettradeloaderimpl: Finished calculating results form and join table results! (tcamarkettradeloaderimpl.py:112)\n"
     ]
    }
   ],
   "source": [
    "tca_request.summary_display = 'candlestick'\n",
    "\n",
    "# Dictionary of (mostly) dataframes as output from TCA calculation\n",
    "dict_of_df = tca_engine.calculate_tca(tca_request)"
   ]
  },
  {
   "cell_type": "markdown",
   "metadata": {},
   "source": [
    "If we inspect all the keys of the TCA output, we now see a lot more DataFrames and Plotly JSON Figures."
   ]
  },
  {
   "cell_type": "code",
   "execution_count": 43,
   "metadata": {
    "ExecuteTime": {
     "end_time": "2020-03-20T00:16:02.646019Z",
     "start_time": "2020-03-20T00:16:02.641033Z"
    }
   },
   "outputs": [
    {
     "data": {
      "text/plain": [
       "odict_keys(['trade_df', 'order_df', 'EURUSD_sparse_market_trade_df', 'EURUSD_sparse_market_order_df', 'EURUSD_candlestick_fig', 'EURUSD_sparse_market_trade_fig', 'EURUSD_sparse_market_order_fig', 'USDJPY_sparse_market_trade_df', 'USDJPY_sparse_market_order_df', 'USDJPY_candlestick_fig', 'USDJPY_sparse_market_trade_fig', 'USDJPY_sparse_market_order_fig', 'bar_trade_df_slippage_by_ticker', 'bar_order_df_slippage_by_ticker', 'EURUSD_df', 'USDJPY_df'])"
      ]
     },
     "execution_count": 43,
     "metadata": {},
     "output_type": "execute_result"
    }
   ],
   "source": [
    "dict_of_df.keys()"
   ]
  },
  {
   "cell_type": "markdown",
   "metadata": {},
   "source": [
    "At present `TCAResults` doesn't yet support `aggregate` TCA with more than one ticker. So we need to use `PlotRender` to create the various figures from the DataFrames. Here let's plot the order slippage by the ticker. Obviously, we see more slippage in USDJPY as we might expect."
   ]
  },
  {
   "cell_type": "code",
   "execution_count": 44,
   "metadata": {
    "ExecuteTime": {
     "end_time": "2020-03-20T00:16:03.178382Z",
     "start_time": "2020-03-20T00:16:02.647016Z"
    }
   },
   "outputs": [
    {
     "data": {
      "image/png": "[encoded data removed]"
     },
     "metadata": {},
     "output_type": "display_data"
    }
   ],
   "source": [
    "plot_render = PlotRender()\n",
    "\n",
    "# Generate Plotly JSON Figure\n",
    "bar_fig = plot_render.plot_bar(title='Order slippage by ticker', bar_df=dict_of_df['bar_order_df_slippage_by_ticker'], \n",
    "          width=chart_width, height=chart_height)\n",
    "   \n",
    "# Render the Plotly JSON Figure to view\n",
    "chart.plot(bar_fig, engine='plotly', style=style)"
   ]
  },
  {
   "cell_type": "markdown",
   "metadata": {},
   "source": [
    "We can plot the sparse market/order data for both EURUSD and USDJPY."
   ]
  },
  {
   "cell_type": "code",
   "execution_count": 45,
   "metadata": {
    "ExecuteTime": {
     "end_time": "2020-03-20T00:16:03.468617Z",
     "start_time": "2020-03-20T00:16:03.179380Z"
    }
   },
   "outputs": [
    {
     "data": {
      "image/png": "[encoded data removed]"
     },
     "metadata": {},
     "output_type": "display_data"
    }
   ],
   "source": [
    "chart.plot(dict_of_df['EURUSD_sparse_market_order_fig'], engine='plotly', style=style)"
   ]
  },
  {
   "cell_type": "code",
   "execution_count": 46,
   "metadata": {
    "ExecuteTime": {
     "end_time": "2020-03-20T00:16:03.760528Z",
     "start_time": "2020-03-20T00:16:03.469615Z"
    }
   },
   "outputs": [
    {
     "data": {
      "image/png": "[encoded data removed]"
     },
     "metadata": {},
     "output_type": "display_data"
    }
   ],
   "source": [
    "chart.plot(dict_of_df['USDJPY_sparse_market_order_fig'], engine='plotly', style=style)"
   ]
  },
  {
   "cell_type": "markdown",
   "metadata": {},
   "source": [
    "### Using trade/order data from an internal database\n",
    "\n",
    "We can also collect trade/order data in internal databases (Microsoft SQL Server, MySQL or PostgreSQL). Here we are using an already populated Microsoft SQL Server, which has trade and order data in different tables, that we have mapped in `Constants`. The call takes around 4 seconds on my machine. At this stage, the market data has been cached from the earlier call, but the trade/order data needs to be loaded from SQL Server. Underneath it will use `DatabaseSourceSQLServer` to do the actual SQL calls to the database.\n",
    "\n",
    "Typically, we would expect that most calls would involve both internal trade data and market data databases."
   ]
  },
  {
   "cell_type": "code",
   "execution_count": 47,
   "metadata": {
    "ExecuteTime": {
     "end_time": "2020-03-20T00:16:07.422416Z",
     "start_time": "2020-03-20T00:16:03.761525Z"
    }
   },
   "outputs": [
    {
     "name": "stderr",
     "output_type": "stream",
     "text": [
      "2020-03-20 00:16:03,763; DEBUG:tcapy.analysis.tcamarkettradeloader: Start loading trade/data/computation (tcamarkettradeloader.py:229)\n",
      "2020-03-20 00:16:03,765; DEBUG:tcapy.analysis.tcamarkettradeloaderimpl: Split TCA request for EURUSD dates  / 2017-05-05 00:00:00+00:00 to 2017-05-05 23:59:59.999999+00:00 / 2017-05-06 00:00:00+00:00 to 2017-05-06 23:59:59.999999+00:00 / 2017-05-07 00:00:00+00:00 to 2017-05-07 23:59:59.999999+00:00 / 2017-05-08 00:00:00+00:00 to 2017-05-08 23:59:59.999999+00:00 / 2017-05-09 00:00:00+00:00 to 2017-05-09 23:59:59.999999+00:00 / 2017-05-10 00:00:00+00:00 to 2017-05-10 23:59:59.999999+00:00 from original request 2017-05-05 00:00:00+00:00 to 2017-05-10 00:00:00+00:00 (tcamarkettradeloaderimpl.py:329)\n",
      "2020-03-20 00:16:03,774; DEBUG:tcapy.analysis.tcamarkettradeloaderimpl: Split TCA request for USDJPY dates  / 2017-05-05 00:00:00+00:00 to 2017-05-05 23:59:59.999999+00:00 / 2017-05-06 00:00:00+00:00 to 2017-05-06 23:59:59.999999+00:00 / 2017-05-07 00:00:00+00:00 to 2017-05-07 23:59:59.999999+00:00 / 2017-05-08 00:00:00+00:00 to 2017-05-08 23:59:59.999999+00:00 / 2017-05-09 00:00:00+00:00 to 2017-05-09 23:59:59.999999+00:00 / 2017-05-10 00:00:00+00:00 to 2017-05-10 23:59:59.999999+00:00 from original request 2017-05-05 00:00:00+00:00 to 2017-05-10 00:00:00+00:00 (tcamarkettradeloaderimpl.py:329)\n",
      "2020-03-20 00:16:06,292; DEBUG:tcapy.analysis.tcamarkettradeloaderimpl: Finished parallel computation (tcamarkettradeloaderimpl.py:241)\n",
      "2020-03-20 00:16:06,293; DEBUG:tcapy.data.volatilecache: Attempting to get list from cache: ['2020-03-20 00:16:05.706415__df_comp_79247_expiry_'] (volatilecache.py:763)\n",
      "2020-03-20 00:16:06,345; DEBUG:tcapy.data.volatilecache: Deleted 1 keys (volatilecache.py:799)\n",
      "2020-03-20 00:16:06,418; DEBUG:tcapy.data.volatilecache: Attempting to get list from cache: ['2020-03-20 00:16:05.654505__df_comp_64266_expiry_'] (volatilecache.py:763)\n",
      "2020-03-20 00:16:06,469; DEBUG:tcapy.data.volatilecache: Deleted 1 keys (volatilecache.py:799)\n",
      "2020-03-20 00:16:06,543; DEBUG:tcapy.data.volatilecache: Attempting to get list from cache: ['2020-03-20 00:16:05.980545__df_comp_16960_expiry_', '2020-03-20 00:16:05.931795__df_comp_45175_expiry_'] (volatilecache.py:763)\n",
      "2020-03-20 00:16:06,545; DEBUG:tcapy.data.volatilecache: Deleted 2 keys (volatilecache.py:799)\n",
      "2020-03-20 00:16:06,557; DEBUG:tcapy.data.volatilecache: Attempting to get list from cache: ['2020-03-20 00:16:05.980567__df_comp_79197_expiry_', '2020-03-20 00:16:05.931820__df_comp_7024_expiry_'] (volatilecache.py:763)\n",
      "2020-03-20 00:16:06,558; DEBUG:tcapy.data.volatilecache: Deleted 2 keys (volatilecache.py:799)\n",
      "2020-03-20 00:16:06,571; DEBUG:tcapy.data.volatilecache: Attempting to get list from cache: ['2020-03-20 00:16:05.980572__df_comp_26237_expiry_'] (volatilecache.py:763)\n",
      "2020-03-20 00:16:06,572; DEBUG:tcapy.data.volatilecache: Deleted 1 keys (volatilecache.py:799)\n",
      "2020-03-20 00:16:06,575; DEBUG:tcapy.data.volatilecache: Attempting to get list from cache: ['2020-03-20 00:16:05.980577__df_comp_29322_expiry_'] (volatilecache.py:763)\n",
      "2020-03-20 00:16:06,576; DEBUG:tcapy.data.volatilecache: Deleted 1 keys (volatilecache.py:799)\n",
      "2020-03-20 00:16:06,579; DEBUG:tcapy.data.volatilecache: Attempting to get list from cache: ['2020-03-20 00:16:05.980582__df_comp_82996_expiry_'] (volatilecache.py:763)\n",
      "2020-03-20 00:16:06,580; DEBUG:tcapy.data.volatilecache: Deleted 1 keys (volatilecache.py:799)\n",
      "2020-03-20 00:16:06,584; DEBUG:tcapy.data.volatilecache: Attempting to get list from cache: ['2020-03-20 00:16:05.980606__fig_comp_3488_expiry_'] (volatilecache.py:763)\n",
      "2020-03-20 00:16:06,586; DEBUG:tcapy.data.volatilecache: Deleted 1 keys (volatilecache.py:799)\n",
      "2020-03-20 00:16:06,692; DEBUG:tcapy.data.volatilecache: Attempting to get list from cache: ['2020-03-20 00:16:05.980612__fig_comp_31692_expiry_'] (volatilecache.py:763)\n",
      "2020-03-20 00:16:06,693; DEBUG:tcapy.data.volatilecache: Deleted 1 keys (volatilecache.py:799)\n",
      "2020-03-20 00:16:06,835; DEBUG:tcapy.data.volatilecache: Attempting to get list from cache: ['2020-03-20 00:16:05.980616__fig_comp_99551_expiry_'] (volatilecache.py:763)\n",
      "2020-03-20 00:16:06,836; DEBUG:tcapy.data.volatilecache: Deleted 1 keys (volatilecache.py:799)\n",
      "2020-03-20 00:16:06,976; DEBUG:tcapy.data.volatilecache: Attempting to get list from cache: ['2020-03-20 00:16:05.931826__df_comp_56075_expiry_'] (volatilecache.py:763)\n",
      "2020-03-20 00:16:06,978; DEBUG:tcapy.data.volatilecache: Deleted 1 keys (volatilecache.py:799)\n",
      "2020-03-20 00:16:06,981; DEBUG:tcapy.data.volatilecache: Attempting to get list from cache: ['2020-03-20 00:16:05.931830__df_comp_93255_expiry_'] (volatilecache.py:763)\n",
      "2020-03-20 00:16:06,983; DEBUG:tcapy.data.volatilecache: Deleted 1 keys (volatilecache.py:799)\n",
      "2020-03-20 00:16:06,986; DEBUG:tcapy.data.volatilecache: Attempting to get list from cache: ['2020-03-20 00:16:05.931835__df_comp_39321_expiry_'] (volatilecache.py:763)\n",
      "2020-03-20 00:16:06,987; DEBUG:tcapy.data.volatilecache: Deleted 1 keys (volatilecache.py:799)\n",
      "2020-03-20 00:16:06,990; DEBUG:tcapy.data.volatilecache: Attempting to get list from cache: ['2020-03-20 00:16:05.931842__fig_comp_39021_expiry_'] (volatilecache.py:763)\n",
      "2020-03-20 00:16:06,991; DEBUG:tcapy.data.volatilecache: Deleted 1 keys (volatilecache.py:799)\n",
      "2020-03-20 00:16:07,099; DEBUG:tcapy.data.volatilecache: Attempting to get list from cache: ['2020-03-20 00:16:05.931848__fig_comp_56915_expiry_'] (volatilecache.py:763)\n",
      "2020-03-20 00:16:07,101; DEBUG:tcapy.data.volatilecache: Deleted 1 keys (volatilecache.py:799)\n",
      "2020-03-20 00:16:07,244; DEBUG:tcapy.data.volatilecache: Attempting to get list from cache: ['2020-03-20 00:16:05.931852__fig_comp_80333_expiry_'] (volatilecache.py:763)\n",
      "2020-03-20 00:16:07,246; DEBUG:tcapy.data.volatilecache: Deleted 1 keys (volatilecache.py:799)\n",
      "2020-03-20 00:16:07,393; DEBUG:tcapy.analysis.tcamarkettradeloader: Finished loading data and calculating metrics on individual tickers (tcamarkettradeloader.py:236)\n",
      "2020-03-20 00:16:07,394; DEBUG:tcapy.analysis.tcamarkettradeloaderimpl: Constructing results form to summarize analysis... (tcamarkettradeloaderimpl.py:69)\n",
      "2020-03-20 00:16:07,418; DEBUG:tcapy.analysis.tcamarkettradeloaderimpl: Now join table results... (tcamarkettradeloaderimpl.py:99)\n",
      "2020-03-20 00:16:07,419; DEBUG:tcapy.analysis.tcamarkettradeloaderimpl: Finished calculating results form and join table results! (tcamarkettradeloaderimpl.py:112)\n"
     ]
    },
    {
     "name": "stdout",
     "output_type": "stream",
     "text": [
      "Wall time: 3.66 s\n"
     ]
    }
   ],
   "source": [
    "%%time\n",
    "tca_request.trade_data_store = 'ms_sql_server'\n",
    "tca_request.trade_order_mapping = ['trade_df', 'order_df']\n",
    "\n",
    "# Dictionary of (mostly) dataframes as output from TCA calculation\n",
    "dict_of_df = tca_engine.calculate_tca(tca_request)"
   ]
  },
  {
   "cell_type": "markdown",
   "metadata": {},
   "source": [
    "If we run it again, it takes around 4 seconds on my machine. In this case the reading the cached trade/order data from Redis (as well as the market data, which was cached earlier), didn't make much difference, given that the time period was small. For longer time periods we would likely notice that caching would help."
   ]
  },
  {
   "cell_type": "code",
   "execution_count": 48,
   "metadata": {
    "ExecuteTime": {
     "end_time": "2020-03-20T00:16:11.878559Z",
     "start_time": "2020-03-20T00:16:07.423414Z"
    }
   },
   "outputs": [
    {
     "name": "stderr",
     "output_type": "stream",
     "text": [
      "2020-03-20 00:16:07,424; DEBUG:tcapy.analysis.tcamarkettradeloader: Start loading trade/data/computation (tcamarkettradeloader.py:229)\n",
      "2020-03-20 00:16:07,426; DEBUG:tcapy.analysis.tcamarkettradeloaderimpl: Split TCA request for EURUSD dates  / 2017-05-05 00:00:00+00:00 to 2017-05-05 23:59:59.999999+00:00 / 2017-05-06 00:00:00+00:00 to 2017-05-06 23:59:59.999999+00:00 / 2017-05-07 00:00:00+00:00 to 2017-05-07 23:59:59.999999+00:00 / 2017-05-08 00:00:00+00:00 to 2017-05-08 23:59:59.999999+00:00 / 2017-05-09 00:00:00+00:00 to 2017-05-09 23:59:59.999999+00:00 / 2017-05-10 00:00:00+00:00 to 2017-05-10 23:59:59.999999+00:00 from original request 2017-05-05 00:00:00+00:00 to 2017-05-10 00:00:00+00:00 (tcamarkettradeloaderimpl.py:329)\n",
      "2020-03-20 00:16:07,434; DEBUG:tcapy.analysis.tcamarkettradeloaderimpl: Split TCA request for USDJPY dates  / 2017-05-05 00:00:00+00:00 to 2017-05-05 23:59:59.999999+00:00 / 2017-05-06 00:00:00+00:00 to 2017-05-06 23:59:59.999999+00:00 / 2017-05-07 00:00:00+00:00 to 2017-05-07 23:59:59.999999+00:00 / 2017-05-08 00:00:00+00:00 to 2017-05-08 23:59:59.999999+00:00 / 2017-05-09 00:00:00+00:00 to 2017-05-09 23:59:59.999999+00:00 / 2017-05-10 00:00:00+00:00 to 2017-05-10 23:59:59.999999+00:00 from original request 2017-05-05 00:00:00+00:00 to 2017-05-10 00:00:00+00:00 (tcamarkettradeloaderimpl.py:329)\n",
      "2020-03-20 00:16:10,447; DEBUG:tcapy.analysis.tcamarkettradeloaderimpl: Finished parallel computation (tcamarkettradeloaderimpl.py:241)\n",
      "2020-03-20 00:16:10,448; DEBUG:tcapy.data.volatilecache: Attempting to get list from cache: ['2020-03-20 00:16:08.737703__df_comp_74301_expiry_'] (volatilecache.py:763)\n",
      "2020-03-20 00:16:10,499; DEBUG:tcapy.data.volatilecache: Deleted 1 keys (volatilecache.py:799)\n",
      "2020-03-20 00:16:10,570; DEBUG:tcapy.data.volatilecache: Attempting to get list from cache: ['2020-03-20 00:16:09.584972__df_comp_35510_expiry_'] (volatilecache.py:763)\n",
      "2020-03-20 00:16:10,620; DEBUG:tcapy.data.volatilecache: Deleted 1 keys (volatilecache.py:799)\n",
      "2020-03-20 00:16:10,693; DEBUG:tcapy.data.volatilecache: Attempting to get list from cache: ['2020-03-20 00:16:09.017857__df_comp_28257_expiry_', '2020-03-20 00:16:09.871778__df_comp_71742_expiry_'] (volatilecache.py:763)\n",
      "2020-03-20 00:16:10,694; DEBUG:tcapy.data.volatilecache: Deleted 2 keys (volatilecache.py:799)\n",
      "2020-03-20 00:16:10,706; DEBUG:tcapy.data.volatilecache: Attempting to get list from cache: ['2020-03-20 00:16:09.017881__df_comp_90855_expiry_', '2020-03-20 00:16:09.871803__df_comp_30910_expiry_'] (volatilecache.py:763)\n",
      "2020-03-20 00:16:10,707; DEBUG:tcapy.data.volatilecache: Deleted 2 keys (volatilecache.py:799)\n",
      "2020-03-20 00:16:10,720; DEBUG:tcapy.data.volatilecache: Attempting to get list from cache: ['2020-03-20 00:16:09.017887__df_comp_37303_expiry_'] (volatilecache.py:763)\n",
      "2020-03-20 00:16:10,722; DEBUG:tcapy.data.volatilecache: Deleted 1 keys (volatilecache.py:799)\n",
      "2020-03-20 00:16:10,725; DEBUG:tcapy.data.volatilecache: Attempting to get list from cache: ['2020-03-20 00:16:09.017892__df_comp_72500_expiry_'] (volatilecache.py:763)\n",
      "2020-03-20 00:16:10,727; DEBUG:tcapy.data.volatilecache: Deleted 1 keys (volatilecache.py:799)\n",
      "2020-03-20 00:16:10,730; DEBUG:tcapy.data.volatilecache: Attempting to get list from cache: ['2020-03-20 00:16:09.017897__df_comp_51442_expiry_'] (volatilecache.py:763)\n",
      "2020-03-20 00:16:10,731; DEBUG:tcapy.data.volatilecache: Deleted 1 keys (volatilecache.py:799)\n",
      "2020-03-20 00:16:10,735; DEBUG:tcapy.data.volatilecache: Attempting to get list from cache: ['2020-03-20 00:16:09.017905__fig_comp_529_expiry_'] (volatilecache.py:763)\n",
      "2020-03-20 00:16:10,736; DEBUG:tcapy.data.volatilecache: Deleted 1 keys (volatilecache.py:799)\n",
      "2020-03-20 00:16:10,843; DEBUG:tcapy.data.volatilecache: Attempting to get list from cache: ['2020-03-20 00:16:09.017910__fig_comp_12117_expiry_'] (volatilecache.py:763)\n",
      "2020-03-20 00:16:10,845; DEBUG:tcapy.data.volatilecache: Deleted 1 keys (volatilecache.py:799)\n",
      "2020-03-20 00:16:11,280; DEBUG:tcapy.data.volatilecache: Attempting to get list from cache: ['2020-03-20 00:16:09.017916__fig_comp_57672_expiry_'] (volatilecache.py:763)\n",
      "2020-03-20 00:16:11,282; DEBUG:tcapy.data.volatilecache: Deleted 1 keys (volatilecache.py:799)\n",
      "2020-03-20 00:16:11,419; DEBUG:tcapy.data.volatilecache: Attempting to get list from cache: ['2020-03-20 00:16:09.871810__df_comp_90081_expiry_'] (volatilecache.py:763)\n",
      "2020-03-20 00:16:11,421; DEBUG:tcapy.data.volatilecache: Deleted 1 keys (volatilecache.py:799)\n",
      "2020-03-20 00:16:11,425; DEBUG:tcapy.data.volatilecache: Attempting to get list from cache: ['2020-03-20 00:16:09.871816__df_comp_16589_expiry_'] (volatilecache.py:763)\n",
      "2020-03-20 00:16:11,426; DEBUG:tcapy.data.volatilecache: Deleted 1 keys (volatilecache.py:799)\n",
      "2020-03-20 00:16:11,429; DEBUG:tcapy.data.volatilecache: Attempting to get list from cache: ['2020-03-20 00:16:09.871821__df_comp_62420_expiry_'] (volatilecache.py:763)\n",
      "2020-03-20 00:16:11,431; DEBUG:tcapy.data.volatilecache: Deleted 1 keys (volatilecache.py:799)\n",
      "2020-03-20 00:16:11,434; DEBUG:tcapy.data.volatilecache: Attempting to get list from cache: ['2020-03-20 00:16:09.871831__fig_comp_23075_expiry_'] (volatilecache.py:763)\n",
      "2020-03-20 00:16:11,435; DEBUG:tcapy.data.volatilecache: Deleted 1 keys (volatilecache.py:799)\n",
      "2020-03-20 00:16:11,541; DEBUG:tcapy.data.volatilecache: Attempting to get list from cache: ['2020-03-20 00:16:09.871837__fig_comp_89905_expiry_'] (volatilecache.py:763)\n",
      "2020-03-20 00:16:11,542; DEBUG:tcapy.data.volatilecache: Deleted 1 keys (volatilecache.py:799)\n",
      "2020-03-20 00:16:11,686; DEBUG:tcapy.data.volatilecache: Attempting to get list from cache: ['2020-03-20 00:16:09.871842__fig_comp_17572_expiry_'] (volatilecache.py:763)\n",
      "2020-03-20 00:16:11,688; DEBUG:tcapy.data.volatilecache: Deleted 1 keys (volatilecache.py:799)\n",
      "2020-03-20 00:16:11,832; DEBUG:tcapy.analysis.tcamarkettradeloader: Finished loading data and calculating metrics on individual tickers (tcamarkettradeloader.py:236)\n",
      "2020-03-20 00:16:11,833; DEBUG:tcapy.analysis.tcamarkettradeloaderimpl: Constructing results form to summarize analysis... (tcamarkettradeloaderimpl.py:69)\n",
      "2020-03-20 00:16:11,857; DEBUG:tcapy.analysis.tcamarkettradeloaderimpl: Now join table results... (tcamarkettradeloaderimpl.py:99)\n",
      "2020-03-20 00:16:11,858; DEBUG:tcapy.analysis.tcamarkettradeloaderimpl: Finished calculating results form and join table results! (tcamarkettradeloaderimpl.py:112)\n"
     ]
    },
    {
     "name": "stdout",
     "output_type": "stream",
     "text": [
      "Wall time: 4.45 s\n"
     ]
    }
   ],
   "source": [
    "%%time\n",
    "\n",
    "# Dictionary of (mostly) dataframes as output from TCA calculation\n",
    "dict_of_df = tca_engine.calculate_tca(tca_request)"
   ]
  },
  {
   "cell_type": "markdown",
   "metadata": {},
   "source": [
    "We can see the output keys below."
   ]
  },
  {
   "cell_type": "code",
   "execution_count": 49,
   "metadata": {
    "ExecuteTime": {
     "end_time": "2020-03-20T00:16:11.884543Z",
     "start_time": "2020-03-20T00:16:11.879556Z"
    }
   },
   "outputs": [
    {
     "data": {
      "text/plain": [
       "odict_keys(['trade_df', 'order_df', 'EURUSD_sparse_market_trade_df', 'EURUSD_sparse_market_order_df', 'EURUSD_candlestick_fig', 'EURUSD_sparse_market_trade_fig', 'EURUSD_sparse_market_order_fig', 'USDJPY_sparse_market_trade_df', 'USDJPY_sparse_market_order_df', 'USDJPY_candlestick_fig', 'USDJPY_sparse_market_trade_fig', 'USDJPY_sparse_market_order_fig', 'bar_trade_df_slippage_by_ticker', 'bar_order_df_slippage_by_ticker', 'EURUSD_df', 'USDJPY_df'])"
      ]
     },
     "execution_count": 49,
     "metadata": {},
     "output_type": "execute_result"
    }
   ],
   "source": [
    "dict_of_df.keys()"
   ]
  },
  {
   "cell_type": "markdown",
   "metadata": {},
   "source": [
    "We can view some of the market data in returned which was stored in the database."
   ]
  },
  {
   "cell_type": "code",
   "execution_count": 50,
   "metadata": {
    "ExecuteTime": {
     "end_time": "2020-03-20T00:16:11.901499Z",
     "start_time": "2020-03-20T00:16:11.885540Z"
    }
   },
   "outputs": [
    {
     "data": {
      "text/html": [
       "<div>\n",
       "<style scoped>\n",
       "    .dataframe tbody tr th:only-of-type {\n",
       "        vertical-align: middle;\n",
       "    }\n",
       "\n",
       "    .dataframe tbody tr th {\n",
       "        vertical-align: top;\n",
       "    }\n",
       "\n",
       "    .dataframe thead th {\n",
       "        text-align: right;\n",
       "    }\n",
       "</style>\n",
       "<table border=\"1\" class=\"dataframe\">\n",
       "  <thead>\n",
       "    <tr style=\"text-align: right;\">\n",
       "      <th></th>\n",
       "      <th>bid</th>\n",
       "      <th>ask</th>\n",
       "      <th>bidv</th>\n",
       "      <th>askv</th>\n",
       "      <th>venue</th>\n",
       "      <th>ticker</th>\n",
       "      <th>mid</th>\n",
       "      <th>bid_mid_spread</th>\n",
       "      <th>ask_mid_spread</th>\n",
       "    </tr>\n",
       "    <tr>\n",
       "      <th>Date</th>\n",
       "      <th></th>\n",
       "      <th></th>\n",
       "      <th></th>\n",
       "      <th></th>\n",
       "      <th></th>\n",
       "      <th></th>\n",
       "      <th></th>\n",
       "      <th></th>\n",
       "      <th></th>\n",
       "    </tr>\n",
       "  </thead>\n",
       "  <tbody>\n",
       "    <tr>\n",
       "      <th>2017-05-05 00:00:00.299000+00:00</th>\n",
       "      <td>1.09806</td>\n",
       "      <td>1.09809</td>\n",
       "      <td>1.50</td>\n",
       "      <td>3.37</td>\n",
       "      <td>dukascopy</td>\n",
       "      <td>EURUSD</td>\n",
       "      <td>1.098075</td>\n",
       "      <td>-0.000014</td>\n",
       "      <td>-0.000014</td>\n",
       "    </tr>\n",
       "    <tr>\n",
       "      <th>2017-05-05 00:00:00.454000+00:00</th>\n",
       "      <td>1.09806</td>\n",
       "      <td>1.09810</td>\n",
       "      <td>2.91</td>\n",
       "      <td>3.60</td>\n",
       "      <td>dukascopy</td>\n",
       "      <td>EURUSD</td>\n",
       "      <td>1.098080</td>\n",
       "      <td>-0.000018</td>\n",
       "      <td>-0.000018</td>\n",
       "    </tr>\n",
       "    <tr>\n",
       "      <th>2017-05-05 00:00:00.887000+00:00</th>\n",
       "      <td>1.09808</td>\n",
       "      <td>1.09811</td>\n",
       "      <td>1.41</td>\n",
       "      <td>3.97</td>\n",
       "      <td>dukascopy</td>\n",
       "      <td>EURUSD</td>\n",
       "      <td>1.098095</td>\n",
       "      <td>-0.000014</td>\n",
       "      <td>-0.000014</td>\n",
       "    </tr>\n",
       "    <tr>\n",
       "      <th>2017-05-05 00:00:01.193000+00:00</th>\n",
       "      <td>1.09809</td>\n",
       "      <td>1.09813</td>\n",
       "      <td>1.03</td>\n",
       "      <td>1.00</td>\n",
       "      <td>dukascopy</td>\n",
       "      <td>EURUSD</td>\n",
       "      <td>1.098110</td>\n",
       "      <td>-0.000018</td>\n",
       "      <td>-0.000018</td>\n",
       "    </tr>\n",
       "    <tr>\n",
       "      <th>2017-05-05 00:00:01.784000+00:00</th>\n",
       "      <td>1.09807</td>\n",
       "      <td>1.09813</td>\n",
       "      <td>6.85</td>\n",
       "      <td>1.87</td>\n",
       "      <td>dukascopy</td>\n",
       "      <td>EURUSD</td>\n",
       "      <td>1.098100</td>\n",
       "      <td>-0.000027</td>\n",
       "      <td>-0.000027</td>\n",
       "    </tr>\n",
       "  </tbody>\n",
       "</table>\n",
       "</div>"
      ],
      "text/plain": [
       "                                      bid      ask  bidv  askv      venue  \\\n",
       "Date                                                                        \n",
       "2017-05-05 00:00:00.299000+00:00  1.09806  1.09809  1.50  3.37  dukascopy   \n",
       "2017-05-05 00:00:00.454000+00:00  1.09806  1.09810  2.91  3.60  dukascopy   \n",
       "2017-05-05 00:00:00.887000+00:00  1.09808  1.09811  1.41  3.97  dukascopy   \n",
       "2017-05-05 00:00:01.193000+00:00  1.09809  1.09813  1.03  1.00  dukascopy   \n",
       "2017-05-05 00:00:01.784000+00:00  1.09807  1.09813  6.85  1.87  dukascopy   \n",
       "\n",
       "                                  ticker       mid  bid_mid_spread  \\\n",
       "Date                                                                 \n",
       "2017-05-05 00:00:00.299000+00:00  EURUSD  1.098075       -0.000014   \n",
       "2017-05-05 00:00:00.454000+00:00  EURUSD  1.098080       -0.000018   \n",
       "2017-05-05 00:00:00.887000+00:00  EURUSD  1.098095       -0.000014   \n",
       "2017-05-05 00:00:01.193000+00:00  EURUSD  1.098110       -0.000018   \n",
       "2017-05-05 00:00:01.784000+00:00  EURUSD  1.098100       -0.000027   \n",
       "\n",
       "                                  ask_mid_spread  \n",
       "Date                                              \n",
       "2017-05-05 00:00:00.299000+00:00       -0.000014  \n",
       "2017-05-05 00:00:00.454000+00:00       -0.000018  \n",
       "2017-05-05 00:00:00.887000+00:00       -0.000014  \n",
       "2017-05-05 00:00:01.193000+00:00       -0.000018  \n",
       "2017-05-05 00:00:01.784000+00:00       -0.000027  "
      ]
     },
     "execution_count": 50,
     "metadata": {},
     "output_type": "execute_result"
    }
   ],
   "source": [
    "dict_of_df['EURUSD_df'].head(5)"
   ]
  },
  {
   "cell_type": "markdown",
   "metadata": {},
   "source": [
    "Let's render the sparse market/order Plotly JSON Figure, which was returned for USDJPY."
   ]
  },
  {
   "cell_type": "code",
   "execution_count": 51,
   "metadata": {
    "ExecuteTime": {
     "end_time": "2020-03-20T00:16:12.268116Z",
     "start_time": "2020-03-20T00:16:11.902495Z"
    }
   },
   "outputs": [
    {
     "data": {
      "image/png": "[encoded data removed]"
     },
     "metadata": {},
     "output_type": "display_data"
    }
   ],
   "source": [
    "chart.plot(dict_of_df['USDJPY_sparse_market_order_fig'], engine='plotly', style=style)"
   ]
  },
  {
   "cell_type": "markdown",
   "metadata": {},
   "source": [
    "# How to speed up tcapy?\n",
    "\n",
    "We go through a few ways of how to speed up tcapy below.\n",
    "\n",
    "* Increase the number of Celery workers\n",
    "    * Given tcapy distributes the computation, if you have more workers, you should be able to speed up computation considerably\n",
    "    * This is particuarly useful if you are running the computation across many tickers\n",
    "    \n",
    "* Have faster hard drives and more memory\n",
    "    * Faster hard drives will speed up your database\n",
    "    * More memory will enable Redis to cache more data in-memory, rather than having to hit the database every time\n",
    "\n",
    "* Code profiling\n",
    "    * If you use a tool like PyCharm it has an easy to use code profile, which gives you a breakdown of how long each section of code takes to run\n",
    "    * Whilst, we have used this extensively, to identify bottlenecks in the tcapy code, I'm sure we could improve the code and make it faster\n",
    "    * If you find anything that makes the code a lot quicker, let us know\n",
    "    \n",
    "* Tune database performance\n",
    "    * We have just used out-of-the-box configurations for our databases (Arctic/MongoDB and Microsoft SQL Server)\n",
    "    * It is likely we can improve performance of these by tuning the configuration\n",
    "    * For example with MongoDB, we can improve performance via sharding, which allows us to distribute the database across multiple machines"
   ]
  },
  {
   "cell_type": "markdown",
   "metadata": {},
   "source": [
    "# Running tcapy on the cloud\n",
    "\n",
    "Given that TCA is heavily compute intensive and also requires a lot of storage, it would be a good task to run in the cloud to take advantage of scaling computations. In particular, tcapy has been written with distributed computation in mind, so it can be speeded up considerably by having hardware that can run many tasks in parallel (eg. through the use of Celery to run tasks on different workers). Running tcapy with hardware which only has eg. 1-2 cores, is likely to likely to result in very slow computation.\n",
    "\n",
    "It is possible to replicate a local setup by spinning up a Linux box in the cloud (eg. [AWS EC2](https://aws.amazon.com/ec2/), [GCP Compute Engine](https://cloud.google.com/compute) or [Azure Virtual Machines](https://azure.microsoft.com/en-gb/services/virtual-machines/)), which would mirror the configuration exactly and you would self manage everything including the database.\n",
    "\n",
    "However, a more efficient way to use the cloud, would be to use specific fully managed cloud services. For illustative purposes, we've listed some of the fully managed cloud services, that could be using for different parts of tcapy on Amazon Web Services (AWS) and Google Cloud Platform (GCP).\n",
    "\n",
    "This is only a summarised list, and there are likely to be many other cloud services which are likely to be useful. We can split it roughly into 3 categories. Firstly, services related to the TCA computation and running of the web app. Secondly, we list about those services for managing and storing the underlying data, both the market tick data and also the trade/order data. Thirdly, are the services for caching the data and also to manage communication between the distributed processes.\n",
    "\n",
    "* *Computation*\n",
    "    * serverless hosting of tcapy web application and service\n",
    "        * deals with capacity provisioning, load balancing, auto-scaling to application health monitoring\n",
    "        * [AWS Elastic Beanstalk](https://aws.amazon.com/elasticbeanstalk/)\n",
    "        * [GCP App Engine](https://cloud.google.com/appengine)\n",
    "        * [Azure App Service](https://azure.microsoft.com/en-gb/services/app-service/)\n",
    "    * serverless compute for TCA calculations\n",
    "        * run code without provisioning or managing servers, pay as go model\n",
    "        * [AWS Lambda](https://aws.amazon.com/lambda/)\n",
    "        * [GCP Cloud Functions](https://cloud.google.com/functions)\n",
    "        * [Azure functions](https://azure.microsoft.com/en-gb/services/functions/)\n",
    "* *Data storage*\n",
    "    * storing market data in a database\n",
    "        * [AWS DocumentDB (mostly compatible with MongoDB)](https://aws.amazon.com/documentdb/)\n",
    "        * [GCP MongoDB Atlas](https://www.mongodb.com/cloud/atlas/mongodb-google-cloud)\n",
    "        * [GCP BigQuery](https://cloud.google.com/bigquery)\n",
    "        * [Azure Cosmos DB](https://azure.microsoft.com/en-gb/services/cosmos-db/)\n",
    "    * storing market data in shorter term disk storage\n",
    "        * [AWS EBS](https://aws.amazon.com/ebs/)\n",
    "        * [GCP Cloud Storage](https://cloud.google.com/storage)\n",
    "        * [Azure Disk Storage](https://azure.microsoft.com/en-gb/services/storage/disks/)\n",
    "    * storing market data in longer term disk storage\n",
    "        * [AWS S3](https://aws.amazon.com/s3/)\n",
    "        * [GCP Cloud Storage buckets](https://cloud.google.com/compute/docs/disks#gcsbuckets)\n",
    "        * [Azure Blob storage](https://docs.microsoft.com/en-us/azure/storage/blobs/storage-blobs-introduction)\n",
    "    * storing trade data in a database\n",
    "        * [AWS RDS](https://aws.amazon.com/rds/)\n",
    "        * [GCP Cloud SQL](https://cloud.google.com/sql)\n",
    "        * [Azure SQL Database](https://azure.microsoft.com/en-gb/services/sql-database/)\n",
    "* *In-memory caching and managing distributed processes*\n",
    "    * caching market and trade data\n",
    "        * [AWS ElasticCache for Redis](https://aws.amazon.com/elasticache/)\n",
    "        * [GCP Memorystore](https://cloud.google.com/memorystore)\n",
    "        * [Azure Cache for Redis](https://azure.microsoft.com/en-gb/services/cache/)\n",
    "    * message broker\n",
    "        * [AWS SQS](https://aws.amazon.com/sqs/)\n",
    "        * [GCP Cloud Pub/Sub](https://cloud.google.com/pubsub)\n",
    "        * [Azure Queue Storage](https://azure.microsoft.com/services/storage/queues/)\n",
    "\n",
    "At present, tcapy doesn't natively take advantage of many of these serverless cloud services. You would need to write your own wrappers to use lots of these serverless cloud features, in particular . The benefits of serverless computing are that we could massively scale the computation on demand, making it much quicker. It is likely to be cheaper in terms of computation costs, since we'll only pay for the computations on demand, rather than continually renting a powerful Linux box.\n",
    "\n",
    "**However, we are hoping to add proper support for such serverless cloud functionality for several cloud providers (if you have interest in helping us on this, let us know).**"
   ]
  },
  {
   "cell_type": "markdown",
   "metadata": {},
   "source": [
    "# Troubleshooting tcapy\n",
    "\n",
    "There are many potentional reasons why there could be issues with tcapy\n",
    "\n",
    "* Are the databases/caches accessible and have we set the right IPs/credientials for them? \n",
    "    * Wrong IPs will obviously cause problems\n",
    "    * Firewalls can frequently block access\n",
    "* Does the parallelisation work with Celery? \n",
    "    * Perhaps, you have got too many workers for your hardware\n",
    "    * Have you started your Celery workers (using `restart_tcapy.sh`)\n",
    "* Is the trade/order data in the right format? \n",
    "    * If all the field names are different, tcapy will have trouble reading them\n",
    "* Is the market data actually there, or are there big chunks missing?\n",
    "    * If there's missing market data for a period of time where you want to do TCA on your trades, it will cause problems\n",
    "\n",
    "The first place to check are in the logs in folder `/home/tcapyuser/cuemacro/tcapy/log`\n",
    "\n",
    "* tcapy application - `linux*.log` and `windows*.log`\n",
    "    * This is the most important place to start\n",
    "* Parallelisation - `celery.log`\n",
    "    * When TCA computation gets farmed out per cross, the log data is dumped here\n",
    "* Web server - `gunicorn_tcapy_error.log` and `gunicorn_tcapy_error.log`\n",
    "    * Check who is accessing the web server\n",
    "* Database - `mongo.log`\n",
    "    * Check whether the database is getting connections\n",
    "    \n",
    "Also try to look at the underlying data, by dumping it in CSV format, to see if there are any missing sections etc.\n",
    "    \n",
    "Whilst we can use Linux tools like `tail -f` and `less` to read logs, a nice log GUI available for both Linux and Windows is [glogg](https://glogg.bonnefon.org/).\n",
    "    \n",
    "Check the GitHub page for community support too if you have any issues. Cuemacro also offers commercial support for tcapy, contact saeed@cuemacro.com for more information."
   ]
  },
  {
   "cell_type": "markdown",
   "metadata": {},
   "source": [
    "# Extra coding examples with tcapy\n",
    "\n",
    "If you want to see more code examples of how to call tcapy programmatically, the `/home/tcapyuser/cuemacro/tcapy/tcapy_examples` folder has several Python scripts to illustate how to call tcapy. We are also working on more Jupyter notebooks to illustrate how to use other elements of the tcapy API."
   ]
  },
  {
   "cell_type": "markdown",
   "metadata": {},
   "source": [
    "# Conclusion\n",
    "\n",
    "We have seen how to call tcapy programatically. We showed how to download data from Dukascopy and also how to get trade data from CSV files. We indicated what the format of your trade/order data should be.\n",
    "\n",
    "We described how to do a TCA calculation with tcapy, and how to specify which metrics and benchmarks to use, as well as aggregating the statistics into timelines, distributions etc.\n",
    "\n",
    "We have also seen how using Celery to distribute the computation, as well as caching data with Redis can help to speed up the computation. If you are interesting supporting this project, please contact saeed@cuemacro.com."
   ]
  }
 ],
 "metadata": {
  "kernelspec": {
   "display_name": "Python 3",
   "language": "python",
   "name": "python3"
  },
  "language_info": {
   "codemirror_mode": {
    "name": "ipython",
    "version": 3
   },
   "file_extension": ".py",
   "mimetype": "text/x-python",
   "name": "python",
   "nbconvert_exporter": "python",
   "pygments_lexer": "ipython3",
   "version": "3.6.10"
  },
  "toc": {
   "base_numbering": 1,
   "nav_menu": {},
   "number_sections": true,
   "sideBar": true,
   "skip_h1_title": false,
   "title_cell": "Table of Contents",
   "title_sidebar": "Contents",
   "toc_cell": false,
   "toc_position": {
    "height": "calc(100% - 180px)",
    "left": "10px",
    "top": "150px",
    "width": "362.286px"
   },
   "toc_section_display": true,
   "toc_window_display": false
  }
 },
 "nbformat": 4,
 "nbformat_minor": 4
}
