{
 "cells": [
  {
   "attachments": {
    "cuemacro_logo.png": {
     "image/png": "[encoded data removed]"
    }
   },
   "cell_type": "markdown",
   "metadata": {
    "ExecuteTime": {
     "end_time": "2020-03-13T09:14:47.623554Z",
     "start_time": "2020-03-13T09:14:47.619119Z"
    }
   },
   "source": [
    "![cuemacro_logo.png](attachment:cuemacro_logo.png)\n",
    "\n",
    "# Introducing tcapy and explaining TCA\n",
    "\n",
    "**Saeed Amen / Founder of Cuemacro**\n",
    "\n",
    "https://www.cuemacro.com / saeed@cuemacro.com / @saeedamenfx / All material is copyright Cuemacro / 2020"
   ]
  },
  {
   "cell_type": "markdown",
   "metadata": {},
   "source": [
    "In this notebook we introduce tcapy, with many Python examples and the the concept of TCA. tcapy is an open source Python library, which is designed to do TCA (transaction cost analysis) for markets. At present it supports FX spot, but over time we hope to add other markets to it. At the most basic level, TCA involves taking market data which is used as a benchmark and then combining it with your own trading data. We can then compute metrics by comparing the market data with trade/order data. If you are interested in sponsoring the addition of new features and helping to contribute to tcapy please contact us."
   ]
  },
  {
   "cell_type": "markdown",
   "metadata": {},
   "source": [
    "## Why is TCA necessary?\n",
    "\n",
    "There are several reasons why TCA is necessary for the buy side. The sell side might also wish to do TCA on their own trading activity and behalf of their clients. One reason is that regulations like MiFID II stipulate that buy side firms needs to show best execution. TCA can help to show best execution.\n",
    "\n",
    "TCA can also save you money when trading. It can show which types of trading activity is costing you most enabling you to compare between factors which include, liquidity providers and methods of execution (such as algos)."
   ]
  },
  {
   "cell_type": "markdown",
   "metadata": {},
   "source": [
    "## How can you do TCA?\n",
    "\n",
    "There are several ways of doing TCA for your trading activity, which we describe below.\n",
    "\n",
    "### Writing your own internal TCA library\n",
    "\n",
    "This is very customisable, you can keep your trade data internal and you have access to the source code. Hence, possible to add your own metrics and benchmarks, which you might want to keep proprietary. But can be time consuming and expensive, not to just to develop, but also to maintain (the biggest cost). You're also reinventing the wheel, for something which has been done many times before.\n",
    "\n",
    "### Using your liquidity provider's TCA\n",
    "    \n",
    "You can ask your liquidity provider to do TCA. This is easy! But it's difficult to customise and there might be a conflict of interest too. Also if every liquidity provider does their own TCA, it can be difficult to compare between them\n",
    "    \n",
    "### Use an external TCA vendor\n",
    "\n",
    "This is independent. You can compare your performance versus your peers who also use the same service. But it's difficult to customise, given you don't have access to the source code. There's also a risk of vendor lock in too.\n",
    "\n",
    "Or we can use an open source solution, like tcapy, which we describe next."
   ]
  },
  {
   "cell_type": "markdown",
   "metadata": {},
   "source": [
    "## Using open source tcapy to do TCA\n",
    "\n",
    "Much of the complexity in TCA is due to the need to handle large tick datasets and do calculations on them and is largely a\n",
    "software engineering problem. This work needs to be repeated in every single implementation. By open sourcing the library \n",
    "we hope that the industry will no longer need to keep reinventing the wheel when it comes to TCA. At the same time, \n",
    "because all the code is visible to users, tcapy allows you can add your own customized metrics and benchmarks, \n",
    "which is where you are likely have very particular IP in financial markets. You get the flexibility of a fully internal\n",
    "TCA solution for free.\n",
    "\n",
    "### Costs of TCA across the industry\n",
    "\n",
    "Across the industry many financial firms and corporates trading within financial markets spend a lot of money on TCA, either\n",
    "by developing in house tools or using external services. It is estimated that the typical buy side equities trading desk \n",
    "spends around 225k USD a year on TCA (see [MarketsMedia report](https://www.marketsmedia.com/tca-growth-fueled-regulators-investors/)). \n",
    "\n",
    "Many sell side firms and larger buy side firms build and maintain their own TCA libraries, which is very expensive. The cost of TCA across the industry is likely to run into many **hundreds of millions of dollars or possibly billions of dollars**. An open source solution would save millions!\n",
    "\n",
    "### Complexity of TCA is the software engineering aspect\n",
    "\n",
    "Much of the complexity in TCA is due to the need to handle large tick datasets and do calculations on them and is largely a\n",
    "software engineering problem. This work needs to be repeated in every single implementation. By open sourcing the library \n",
    "we hope that the industry will no longer need to keep reinventing the wheel when it comes to TCA. At the same time, \n",
    "because all the code is visible to users, tcapy allows you can add your own customized metrics and benchmarks, \n",
    "which is where you are likely have very particular IP in financial markets. You get the flexibility of a fully internal\n",
    "TCA solution for free. There are cases where you might wish to keep the metrics and benchmarks you use for TCA proprietary.\n",
    "\n",
    "### When did tcapy start?\n",
    "\n",
    "tcapy is one of the first open source libraries for TCA. You can run the library on your own hardware, so your trade/order\n",
    "data can be kept private or it can be run on a cloud service like AWS. It has been in development since June 2017, originally for a large asset manager and was open sourced in March 2020.\n",
    "\n",
    "### What technology does tcapy use?\n",
    "\n",
    "tcapy is tested with Python 3.6 (Anaconda distribution) and uses a lot of the Python libraries you expect such as Pandas and NumPy. It also makes extensive use of Plotly for charts, and Dash/Flask for the web GUI. Depending on what database and Linux distribution you use, the whole tcapy stack can be open source.\n",
    "\n",
    "We've tried to make tcapy to be vendor independent where possible, hence for example it supports:\n",
    "\n",
    "* multiple database types for storing\n",
    "market tick data (including Arctic/MongoDB, KDB and InfluxDB) and for trade/order data (including MySQL, PostgreSQL and \n",
    "Microsoft SQL Server).\n",
    "* Linux (tested on Ubuntu and Red Hat), and Windows (although Windows Subsystem for Linux is required for full functionality)\n",
    "\n",
    "tcapy has also been written to distribute the computation and make a lot of use of caching, using tools like Celery, Redis and Memcached to manage distributed computation. In the future, we are hoping to add features to make it easy to use serverless computing features on the cloud. Since you can see all the code, it also makes the TCA totally transparent. If you are doing TCA for regulatory reasons, it makes sense that the process should be fully open, rather than a black box."
   ]
  },
  {
   "cell_type": "markdown",
   "metadata": {},
   "source": [
    "## What do we define as trades and orders?\n",
    "\n",
    "We assume that an order has a start and end time, and hence a duration. It will have fields associated with it such as the\n",
    "ticker traded, the execution price, the account, the execution trader, the broker, the algo used etc.\n",
    " \n",
    "Underneath every order, there might be a number of trades and other events. The difference is that we assume these trade\n",
    "events, are points in time. These trades will tag their respective orders."
   ]
  },
  {
   "cell_type": "markdown",
   "metadata": {},
   "source": [
    "## Benchmark\n",
    "\n",
    "What should we consider as our benchmark? We need to have market data which is representative of the market as our reference point to compare our own trades. If we consider the FX spot market there are relatively small number of principal liquidity providers (LPs). At any one time, you might observe different skew in prices from different market makers, because of a number of reasons, such as different forecasts on where spot could go, their own inventory etc. Hence, using the mid of the pricing stream from a single market maker, it may not be representative of the market on aggregate. We are using the mid price as a proxy for the reference price.\n",
    "\n",
    "This liquidity is then recycled to the market through a number of sources such as agency brokers and also various trading venues. We've focused on Dukascopy here, mainly because it's free, to allow readers to run this code. However, you can try different data sources to see how it impacts your results.\n",
    "\n",
    "At present tcapy has adapters to download market data from two data sources listed below to use as a benchmark. However, if you can feed whatever market data you want to the library and we hope to add more data sources in the future.\n",
    "* Duksacopy - FX retail broker (free data) - note: doesn't have the past few weeks of data - our examples focus on this given it's free download\n",
    "* New Change FX - data provider (paid data)\n",
    "\n",
    "We've focused on Dukascopy in the notebook, to make the code easier to run in an open source environment. However, note that currently the direct downloader for Dukascopy is not thread-safe, so do not start it for multiple tickers etc. In practice, as we note later, it is much better to download tick data from an external source (such as Dukascopy) and then dump into a local database, before using for TCA. This saves us repeatedly downloading large amounts of data externally, which is likely to be slow.\n",
    "\n",
    "Once you've decided which market data to use, you can calculate several benchmarks, which are below. Some benchmarks like TWAP are only appropriate for orders, which have a start and finish time. The abstract class `Benchmark` in tcapy can be extended to create your own customised benchmarks.\n",
    "* Mid price (`BenchmarkMarketMid`)\n",
    "* TWAP (`BenchmarkTWAP`)\n",
    "* VWAP (`BenchmarkVWAP`)\n",
    "\n",
    "In [Additional benchmarks and metrics]()"
   ]
  },
  {
   "cell_type": "markdown",
   "metadata": {},
   "source": [
    "## Metrics\n",
    "\n",
    "Metrics you might wish to calculate include the below, and we've indicated the classes which implement these. In tcapy, there is the abstract `Metric` class, which can be extended so you can write your own metrics.\n",
    "\n",
    "* slippage - the difference between your benchmark and the executed price (`MetricSlippage`)\n",
    "* market impact - the price move following a trade/order (`MetricTransientMarketImpact` and `MetricPersistentMarketImpact`)\n",
    "\n",
    "We haven't implemented this yet, but you might also want to look at some flat fees, which are charged depending on the trading venue (although these are much easier to keep track of, as you don't need any market data to calculate, just your trade data)."
   ]
  },
  {
   "cell_type": "markdown",
   "metadata": {},
   "source": [
    "## Aggregated statistics\n",
    "\n",
    "As part of TCA, we'd then want to generate statistics based on the metrics like those listed below. An abstract class `ResultsForm` aggregates various statistics. You can extend it to create your own aggregations.\n",
    "* average (`BarResultsForm`)\n",
    "* PDF (`DistResultsForm`)\n",
    "* outlier (`TableResultsForm`)"
   ]
  },
  {
   "cell_type": "markdown",
   "metadata": {},
   "source": [
    "## Storage of trade/order and market data for tcapy\n",
    "\n",
    "Your trade/order and market tick data can be stored internally in several ways for access by tcapy. The abstract class `DatabaseSource` can be extended to have customised sources (whether internal data sources or external data sources). You can also edit the below files, if you need to customise the database queries tcapy uses.\n",
    "\n",
    "* CSV files for trade/order/market data (`DatabaseSourceCSVBinary`)\n",
    "* DataFrames for trade/order/market data (`DatabaseSourceDataFrame`)\n",
    "* MongoDB/Arctic, KDB or InfluxDB for market data (`DatabaseSourceArctic`, `DatabaseSourceKDB` and `DatabaseSourceInfluxDB`)\n",
    "* Microsoft SQL Server, MySQL or PostgreSQL for trade/order data(`DatabaseSourceSQLServer`, `DatabaseSourceMySQL` or `DatabaseSourcePostgreSQL`)\n",
    "\n",
    "You can also download market data directly from data providers as mentioned earlier, without accessing a database. In practice, if you do TCA often, you'll usually want to download the market data store the market data in a database rather than downloading each time. If you want to use other data providers not yet in tcapy, you can write your own downloaders. Many larger instituions already maintain their own market tick databases, and you might be able to hook into that.\n",
    "\n",
    "Given that the computation is done internally, you can keep your trade/order data private."
   ]
  },
  {
   "cell_type": "markdown",
   "metadata": {},
   "source": [
    "# Offline computation versus on demand for TCA\n",
    "\n",
    "tcapy has been written to provide computatation on demand. Hence, it loads market and trade/order data on the fly, and then conducts any calculations on that. Whilst it does cache the original market/trade/order data, it does not cache the results of computations by tcapy (eg. metrics like slippage or benchmarks like arrival price).\n",
    "\n",
    "However, if you have a very large number of trades it might not be feasible to do this, without having access to a lot of hardware (or scaling the computation in the cloud), you might choose to run tcapy overnight and then save down the calculated fields to display later to users, eg. in its raw format (eg. CSV) or in a visual format such as PDF/HTML. Then users can bring up the results instantly, without having to wait."
   ]
  },
  {
   "cell_type": "markdown",
   "metadata": {},
   "source": [
    "# Maintaining market and trade/order databases\n",
    "\n",
    "In order to have effective TCA, we obviously need to make sure that our data sources are properly maintained. If we have poor input data, unsurprisingly, we can't rely on the results. We list suggestions when it comes to dealing both with your own internal trade/order data and also for storage of market data, both of which you'll need to maintain if you wish to run tcapy.\n",
    "\n",
    "* Here are some points to bear in mind for your trade/order databases\n",
    "    * If they are very inaccurate, then we will not be able to ascertain a reasonable benchmark\n",
    "    * Whilst persistent time offsets can be managed through the shifts of all timestamps (eg. on certain venues), we cannot easily do that if timestamps have a very random delay\n",
    "    * We also need to make sure that all our trades are recorded, not some random subset, otherwise our trade sample might not be representative of our trading activity\n",
    "    * Typically, electronically executed trades\n",
    "    * If you want to do analysis at both the trade and order level, you need to make sure that trades have a pointer to their associated order\n",
    "    \n",
    "* For market data\n",
    "    * Make sure it isn't plagued with gaps\n",
    "    * When loading up data, eg. by daily chunks, tcapy will load up market data and all the trade/order data for that chunk\n",
    "    * Then it will cut out any trade data which does not overlap with market data (given that we can't properly calculate metrics if there's no overlapping market data!)\n",
    "    * This means if you have random gaps, particularly towards the start or end of the chunks, tcapy will ignore any trading activity in that period\n",
    "        * Eg. let's say you have tcapy setup to use day chunks and your trades are between 0700-1700 UTC, but you are missing trade data between 0700-1000 UTC, tcapy will remove all the trades in that period from your analysis\n",
    "        * Even if you use bigger chunks, say monthly chunks, tcapy will end up \"filling down\" spot values, which could result in inaccurate analysis and also differences in the output depending on the type of chunk size you use\n",
    "        * An easy way to spot any problems in your market data, can be simply to plot and observe any gaps\n",
    "        * We are working on some more automated solutions of identifying gaps in your market data"
   ]
  },
  {
   "cell_type": "markdown",
   "metadata": {},
   "source": [
    "## Ways to access tcapy\n",
    "\n",
    "There are three ways to conduct TCA with tcapy.\n",
    "\n",
    "### Call the tcapy library directly from Python\n",
    "\n",
    "To call the tcapy library directly, we need to create a `TCARequest` with appropriate parameters to conduct our TCA calculation. This will include parameters such as the `start_date` and `finish_date` of our computation, as well as which trade and market data to use. This is then given to the `TCAEngineImpl` class, which then returns a dictionary of DataFrames as the output. The focus of this notebook is how to call tcapy programmatically in a direct fashion, when tcapy is installed on your machine.\n",
    "\n",
    "\n",
    "### Use the web GUIs\n",
    "\n",
    "These are built on top of [Plotly's Dash](https://plot.ly/dash/), which is built on the lightweight Flask web server framework. To define your own web GUI, you can modify `app.py` to add it. You then need to extend several abstract classes\n",
    "* `Layout` - to create a layout for the Dash application\n",
    "* `TCACaller` - which converts handles the callback from the GUI inputs (like the dropdown boxes, buttons etc.) into a `TCARequest` object and interacts with `TCAEngineImpl` which is the entry point for the underlying computation.\n",
    "\n",
    "The GUI uses `DisplayListeners` to handle callbacks to the outputs of the GUI (like the tables and plots), and `PlotRender` to generate the Plotly JSON necessary which can be rendered as charts.\n",
    "\n",
    "There are two different GUIs at present\n",
    "\n",
    "* `app.py` - has three different tabs, detailed TCA (trade/orders), aggregated TCA (trades) and compliance TCA (trades/orders)\n",
    "    * `LayoutGen`\n",
    "    * `TCACallerGen`\n",
    "* `app_board.py` - allows the user to upload their trade data (in CSV format)\n",
    "    * `LayoutBoard`\n",
    "    * `TCACallerBoard`\n",
    "    \n",
    "\n",
    "### Use the RESTful API\n",
    "\n",
    "At the current time, the RESTful API (`app_api.py`) is more of a proof of concept at this stage. The client makes a RESTful API call to the server.\n",
    "\n",
    "Like the web GUI the server constructs a `TCARequest` object (although from inputs from the RESTful API call) to be processed by the `TCAEngineImpl`. It then returns the outputs of that calculation as a dictionary of DataFrames, which can be converted into JSON format. The client needs to convert this JSON back into a dictionary of DataFrames. The benefit of doing this is that we don't have the overhead of installing everything on the client side. All we have a lightweight Python installation, with libraries like pandas and plotly.\n",
    "\n",
    "We are currently working on releasing a basic client for the RESTful API to interact with this, and also to make the RESTful API more functional."
   ]
  },
  {
   "cell_type": "markdown",
   "metadata": {},
   "source": [
    "# Calling tcapy programmatically\n",
    "\n",
    "We assume that readers have already followed the [instructions](https://github.com/cuemacro/tcapy/blob/master/README.md) to install tcapy on their Linux machine (eg. Red Hat, Ubuntu or Windows/WSL/Ubuntu). This includes details on how to setup your Python environment (usually Anaconda) and lots of dependencies which need to be installed like the various databases and Redis (to cache data, and also to use as message broker with Celery).\n",
    "\n",
    "To run the code in this notebook, we assume that:\n",
    "* the database/caching dependencies have been started using `restart_db.sh` (or we have databases running elsewhere we have configured tcapy to use) \n",
    "* Celery has been started by running `restart_tcapy.sh`, which is a distributed task manager (again as with the databases, you can have Celery workers running on another machine, you just need to make sure that the Celery workers and client reference the same message broker instance - typically Redis - and result backend - typically Memcached)"
   ]
  },
  {
   "cell_type": "markdown",
   "metadata": {},
   "source": [
    "## Benchmark machine\n",
    "\n",
    "For reference, the benchmark times quoted in the text are for the following hardware setup, which is designed to replicate a typical environment, where databases are running on a different system. In our case, we are running on Windows and WSL/Ubuntu on our primary machine. This setup is the best of both worlds, allowing us to use features like Celery and Dash/web GUI undex Linux, but still using Windows, is it also possible to interact with applications like Excel easily (we will be creating an Excel wrapper for tcapy using xlwing soon!). Note, that the times we quote are from running once (in practice, we should take an average over many runs).\n",
    "\n",
    "tcapy and MongoDB 4.2.3 Community Edition running on:\n",
    "* Processor: Intel(R) Core(TM) i9-7940X CPU @ 3.10GHz, 14 Core(s)\n",
    "* Memory: 64 GB RAM\n",
    "* Hard disk: NVMe m.2 SSD\n",
    "* OS: Windows Version 10.0.18362 running tcapy front end/Jupyter notebook\n",
    "* WSL/Windows Subsystem for Linux (Ubuntu 18.04) running Celery/Redis/Memcached backend, MySQL 8 and MongoDB 4.2.3 Community Edition (running via Docker containers)\n",
    "\n",
    "We are also planning to run benchmarks on a slower machine in the future:\n",
    "* Intel(R) Xeon(R) CPU E3-1505M v6 @ 3.00GHz, 4 Core(s)\n",
    "* Memory: 32 GB RAM and \n",
    "* Hard disk: NVMe m.2 SSD\n",
    "* OS: Windows Version 10.0.17763"
   ]
  },
  {
   "cell_type": "markdown",
   "metadata": {},
   "source": [
    "Our first step is to add the tcapy library to our `PYTHONPATH`. You may need to change these lines. Note, that in our setup, we are running the Jupyter notebook on Windows, and the backend Celery workers on Linux. If you are running everything in the same environment, the paths are likely to be same. We'll also define some paths for the test data we'll use for trade/orders."
   ]
  },
  {
   "cell_type": "code",
   "execution_count": 1,
   "metadata": {
    "ExecuteTime": {
     "end_time": "2020-09-15T13:42:52.011291Z",
     "start_time": "2020-09-15T13:42:52.005293Z"
    }
   },
   "outputs": [],
   "source": [
    "import sys\n",
    "import os\n",
    "\n",
    "windows_tcapy_path = 'e:/cuemacro/tcapy' # Windows platform\n",
    "linux_tcapy_path = '/home/tcapyuser/cuemacro/tcapy' # Linux platform\n",
    "local_test_data_path = '../test/resources/' # Windows platform\n",
    "remote_test_data_path = '../test/resources/' # WSL drive\n",
    "template_folder_path = '../tcapy/vis/report/templates/'\n",
    "\n",
    "# Assuming the front end is on Windows\n",
    "sys.path.insert(0, windows_tcapy_path)"
   ]
  },
  {
   "cell_type": "markdown",
   "metadata": {},
   "source": [
    "If the Python path now includes tcapy, we can do all the imports from it, that we'll need later. We'll also import all the other Python libraries we'll use."
   ]
  },
  {
   "cell_type": "code",
   "execution_count": 2,
   "metadata": {
    "ExecuteTime": {
     "end_time": "2020-09-15T13:42:56.676780Z",
     "start_time": "2020-09-15T13:42:52.657331Z"
    }
   },
   "outputs": [
    {
     "name": "stderr",
     "output_type": "stream",
     "text": [
      "C:\\Anaconda3\\envs\\py37tca\\lib\\site-packages\\arctic\\store\\_pandas_ndarray_store.py:6: FutureWarning: The Panel class is removed from pandas. Accessing it from the top-level namespace will also be removed in the next version\n",
      "  from pandas import DataFrame, Series, Panel\n"
     ]
    }
   ],
   "source": [
    "from collections import OrderedDict\n",
    "\n",
    "# This is the entry point for our TCA analysis\n",
    "from tcapy.analysis.tcaengine import TCAEngineImpl\n",
    "\n",
    "# To construct the parameters for our TCA calculation\n",
    "from tcapy.analysis.tcarequest import TCARequest\n",
    "\n",
    "# To access trade and market data\n",
    "from tcapy.data.databasesource import DatabaseSourceCSVBinary, \\\n",
    "    DatabaseSourceDataFrame, DatabaseSourceDukascopy\n",
    "\n",
    "# Import all the metrics and benchmarks we'll use\n",
    "from tcapy.analysis.algos.benchmark import BenchmarkArrival, BenchmarkMarketSpreadToMid\n",
    "from tcapy.analysis.algos.metric import MetricSlippage, MetricTransientMarketImpact\n",
    "\n",
    "# To aggregate the TCA results\n",
    "from tcapy.analysis.algos.resultsform import TimelineResultsForm, DistResultsForm, BarResultsForm\n",
    "\n",
    "# To help display the output of a TCA calculation\n",
    "from tcapy.vis.tcaresults import TCAResults\n",
    "from tcapy.vis.report.computationreport import JinjaRenderer\n",
    "from tcapy.vis.report.tcareport import TCAReport\n",
    "from tcapy.vis.displaylisteners import PlotRender\n",
    "\n",
    "# General classes\n",
    "from tcapy.conf.constants import Constants\n",
    "from tcapy.util.mediator import Mediator\n",
    "\n",
    "# Prevent requests from displaying debug messages for certain libraries\n",
    "import logging\n",
    "\n",
    "logging.getLogger(\"findatapy\").setLevel(logging.WARNING)\n",
    "logging.getLogger(\"requests\").setLevel(logging.WARNING)\n",
    "logging.getLogger(\"urllib3\").setLevel(logging.WARNING)\n",
    "\n",
    "# For plotting later\n",
    "import plotly.io as pio\n",
    "\n",
    "# For interactive plots (but these disappear when we reopen Jupyter)\n",
    "pio.renderers.default = \"notebook\" \n",
    "\n",
    "# Using https://github.com/plotly/Kaleido to generate static plot images\n",
    "# pio.renderers.default = \"svg\"\n",
    "pio.renderers.default = \"png\" \n",
    "\n",
    "import plotly\n",
    "\n",
    "from chartpy import Chart, Style\n",
    "\n",
    "# default size for Plotly charts we use\n",
    "chart_width = 800\n",
    "chart_height = 500\n",
    "\n",
    "chart = Chart()\n",
    "constants = Constants()\n",
    "style = Style(width=chart_width, height=chart_height, scale_factor=-1, silent_display=True)"
   ]
  },
  {
   "cell_type": "markdown",
   "metadata": {},
   "source": [
    "## Format of trade/order data for tcapy and DatabaseSource"
   ]
  },
  {
   "cell_type": "markdown",
   "metadata": {},
   "source": [
    "tcapy has a test dataset of randomised trade/order data in CSV format, which we'll use later. We have generated these by taking market bid/ask data and then randomly perturbing the bid/ask for sells/buys respectively. Random sizes and directions have also been constructed. If you want to create your own randomized data you can use `DataTestCreator`. I'd suggest it's probably better to try using your own real trade data, as the output will be more 'realistic'. A lot of the output we'll get might end up looking artifical because of the simple assumptions we've made in the construction of the test data."
   ]
  },
  {
   "cell_type": "code",
   "execution_count": 3,
   "metadata": {
    "ExecuteTime": {
     "end_time": "2020-09-15T13:42:56.691788Z",
     "start_time": "2020-09-15T13:42:56.678782Z"
    }
   },
   "outputs": [],
   "source": [
    "# The test trade/order data is populated between 25 Apr 2017-05 Jun 2017\n",
    "# with trades/orders for 'EURUSD', 'USDJPY' and 'EURJPY'\n",
    "local_csv_trade_order_mapping = OrderedDict([('trade_df', os.path.join(local_test_data_path, 'small_test_trade_df.csv')),\n",
    "                                             ('order_df', os.path.join(local_test_data_path, 'small_test_order_df.csv'))])\n",
    "\n",
    "remote_csv_trade_order_mapping = OrderedDict([('trade_df', os.path.join(remote_test_data_path, 'small_test_trade_df.csv')),\n",
    "                                              ('order_df', os.path.join(remote_test_data_path, 'small_test_order_df.csv'))])"
   ]
  },
  {
   "cell_type": "markdown",
   "metadata": {},
   "source": [
    "### Directly download data from Dukascopy\n",
    "\n",
    "The `DatabaseSource` abstract class is extended to provide trade and market data access from internal sources (eg. CSV, Arctic/MongoDB), as well as external sources like Dukascopy. We demonsrate how to use `DatabaseSourceDukascopy` to download market data with quoted bid/ask from Dukascopy (we can't download trade data from that). If there are any timeouts in the external download, `findatapy` displays a warning, and will also retry the download."
   ]
  },
  {
   "cell_type": "code",
   "execution_count": 4,
   "metadata": {
    "ExecuteTime": {
     "end_time": "2020-09-15T12:40:29.691703Z",
     "start_time": "2020-09-15T12:40:24.280704Z"
    }
   },
   "outputs": [
    {
     "name": "stderr",
     "output_type": "stream",
     "text": [
      "2020-09-15 13:40:24,443; DEBUG:tcapy.data.databasesource: Downloading 2017-04-25 00:00:00 - 2017-04-28 00:00:00 for EURUSD (databasesource.py:3816)\n",
      "2020-09-15 13:40:24,468; DEBUG:asyncio: Using selector: SelectSelector (selector_events.py:58)\n"
     ]
    },
    {
     "name": "stdout",
     "output_type": "stream",
     "text": [
      "Wall time: 5.39 s\n"
     ]
    }
   ],
   "source": [
    "%%time\n",
    "\n",
    "database_source_dukascopy = DatabaseSourceDukascopy()\n",
    "\n",
    "market_df = database_source_dukascopy.fetch_market_data(\n",
    "    ticker='EURUSD', start_date='25 Apr 2017', finish_date='28 Apr 2017')#finish_date='05 Jun 2017')"
   ]
  },
  {
   "cell_type": "markdown",
   "metadata": {},
   "source": [
    "We can look at the market data downloaded to see the format."
   ]
  },
  {
   "cell_type": "code",
   "execution_count": 5,
   "metadata": {
    "ExecuteTime": {
     "end_time": "2020-09-15T12:40:29.706704Z",
     "start_time": "2020-09-15T12:40:29.693706Z"
    }
   },
   "outputs": [
    {
     "data": {
      "text/html": [
       "<div>\n",
       "<style scoped>\n",
       "    .dataframe tbody tr th:only-of-type {\n",
       "        vertical-align: middle;\n",
       "    }\n",
       "\n",
       "    .dataframe tbody tr th {\n",
       "        vertical-align: top;\n",
       "    }\n",
       "\n",
       "    .dataframe thead th {\n",
       "        text-align: right;\n",
       "    }\n",
       "</style>\n",
       "<table border=\"1\" class=\"dataframe\">\n",
       "  <thead>\n",
       "    <tr style=\"text-align: right;\">\n",
       "      <th></th>\n",
       "      <th>bid</th>\n",
       "      <th>ask</th>\n",
       "      <th>mid</th>\n",
       "      <th>ticker</th>\n",
       "    </tr>\n",
       "    <tr>\n",
       "      <th>Date</th>\n",
       "      <th></th>\n",
       "      <th></th>\n",
       "      <th></th>\n",
       "      <th></th>\n",
       "    </tr>\n",
       "  </thead>\n",
       "  <tbody>\n",
       "    <tr>\n",
       "      <th>2017-04-25 00:00:01.466000+00:00</th>\n",
       "      <td>1.08648</td>\n",
       "      <td>1.08654</td>\n",
       "      <td>1.086510</td>\n",
       "      <td>EURUSD</td>\n",
       "    </tr>\n",
       "    <tr>\n",
       "      <th>2017-04-25 00:00:01.618000+00:00</th>\n",
       "      <td>1.08650</td>\n",
       "      <td>1.08654</td>\n",
       "      <td>1.086520</td>\n",
       "      <td>EURUSD</td>\n",
       "    </tr>\n",
       "    <tr>\n",
       "      <th>2017-04-25 00:00:02.276000+00:00</th>\n",
       "      <td>1.08650</td>\n",
       "      <td>1.08654</td>\n",
       "      <td>1.086520</td>\n",
       "      <td>EURUSD</td>\n",
       "    </tr>\n",
       "    <tr>\n",
       "      <th>2017-04-25 00:00:04.081000+00:00</th>\n",
       "      <td>1.08649</td>\n",
       "      <td>1.08654</td>\n",
       "      <td>1.086515</td>\n",
       "      <td>EURUSD</td>\n",
       "    </tr>\n",
       "    <tr>\n",
       "      <th>2017-04-25 00:00:05.470000+00:00</th>\n",
       "      <td>1.08650</td>\n",
       "      <td>1.08654</td>\n",
       "      <td>1.086520</td>\n",
       "      <td>EURUSD</td>\n",
       "    </tr>\n",
       "    <tr>\n",
       "      <th>2017-04-25 00:00:06.039000+00:00</th>\n",
       "      <td>1.08650</td>\n",
       "      <td>1.08654</td>\n",
       "      <td>1.086520</td>\n",
       "      <td>EURUSD</td>\n",
       "    </tr>\n",
       "    <tr>\n",
       "      <th>2017-04-25 00:00:06.567000+00:00</th>\n",
       "      <td>1.08651</td>\n",
       "      <td>1.08654</td>\n",
       "      <td>1.086525</td>\n",
       "      <td>EURUSD</td>\n",
       "    </tr>\n",
       "    <tr>\n",
       "      <th>2017-04-25 00:00:07.604000+00:00</th>\n",
       "      <td>1.08652</td>\n",
       "      <td>1.08655</td>\n",
       "      <td>1.086535</td>\n",
       "      <td>EURUSD</td>\n",
       "    </tr>\n",
       "    <tr>\n",
       "      <th>2017-04-25 00:00:08.503000+00:00</th>\n",
       "      <td>1.08654</td>\n",
       "      <td>1.08656</td>\n",
       "      <td>1.086550</td>\n",
       "      <td>EURUSD</td>\n",
       "    </tr>\n",
       "    <tr>\n",
       "      <th>2017-04-25 00:00:08.717000+00:00</th>\n",
       "      <td>1.08656</td>\n",
       "      <td>1.08660</td>\n",
       "      <td>1.086580</td>\n",
       "      <td>EURUSD</td>\n",
       "    </tr>\n",
       "  </tbody>\n",
       "</table>\n",
       "</div>"
      ],
      "text/plain": [
       "                                      bid      ask       mid  ticker\n",
       "Date                                                                \n",
       "2017-04-25 00:00:01.466000+00:00  1.08648  1.08654  1.086510  EURUSD\n",
       "2017-04-25 00:00:01.618000+00:00  1.08650  1.08654  1.086520  EURUSD\n",
       "2017-04-25 00:00:02.276000+00:00  1.08650  1.08654  1.086520  EURUSD\n",
       "2017-04-25 00:00:04.081000+00:00  1.08649  1.08654  1.086515  EURUSD\n",
       "2017-04-25 00:00:05.470000+00:00  1.08650  1.08654  1.086520  EURUSD\n",
       "2017-04-25 00:00:06.039000+00:00  1.08650  1.08654  1.086520  EURUSD\n",
       "2017-04-25 00:00:06.567000+00:00  1.08651  1.08654  1.086525  EURUSD\n",
       "2017-04-25 00:00:07.604000+00:00  1.08652  1.08655  1.086535  EURUSD\n",
       "2017-04-25 00:00:08.503000+00:00  1.08654  1.08656  1.086550  EURUSD\n",
       "2017-04-25 00:00:08.717000+00:00  1.08656  1.08660  1.086580  EURUSD"
      ]
     },
     "execution_count": 5,
     "metadata": {},
     "output_type": "execute_result"
    }
   ],
   "source": [
    "market_df.head(10)"
   ]
  },
  {
   "cell_type": "markdown",
   "metadata": {},
   "source": [
    "### Directly loading trade/order data from CSV\n",
    "\n",
    "We can use `DatabaseSourceCSVBinary` to open up the trade and order data."
   ]
  },
  {
   "cell_type": "code",
   "execution_count": 6,
   "metadata": {
    "ExecuteTime": {
     "end_time": "2020-09-15T12:40:29.751703Z",
     "start_time": "2020-09-15T12:40:29.708703Z"
    }
   },
   "outputs": [],
   "source": [
    "trade_df = DatabaseSourceCSVBinary(trade_data_database_csv=local_csv_trade_order_mapping['trade_df']) \\\n",
    "    .fetch_trade_order_data()\n",
    "\n",
    "order_df = DatabaseSourceCSVBinary(trade_data_database_csv=local_csv_trade_order_mapping['order_df']) \\\n",
    "    .fetch_trade_order_data()"
   ]
  },
  {
   "cell_type": "markdown",
   "metadata": {},
   "source": [
    "### Exploring trade/order data\n",
    "\n",
    "Let's look at the trade data so we can understand the type of format that tcapy needs. We can see that each trade is a point in time. In some cases, these are actual `trade` events, other times they are `placement`, `cancel` or `cancel/replace` messages. The times of two different events can be identical, and there are some instances of this in the test datasets of trade/orders. Note, that this can often cause problems with Pandas, so if do create your own `Metric` and `Benchmark` variations, do check that your implementations can manage it (can require some rewriting of the code)."
   ]
  },
  {
   "cell_type": "code",
   "execution_count": 7,
   "metadata": {
    "ExecuteTime": {
     "end_time": "2020-09-15T12:40:29.781704Z",
     "start_time": "2020-09-15T12:40:29.754703Z"
    }
   },
   "outputs": [
    {
     "data": {
      "text/html": [
       "<div>\n",
       "<style scoped>\n",
       "    .dataframe tbody tr th:only-of-type {\n",
       "        vertical-align: middle;\n",
       "    }\n",
       "\n",
       "    .dataframe tbody tr th {\n",
       "        vertical-align: top;\n",
       "    }\n",
       "\n",
       "    .dataframe thead th {\n",
       "        text-align: right;\n",
       "    }\n",
       "</style>\n",
       "<table border=\"1\" class=\"dataframe\">\n",
       "  <thead>\n",
       "    <tr style=\"text-align: right;\">\n",
       "      <th></th>\n",
       "      <th>account_id</th>\n",
       "      <th>algo_id</th>\n",
       "      <th>algo_settings</th>\n",
       "      <th>ancestor_pointer_id</th>\n",
       "      <th>broker_id</th>\n",
       "      <th>broker_sub_id</th>\n",
       "      <th>event_type</th>\n",
       "      <th>executed_notional</th>\n",
       "      <th>executed_price</th>\n",
       "      <th>id</th>\n",
       "      <th>...</th>\n",
       "      <th>market_mid</th>\n",
       "      <th>notional_currency</th>\n",
       "      <th>order_notional</th>\n",
       "      <th>portfolio_id</th>\n",
       "      <th>portfolio_manager_id</th>\n",
       "      <th>price_limit</th>\n",
       "      <th>side</th>\n",
       "      <th>ticker</th>\n",
       "      <th>trader_id</th>\n",
       "      <th>venue</th>\n",
       "    </tr>\n",
       "    <tr>\n",
       "      <th>Date</th>\n",
       "      <th></th>\n",
       "      <th></th>\n",
       "      <th></th>\n",
       "      <th></th>\n",
       "      <th></th>\n",
       "      <th></th>\n",
       "      <th></th>\n",
       "      <th></th>\n",
       "      <th></th>\n",
       "      <th></th>\n",
       "      <th></th>\n",
       "      <th></th>\n",
       "      <th></th>\n",
       "      <th></th>\n",
       "      <th></th>\n",
       "      <th></th>\n",
       "      <th></th>\n",
       "      <th></th>\n",
       "      <th></th>\n",
       "      <th></th>\n",
       "      <th></th>\n",
       "    </tr>\n",
       "  </thead>\n",
       "  <tbody>\n",
       "    <tr>\n",
       "      <th>2017-04-25 07:09:31.804000+00:00</th>\n",
       "      <td>account3</td>\n",
       "      <td>algo4</td>\n",
       "      <td>default</td>\n",
       "      <td>order_EURUSD2017-04-25 07:09:31.804000+00:00_2...</td>\n",
       "      <td>broker5</td>\n",
       "      <td>subbroker1</td>\n",
       "      <td>placement</td>\n",
       "      <td>0</td>\n",
       "      <td>0.000000</td>\n",
       "      <td>execution_EURUSD2017-04-25 07:09:31.804000+00:...</td>\n",
       "      <td>...</td>\n",
       "      <td>1.087965</td>\n",
       "      <td>EUR</td>\n",
       "      <td>18517881</td>\n",
       "      <td>portfolio4</td>\n",
       "      <td>pm2</td>\n",
       "      <td>1.087965</td>\n",
       "      <td>-1</td>\n",
       "      <td>EURUSD</td>\n",
       "      <td>trader1</td>\n",
       "      <td>venue4</td>\n",
       "    </tr>\n",
       "    <tr>\n",
       "      <th>2017-04-25 07:09:33.765000+00:00</th>\n",
       "      <td>account3</td>\n",
       "      <td>algo4</td>\n",
       "      <td>default</td>\n",
       "      <td>order_EURUSD2017-04-25 07:09:31.804000+00:00_2...</td>\n",
       "      <td>broker5</td>\n",
       "      <td>subbroker1</td>\n",
       "      <td>trade</td>\n",
       "      <td>18517881</td>\n",
       "      <td>1.087965</td>\n",
       "      <td>execution_EURUSD2017-04-25 07:09:33.765000+00:...</td>\n",
       "      <td>...</td>\n",
       "      <td>1.087990</td>\n",
       "      <td>EUR</td>\n",
       "      <td>18517881</td>\n",
       "      <td>portfolio4</td>\n",
       "      <td>pm2</td>\n",
       "      <td>1.087965</td>\n",
       "      <td>-1</td>\n",
       "      <td>EURUSD</td>\n",
       "      <td>trader1</td>\n",
       "      <td>venue3</td>\n",
       "    </tr>\n",
       "    <tr>\n",
       "      <th>2017-04-25 11:09:52.384000+00:00</th>\n",
       "      <td>account3</td>\n",
       "      <td>algo6</td>\n",
       "      <td>default</td>\n",
       "      <td>order_EURUSD2017-04-25 11:09:52.384000+00:00_2...</td>\n",
       "      <td>broker6</td>\n",
       "      <td>subbroker6</td>\n",
       "      <td>placement</td>\n",
       "      <td>0</td>\n",
       "      <td>0.000000</td>\n",
       "      <td>execution_EURUSD2017-04-25 11:09:52.384000+00:...</td>\n",
       "      <td>...</td>\n",
       "      <td>1.088090</td>\n",
       "      <td>EUR</td>\n",
       "      <td>8364696</td>\n",
       "      <td>portfolio4</td>\n",
       "      <td>pm3</td>\n",
       "      <td>1.088090</td>\n",
       "      <td>-1</td>\n",
       "      <td>EURUSD</td>\n",
       "      <td>trader5</td>\n",
       "      <td>venue4</td>\n",
       "    </tr>\n",
       "    <tr>\n",
       "      <th>2017-04-25 11:09:53.242000+00:00</th>\n",
       "      <td>account3</td>\n",
       "      <td>algo6</td>\n",
       "      <td>default</td>\n",
       "      <td>order_EURUSD2017-04-25 11:09:52.384000+00:00_2...</td>\n",
       "      <td>broker6</td>\n",
       "      <td>subbroker6</td>\n",
       "      <td>cancel/replace</td>\n",
       "      <td>0</td>\n",
       "      <td>0.000000</td>\n",
       "      <td>execution_EURUSD2017-04-25 11:09:53.242000+00:...</td>\n",
       "      <td>...</td>\n",
       "      <td>1.088080</td>\n",
       "      <td>EUR</td>\n",
       "      <td>0</td>\n",
       "      <td>portfolio4</td>\n",
       "      <td>pm3</td>\n",
       "      <td>1.088090</td>\n",
       "      <td>-1</td>\n",
       "      <td>EURUSD</td>\n",
       "      <td>trader5</td>\n",
       "      <td>venue3</td>\n",
       "    </tr>\n",
       "    <tr>\n",
       "      <th>2017-04-25 11:10:20.251000+00:00</th>\n",
       "      <td>account3</td>\n",
       "      <td>algo6</td>\n",
       "      <td>default</td>\n",
       "      <td>order_EURUSD2017-04-25 11:09:52.384000+00:00_2...</td>\n",
       "      <td>broker6</td>\n",
       "      <td>subbroker6</td>\n",
       "      <td>trade</td>\n",
       "      <td>8364696</td>\n",
       "      <td>1.088093</td>\n",
       "      <td>execution_EURUSD2017-04-25 11:10:20.251000+00:...</td>\n",
       "      <td>...</td>\n",
       "      <td>1.088125</td>\n",
       "      <td>EUR</td>\n",
       "      <td>8364696</td>\n",
       "      <td>portfolio4</td>\n",
       "      <td>pm3</td>\n",
       "      <td>1.088090</td>\n",
       "      <td>-1</td>\n",
       "      <td>EURUSD</td>\n",
       "      <td>trader5</td>\n",
       "      <td>venue4</td>\n",
       "    </tr>\n",
       "  </tbody>\n",
       "</table>\n",
       "<p>5 rows × 22 columns</p>\n",
       "</div>"
      ],
      "text/plain": [
       "                                 account_id algo_id algo_settings  \\\n",
       "Date                                                                \n",
       "2017-04-25 07:09:31.804000+00:00   account3   algo4       default   \n",
       "2017-04-25 07:09:33.765000+00:00   account3   algo4       default   \n",
       "2017-04-25 11:09:52.384000+00:00   account3   algo6       default   \n",
       "2017-04-25 11:09:53.242000+00:00   account3   algo6       default   \n",
       "2017-04-25 11:10:20.251000+00:00   account3   algo6       default   \n",
       "\n",
       "                                                                ancestor_pointer_id  \\\n",
       "Date                                                                                  \n",
       "2017-04-25 07:09:31.804000+00:00  order_EURUSD2017-04-25 07:09:31.804000+00:00_2...   \n",
       "2017-04-25 07:09:33.765000+00:00  order_EURUSD2017-04-25 07:09:31.804000+00:00_2...   \n",
       "2017-04-25 11:09:52.384000+00:00  order_EURUSD2017-04-25 11:09:52.384000+00:00_2...   \n",
       "2017-04-25 11:09:53.242000+00:00  order_EURUSD2017-04-25 11:09:52.384000+00:00_2...   \n",
       "2017-04-25 11:10:20.251000+00:00  order_EURUSD2017-04-25 11:09:52.384000+00:00_2...   \n",
       "\n",
       "                                 broker_id broker_sub_id      event_type  \\\n",
       "Date                                                                       \n",
       "2017-04-25 07:09:31.804000+00:00   broker5    subbroker1       placement   \n",
       "2017-04-25 07:09:33.765000+00:00   broker5    subbroker1           trade   \n",
       "2017-04-25 11:09:52.384000+00:00   broker6    subbroker6       placement   \n",
       "2017-04-25 11:09:53.242000+00:00   broker6    subbroker6  cancel/replace   \n",
       "2017-04-25 11:10:20.251000+00:00   broker6    subbroker6           trade   \n",
       "\n",
       "                                  executed_notional  executed_price  \\\n",
       "Date                                                                  \n",
       "2017-04-25 07:09:31.804000+00:00                  0        0.000000   \n",
       "2017-04-25 07:09:33.765000+00:00           18517881        1.087965   \n",
       "2017-04-25 11:09:52.384000+00:00                  0        0.000000   \n",
       "2017-04-25 11:09:53.242000+00:00                  0        0.000000   \n",
       "2017-04-25 11:10:20.251000+00:00            8364696        1.088093   \n",
       "\n",
       "                                                                                 id  \\\n",
       "Date                                                                                  \n",
       "2017-04-25 07:09:31.804000+00:00  execution_EURUSD2017-04-25 07:09:31.804000+00:...   \n",
       "2017-04-25 07:09:33.765000+00:00  execution_EURUSD2017-04-25 07:09:33.765000+00:...   \n",
       "2017-04-25 11:09:52.384000+00:00  execution_EURUSD2017-04-25 11:09:52.384000+00:...   \n",
       "2017-04-25 11:09:53.242000+00:00  execution_EURUSD2017-04-25 11:09:53.242000+00:...   \n",
       "2017-04-25 11:10:20.251000+00:00  execution_EURUSD2017-04-25 11:10:20.251000+00:...   \n",
       "\n",
       "                                  ...  market_mid  notional_currency  \\\n",
       "Date                              ...                                  \n",
       "2017-04-25 07:09:31.804000+00:00  ...    1.087965                EUR   \n",
       "2017-04-25 07:09:33.765000+00:00  ...    1.087990                EUR   \n",
       "2017-04-25 11:09:52.384000+00:00  ...    1.088090                EUR   \n",
       "2017-04-25 11:09:53.242000+00:00  ...    1.088080                EUR   \n",
       "2017-04-25 11:10:20.251000+00:00  ...    1.088125                EUR   \n",
       "\n",
       "                                  order_notional portfolio_id  \\\n",
       "Date                                                            \n",
       "2017-04-25 07:09:31.804000+00:00        18517881   portfolio4   \n",
       "2017-04-25 07:09:33.765000+00:00        18517881   portfolio4   \n",
       "2017-04-25 11:09:52.384000+00:00         8364696   portfolio4   \n",
       "2017-04-25 11:09:53.242000+00:00               0   portfolio4   \n",
       "2017-04-25 11:10:20.251000+00:00         8364696   portfolio4   \n",
       "\n",
       "                                  portfolio_manager_id price_limit side  \\\n",
       "Date                                                                      \n",
       "2017-04-25 07:09:31.804000+00:00                   pm2    1.087965   -1   \n",
       "2017-04-25 07:09:33.765000+00:00                   pm2    1.087965   -1   \n",
       "2017-04-25 11:09:52.384000+00:00                   pm3    1.088090   -1   \n",
       "2017-04-25 11:09:53.242000+00:00                   pm3    1.088090   -1   \n",
       "2017-04-25 11:10:20.251000+00:00                   pm3    1.088090   -1   \n",
       "\n",
       "                                  ticker  trader_id   venue  \n",
       "Date                                                         \n",
       "2017-04-25 07:09:31.804000+00:00  EURUSD    trader1  venue4  \n",
       "2017-04-25 07:09:33.765000+00:00  EURUSD    trader1  venue3  \n",
       "2017-04-25 11:09:52.384000+00:00  EURUSD    trader5  venue4  \n",
       "2017-04-25 11:09:53.242000+00:00  EURUSD    trader5  venue3  \n",
       "2017-04-25 11:10:20.251000+00:00  EURUSD    trader5  venue4  \n",
       "\n",
       "[5 rows x 22 columns]"
      ]
     },
     "execution_count": 7,
     "metadata": {},
     "output_type": "execute_result"
    }
   ],
   "source": [
    "trade_df.head(5)"
   ]
  },
  {
   "cell_type": "markdown",
   "metadata": {},
   "source": [
    "Let's print out all the fields. Some fields are compulsory for use in tcapy, including the index (`Date`), `ticker`, `side` etc. Some fields here are optional such as `market_ask`, `market_bid` and `market_mid`. Similar fields will be autogenerated from the market data and appends to the trade data. `DatabaseSource` does minimal changes to the format of the data. Internally, there's a higher level class `DataNorm` that can be edited to convert the field names to the ones which tcapy expects. Each of these trade message point to the order which they belong to. There can be multiple trade messages within a single order."
   ]
  },
  {
   "cell_type": "code",
   "execution_count": 8,
   "metadata": {
    "ExecuteTime": {
     "end_time": "2020-09-15T12:40:29.796705Z",
     "start_time": "2020-09-15T12:40:29.783703Z"
    }
   },
   "outputs": [
    {
     "data": {
      "text/plain": [
       "Index(['account_id', 'algo_id', 'algo_settings', 'ancestor_pointer_id',\n",
       "       'broker_id', 'broker_sub_id', 'event_type', 'executed_notional',\n",
       "       'executed_price', 'id', 'market_ask', 'market_bid', 'market_mid',\n",
       "       'notional_currency', 'order_notional', 'portfolio_id',\n",
       "       'portfolio_manager_id', 'price_limit', 'side', 'ticker', 'trader_id',\n",
       "       'venue'],\n",
       "      dtype='object')"
      ]
     },
     "execution_count": 8,
     "metadata": {},
     "output_type": "execute_result"
    }
   ],
   "source": [
    "trade_df.columns"
   ]
  },
  {
   "cell_type": "markdown",
   "metadata": {},
   "source": [
    "If we look at the order data, one the key differences, which we noted is that each order has a `benchmark_date_start` and `benchmark_date_end`, a start and end time. Note, obviously this randomized data. We also see that it doesn't have columns for `executed_notional` data or `executed_price` data. tcapy can generate this from the underlying trade fills from the earlier table."
   ]
  },
  {
   "cell_type": "code",
   "execution_count": 9,
   "metadata": {
    "ExecuteTime": {
     "end_time": "2020-09-15T12:40:29.826703Z",
     "start_time": "2020-09-15T12:40:29.798704Z"
    }
   },
   "outputs": [
    {
     "data": {
      "text/html": [
       "<div>\n",
       "<style scoped>\n",
       "    .dataframe tbody tr th:only-of-type {\n",
       "        vertical-align: middle;\n",
       "    }\n",
       "\n",
       "    .dataframe tbody tr th {\n",
       "        vertical-align: top;\n",
       "    }\n",
       "\n",
       "    .dataframe thead th {\n",
       "        text-align: right;\n",
       "    }\n",
       "</style>\n",
       "<table border=\"1\" class=\"dataframe\">\n",
       "  <thead>\n",
       "    <tr style=\"text-align: right;\">\n",
       "      <th></th>\n",
       "      <th>account_id</th>\n",
       "      <th>algo_id</th>\n",
       "      <th>algo_settings</th>\n",
       "      <th>arrival_price</th>\n",
       "      <th>benchmark_date_end</th>\n",
       "      <th>benchmark_date_start</th>\n",
       "      <th>broker_id</th>\n",
       "      <th>broker_sub_id</th>\n",
       "      <th>id</th>\n",
       "      <th>notional</th>\n",
       "      <th>notional_currency</th>\n",
       "      <th>portfolio_id</th>\n",
       "      <th>portfolio_manager_id</th>\n",
       "      <th>price_limit</th>\n",
       "      <th>side</th>\n",
       "      <th>ticker</th>\n",
       "      <th>trader_id</th>\n",
       "    </tr>\n",
       "    <tr>\n",
       "      <th>Date</th>\n",
       "      <th></th>\n",
       "      <th></th>\n",
       "      <th></th>\n",
       "      <th></th>\n",
       "      <th></th>\n",
       "      <th></th>\n",
       "      <th></th>\n",
       "      <th></th>\n",
       "      <th></th>\n",
       "      <th></th>\n",
       "      <th></th>\n",
       "      <th></th>\n",
       "      <th></th>\n",
       "      <th></th>\n",
       "      <th></th>\n",
       "      <th></th>\n",
       "      <th></th>\n",
       "    </tr>\n",
       "  </thead>\n",
       "  <tbody>\n",
       "    <tr>\n",
       "      <th>2017-04-25 07:09:31.804000+00:00</th>\n",
       "      <td>account3</td>\n",
       "      <td>algo4</td>\n",
       "      <td>default</td>\n",
       "      <td>1.087965</td>\n",
       "      <td>2017-04-25 10:40:16.512000+00:00</td>\n",
       "      <td>2017-04-25 07:09:31.804000+00:00</td>\n",
       "      <td>broker5</td>\n",
       "      <td>subbroker1</td>\n",
       "      <td>order_EURUSD2017-04-25 07:09:31.804000+00:00_2...</td>\n",
       "      <td>18517881</td>\n",
       "      <td>EUR</td>\n",
       "      <td>portfolio4</td>\n",
       "      <td>pm2</td>\n",
       "      <td>1.087965</td>\n",
       "      <td>-1</td>\n",
       "      <td>EURUSD</td>\n",
       "      <td>trader1</td>\n",
       "    </tr>\n",
       "    <tr>\n",
       "      <th>2017-04-25 11:09:52.384000+00:00</th>\n",
       "      <td>account3</td>\n",
       "      <td>algo6</td>\n",
       "      <td>default</td>\n",
       "      <td>1.088090</td>\n",
       "      <td>2017-04-25 14:33:06.745000+00:00</td>\n",
       "      <td>2017-04-25 11:09:52.384000+00:00</td>\n",
       "      <td>broker6</td>\n",
       "      <td>subbroker6</td>\n",
       "      <td>order_EURUSD2017-04-25 11:09:52.384000+00:00_2...</td>\n",
       "      <td>8364696</td>\n",
       "      <td>EUR</td>\n",
       "      <td>portfolio4</td>\n",
       "      <td>pm3</td>\n",
       "      <td>1.088090</td>\n",
       "      <td>-1</td>\n",
       "      <td>EURUSD</td>\n",
       "      <td>trader5</td>\n",
       "    </tr>\n",
       "    <tr>\n",
       "      <th>2017-04-25 15:50:41.479000+00:00</th>\n",
       "      <td>account1</td>\n",
       "      <td>algo3</td>\n",
       "      <td>default</td>\n",
       "      <td>1.093765</td>\n",
       "      <td>2017-04-26 06:01:27.935000+00:00</td>\n",
       "      <td>2017-04-25 15:50:41.479000+00:00</td>\n",
       "      <td>broker5</td>\n",
       "      <td>subbroker5</td>\n",
       "      <td>order_EURUSD2017-04-25 15:50:41.479000+00:00_2...</td>\n",
       "      <td>774423</td>\n",
       "      <td>EUR</td>\n",
       "      <td>portfolio1</td>\n",
       "      <td>pm6</td>\n",
       "      <td>1.093765</td>\n",
       "      <td>-1</td>\n",
       "      <td>EURUSD</td>\n",
       "      <td>trader3</td>\n",
       "    </tr>\n",
       "    <tr>\n",
       "      <th>2017-04-26 06:48:48.562000+00:00</th>\n",
       "      <td>account4</td>\n",
       "      <td>algo2</td>\n",
       "      <td>default</td>\n",
       "      <td>1.092460</td>\n",
       "      <td>2017-04-26 09:57:57.631000+00:00</td>\n",
       "      <td>2017-04-26 06:48:48.562000+00:00</td>\n",
       "      <td>broker3</td>\n",
       "      <td>subbroker3</td>\n",
       "      <td>order_EURUSD2017-04-26 06:48:48.562000+00:00_2...</td>\n",
       "      <td>16465763</td>\n",
       "      <td>EUR</td>\n",
       "      <td>portfolio3</td>\n",
       "      <td>pm5</td>\n",
       "      <td>1.092460</td>\n",
       "      <td>-1</td>\n",
       "      <td>EURUSD</td>\n",
       "      <td>trader5</td>\n",
       "    </tr>\n",
       "    <tr>\n",
       "      <th>2017-04-26 11:15:50.864000+00:00</th>\n",
       "      <td>account6</td>\n",
       "      <td>algo1</td>\n",
       "      <td>default</td>\n",
       "      <td>1.089585</td>\n",
       "      <td>2017-04-26 14:41:01.382000+00:00</td>\n",
       "      <td>2017-04-26 11:15:50.864000+00:00</td>\n",
       "      <td>broker3</td>\n",
       "      <td>subbroker6</td>\n",
       "      <td>order_EURUSD2017-04-26 11:15:50.864000+00:00_2...</td>\n",
       "      <td>11501881</td>\n",
       "      <td>EUR</td>\n",
       "      <td>portfolio4</td>\n",
       "      <td>pm3</td>\n",
       "      <td>1.089585</td>\n",
       "      <td>-1</td>\n",
       "      <td>EURUSD</td>\n",
       "      <td>trader4</td>\n",
       "    </tr>\n",
       "  </tbody>\n",
       "</table>\n",
       "</div>"
      ],
      "text/plain": [
       "                                 account_id algo_id algo_settings  \\\n",
       "Date                                                                \n",
       "2017-04-25 07:09:31.804000+00:00   account3   algo4       default   \n",
       "2017-04-25 11:09:52.384000+00:00   account3   algo6       default   \n",
       "2017-04-25 15:50:41.479000+00:00   account1   algo3       default   \n",
       "2017-04-26 06:48:48.562000+00:00   account4   algo2       default   \n",
       "2017-04-26 11:15:50.864000+00:00   account6   algo1       default   \n",
       "\n",
       "                                  arrival_price  \\\n",
       "Date                                              \n",
       "2017-04-25 07:09:31.804000+00:00       1.087965   \n",
       "2017-04-25 11:09:52.384000+00:00       1.088090   \n",
       "2017-04-25 15:50:41.479000+00:00       1.093765   \n",
       "2017-04-26 06:48:48.562000+00:00       1.092460   \n",
       "2017-04-26 11:15:50.864000+00:00       1.089585   \n",
       "\n",
       "                                               benchmark_date_end  \\\n",
       "Date                                                                \n",
       "2017-04-25 07:09:31.804000+00:00 2017-04-25 10:40:16.512000+00:00   \n",
       "2017-04-25 11:09:52.384000+00:00 2017-04-25 14:33:06.745000+00:00   \n",
       "2017-04-25 15:50:41.479000+00:00 2017-04-26 06:01:27.935000+00:00   \n",
       "2017-04-26 06:48:48.562000+00:00 2017-04-26 09:57:57.631000+00:00   \n",
       "2017-04-26 11:15:50.864000+00:00 2017-04-26 14:41:01.382000+00:00   \n",
       "\n",
       "                                             benchmark_date_start broker_id  \\\n",
       "Date                                                                          \n",
       "2017-04-25 07:09:31.804000+00:00 2017-04-25 07:09:31.804000+00:00   broker5   \n",
       "2017-04-25 11:09:52.384000+00:00 2017-04-25 11:09:52.384000+00:00   broker6   \n",
       "2017-04-25 15:50:41.479000+00:00 2017-04-25 15:50:41.479000+00:00   broker5   \n",
       "2017-04-26 06:48:48.562000+00:00 2017-04-26 06:48:48.562000+00:00   broker3   \n",
       "2017-04-26 11:15:50.864000+00:00 2017-04-26 11:15:50.864000+00:00   broker3   \n",
       "\n",
       "                                 broker_sub_id  \\\n",
       "Date                                             \n",
       "2017-04-25 07:09:31.804000+00:00    subbroker1   \n",
       "2017-04-25 11:09:52.384000+00:00    subbroker6   \n",
       "2017-04-25 15:50:41.479000+00:00    subbroker5   \n",
       "2017-04-26 06:48:48.562000+00:00    subbroker3   \n",
       "2017-04-26 11:15:50.864000+00:00    subbroker6   \n",
       "\n",
       "                                                                                 id  \\\n",
       "Date                                                                                  \n",
       "2017-04-25 07:09:31.804000+00:00  order_EURUSD2017-04-25 07:09:31.804000+00:00_2...   \n",
       "2017-04-25 11:09:52.384000+00:00  order_EURUSD2017-04-25 11:09:52.384000+00:00_2...   \n",
       "2017-04-25 15:50:41.479000+00:00  order_EURUSD2017-04-25 15:50:41.479000+00:00_2...   \n",
       "2017-04-26 06:48:48.562000+00:00  order_EURUSD2017-04-26 06:48:48.562000+00:00_2...   \n",
       "2017-04-26 11:15:50.864000+00:00  order_EURUSD2017-04-26 11:15:50.864000+00:00_2...   \n",
       "\n",
       "                                  notional notional_currency portfolio_id  \\\n",
       "Date                                                                        \n",
       "2017-04-25 07:09:31.804000+00:00  18517881               EUR   portfolio4   \n",
       "2017-04-25 11:09:52.384000+00:00   8364696               EUR   portfolio4   \n",
       "2017-04-25 15:50:41.479000+00:00    774423               EUR   portfolio1   \n",
       "2017-04-26 06:48:48.562000+00:00  16465763               EUR   portfolio3   \n",
       "2017-04-26 11:15:50.864000+00:00  11501881               EUR   portfolio4   \n",
       "\n",
       "                                 portfolio_manager_id  price_limit  side  \\\n",
       "Date                                                                       \n",
       "2017-04-25 07:09:31.804000+00:00                  pm2     1.087965    -1   \n",
       "2017-04-25 11:09:52.384000+00:00                  pm3     1.088090    -1   \n",
       "2017-04-25 15:50:41.479000+00:00                  pm6     1.093765    -1   \n",
       "2017-04-26 06:48:48.562000+00:00                  pm5     1.092460    -1   \n",
       "2017-04-26 11:15:50.864000+00:00                  pm3     1.089585    -1   \n",
       "\n",
       "                                  ticker trader_id  \n",
       "Date                                                \n",
       "2017-04-25 07:09:31.804000+00:00  EURUSD   trader1  \n",
       "2017-04-25 11:09:52.384000+00:00  EURUSD   trader5  \n",
       "2017-04-25 15:50:41.479000+00:00  EURUSD   trader3  \n",
       "2017-04-26 06:48:48.562000+00:00  EURUSD   trader5  \n",
       "2017-04-26 11:15:50.864000+00:00  EURUSD   trader4  "
      ]
     },
     "execution_count": 9,
     "metadata": {},
     "output_type": "execute_result"
    }
   ],
   "source": [
    "order_df.head(5)"
   ]
  },
  {
   "cell_type": "markdown",
   "metadata": {},
   "source": [
    "tcapy can do TCA on trade data on its own (or trade and order data together). Make sure that your trade/order is in a similar format to use with tcapy."
   ]
  },
  {
   "cell_type": "markdown",
   "metadata": {},
   "source": [
    "## TCA computations using external data download\n",
    "\n",
    "We first need to create a trade/order mapping, to tell tcapy where to find the trade/order data, which is this case is in CSV files. Note the use of `trade_df` and `order_df`, which you'll have to use each time.\n",
    "\n",
    "We could use an `OrderedDict` (as earlier), but for Python 3.6+ all dictionaries have ordering built in, so we'll just a `dict` given we are assuming that users have set up a Python 3.6 environment for tcapy, in line with the installation instructions."
   ]
  },
  {
   "cell_type": "code",
   "execution_count": 6,
   "metadata": {
    "ExecuteTime": {
     "end_time": "2020-09-15T13:43:21.199721Z",
     "start_time": "2020-09-15T13:43:21.187720Z"
    }
   },
   "outputs": [],
   "source": [
    "csv_trade_order_mapping = {'trade_df' : os.path.join(local_test_data_path, 'small_test_trade_df.csv'),\n",
    "                           'order_df' : os.path.join(local_test_data_path, 'small_test_order_df.csv')}"
   ]
  },
  {
   "cell_type": "markdown",
   "metadata": {},
   "source": [
    "We create a `TCAEngineImpl` object which will be used to accept a `TCARequest` for doing the TCA computation. We also get reference to the `VolatileCache` which uses Redis underneath."
   ]
  },
  {
   "cell_type": "code",
   "execution_count": 7,
   "metadata": {
    "ExecuteTime": {
     "end_time": "2020-09-15T13:43:22.144720Z",
     "start_time": "2020-09-15T13:43:22.108719Z"
    }
   },
   "outputs": [
    {
     "name": "stderr",
     "output_type": "stream",
     "text": [
      "2020-09-15 14:43:22,140; INFO:tcapy.analysis.tcaengine: Init TCAEngine version: pro - Env: desktop_laptop_linux (tcaengine.py:53)\n"
     ]
    }
   ],
   "source": [
    "tca_version  = constants.tcapy_version\n",
    "tca_engine = TCAEngineImpl(version=tca_version)\n",
    "\n",
    "volatile_cache = Mediator.get_volatile_cache()"
   ]
  },
  {
   "cell_type": "markdown",
   "metadata": {},
   "source": [
    "We create a `TCARequest`, which will be run on our trade/order CSV files. It allows us to specify our `TCARequest` in a Pythonic like way, as opposed to using some sort of query language directly (like SQL or q). Obviously, the key advantage of this is because tcapy supports all sorts of databases, we don't need to change our `TCARequest` much if we change our underlying data sources.\n",
    "\n",
    "The market data will be externally downloaded from Dukascopy. In this instance, we have set `use_multithreading=False` which avoids the use of Celery. In production though we'd recommend setting it to `True` to speed up computation significantly. We can add the below, for calculation:\n",
    "\n",
    "* `Metric` to measure the \"quality\" of each trade/order\n",
    "    * We've added `MetricSlippage` which by default calcualtes the difference between the `mid` price and the `executed_price`\n",
    "* `Benchmark` to capture what the market is around each trade/order\n",
    "    * We've added `BenchmarkArrival` which will the mid price for the arrival price of every trade/order\n",
    "* `ResultForm` objects to aggregate the statistics of various fields. \n",
    "    * We've added `TimelineResultsForm` will calculate the average `slippage` by day and hour. We use a `scalar` of `10000.0` to convert the values into basis points, which are easier to interpret\n",
    "    * By default the slippage will be weighted by the `executed_notional` although we can change the weighting field\n",
    "    \n",
    "Whilst we are asking for ticker `EURUSD`, tcapy will also search for trades/orders booked the \"wrong\" way round ie. `USDEUR` and normalize them so they are converted to `EURUSD` trades/orders."
   ]
  },
  {
   "cell_type": "code",
   "execution_count": 8,
   "metadata": {
    "ExecuteTime": {
     "end_time": "2020-09-15T13:43:23.194808Z",
     "start_time": "2020-09-15T13:43:23.188809Z"
    }
   },
   "outputs": [],
   "source": [
    "# We are conducting a TCA computation for trade/order data between 05 May-10 May 2017 for EURUSD\n",
    "# The trade dataset is from CSV and the market data is downloaded from Dukascopy on the fly\n",
    "# For metrics, we are calculating slippage and for benchmarks we are adding a field for the arrival price\n",
    "# We are creating a timeline of average slippage by date and hour\n",
    "tca_request = TCARequest(start_date='05 May 2017', finish_date='10 May 2017', ticker=['EURUSD'],\n",
    "                         tca_type='detailed',\n",
    "                         trade_data_store='csv', market_data_store='dukascopy',\n",
    "                         trade_order_mapping=local_csv_trade_order_mapping,\n",
    "                         metric_calcs=[MetricSlippage()],\n",
    "                         results_form=[TimelineResultsForm(metric_name='slippage', \n",
    "                                                           by_date='datehour', scalar=10000.0)],\n",
    "                         benchmark_calcs=[BenchmarkArrival(), \n",
    "                                          BenchmarkMarketSpreadToMid()],\n",
    "                         use_multithreading=False)"
   ]
  },
  {
   "cell_type": "markdown",
   "metadata": {},
   "source": [
    "Notice there a lot of the log output can be suppressed if we change the logging level to `INFO` in `constants.py`. Most of the output is related to the downloading of Dukascopy data. Depending on how the caching is setup, tcapy may try to download market data in month/week/day chunks and cache them.\n",
    "\n",
    "To force deletion of the cache you can run the `clear_cache()` command. Basically underneath `calculate_tca` will use several other classes. We describe the rough steps of the calculation before:\n",
    "* `TCAMarketTradeLoaderImpl` manages the computation\n",
    "* A different instance `TCATickerLoaderImpl` for each ticker (and often in parallel if `use_multithreading=True` and Celery is running) will then\n",
    "    * load the market, trade and order data (using `DataFactory`, `DatabaseSource` etc.)\n",
    "    * calculate all the metrics and benchmarks (using `Metric`, `Benchmark` etc.)\n",
    "* `TCAMarketTradeLoaderImpl` will then aggregate the statistics generated (using `ResultsForm`)\n",
    "* dictonary of (mostly) `DataFrame` objects returned to the caller by `calculate_tca`\n",
    "\n",
    "As we noted before if there are any timeouts in downloading the data, it will attempt to retry a few times."
   ]
  },
  {
   "cell_type": "code",
   "execution_count": 13,
   "metadata": {
    "ExecuteTime": {
     "end_time": "2020-09-15T12:40:38.865679Z",
     "start_time": "2020-09-15T12:40:29.903704Z"
    }
   },
   "outputs": [
    {
     "name": "stderr",
     "output_type": "stream",
     "text": [
      "2020-09-15 13:40:29,910; DEBUG:tcapy.analysis.tcamarkettradeloader: Start loading trade/data/computation (tcamarkettradeloader.py:241)\n",
      "2020-09-15 13:40:29,913; DEBUG:tcapy.analysis.tcatickerloaderimpl: Get market and trade/order data for EURUSD from 2017-05-05 00:00:00+00:00 - 2017-05-10 00:00:00+00:00 (tcatickerloaderimpl.py:80)\n",
      "2020-09-15 13:40:29,915; DEBUG:tcapy.data.volatilecache: Attempting to get list from cache: ['dukascopy_EURUSD_2017-05-05 00:00:00+00:00_2017-05-10 00:00:00+00:00_market_df_None_comp'] (volatilecache.py:540)\n",
      "2020-09-15 13:40:29,918; DEBUG:tcapy.data.volatilecache: Attempting to get list from cache: ['dukascopy_EURUSD_2017-05-05 00:00:00+00:00_2017-05-10 00:00:00+00:00_market_df_None_comp'] (volatilecache.py:540)\n",
      "2020-09-15 13:40:29,922; DEBUG:tcapy.data.databasesource: Downloading 2017-05-05 00:00:00 - 2017-05-10 00:00:00 for EURUSD (databasesource.py:3816)\n",
      "2020-09-15 13:40:38,107; WARNING:tcapy.analysis.algos.benchmark: mid not in market data (benchmark.py:90)\n",
      "2020-09-15 13:40:38,108; DEBUG:tcapy.data.volatilecache: Attempting to push ['dukascopy_EURUSD_2017-05-05 00:00:00+00:00_2017-05-10 00:00:00+00:00_market_df_None_comp'] to cache (volatilecache.py:426)\n",
      "2020-09-15 13:40:38,213; DEBUG:tcapy.util.deltaizeserialize: Pandas dataframe of size: ----------- 17.08 MB ----------- in 1 chunk(s) (deltaizeserialize.py:221)\n",
      "2020-09-15 13:40:38,248; DEBUG:tcapy.data.volatilecache: Now pushing ['dukascopy_EURUSD_2017-05-05 00:00:00+00:00_2017-05-10 00:00:00+00:00_market_df_None_comp_size_5698367_endsizearrow_'] to cache (volatilecache.py:443)\n",
      "2020-09-15 13:40:38,273; DEBUG:tcapy.data.volatilecache: Pushed ['dukascopy_EURUSD_2017-05-05 00:00:00+00:00_2017-05-10 00:00:00+00:00_market_df_None_comp_size_5698367_endsizearrow_'] to cache (volatilecache.py:461)\n",
      "2020-09-15 13:40:38,274; DEBUG:tcapy.data.volatilecache: Attempting to push ['dukascopy_EURUSD_2017-05-05 00:00:00+00:00_2017-05-10 00:00:00+00:00_market_df_None_comp'] to cache (volatilecache.py:426)\n",
      "2020-09-15 13:40:38,375; DEBUG:tcapy.util.deltaizeserialize: Pandas dataframe of size: ----------- 17.08 MB ----------- in 1 chunk(s) (deltaizeserialize.py:221)\n",
      "2020-09-15 13:40:38,409; DEBUG:tcapy.data.volatilecache: Now pushing ['dukascopy_EURUSD_2017-05-05 00:00:00+00:00_2017-05-10 00:00:00+00:00_market_df_None_comp_size_5698367_endsizearrow_'] to cache (volatilecache.py:443)\n",
      "2020-09-15 13:40:38,473; DEBUG:tcapy.data.volatilecache: Pushed ['dukascopy_EURUSD_2017-05-05 00:00:00+00:00_2017-05-10 00:00:00+00:00_market_df_None_comp_size_5698367_endsizearrow_'] to cache (volatilecache.py:461)\n",
      "2020-09-15 13:40:38,474; DEBUG:tcapy.analysis.tcatickerloader: Get trade order holder for EURUSD from 2017-05-05 00:00:00+00:00 - 2017-05-10 00:00:00+00:00 (tcatickerloader.py:386)\n",
      "2020-09-15 13:40:38,511; WARNING:tcapy.data.datafactory: Dataframe empty for ticker USDEUR (datafactory.py:97)\n",
      "2020-09-15 13:40:38,513; DEBUG:tcapy.data.volatilecache: Attempting to get list from cache: ['dukascopy_EURUSD_2017-05-05 00:00:00+00:00_2017-05-10 00:00:00+00:00_market_df_None_comp'] (volatilecache.py:540)\n",
      "2020-09-15 13:40:38,602; WARNING:tcapy.data.datafactory: Dataframe empty for ticker USDEUR (datafactory.py:97)\n",
      "2020-09-15 13:40:38,604; DEBUG:tcapy.data.volatilecache: Attempting to get list from cache: ['dukascopy_EURUSD_2017-05-05 00:00:00+00:00_2017-05-10 00:00:00+00:00_market_df_None_comp'] (volatilecache.py:540)\n",
      "2020-09-15 13:40:38,657; DEBUG:tcapy.analysis.tcatickerloader: Filter the market date by start/finish date (tcatickerloader.py:761)\n",
      "2020-09-15 13:40:38,664; DEBUG:tcapy.analysis.tcatickerloader: Combine trade/order data (tcatickerloader.py:782)\n",
      "2020-09-15 13:40:38,672; DEBUG:tcapy.analysis.tcatickerloader: Calculating BenchmarkMarketSpreadToMid for market data (tcatickerloader.py:600)\n",
      "2020-09-15 13:40:38,695; DEBUG:tcapy.analysis.tcatickerloader: Filter trades by venue (tcatickerloader.py:458)\n",
      "2020-09-15 13:40:38,698; DEBUG:tcapy.analysis.tcatickerloader: Calculating derived fields and benchmarks (tcatickerloader.py:508)\n",
      "2020-09-15 13:40:38,699; DEBUG:tcapy.analysis.tcatickerloader: Calculating execution fields (tcatickerloader.py:510)\n",
      "2020-09-15 13:40:38,708; DEBUG:tcapy.analysis.tcatickerloader: Calculating benchmarks (tcatickerloader.py:536)\n",
      "2020-09-15 13:40:38,709; DEBUG:tcapy.analysis.tcatickerloader: Calculating BenchmarkArrival for trade_df (tcatickerloader.py:545)\n",
      "2020-09-15 13:40:38,716; DEBUG:tcapy.analysis.tcatickerloader: Calculating BenchmarkArrival for order_df (tcatickerloader.py:545)\n",
      "2020-09-15 13:40:38,722; DEBUG:tcapy.analysis.tcatickerloader: Calculating metrics (tcatickerloader.py:554)\n",
      "2020-09-15 13:40:38,723; DEBUG:tcapy.analysis.tcatickerloader: Calculating MetricSlippage for trade_df (tcatickerloader.py:560)\n",
      "2020-09-15 13:40:38,742; DEBUG:tcapy.analysis.tcatickerloader: Calculating MetricSlippage for order_df (tcatickerloader.py:560)\n",
      "2020-09-15 13:40:38,760; DEBUG:tcapy.analysis.tcatickerloader: Completed derived field calculations for EURUSD (tcatickerloader.py:568)\n",
      "2020-09-15 13:40:38,761; DEBUG:tcapy.analysis.tcatickerloaderimpl: Generating downsampled market data for potentional display (tcatickerloaderimpl.py:275)\n",
      "2020-09-15 13:40:38,782; DEBUG:tcapy.analysis.tcatickerloaderimpl: About to join (tcatickerloaderimpl.py:340)\n",
      "2020-09-15 13:40:38,786; DEBUG:tcapy.analysis.tcatickerloaderimpl: Finished joining (tcatickerloaderimpl.py:356)\n",
      "2020-09-15 13:40:38,788; DEBUG:tcapy.analysis.tcatickerloaderimpl: About to join (tcatickerloaderimpl.py:340)\n",
      "2020-09-15 13:40:38,792; DEBUG:tcapy.analysis.tcatickerloaderimpl: Finished joining (tcatickerloaderimpl.py:356)\n",
      "2020-09-15 13:40:38,824; DEBUG:tcapy.analysis.tcamarkettradeloader: Finished loading data and calculating metrics on individual _tickers (tcamarkettradeloader.py:248)\n",
      "2020-09-15 13:40:38,826; DEBUG:tcapy.analysis.tcamarkettradeloaderimpl: Constructing results form to summarize analysis... (tcamarkettradeloaderimpl.py:74)\n",
      "2020-09-15 13:40:38,855; DEBUG:tcapy.analysis.tcamarkettradeloaderimpl: Now join table results... (tcamarkettradeloaderimpl.py:122)\n",
      "2020-09-15 13:40:38,856; DEBUG:tcapy.analysis.tcamarkettradeloaderimpl: Finished calculating results form and join table results! (tcamarkettradeloaderimpl.py:135)\n"
     ]
    },
    {
     "name": "stdout",
     "output_type": "stream",
     "text": [
      "Wall time: 8.95 s\n"
     ]
    }
   ],
   "source": [
    "%%time\n",
    "\n",
    "volatile_cache.clear_cache()\n",
    "\n",
    "# Dictionary of (mostly) dataframes as output from TCA calculation\n",
    "dict_of_df = tca_engine.calculate_tca(tca_request)"
   ]
  },
  {
   "cell_type": "markdown",
   "metadata": {},
   "source": [
    "### Impact of caching market data\n",
    "\n",
    "The step which involves loading market/trade/order data tends to be slow and IO intensive, hence parallelisation of it can speed it up a lot (which we'll see later). Generally, it tends to be quicker to cut up our database calls into smaller date chunks, and do them in parallel, rather than downloading a massive chunk.\n",
    "\n",
    "By caching these datasets in-memory with Redis, we can avoiding constantly hammering our data source (whether that's external, which is very slow or internal, like a database). Here the computation takes 10 seconds."
   ]
  },
  {
   "cell_type": "code",
   "execution_count": 14,
   "metadata": {
    "ExecuteTime": {
     "end_time": "2020-09-15T12:40:47.770601Z",
     "start_time": "2020-09-15T12:40:38.867681Z"
    }
   },
   "outputs": [
    {
     "name": "stderr",
     "output_type": "stream",
     "text": [
      "2020-09-15 13:40:38,870; INFO:tcapy.analysis.tcaengine: More than 1 ticker specified for TCA detailed computation. Only working on first (tcaengine.py:122)\n",
      "2020-09-15 13:40:38,871; DEBUG:tcapy.analysis.tcamarkettradeloader: Start loading trade/data/computation (tcamarkettradeloader.py:241)\n",
      "2020-09-15 13:40:38,872; DEBUG:tcapy.analysis.tcatickerloaderimpl: Get market and trade/order data for EURUSD from 2017-05-05 00:00:00+00:00 - 2017-05-10 00:00:00+00:00 (tcatickerloaderimpl.py:80)\n",
      "2020-09-15 13:40:38,873; DEBUG:tcapy.data.volatilecache: Attempting to get list from cache: ['dukascopy_EURUSD_2017-05-05 00:00:00+00:00_2017-05-10 00:00:00+00:00_market_df_None_comp'] (volatilecache.py:540)\n",
      "2020-09-15 13:40:38,875; DEBUG:tcapy.data.volatilecache: Attempting to get list from cache: ['dukascopy_EURUSD_2017-05-05 00:00:00+00:00_2017-05-10 00:00:00+00:00_market_df_None_comp'] (volatilecache.py:540)\n",
      "2020-09-15 13:40:38,877; DEBUG:tcapy.data.databasesource: Downloading 2017-05-05 00:00:00 - 2017-05-10 00:00:00 for EURUSD (databasesource.py:3816)\n",
      "2020-09-15 13:40:47,053; WARNING:tcapy.analysis.algos.benchmark: mid not in market data (benchmark.py:90)\n",
      "2020-09-15 13:40:47,055; DEBUG:tcapy.data.volatilecache: Attempting to push ['dukascopy_EURUSD_2017-05-05 00:00:00+00:00_2017-05-10 00:00:00+00:00_market_df_None_comp'] to cache (volatilecache.py:426)\n",
      "2020-09-15 13:40:47,156; DEBUG:tcapy.util.deltaizeserialize: Pandas dataframe of size: ----------- 17.08 MB ----------- in 1 chunk(s) (deltaizeserialize.py:221)\n",
      "2020-09-15 13:40:47,188; DEBUG:tcapy.data.volatilecache: Now pushing ['dukascopy_EURUSD_2017-05-05 00:00:00+00:00_2017-05-10 00:00:00+00:00_market_df_None_comp_size_5698367_endsizearrow_'] to cache (volatilecache.py:443)\n",
      "2020-09-15 13:40:47,213; DEBUG:tcapy.data.volatilecache: Pushed ['dukascopy_EURUSD_2017-05-05 00:00:00+00:00_2017-05-10 00:00:00+00:00_market_df_None_comp_size_5698367_endsizearrow_'] to cache (volatilecache.py:461)\n",
      "2020-09-15 13:40:47,215; DEBUG:tcapy.data.volatilecache: Attempting to push ['dukascopy_EURUSD_2017-05-05 00:00:00+00:00_2017-05-10 00:00:00+00:00_market_df_None_comp'] to cache (volatilecache.py:426)\n",
      "2020-09-15 13:40:47,323; DEBUG:tcapy.util.deltaizeserialize: Pandas dataframe of size: ----------- 17.08 MB ----------- in 1 chunk(s) (deltaizeserialize.py:221)\n",
      "2020-09-15 13:40:47,355; DEBUG:tcapy.data.volatilecache: Now pushing ['dukascopy_EURUSD_2017-05-05 00:00:00+00:00_2017-05-10 00:00:00+00:00_market_df_None_comp_size_5698367_endsizearrow_'] to cache (volatilecache.py:443)\n",
      "2020-09-15 13:40:47,413; DEBUG:tcapy.data.volatilecache: Pushed ['dukascopy_EURUSD_2017-05-05 00:00:00+00:00_2017-05-10 00:00:00+00:00_market_df_None_comp_size_5698367_endsizearrow_'] to cache (volatilecache.py:461)\n",
      "2020-09-15 13:40:47,414; DEBUG:tcapy.analysis.tcatickerloader: Get trade order holder for EURUSD from 2017-05-05 00:00:00+00:00 - 2017-05-10 00:00:00+00:00 (tcatickerloader.py:386)\n",
      "2020-09-15 13:40:47,449; WARNING:tcapy.data.datafactory: Dataframe empty for ticker USDEUR (datafactory.py:97)\n",
      "2020-09-15 13:40:47,450; DEBUG:tcapy.data.volatilecache: Attempting to get list from cache: ['dukascopy_EURUSD_2017-05-05 00:00:00+00:00_2017-05-10 00:00:00+00:00_market_df_None_comp'] (volatilecache.py:540)\n",
      "2020-09-15 13:40:47,531; WARNING:tcapy.data.datafactory: Dataframe empty for ticker USDEUR (datafactory.py:97)\n",
      "2020-09-15 13:40:47,533; DEBUG:tcapy.data.volatilecache: Attempting to get list from cache: ['dukascopy_EURUSD_2017-05-05 00:00:00+00:00_2017-05-10 00:00:00+00:00_market_df_None_comp'] (volatilecache.py:540)\n",
      "2020-09-15 13:40:47,584; DEBUG:tcapy.analysis.tcatickerloader: Filter the market date by start/finish date (tcatickerloader.py:761)\n",
      "2020-09-15 13:40:47,590; DEBUG:tcapy.analysis.tcatickerloader: Combine trade/order data (tcatickerloader.py:782)\n",
      "2020-09-15 13:40:47,597; DEBUG:tcapy.analysis.tcatickerloader: Calculating BenchmarkMarketSpreadToMid for market data (tcatickerloader.py:600)\n",
      "2020-09-15 13:40:47,622; DEBUG:tcapy.analysis.tcatickerloader: Filter trades by venue (tcatickerloader.py:458)\n",
      "2020-09-15 13:40:47,624; DEBUG:tcapy.analysis.tcatickerloader: Calculating derived fields and benchmarks (tcatickerloader.py:508)\n",
      "2020-09-15 13:40:47,625; DEBUG:tcapy.analysis.tcatickerloader: Calculating execution fields (tcatickerloader.py:510)\n",
      "2020-09-15 13:40:47,634; DEBUG:tcapy.analysis.tcatickerloader: Calculating benchmarks (tcatickerloader.py:536)\n",
      "2020-09-15 13:40:47,634; DEBUG:tcapy.analysis.tcatickerloader: Calculating BenchmarkArrival for trade_df (tcatickerloader.py:545)\n",
      "2020-09-15 13:40:47,639; DEBUG:tcapy.analysis.tcatickerloader: Calculating BenchmarkArrival for order_df (tcatickerloader.py:545)\n",
      "2020-09-15 13:40:47,644; DEBUG:tcapy.analysis.tcatickerloader: Calculating metrics (tcatickerloader.py:554)\n",
      "2020-09-15 13:40:47,645; DEBUG:tcapy.analysis.tcatickerloader: Calculating MetricSlippage for trade_df (tcatickerloader.py:560)\n",
      "2020-09-15 13:40:47,661; DEBUG:tcapy.analysis.tcatickerloader: Calculating MetricSlippage for order_df (tcatickerloader.py:560)\n",
      "2020-09-15 13:40:47,677; DEBUG:tcapy.analysis.tcatickerloader: Completed derived field calculations for EURUSD (tcatickerloader.py:568)\n",
      "2020-09-15 13:40:47,678; DEBUG:tcapy.analysis.tcatickerloaderimpl: Generating downsampled market data for potentional display (tcatickerloaderimpl.py:275)\n",
      "2020-09-15 13:40:47,696; DEBUG:tcapy.analysis.tcatickerloaderimpl: About to join (tcatickerloaderimpl.py:340)\n",
      "2020-09-15 13:40:47,699; DEBUG:tcapy.analysis.tcatickerloaderimpl: Finished joining (tcatickerloaderimpl.py:356)\n",
      "2020-09-15 13:40:47,702; DEBUG:tcapy.analysis.tcatickerloaderimpl: About to join (tcatickerloaderimpl.py:340)\n",
      "2020-09-15 13:40:47,704; DEBUG:tcapy.analysis.tcatickerloaderimpl: Finished joining (tcatickerloaderimpl.py:356)\n",
      "2020-09-15 13:40:47,723; DEBUG:tcapy.analysis.tcamarkettradeloader: Finished loading data and calculating metrics on individual _tickers (tcamarkettradeloader.py:248)\n",
      "2020-09-15 13:40:47,724; DEBUG:tcapy.analysis.tcamarkettradeloaderimpl: Constructing results form to summarize analysis... (tcamarkettradeloaderimpl.py:74)\n",
      "2020-09-15 13:40:47,752; DEBUG:tcapy.analysis.tcamarkettradeloaderimpl: Now join table results... (tcamarkettradeloaderimpl.py:122)\n",
      "2020-09-15 13:40:47,753; DEBUG:tcapy.analysis.tcamarkettradeloaderimpl: Finished calculating results form and join table results! (tcamarkettradeloaderimpl.py:135)\n"
     ]
    },
    {
     "name": "stdout",
     "output_type": "stream",
     "text": [
      "Wall time: 8.89 s\n"
     ]
    }
   ],
   "source": [
    "%%time\n",
    "volatile_cache.clear_cache()\n",
    "\n",
    "# Dictionary of (mostly) dataframes as output from TCA calculation\n",
    "dict_of_df = tca_engine.calculate_tca(tca_request)"
   ]
  },
  {
   "cell_type": "markdown",
   "metadata": {},
   "source": [
    "If caching it enabled, and we run it again, we see the computation only takes around 1 seconds. This contrasts to about 10 seconds the first time around."
   ]
  },
  {
   "cell_type": "code",
   "execution_count": 15,
   "metadata": {
    "ExecuteTime": {
     "end_time": "2020-09-15T12:40:48.235597Z",
     "start_time": "2020-09-15T12:40:47.772602Z"
    },
    "scrolled": false
   },
   "outputs": [
    {
     "name": "stderr",
     "output_type": "stream",
     "text": [
      "2020-09-15 13:40:47,773; INFO:tcapy.analysis.tcaengine: More than 1 ticker specified for TCA detailed computation. Only working on first (tcaengine.py:122)\n",
      "2020-09-15 13:40:47,774; DEBUG:tcapy.analysis.tcamarkettradeloader: Start loading trade/data/computation (tcamarkettradeloader.py:241)\n",
      "2020-09-15 13:40:47,775; DEBUG:tcapy.analysis.tcatickerloaderimpl: Get market and trade/order data for EURUSD from 2017-05-05 00:00:00+00:00 - 2017-05-10 00:00:00+00:00 (tcatickerloaderimpl.py:80)\n",
      "2020-09-15 13:40:47,776; DEBUG:tcapy.data.volatilecache: Attempting to get list from cache: ['dukascopy_EURUSD_2017-05-05 00:00:00+00:00_2017-05-10 00:00:00+00:00_market_df_None_comp'] (volatilecache.py:540)\n",
      "2020-09-15 13:40:47,824; DEBUG:tcapy.analysis.tcatickerloader: Get trade order holder for EURUSD from 2017-05-05 00:00:00+00:00 - 2017-05-10 00:00:00+00:00 (tcatickerloader.py:386)\n",
      "2020-09-15 13:40:47,859; WARNING:tcapy.data.datafactory: Dataframe empty for ticker USDEUR (datafactory.py:97)\n",
      "2020-09-15 13:40:47,861; DEBUG:tcapy.data.volatilecache: Attempting to get list from cache: ['dukascopy_EURUSD_2017-05-05 00:00:00+00:00_2017-05-10 00:00:00+00:00_market_df_None_comp'] (volatilecache.py:540)\n",
      "2020-09-15 13:40:47,943; WARNING:tcapy.data.datafactory: Dataframe empty for ticker USDEUR (datafactory.py:97)\n",
      "2020-09-15 13:40:47,945; DEBUG:tcapy.data.volatilecache: Attempting to get list from cache: ['dukascopy_EURUSD_2017-05-05 00:00:00+00:00_2017-05-10 00:00:00+00:00_market_df_None_comp'] (volatilecache.py:540)\n",
      "2020-09-15 13:40:47,998; DEBUG:tcapy.data.volatilecache: Attempting to get list from cache: ['dukascopy_EURUSD_2017-05-05 00:00:00+00:00_2017-05-10 00:00:00+00:00_market_df_None_comp'] (volatilecache.py:540)\n",
      "2020-09-15 13:40:48,046; DEBUG:tcapy.analysis.tcatickerloader: Filter the market date by start/finish date (tcatickerloader.py:761)\n",
      "2020-09-15 13:40:48,054; DEBUG:tcapy.analysis.tcatickerloader: Combine trade/order data (tcatickerloader.py:782)\n",
      "2020-09-15 13:40:48,061; DEBUG:tcapy.analysis.tcatickerloader: Calculating BenchmarkMarketSpreadToMid for market data (tcatickerloader.py:600)\n",
      "2020-09-15 13:40:48,085; DEBUG:tcapy.analysis.tcatickerloader: Filter trades by venue (tcatickerloader.py:458)\n",
      "2020-09-15 13:40:48,087; DEBUG:tcapy.analysis.tcatickerloader: Calculating derived fields and benchmarks (tcatickerloader.py:508)\n",
      "2020-09-15 13:40:48,088; DEBUG:tcapy.analysis.tcatickerloader: Calculating execution fields (tcatickerloader.py:510)\n",
      "2020-09-15 13:40:48,096; DEBUG:tcapy.analysis.tcatickerloader: Calculating benchmarks (tcatickerloader.py:536)\n",
      "2020-09-15 13:40:48,097; DEBUG:tcapy.analysis.tcatickerloader: Calculating BenchmarkArrival for trade_df (tcatickerloader.py:545)\n",
      "2020-09-15 13:40:48,102; DEBUG:tcapy.analysis.tcatickerloader: Calculating BenchmarkArrival for order_df (tcatickerloader.py:545)\n",
      "2020-09-15 13:40:48,107; DEBUG:tcapy.analysis.tcatickerloader: Calculating metrics (tcatickerloader.py:554)\n",
      "2020-09-15 13:40:48,108; DEBUG:tcapy.analysis.tcatickerloader: Calculating MetricSlippage for trade_df (tcatickerloader.py:560)\n",
      "2020-09-15 13:40:48,124; DEBUG:tcapy.analysis.tcatickerloader: Calculating MetricSlippage for order_df (tcatickerloader.py:560)\n",
      "2020-09-15 13:40:48,141; DEBUG:tcapy.analysis.tcatickerloader: Completed derived field calculations for EURUSD (tcatickerloader.py:568)\n",
      "2020-09-15 13:40:48,142; DEBUG:tcapy.analysis.tcatickerloaderimpl: Generating downsampled market data for potentional display (tcatickerloaderimpl.py:275)\n",
      "2020-09-15 13:40:48,161; DEBUG:tcapy.analysis.tcatickerloaderimpl: About to join (tcatickerloaderimpl.py:340)\n",
      "2020-09-15 13:40:48,165; DEBUG:tcapy.analysis.tcatickerloaderimpl: Finished joining (tcatickerloaderimpl.py:356)\n",
      "2020-09-15 13:40:48,167; DEBUG:tcapy.analysis.tcatickerloaderimpl: About to join (tcatickerloaderimpl.py:340)\n",
      "2020-09-15 13:40:48,171; DEBUG:tcapy.analysis.tcatickerloaderimpl: Finished joining (tcatickerloaderimpl.py:356)\n",
      "2020-09-15 13:40:48,190; DEBUG:tcapy.analysis.tcamarkettradeloader: Finished loading data and calculating metrics on individual _tickers (tcamarkettradeloader.py:248)\n",
      "2020-09-15 13:40:48,191; DEBUG:tcapy.analysis.tcamarkettradeloaderimpl: Constructing results form to summarize analysis... (tcamarkettradeloaderimpl.py:74)\n",
      "2020-09-15 13:40:48,220; DEBUG:tcapy.analysis.tcamarkettradeloaderimpl: Now join table results... (tcamarkettradeloaderimpl.py:122)\n",
      "2020-09-15 13:40:48,221; DEBUG:tcapy.analysis.tcamarkettradeloaderimpl: Finished calculating results form and join table results! (tcamarkettradeloaderimpl.py:135)\n"
     ]
    },
    {
     "name": "stdout",
     "output_type": "stream",
     "text": [
      "Wall time: 450 ms\n"
     ]
    }
   ],
   "source": [
    "%%time\n",
    "\n",
    "# Dictionary of (mostly) dataframes as output from TCA calculation\n",
    "dict_of_df = tca_engine.calculate_tca(tca_request)"
   ]
  },
  {
   "cell_type": "markdown",
   "metadata": {},
   "source": [
    "### Interpreting the TCA computation output\n",
    "\n",
    "Let's take a look at the dictionary returned."
   ]
  },
  {
   "cell_type": "code",
   "execution_count": 16,
   "metadata": {
    "ExecuteTime": {
     "end_time": "2020-09-15T12:40:48.250598Z",
     "start_time": "2020-09-15T12:40:48.237598Z"
    }
   },
   "outputs": [
    {
     "data": {
      "text/plain": [
       "odict_keys(['trade_df', 'order_df', 'sparse_market_trade_df', 'sparse_market_order_df', 'market_df_downsampled', 'candlestick_fig', 'timeline_trade_df_slippage_by/mean_datehour/all', 'timeline_order_df_slippage_by/mean_datehour/all', 'market_df'])"
      ]
     },
     "execution_count": 16,
     "metadata": {},
     "output_type": "execute_result"
    }
   ],
   "source": [
    "dict_of_df.keys()"
   ]
  },
  {
   "cell_type": "markdown",
   "metadata": {},
   "source": [
    "We explain what each item in the dictionary is below:\n",
    "\n",
    "* for further analysis\n",
    "    * `trade_df` - DataFrame of trades (with added calculated fields like slippage, arrival price etc.)\n",
    "    * `order_df` - DataFrame of orders (with added calculated fields like slippage, arrival price etc.)\n",
    "* for plotting\n",
    "    * `sparse_market_trade_df` - DataFrame with market data and trades\n",
    "    * `sparse_market_order_df` - DataFrame with market data and orders\n",
    "    * `market_df_downsampled` - DataFrame with downsampled market data\n",
    "    * `candlestick_fig` - Plotly JSON of the market data as candlesticks\n",
    "* aggregated data\n",
    "    * `timeline_trade_df_slippage_by/mean_date/all` - a timeline of the slippage for the trades\n",
    "    * `timeline_order_df_slippage_by/mean_date/all` - a timeline of the slippage for the orders"
   ]
  },
  {
   "cell_type": "markdown",
   "metadata": {},
   "source": [
    "We can plot the timeline of the slippage by day and hour. During this period the slippage has been between 0.2 and 0.05 basis points (bp), which seems reasonable for EUR/USD."
   ]
  },
  {
   "cell_type": "code",
   "execution_count": 17,
   "metadata": {
    "ExecuteTime": {
     "end_time": "2020-09-15T12:40:51.078147Z",
     "start_time": "2020-09-15T12:40:48.252599Z"
    }
   },
   "outputs": [
    {
     "data": {
      "image/png": "[encoded data removed]"
     },
     "metadata": {},
     "output_type": "display_data"
    }
   ],
   "source": [
    "style.title = 'Timeline of slippage by day (bp)'\n",
    "chart.plot(dict_of_df['timeline_trade_df_slippage_by/mean_datehour/all'], engine='plotly', style=style)"
   ]
  },
  {
   "cell_type": "markdown",
   "metadata": {},
   "source": [
    "### Explaining output of tcapy calculation in trade/order DataFrames\n",
    "\n",
    "Let's also take a look at the returned `trade_df` DataFrame. Most of the fields are the same, but there now additional fields fields calculated by tcapy. Note, these will vary depending on which `Metric` and `Benchmark` objects you specify in the `TCARequest`:\n",
    "* `arrival` - arrival price from the benchmark at time of the order/just before\n",
    "* `slippage_benchmark` - difference between mid price from the market data, just before/at trade\n",
    "* `spread_to_benchmark` - differnce to the bid (for sells) and to the ask (for buys) - if this data is available\n",
    "* `slippage` - difference between `executed_price` and benchmark\n",
    "* `slippage_anomalous` - 1 if the slippage is beyond a certain \n",
    "\n",
    "We also have fields for the notional in reporting currency (here `USD`) which are autogenerated from the market data combined with the trade data. You can specify you own reporting currency in `Constants`. It is useful to have this field, if you want to calculate total trading costs across many different currency pairs later."
   ]
  },
  {
   "cell_type": "markdown",
   "metadata": {},
   "source": [
    "### Using TCAResults class\n",
    "\n",
    "We can use a higher level `TCAResults` object to simplify the output of the TCA calculation. Here we create the Plotly JSON for all the charts which have been requested."
   ]
  },
  {
   "cell_type": "code",
   "execution_count": 18,
   "metadata": {
    "ExecuteTime": {
     "end_time": "2020-09-15T12:40:51.213158Z",
     "start_time": "2020-09-15T12:40:51.079149Z"
    }
   },
   "outputs": [
    {
     "name": "stderr",
     "output_type": "stream",
     "text": [
      "2020-09-15 13:40:51,101; DEBUG:tcapy.vis.displaylisteners: Plotting main timeline 2583 (displaylisteners.py:988)\n",
      "2020-09-15 13:40:51,147; DEBUG:tcapy.vis.displaylisteners: Rendered plot 2583 and  (displaylisteners.py:998)\n",
      "2020-09-15 13:40:51,150; DEBUG:tcapy.vis.displaylisteners: Plotting main timeline 2576 (displaylisteners.py:988)\n",
      "2020-09-15 13:40:51,196; DEBUG:tcapy.vis.displaylisteners: Rendered plot 2576 and  (displaylisteners.py:998)\n"
     ]
    }
   ],
   "source": [
    "tca_results = TCAResults(dict_of_df, tca_request, chart_width=chart_width, chart_height=chart_height)\n",
    "tca_results.render_computation_charts()"
   ]
  },
  {
   "cell_type": "markdown",
   "metadata": {},
   "source": [
    "Let's get the trade data from the `TCAResults` objects."
   ]
  },
  {
   "cell_type": "code",
   "execution_count": 19,
   "metadata": {
    "ExecuteTime": {
     "end_time": "2020-09-15T12:40:51.243155Z",
     "start_time": "2020-09-15T12:40:51.215158Z"
    }
   },
   "outputs": [
    {
     "data": {
      "text/html": [
       "<div>\n",
       "<style scoped>\n",
       "    .dataframe tbody tr th:only-of-type {\n",
       "        vertical-align: middle;\n",
       "    }\n",
       "\n",
       "    .dataframe tbody tr th {\n",
       "        vertical-align: top;\n",
       "    }\n",
       "\n",
       "    .dataframe thead th {\n",
       "        text-align: right;\n",
       "    }\n",
       "</style>\n",
       "<table border=\"1\" class=\"dataframe\">\n",
       "  <thead>\n",
       "    <tr style=\"text-align: right;\">\n",
       "      <th></th>\n",
       "      <th>account_id</th>\n",
       "      <th>algo_id</th>\n",
       "      <th>algo_settings</th>\n",
       "      <th>ancestor_pointer_id</th>\n",
       "      <th>broker_id</th>\n",
       "      <th>broker_sub_id</th>\n",
       "      <th>event_type</th>\n",
       "      <th>executed_notional</th>\n",
       "      <th>executed_price</th>\n",
       "      <th>id</th>\n",
       "      <th>...</th>\n",
       "      <th>notional_reporting_currency_mid</th>\n",
       "      <th>reporting_currency</th>\n",
       "      <th>executed_notional_in_reporting_currency</th>\n",
       "      <th>order_notional_in_reporting_currency</th>\n",
       "      <th>notional</th>\n",
       "      <th>arrival</th>\n",
       "      <th>slippage_benchmark</th>\n",
       "      <th>spread_to_benchmark</th>\n",
       "      <th>slippage</th>\n",
       "      <th>slippage_anomalous</th>\n",
       "    </tr>\n",
       "    <tr>\n",
       "      <th>Date</th>\n",
       "      <th></th>\n",
       "      <th></th>\n",
       "      <th></th>\n",
       "      <th></th>\n",
       "      <th></th>\n",
       "      <th></th>\n",
       "      <th></th>\n",
       "      <th></th>\n",
       "      <th></th>\n",
       "      <th></th>\n",
       "      <th></th>\n",
       "      <th></th>\n",
       "      <th></th>\n",
       "      <th></th>\n",
       "      <th></th>\n",
       "      <th></th>\n",
       "      <th></th>\n",
       "      <th></th>\n",
       "      <th></th>\n",
       "      <th></th>\n",
       "      <th></th>\n",
       "    </tr>\n",
       "  </thead>\n",
       "  <tbody>\n",
       "    <tr>\n",
       "      <th>2017-05-05 06:27:26.514000+00:00</th>\n",
       "      <td>account5</td>\n",
       "      <td>algo2</td>\n",
       "      <td>default</td>\n",
       "      <td>order_EURUSD2017-05-05 06:26:47.189000+00:00_2...</td>\n",
       "      <td>broker6</td>\n",
       "      <td>subbroker1</td>\n",
       "      <td>trade</td>\n",
       "      <td>18008368</td>\n",
       "      <td>1.097430</td>\n",
       "      <td>execution_EURUSD2017-05-05 06:27:26.514000+00:...</td>\n",
       "      <td>...</td>\n",
       "      <td>1.097445</td>\n",
       "      <td>USD</td>\n",
       "      <td>1.976319e+07</td>\n",
       "      <td>1.976319e+07</td>\n",
       "      <td>18008368</td>\n",
       "      <td>1.097445</td>\n",
       "      <td>1.097445</td>\n",
       "      <td>-0.000005</td>\n",
       "      <td>-0.000013</td>\n",
       "      <td>1</td>\n",
       "    </tr>\n",
       "    <tr>\n",
       "      <th>2017-05-05 11:30:00.791000+00:00</th>\n",
       "      <td>account5</td>\n",
       "      <td>algo3</td>\n",
       "      <td>default</td>\n",
       "      <td>order_EURUSD2017-05-05 11:28:43.816000+00:00_2...</td>\n",
       "      <td>broker3</td>\n",
       "      <td>subbroker3</td>\n",
       "      <td>trade</td>\n",
       "      <td>5370024</td>\n",
       "      <td>1.095723</td>\n",
       "      <td>execution_EURUSD2017-05-05 11:30:00.791000+00:...</td>\n",
       "      <td>...</td>\n",
       "      <td>1.095725</td>\n",
       "      <td>USD</td>\n",
       "      <td>5.884070e+06</td>\n",
       "      <td>5.884070e+06</td>\n",
       "      <td>5370024</td>\n",
       "      <td>1.095725</td>\n",
       "      <td>1.095725</td>\n",
       "      <td>-0.000014</td>\n",
       "      <td>-0.000002</td>\n",
       "      <td>0</td>\n",
       "    </tr>\n",
       "    <tr>\n",
       "      <th>2017-05-05 14:56:49.373000+00:00</th>\n",
       "      <td>account4</td>\n",
       "      <td>algo2</td>\n",
       "      <td>default</td>\n",
       "      <td>order_EURUSD2017-05-05 14:56:33.125000+00:00_2...</td>\n",
       "      <td>broker2</td>\n",
       "      <td>subbroker5</td>\n",
       "      <td>trade</td>\n",
       "      <td>6198753</td>\n",
       "      <td>1.098892</td>\n",
       "      <td>execution_EURUSD2017-05-05 14:56:49.373000+00:...</td>\n",
       "      <td>...</td>\n",
       "      <td>1.098875</td>\n",
       "      <td>USD</td>\n",
       "      <td>6.811655e+06</td>\n",
       "      <td>6.811655e+06</td>\n",
       "      <td>6198753</td>\n",
       "      <td>1.098875</td>\n",
       "      <td>1.098875</td>\n",
       "      <td>-0.000014</td>\n",
       "      <td>-0.000016</td>\n",
       "      <td>1</td>\n",
       "    </tr>\n",
       "    <tr>\n",
       "      <th>2017-05-05 20:33:21.932000+00:00</th>\n",
       "      <td>account6</td>\n",
       "      <td>algo2</td>\n",
       "      <td>default</td>\n",
       "      <td>order_EURUSD2017-05-05 20:33:14.677000+00:00_2...</td>\n",
       "      <td>broker5</td>\n",
       "      <td>subbroker6</td>\n",
       "      <td>trade</td>\n",
       "      <td>6270424</td>\n",
       "      <td>1.099439</td>\n",
       "      <td>execution_EURUSD2017-05-05 20:33:21.932000+00:...</td>\n",
       "      <td>...</td>\n",
       "      <td>1.099425</td>\n",
       "      <td>USD</td>\n",
       "      <td>6.893861e+06</td>\n",
       "      <td>6.893861e+06</td>\n",
       "      <td>6270424</td>\n",
       "      <td>1.099425</td>\n",
       "      <td>1.099425</td>\n",
       "      <td>-0.000023</td>\n",
       "      <td>-0.000012</td>\n",
       "      <td>0</td>\n",
       "    </tr>\n",
       "    <tr>\n",
       "      <th>2017-05-08 10:31:33.011000+00:00</th>\n",
       "      <td>account1</td>\n",
       "      <td>algo3</td>\n",
       "      <td>default</td>\n",
       "      <td>order_EURUSD2017-05-08 10:30:57.526000+00:00_2...</td>\n",
       "      <td>broker4</td>\n",
       "      <td>subbroker2</td>\n",
       "      <td>trade</td>\n",
       "      <td>3276653</td>\n",
       "      <td>1.094703</td>\n",
       "      <td>execution_EURUSD2017-05-08 10:31:33.011000+00:...</td>\n",
       "      <td>...</td>\n",
       "      <td>1.094680</td>\n",
       "      <td>USD</td>\n",
       "      <td>3.586887e+06</td>\n",
       "      <td>3.586887e+06</td>\n",
       "      <td>3276653</td>\n",
       "      <td>1.094680</td>\n",
       "      <td>1.094680</td>\n",
       "      <td>-0.000009</td>\n",
       "      <td>-0.000021</td>\n",
       "      <td>1</td>\n",
       "    </tr>\n",
       "  </tbody>\n",
       "</table>\n",
       "<p>5 rows × 32 columns</p>\n",
       "</div>"
      ],
      "text/plain": [
       "                                 account_id algo_id algo_settings  \\\n",
       "Date                                                                \n",
       "2017-05-05 06:27:26.514000+00:00   account5   algo2       default   \n",
       "2017-05-05 11:30:00.791000+00:00   account5   algo3       default   \n",
       "2017-05-05 14:56:49.373000+00:00   account4   algo2       default   \n",
       "2017-05-05 20:33:21.932000+00:00   account6   algo2       default   \n",
       "2017-05-08 10:31:33.011000+00:00   account1   algo3       default   \n",
       "\n",
       "                                                                ancestor_pointer_id  \\\n",
       "Date                                                                                  \n",
       "2017-05-05 06:27:26.514000+00:00  order_EURUSD2017-05-05 06:26:47.189000+00:00_2...   \n",
       "2017-05-05 11:30:00.791000+00:00  order_EURUSD2017-05-05 11:28:43.816000+00:00_2...   \n",
       "2017-05-05 14:56:49.373000+00:00  order_EURUSD2017-05-05 14:56:33.125000+00:00_2...   \n",
       "2017-05-05 20:33:21.932000+00:00  order_EURUSD2017-05-05 20:33:14.677000+00:00_2...   \n",
       "2017-05-08 10:31:33.011000+00:00  order_EURUSD2017-05-08 10:30:57.526000+00:00_2...   \n",
       "\n",
       "                                 broker_id broker_sub_id event_type  \\\n",
       "Date                                                                  \n",
       "2017-05-05 06:27:26.514000+00:00   broker6    subbroker1      trade   \n",
       "2017-05-05 11:30:00.791000+00:00   broker3    subbroker3      trade   \n",
       "2017-05-05 14:56:49.373000+00:00   broker2    subbroker5      trade   \n",
       "2017-05-05 20:33:21.932000+00:00   broker5    subbroker6      trade   \n",
       "2017-05-08 10:31:33.011000+00:00   broker4    subbroker2      trade   \n",
       "\n",
       "                                  executed_notional  executed_price  \\\n",
       "Date                                                                  \n",
       "2017-05-05 06:27:26.514000+00:00           18008368        1.097430   \n",
       "2017-05-05 11:30:00.791000+00:00            5370024        1.095723   \n",
       "2017-05-05 14:56:49.373000+00:00            6198753        1.098892   \n",
       "2017-05-05 20:33:21.932000+00:00            6270424        1.099439   \n",
       "2017-05-08 10:31:33.011000+00:00            3276653        1.094703   \n",
       "\n",
       "                                                                                 id  \\\n",
       "Date                                                                                  \n",
       "2017-05-05 06:27:26.514000+00:00  execution_EURUSD2017-05-05 06:27:26.514000+00:...   \n",
       "2017-05-05 11:30:00.791000+00:00  execution_EURUSD2017-05-05 11:30:00.791000+00:...   \n",
       "2017-05-05 14:56:49.373000+00:00  execution_EURUSD2017-05-05 14:56:49.373000+00:...   \n",
       "2017-05-05 20:33:21.932000+00:00  execution_EURUSD2017-05-05 20:33:21.932000+00:...   \n",
       "2017-05-08 10:31:33.011000+00:00  execution_EURUSD2017-05-08 10:31:33.011000+00:...   \n",
       "\n",
       "                                  ...  notional_reporting_currency_mid  \\\n",
       "Date                              ...                                    \n",
       "2017-05-05 06:27:26.514000+00:00  ...                         1.097445   \n",
       "2017-05-05 11:30:00.791000+00:00  ...                         1.095725   \n",
       "2017-05-05 14:56:49.373000+00:00  ...                         1.098875   \n",
       "2017-05-05 20:33:21.932000+00:00  ...                         1.099425   \n",
       "2017-05-08 10:31:33.011000+00:00  ...                         1.094680   \n",
       "\n",
       "                                  reporting_currency  \\\n",
       "Date                                                   \n",
       "2017-05-05 06:27:26.514000+00:00                 USD   \n",
       "2017-05-05 11:30:00.791000+00:00                 USD   \n",
       "2017-05-05 14:56:49.373000+00:00                 USD   \n",
       "2017-05-05 20:33:21.932000+00:00                 USD   \n",
       "2017-05-08 10:31:33.011000+00:00                 USD   \n",
       "\n",
       "                                  executed_notional_in_reporting_currency  \\\n",
       "Date                                                                        \n",
       "2017-05-05 06:27:26.514000+00:00                             1.976319e+07   \n",
       "2017-05-05 11:30:00.791000+00:00                             5.884070e+06   \n",
       "2017-05-05 14:56:49.373000+00:00                             6.811655e+06   \n",
       "2017-05-05 20:33:21.932000+00:00                             6.893861e+06   \n",
       "2017-05-08 10:31:33.011000+00:00                             3.586887e+06   \n",
       "\n",
       "                                 order_notional_in_reporting_currency  \\\n",
       "Date                                                                    \n",
       "2017-05-05 06:27:26.514000+00:00                         1.976319e+07   \n",
       "2017-05-05 11:30:00.791000+00:00                         5.884070e+06   \n",
       "2017-05-05 14:56:49.373000+00:00                         6.811655e+06   \n",
       "2017-05-05 20:33:21.932000+00:00                         6.893861e+06   \n",
       "2017-05-08 10:31:33.011000+00:00                         3.586887e+06   \n",
       "\n",
       "                                  notional   arrival slippage_benchmark  \\\n",
       "Date                                                                      \n",
       "2017-05-05 06:27:26.514000+00:00  18008368  1.097445           1.097445   \n",
       "2017-05-05 11:30:00.791000+00:00   5370024  1.095725           1.095725   \n",
       "2017-05-05 14:56:49.373000+00:00   6198753  1.098875           1.098875   \n",
       "2017-05-05 20:33:21.932000+00:00   6270424  1.099425           1.099425   \n",
       "2017-05-08 10:31:33.011000+00:00   3276653  1.094680           1.094680   \n",
       "\n",
       "                                  spread_to_benchmark  slippage  \\\n",
       "Date                                                              \n",
       "2017-05-05 06:27:26.514000+00:00            -0.000005 -0.000013   \n",
       "2017-05-05 11:30:00.791000+00:00            -0.000014 -0.000002   \n",
       "2017-05-05 14:56:49.373000+00:00            -0.000014 -0.000016   \n",
       "2017-05-05 20:33:21.932000+00:00            -0.000023 -0.000012   \n",
       "2017-05-08 10:31:33.011000+00:00            -0.000009 -0.000021   \n",
       "\n",
       "                                 slippage_anomalous  \n",
       "Date                                                 \n",
       "2017-05-05 06:27:26.514000+00:00                  1  \n",
       "2017-05-05 11:30:00.791000+00:00                  0  \n",
       "2017-05-05 14:56:49.373000+00:00                  1  \n",
       "2017-05-05 20:33:21.932000+00:00                  0  \n",
       "2017-05-08 10:31:33.011000+00:00                  1  \n",
       "\n",
       "[5 rows x 32 columns]"
      ]
     },
     "execution_count": 19,
     "metadata": {},
     "output_type": "execute_result"
    }
   ],
   "source": [
    "tca_results.trade_order['trade_df'].head(5)"
   ]
  },
  {
   "cell_type": "markdown",
   "metadata": {},
   "source": [
    "We can access the timeline of the slippage for trades by accessing the `timeline` property. Note, it won't be populated for date/hours where we haven't traded."
   ]
  },
  {
   "cell_type": "code",
   "execution_count": 20,
   "metadata": {
    "ExecuteTime": {
     "end_time": "2020-09-15T12:40:51.258162Z",
     "start_time": "2020-09-15T12:40:51.245156Z"
    }
   },
   "outputs": [
    {
     "data": {
      "text/html": [
       "<div>\n",
       "<style scoped>\n",
       "    .dataframe tbody tr th:only-of-type {\n",
       "        vertical-align: middle;\n",
       "    }\n",
       "\n",
       "    .dataframe tbody tr th {\n",
       "        vertical-align: top;\n",
       "    }\n",
       "\n",
       "    .dataframe thead th {\n",
       "        text-align: right;\n",
       "    }\n",
       "</style>\n",
       "<table border=\"1\" class=\"dataframe\">\n",
       "  <thead>\n",
       "    <tr style=\"text-align: right;\">\n",
       "      <th></th>\n",
       "      <th>value</th>\n",
       "    </tr>\n",
       "    <tr>\n",
       "      <th>Date</th>\n",
       "      <th></th>\n",
       "    </tr>\n",
       "  </thead>\n",
       "  <tbody>\n",
       "    <tr>\n",
       "      <th>2017-05-05 06:00:00</th>\n",
       "      <td>-0.133895</td>\n",
       "    </tr>\n",
       "    <tr>\n",
       "      <th>2017-05-05 11:00:00</th>\n",
       "      <td>-0.017519</td>\n",
       "    </tr>\n",
       "    <tr>\n",
       "      <th>2017-05-05 14:00:00</th>\n",
       "      <td>-0.156906</td>\n",
       "    </tr>\n",
       "    <tr>\n",
       "      <th>2017-05-05 20:00:00</th>\n",
       "      <td>-0.122419</td>\n",
       "    </tr>\n",
       "    <tr>\n",
       "      <th>2017-05-08 10:00:00</th>\n",
       "      <td>-0.209665</td>\n",
       "    </tr>\n",
       "  </tbody>\n",
       "</table>\n",
       "</div>"
      ],
      "text/plain": [
       "                        value\n",
       "Date                         \n",
       "2017-05-05 06:00:00 -0.133895\n",
       "2017-05-05 11:00:00 -0.017519\n",
       "2017-05-05 14:00:00 -0.156906\n",
       "2017-05-05 20:00:00 -0.122419\n",
       "2017-05-08 10:00:00 -0.209665"
      ]
     },
     "execution_count": 20,
     "metadata": {},
     "output_type": "execute_result"
    }
   ],
   "source": [
    "tca_results.timeline['trade_df_slippage_by/mean_datehour/all'].head(5)"
   ]
  },
  {
   "cell_type": "markdown",
   "metadata": {},
   "source": [
    "### Using TCAReport class\n",
    "\n",
    "We can also render the various charts into an HTML page using TCAReport (or PDF via plotly-orca, which converts the HTML file to PDF, although this hasn't been fully tested yet). You can see the HTML output [here](test.htm). You can extend `TCAReport` to create your own report designs. There are two implementations at present\n",
    "* `JinjaRenderer` uses Jinja and HTML templates and WeasyPrint to convert to PDFs\n",
    "    * This is a very powerful technique and is the default option\n",
    "* `BasicRenderer` uses chartpy underneath and pdfkit (wkhtmltopdf) to convert to PDFs\n",
    "    * This produces simpler looking outout"
   ]
  },
  {
   "cell_type": "code",
   "execution_count": 21,
   "metadata": {
    "ExecuteTime": {
     "end_time": "2020-09-15T12:40:51.453170Z",
     "start_time": "2020-09-15T12:40:51.260164Z"
    }
   },
   "outputs": [],
   "source": [
    "tca_report = TCAReport(tca_results, renderer=JinjaRenderer(template_folder=template_folder_path))\n",
    "\n",
    "html_code = tca_report.create_report(output_filename='test.htm', output_format='html');"
   ]
  },
  {
   "cell_type": "markdown",
   "metadata": {},
   "source": [
    "The method also returns the HTML to the user, if they want to display it (maybe to a website, as an inline HTML page?)"
   ]
  },
  {
   "cell_type": "code",
   "execution_count": 22,
   "metadata": {
    "ExecuteTime": {
     "end_time": "2020-09-15T12:40:51.468169Z",
     "start_time": "2020-09-15T12:40:51.456170Z"
    }
   },
   "outputs": [
    {
     "data": {
      "text/plain": [
       "'<!doctype html>\\n<html>\\n  <head>\\n    <meta charset=\"utf-8\">\\n    <link href=\"clean_report.css\" rel=\"stylesheet\">\\n    <style type=\"text/css\">\\n    @charset \"UTF-8\";\\n@import url(https://fonts.googleapis.com/css?family=Open+Sans);\\n\\n/*@font-face {*/\\n/*  font-family: Open Sans;*/\\n/*  font-weight: 400;*/\\n/*  src: url(OpenSans-Regular.ttf); }*/\\n\\n/*@font-face {*/\\n/*  font-family: Open Sans;*/\\n/*  font-style: italic;*/\\n/*  font-weight: 400;*/\\n/*  src: url(OpenSans-Italic.ttf); }*/\\n\\n/*@font-face {*/\\n/*  font'"
      ]
     },
     "execution_count": 22,
     "metadata": {},
     "output_type": "execute_result"
    }
   ],
   "source": [
    "html_code[0:500]"
   ]
  },
  {
   "cell_type": "markdown",
   "metadata": {},
   "source": [
    "Let's also publish as PDF! Note, this will need some additional dependencies, given it uses WeasyPrint."
   ]
  },
  {
   "cell_type": "code",
   "execution_count": 23,
   "metadata": {
    "ExecuteTime": {
     "end_time": "2020-09-15T12:40:52.623804Z",
     "start_time": "2020-09-15T12:40:51.470169Z"
    }
   },
   "outputs": [
    {
     "name": "stderr",
     "output_type": "stream",
     "text": [
      "2020-09-15 13:40:51,903; ERROR:weasyprint: Relative URI reference without a base URI: <link href=\"clean_report.css\"> (urls.py:145)\n"
     ]
    }
   ],
   "source": [
    "try:\n",
    "    tca_report.create_report(output_filename='test.pdf', output_format='pdf');\n",
    "except:\n",
    "    pass"
   ]
  },
  {
   "cell_type": "markdown",
   "metadata": {},
   "source": [
    "### Distribution of slippage and average slippage"
   ]
  },
  {
   "cell_type": "markdown",
   "metadata": {},
   "source": [
    "Here we create a `TCARequest` for the same dataset. This time, however, we also calculate the `MetricTransientMarketImpact`, which we've defined as the 5 second move from a trade or start of an order. We also want to calculate the distribution of the slippage by side (ie. buy/sell) with `DistResultsForm` and to calculate the average slippage (weighted by the executed notional) with `BarResultForm`. Note, we've used `scalar` parameters of `10000.0` to convert to basis point to ease understanding.\n",
    "\n",
    "All these `Metric` and `ResultsForm` calculations will be calculated on both trades and orders. However, we can specify for it to be calculated only on for example trades, by instantiating the objects using the `market_trade_order_list` parameter eg. `MetricSlippage(market_trade_order_list=['trade_df'])`"
   ]
  },
  {
   "cell_type": "code",
   "execution_count": 24,
   "metadata": {
    "ExecuteTime": {
     "end_time": "2020-09-15T12:40:52.638805Z",
     "start_time": "2020-09-15T12:40:52.625805Z"
    }
   },
   "outputs": [],
   "source": [
    "tca_request = TCARequest(start_date='05 May 2017', finish_date='10 May 2017', ticker='EURUSD',\n",
    "    tca_type='detailed',\n",
    "    trade_data_store='csv', market_data_store='dukascopy',\n",
    "    trade_order_mapping=csv_trade_order_mapping,\n",
    "    metric_calcs=[MetricSlippage(), \n",
    "        MetricTransientMarketImpact(\n",
    "                             transient_market_impact_gap={'5' : 's'})],\n",
    "    results_form=[DistResultsForm(metric_name='slippage', \n",
    "                  aggregate_by_field='side', scalar=10000.0),\n",
    "        BarResultsForm(metric_name='slippage', \n",
    "            aggregate_by_field='ticker', scalar=10000.0),\n",
    "        BarResultsForm(metric_name='slippage', \n",
    "            aggregate_by_field='broker_id', scalar=10000.0)],\n",
    "    benchmark_calcs=[BenchmarkMarketSpreadToMid()],\n",
    "    use_multithreading=False)"
   ]
  },
  {
   "cell_type": "markdown",
   "metadata": {},
   "source": [
    "Let's kick off the TCA calculation!"
   ]
  },
  {
   "cell_type": "code",
   "execution_count": 25,
   "metadata": {
    "ExecuteTime": {
     "end_time": "2020-09-15T12:40:53.164034Z",
     "start_time": "2020-09-15T12:40:52.640805Z"
    }
   },
   "outputs": [
    {
     "name": "stderr",
     "output_type": "stream",
     "text": [
      "2020-09-15 13:40:52,641; INFO:tcapy.analysis.tcaengine: More than 1 ticker specified for TCA detailed computation. Only working on first (tcaengine.py:122)\n",
      "2020-09-15 13:40:52,642; DEBUG:tcapy.analysis.tcamarkettradeloader: Start loading trade/data/computation (tcamarkettradeloader.py:241)\n",
      "2020-09-15 13:40:52,643; DEBUG:tcapy.analysis.tcatickerloaderimpl: Get market and trade/order data for EURUSD from 2017-05-05 00:00:00+00:00 - 2017-05-10 00:00:00+00:00 (tcatickerloaderimpl.py:80)\n",
      "2020-09-15 13:40:52,643; DEBUG:tcapy.data.volatilecache: Attempting to get list from cache: ['dukascopy_EURUSD_2017-05-05 00:00:00+00:00_2017-05-10 00:00:00+00:00_market_df_None_comp'] (volatilecache.py:540)\n",
      "2020-09-15 13:40:52,691; DEBUG:tcapy.analysis.tcatickerloader: Get trade order holder for EURUSD from 2017-05-05 00:00:00+00:00 - 2017-05-10 00:00:00+00:00 (tcatickerloader.py:386)\n",
      "2020-09-15 13:40:52,728; WARNING:tcapy.data.datafactory: Dataframe empty for ticker USDEUR (datafactory.py:97)\n",
      "2020-09-15 13:40:52,729; DEBUG:tcapy.data.volatilecache: Attempting to get list from cache: ['dukascopy_EURUSD_2017-05-05 00:00:00+00:00_2017-05-10 00:00:00+00:00_market_df_None_comp'] (volatilecache.py:540)\n",
      "2020-09-15 13:40:52,811; WARNING:tcapy.data.datafactory: Dataframe empty for ticker USDEUR (datafactory.py:97)\n",
      "2020-09-15 13:40:52,813; DEBUG:tcapy.data.volatilecache: Attempting to get list from cache: ['dukascopy_EURUSD_2017-05-05 00:00:00+00:00_2017-05-10 00:00:00+00:00_market_df_None_comp'] (volatilecache.py:540)\n",
      "2020-09-15 13:40:52,865; DEBUG:tcapy.data.volatilecache: Attempting to get list from cache: ['dukascopy_EURUSD_2017-05-05 00:00:00+00:00_2017-05-10 00:00:00+00:00_market_df_None_comp'] (volatilecache.py:540)\n",
      "2020-09-15 13:40:52,913; DEBUG:tcapy.analysis.tcatickerloader: Filter the market date by start/finish date (tcatickerloader.py:761)\n",
      "2020-09-15 13:40:52,921; DEBUG:tcapy.analysis.tcatickerloader: Combine trade/order data (tcatickerloader.py:782)\n",
      "2020-09-15 13:40:52,928; DEBUG:tcapy.analysis.tcatickerloader: Calculating BenchmarkMarketSpreadToMid for market data (tcatickerloader.py:600)\n",
      "2020-09-15 13:40:52,950; DEBUG:tcapy.analysis.tcatickerloader: Filter trades by venue (tcatickerloader.py:458)\n",
      "2020-09-15 13:40:52,953; DEBUG:tcapy.analysis.tcatickerloader: Calculating derived fields and benchmarks (tcatickerloader.py:508)\n",
      "2020-09-15 13:40:52,954; DEBUG:tcapy.analysis.tcatickerloader: Calculating execution fields (tcatickerloader.py:510)\n",
      "2020-09-15 13:40:52,963; DEBUG:tcapy.analysis.tcatickerloader: Calculating benchmarks (tcatickerloader.py:536)\n",
      "2020-09-15 13:40:52,964; DEBUG:tcapy.analysis.tcatickerloader: Calculating metrics (tcatickerloader.py:554)\n",
      "2020-09-15 13:40:52,965; DEBUG:tcapy.analysis.tcatickerloader: Calculating MetricSlippage for trade_df (tcatickerloader.py:560)\n",
      "2020-09-15 13:40:52,983; DEBUG:tcapy.analysis.tcatickerloader: Calculating MetricTransientMarketImpact for trade_df (tcatickerloader.py:560)\n",
      "2020-09-15 13:40:53,004; DEBUG:tcapy.analysis.tcatickerloader: Calculating MetricSlippage for order_df (tcatickerloader.py:560)\n",
      "2020-09-15 13:40:53,021; DEBUG:tcapy.analysis.tcatickerloader: Calculating MetricTransientMarketImpact for order_df (tcatickerloader.py:560)\n",
      "2020-09-15 13:40:53,037; DEBUG:tcapy.analysis.tcatickerloader: Completed derived field calculations for EURUSD (tcatickerloader.py:568)\n",
      "2020-09-15 13:40:53,038; DEBUG:tcapy.analysis.tcatickerloaderimpl: Generating downsampled market data for potentional display (tcatickerloaderimpl.py:275)\n",
      "2020-09-15 13:40:53,054; DEBUG:tcapy.analysis.tcatickerloaderimpl: About to join (tcatickerloaderimpl.py:340)\n",
      "2020-09-15 13:40:53,057; DEBUG:tcapy.analysis.tcatickerloaderimpl: Finished joining (tcatickerloaderimpl.py:356)\n",
      "2020-09-15 13:40:53,059; DEBUG:tcapy.analysis.tcatickerloaderimpl: About to join (tcatickerloaderimpl.py:340)\n",
      "2020-09-15 13:40:53,063; DEBUG:tcapy.analysis.tcatickerloaderimpl: Finished joining (tcatickerloaderimpl.py:356)\n",
      "2020-09-15 13:40:53,081; DEBUG:tcapy.analysis.tcamarkettradeloader: Finished loading data and calculating metrics on individual _tickers (tcamarkettradeloader.py:248)\n",
      "2020-09-15 13:40:53,083; DEBUG:tcapy.analysis.tcamarkettradeloaderimpl: Constructing results form to summarize analysis... (tcamarkettradeloaderimpl.py:74)\n",
      "2020-09-15 13:40:53,147; DEBUG:tcapy.analysis.tcamarkettradeloaderimpl: Now join table results... (tcamarkettradeloaderimpl.py:122)\n",
      "2020-09-15 13:40:53,148; DEBUG:tcapy.analysis.tcamarkettradeloaderimpl: Finished calculating results form and join table results! (tcamarkettradeloaderimpl.py:135)\n"
     ]
    },
    {
     "name": "stdout",
     "output_type": "stream",
     "text": [
      "Wall time: 507 ms\n"
     ]
    }
   ],
   "source": [
    "%%time\n",
    "\n",
    "# Dictionary of (mostly) dataframes as output from TCA calculation\n",
    "dict_of_df = tca_engine.calculate_tca(tca_request)"
   ]
  },
  {
   "cell_type": "markdown",
   "metadata": {},
   "source": [
    "Let's inspect the output. This time we have some different DataFrames, in particular:\n",
    "* `dist_trade_df_slippage_by/pdf/side` - distribution of slippage on trades split up by buy/sell\n",
    "* `bar_trade_df_slippage_by/mean/ticker` - average of slippage on trades split by ticker\n",
    "* `bar_trade_df_slippage_by/mean/broker_id` - average of slippage on trades split by broker\n",
    "* `dist_order_df_slippage_by/pdf/side` - distribution of slippage on orders split up by buy/sell\n",
    "* `bar_order_df_slippage_by/mean/ticker` - average of slippage on trades split by ticker\n",
    "* `bar_order_df_slippage_by/mean/broker_id` - average of slippage on trades split by broker"
   ]
  },
  {
   "cell_type": "code",
   "execution_count": 26,
   "metadata": {
    "ExecuteTime": {
     "end_time": "2020-09-15T12:40:53.179031Z",
     "start_time": "2020-09-15T12:40:53.166029Z"
    }
   },
   "outputs": [
    {
     "data": {
      "text/plain": [
       "odict_keys(['trade_df', 'order_df', 'sparse_market_trade_df', 'sparse_market_order_df', 'market_df_downsampled', 'candlestick_fig', 'dist_trade_df_slippage_by/pdf/side', 'bar_trade_df_slippage_by/mean/ticker', 'bar_trade_df_slippage_by/mean/broker_id', 'dist_order_df_slippage_by/pdf/side', 'bar_order_df_slippage_by/mean/ticker', 'bar_order_df_slippage_by/mean/broker_id', 'market_df'])"
      ]
     },
     "execution_count": 26,
     "metadata": {},
     "output_type": "execute_result"
    }
   ],
   "source": [
    "dict_of_df.keys()"
   ]
  },
  {
   "cell_type": "markdown",
   "metadata": {},
   "source": [
    "We can use  the `PlotRender` object (which is used by the GUI) to create different sorts of Ploty charts such as the timelines, distributions etc. In this case we are plotting the distribution of the slippage by buy/sell. Note that if we'd used the `TCAResults` object instead it would have simplified this code."
   ]
  },
  {
   "cell_type": "code",
   "execution_count": 27,
   "metadata": {
    "ExecuteTime": {
     "end_time": "2020-09-15T12:40:53.329028Z",
     "start_time": "2020-09-15T12:40:53.181029Z"
    }
   },
   "outputs": [
    {
     "name": "stderr",
     "output_type": "stream",
     "text": [
      "2020-09-15 13:40:53,186; DEBUG:tcapy.vis.displaylisteners: Plotting distribution dist (displaylisteners.py:1239)\n",
      "2020-09-15 13:40:53,204; DEBUG:tcapy.vis.displaylisteners: Rendered distribution dist (displaylisteners.py:1243)\n"
     ]
    },
    {
     "data": {
      "image/png": "[encoded data removed]"
     },
     "metadata": {},
     "output_type": "display_data"
    }
   ],
   "source": [
    "plot_render = PlotRender()\n",
    "\n",
    "# Generate Plotly JSON Figure\n",
    "dist_fig = plot_render.plot_dist(dist_df=dict_of_df['dist_order_df_slippage_by/pdf/side'], \n",
    "          metric='slippage', split_by='side', width=chart_width, height=chart_height)\n",
    "   \n",
    "# Render the Plotly JSON Figure to view\n",
    "chart.plot(dist_fig, engine='plotly', style=style)"
   ]
  },
  {
   "cell_type": "markdown",
   "metadata": {},
   "source": [
    "Alternatively, we can push the output into a `TCAResults` object, which can simplify the TCA output, in a much easier to use way. We can see that several charts end up getting rendered, such as timeline and distribution plots, together with more descriptive titles. We do not need to get into the low level details of how to do the plotting with Plotly, tcapy does that all for us using chartpy. However, if we want we can of course edit the returned `Plotly Figure` object (see here on do [this](https://plotly.com/python/creating-and-updating-figures))."
   ]
  },
  {
   "cell_type": "code",
   "execution_count": 28,
   "metadata": {
    "ExecuteTime": {
     "end_time": "2020-09-15T12:40:53.509027Z",
     "start_time": "2020-09-15T12:40:53.331028Z"
    }
   },
   "outputs": [
    {
     "name": "stderr",
     "output_type": "stream",
     "text": [
      "2020-09-15 13:40:53,334; DEBUG:tcapy.vis.displaylisteners: Plotting main timeline 2214 (displaylisteners.py:988)\n",
      "2020-09-15 13:40:53,378; DEBUG:tcapy.vis.displaylisteners: Rendered plot 2214 and  (displaylisteners.py:998)\n",
      "2020-09-15 13:40:53,381; DEBUG:tcapy.vis.displaylisteners: Plotting main timeline 2208 (displaylisteners.py:988)\n",
      "2020-09-15 13:40:53,426; DEBUG:tcapy.vis.displaylisteners: Rendered plot 2208 and  (displaylisteners.py:998)\n",
      "2020-09-15 13:40:53,463; DEBUG:tcapy.vis.displaylisteners: Plotting distribution Trades slippage by/pdf/side PDF (displaylisteners.py:1239)\n",
      "2020-09-15 13:40:53,475; DEBUG:tcapy.vis.displaylisteners: Rendered distribution Trades slippage by/pdf/side PDF (displaylisteners.py:1243)\n",
      "2020-09-15 13:40:53,478; DEBUG:tcapy.vis.displaylisteners: Plotting distribution Orders slippage by/pdf/side PDF (displaylisteners.py:1239)\n",
      "2020-09-15 13:40:53,491; DEBUG:tcapy.vis.displaylisteners: Rendered distribution Orders slippage by/pdf/side PDF (displaylisteners.py:1243)\n"
     ]
    }
   ],
   "source": [
    "tca_results = TCAResults(dict_of_df, tca_request, chart_width=chart_width, chart_height=chart_height)\n",
    "tca_results.render_computation_charts()"
   ]
  },
  {
   "cell_type": "markdown",
   "metadata": {},
   "source": [
    "We can pickup the Plotly JSON `Figure` object ready made to push to `chartpy` for plotting."
   ]
  },
  {
   "cell_type": "code",
   "execution_count": 29,
   "metadata": {
    "ExecuteTime": {
     "end_time": "2020-09-15T12:40:53.629042Z",
     "start_time": "2020-09-15T12:40:53.511028Z"
    }
   },
   "outputs": [
    {
     "data": {
      "image/png": "[encoded data removed]"
     },
     "metadata": {},
     "output_type": "display_data"
    }
   ],
   "source": [
    "chart.plot(tca_results.dist_charts['trade_df_slippage_by/pdf/side'], engine='plotly', style=style)"
   ]
  },
  {
   "cell_type": "markdown",
   "metadata": {},
   "source": [
    "Depending on what we have specified to be calculated in the `TCARequest` the `TCAReport` can render the following charts (which are available as attributes\n",
    "\n",
    "* `timeline_charts` - timeline aggregates\n",
    "* `sparse_market_charts` - mixture of market data with points to denote trades/orders\n",
    "* `bar_charts` - average aggregates eg. average slippage\n",
    "* `dist_charts` - distribution charts eg. distribution of slippage\n",
    "* `scatter_charts` - scatter charts eg. plotting slippage vs. notional\n",
    "* `styled_tables` - tables in HTML format\n",
    "\n",
    "We can also get the underlying DataFrames using the following properties\n",
    "\n",
    "* `trade_order` - DataFrames of trades/orders\n",
    "* `timeline` - DataFrames of timelines\n",
    "* `sparse_market` - DataFrames with a mixture of market data/trade/order data\n",
    "* `bar` - DataFrames with bar chart style data\n",
    "* `dist` - DataFrames with distribution style data\n",
    "* `scatter` - DataFrames with scatter style data\n",
    "* `table` - DataFrames intended to be displayed as tables\n",
    "* `market` - DataFrames with high frequency tick market data"
   ]
  },
  {
   "cell_type": "markdown",
   "metadata": {},
   "source": [
    "Let's see inside the `dist_charts` and `bar_charts` to see keys are available."
   ]
  },
  {
   "cell_type": "code",
   "execution_count": 30,
   "metadata": {
    "ExecuteTime": {
     "end_time": "2020-09-15T12:40:53.644035Z",
     "start_time": "2020-09-15T12:40:53.631036Z"
    }
   },
   "outputs": [
    {
     "name": "stdout",
     "output_type": "stream",
     "text": [
      "dict_keys(['trade_df_slippage_by/pdf/side', 'order_df_slippage_by/pdf/side'])\n",
      "dict_keys(['trade_df_slippage_by/mean/ticker', 'trade_df_slippage_by/mean/broker_id', 'order_df_slippage_by/mean/ticker', 'order_df_slippage_by/mean/broker_id'])\n"
     ]
    }
   ],
   "source": [
    "print(tca_results.dist_charts.keys())\n",
    "print(tca_results.bar_charts.keys())"
   ]
  },
  {
   "cell_type": "markdown",
   "metadata": {},
   "source": [
    "Plot the average slippage by ticker! In this case, we only have one ticker, so probably just easier to report the number itself, which arount 0.5 bp."
   ]
  },
  {
   "cell_type": "code",
   "execution_count": 31,
   "metadata": {
    "ExecuteTime": {
     "end_time": "2020-09-15T12:40:53.749044Z",
     "start_time": "2020-09-15T12:40:53.646036Z"
    }
   },
   "outputs": [
    {
     "name": "stdout",
     "output_type": "stream",
     "text": [
      "                ticker\n",
      "ticker_index          \n",
      "EURUSD       -0.525355\n"
     ]
    },
    {
     "data": {
      "image/png": "[encoded data removed]"
     },
     "metadata": {},
     "output_type": "display_data"
    }
   ],
   "source": [
    "print(tca_results.bar['order_df_slippage_by/mean/ticker'])\n",
    "\n",
    "chart.plot(tca_results.bar_charts['order_df_slippage_by/mean/ticker'], \n",
    "           engine='plotly', style=style)"
   ]
  },
  {
   "cell_type": "markdown",
   "metadata": {},
   "source": [
    "Plot the average slippage by broker. Looks like `broker6` hasn't been particularly good!"
   ]
  },
  {
   "cell_type": "code",
   "execution_count": 32,
   "metadata": {
    "ExecuteTime": {
     "end_time": "2020-09-15T12:40:53.839046Z",
     "start_time": "2020-09-15T12:40:53.751044Z"
    }
   },
   "outputs": [
    {
     "data": {
      "image/png": "[encoded data removed]"
     },
     "metadata": {},
     "output_type": "display_data"
    }
   ],
   "source": [
    "chart.plot(tca_results.bar_charts['order_df_slippage_by/mean/broker_id'], engine='plotly', style=style)"
   ]
  },
  {
   "cell_type": "markdown",
   "metadata": {},
   "source": [
    "We can plot one of the PDF charts too."
   ]
  },
  {
   "cell_type": "code",
   "execution_count": 33,
   "metadata": {
    "ExecuteTime": {
     "end_time": "2020-09-15T12:40:53.959054Z",
     "start_time": "2020-09-15T12:40:53.841043Z"
    }
   },
   "outputs": [
    {
     "data": {
      "image/png": "[encoded data removed]"
     },
     "metadata": {},
     "output_type": "display_data"
    }
   ],
   "source": [
    "chart.plot(tca_results.dist_charts['trade_df_slippage_by/pdf/side'], \n",
    "           engine='plotly', style=style)"
   ]
  },
  {
   "cell_type": "markdown",
   "metadata": {},
   "source": [
    "Let's try seeing what the `sparse_market_chart` property looks like."
   ]
  },
  {
   "cell_type": "code",
   "execution_count": 34,
   "metadata": {
    "ExecuteTime": {
     "end_time": "2020-09-15T12:40:53.974054Z",
     "start_time": "2020-09-15T12:40:53.961051Z"
    }
   },
   "outputs": [
    {
     "name": "stdout",
     "output_type": "stream",
     "text": [
      "dict_keys(['EURUSD_trade_df', 'EURUSD_order_df'])\n"
     ]
    }
   ],
   "source": [
    "print(tca_results.sparse_market_charts.keys())"
   ]
  },
  {
   "cell_type": "markdown",
   "metadata": {},
   "source": [
    "We plot the market data benchmark alongside the trades as dots, sized by their executed notional and with different colors for buy (green) and sell (red)."
   ]
  },
  {
   "cell_type": "code",
   "execution_count": 35,
   "metadata": {
    "ExecuteTime": {
     "end_time": "2020-09-15T12:40:54.184067Z",
     "start_time": "2020-09-15T12:40:53.976052Z"
    }
   },
   "outputs": [
    {
     "data": {
      "image/png": "[encoded data removed]"
     },
     "metadata": {},
     "output_type": "display_data"
    }
   ],
   "source": [
    "chart.plot(tca_results.sparse_market_charts['EURUSD_trade_df'], engine='plotly', style=style)"
   ]
  },
  {
   "cell_type": "markdown",
   "metadata": {},
   "source": [
    "Because these charts are already Plotly Figure objects in JSON, we can also display them directly, without the `Chart` object."
   ]
  },
  {
   "cell_type": "code",
   "execution_count": 36,
   "metadata": {
    "ExecuteTime": {
     "end_time": "2020-09-15T12:40:54.304074Z",
     "start_time": "2020-09-15T12:40:54.186071Z"
    }
   },
   "outputs": [
    {
     "data": {
      "image/png": "[encoded data removed]"
     },
     "metadata": {},
     "output_type": "display_data"
    }
   ],
   "source": [
    "tca_results.sparse_market_charts['EURUSD_order_df']"
   ]
  },
  {
   "cell_type": "markdown",
   "metadata": {},
   "source": [
    "If we print the charts, we can see inside the Plotly Figure JSON format."
   ]
  },
  {
   "cell_type": "code",
   "execution_count": 37,
   "metadata": {
    "ExecuteTime": {
     "end_time": "2020-09-15T12:40:54.349074Z",
     "start_time": "2020-09-15T12:40:54.306074Z"
    }
   },
   "outputs": [
    {
     "name": "stdout",
     "output_type": "stream",
     "text": [
      "Figure({\n",
      "    'data': [{'connectgaps': True,\n",
      "              'line': {'color': 'rgba(0.20392156862745098, 0.5411764705882353, 0.7411764705882353, 1.0)',\n",
      "                       'dash': 'solid',\n",
      "                       'width': 3},\n",
      "              'mode': 'lines',\n",
      "              'name': 'mid',\n",
      "              'text': '',\n",
      "              'type': 'scatter',\n",
      "              'x': [2017-05-05 00:00:00+00:00, 2017-05-05 00:20:00+00:00,\n",
      "                    2017-05-05 00:40:00+00:00, ..., 2017-05-09 23:00:00+00:00,\n",
      "                    2017-05-09 23:20:00+00:00, 2017-05-09 23:40:00+00:00],\n",
      "              'y': array([1.0980240106582642, 1.0979187488555908, 1.0977914333343506, ...,\n",
      "                          1.088395118713379, 1.088489294052124, 1.0888340473175049], dtype=object)},\n",
      "             {'connectgaps': True,\n",
      "              'line': {'color': 'rgba(0.0, 0.0, 0.0, 1.0)', 'dash': 'solid', 'width': 0.5},\n",
      "              'mode': 'lines',\n",
      "              'name': 'bid',\n",
      "              'text': '',\n",
      "              'type': 'scatter',\n",
      "              'x': [2017-05-05 00:00:00+00:00, 2017-05-05 00:20:00+00:00,\n",
      "                    2017-05-05 00:40:00+00:00, ..., 2017-05-09 23:00:00+00:00,\n",
      "                    2017-05-09 23:20:00+00:00, 2017-05-09 23:40:00+00:00],\n",
      "              'y': array([1.0980037450790405, 1.0978997945785522, 1.0977717638015747, ...,\n",
      "                          1.0883690118789673, 1.0884661674499512, 1.0888111591339111],\n",
      "                         dtype=object)},\n",
      "             {'connectgaps': True,\n",
      "              'line': {'color': 'rgba(0.0, 0.0, 0.0, 1.0)', 'dash': 'solid', 'width': 0.5},\n",
      "              'mode': 'lines',\n",
      "              'name': 'ask',\n",
      "              'text': '',\n",
      "              'type': 'scatter',\n",
      "              'x': [2017-05-05 00:00:00+00:00, 2017-05-05 00:20:00+00:00,\n",
      "                    2017-05-05 00:40:00+00:00, ..., 2017-05-09 23:00:00+00:00,\n",
      "                    2017-05-09 23:20:00+00:00, 2017-05-09 23:40:00+00:00],\n",
      "              'y': array([1.0980442762374878, 1.0979375839233398, 1.0978111028671265, ...,\n",
      "                          1.0884212255477905, 1.0885125398635864, 1.0888570547103882],\n",
      "                         dtype=object)},\n",
      "             {'connectgaps': True,\n",
      "              'line': {'color': 'rgba(0.5568627450980392, 0.7294117647058823, 0.25882352941176473, 1.0)',\n",
      "                       'dash': 'solid',\n",
      "                       'width': 1},\n",
      "              'marker': {'size': [0.0, 0.0, 0.0, ..., 0.0, 0.0, 0.0]},\n",
      "              'mode': 'markers',\n",
      "              'name': 'buy trade',\n",
      "              'text': '',\n",
      "              'type': 'scatter',\n",
      "              'x': [2017-05-05 00:00:00+00:00, 2017-05-05 00:20:00+00:00,\n",
      "                    2017-05-05 00:40:00+00:00, ..., 2017-05-09 23:00:00+00:00,\n",
      "                    2017-05-09 23:20:00+00:00, 2017-05-09 23:40:00+00:00],\n",
      "              'y': array(['', '', '', ..., '', '', ''], dtype=object)},\n",
      "             {'connectgaps': True,\n",
      "              'line': {'color': 'rgba(0.8862745098039215, 0.2901960784313726, 0.2, 1.0)', 'dash': 'solid', 'width': 1},\n",
      "              'marker': {'size': [0.0, 0.0, 0.0, ..., 0.0, 0.0, 0.0]},\n",
      "              'mode': 'markers',\n",
      "              'name': 'sell trade',\n",
      "              'text': '',\n",
      "              'type': 'scatter',\n",
      "              'x': [2017-05-05 00:00:00+00:00, 2017-05-05 00:20:00+00:00,\n",
      "                    2017-05-05 00:40:00+00:00, ..., 2017-05-09 23:00:00+00:00,\n",
      "                    2017-05-09 23:20:00+00:00, 2017-05-09 23:40:00+00:00],\n",
      "              'y': array(['', '', '', ..., '', '', ''], dtype=object)},\n",
      "             {'boxpoints': False,\n",
      "              'fillcolor': '#FFFFFF',\n",
      "              'line': {'color': '#808080'},\n",
      "              'name': 'Increasing',\n",
      "              'showlegend': False,\n",
      "              'type': 'box',\n",
      "              'whiskerwidth': 0,\n",
      "              'x': array([datetime.datetime(2017, 5, 5, 0, 0),\n",
      "                          datetime.datetime(2017, 5, 5, 0, 0),\n",
      "                          datetime.datetime(2017, 5, 5, 0, 0), ...,\n",
      "                          datetime.datetime(2017, 5, 9, 23, 20),\n",
      "                          datetime.datetime(2017, 5, 9, 23, 20),\n",
      "                          datetime.datetime(2017, 5, 9, 23, 20)], dtype=object),\n",
      "              'y': [1.0978950262069702, 1.098075032234192, 1.098140001296997, ...,\n",
      "                    1.088710069656372, 1.088710069656372, 1.0887550115585327]},\n",
      "             {'boxpoints': False,\n",
      "              'fillcolor': '#348ABD',\n",
      "              'line': {'color': '#348ABD'},\n",
      "              'name': 'Decreasing',\n",
      "              'showlegend': False,\n",
      "              'type': 'box',\n",
      "              'whiskerwidth': 0,\n",
      "              'x': array([datetime.datetime(2017, 5, 5, 0, 20),\n",
      "                          datetime.datetime(2017, 5, 5, 0, 20),\n",
      "                          datetime.datetime(2017, 5, 5, 0, 20), ...,\n",
      "                          datetime.datetime(2017, 5, 9, 23, 40),\n",
      "                          datetime.datetime(2017, 5, 9, 23, 40),\n",
      "                          datetime.datetime(2017, 5, 9, 23, 40)], dtype=object),\n",
      "              'y': [1.097754955291748, 1.0981299877166748, 1.0978000164031982,\n",
      "                    ..., 1.088629961013794, 1.088629961013794, 1.0890899896621704]}],\n",
      "    'layout': {'height': 500,\n",
      "               'legend': {'bgcolor': '#F5F6F9', 'font': {'color': '#4D5663'}, 'x': 0.05, 'y': 1},\n",
      "               'paper_bgcolor': 'rgba(0,0,0,0)',\n",
      "               'plot_bgcolor': 'rgba(0,0,0,0)',\n",
      "               'showlegend': True,\n",
      "               'template': '...',\n",
      "               'title': {'font': {'color': '#4D5663'}, 'text': 'EURUSD trades'},\n",
      "               'width': 800,\n",
      "               'xaxis': {'gridcolor': '#E1E5ED',\n",
      "                         'showgrid': True,\n",
      "                         'tickfont': {'color': '#4D5663'},\n",
      "                         'title': {'font': {'color': '#4D5663'}, 'text': ''},\n",
      "                         'zerolinecolor': '#E1E5ED'},\n",
      "               'yaxis': {'gridcolor': '#E1E5ED',\n",
      "                         'showgrid': True,\n",
      "                         'tickfont': {'color': '#4D5663'},\n",
      "                         'title': {'font': {'color': '#4D5663'}, 'text': ''},\n",
      "                         'zerolinecolor': '#E1E5ED'}}\n",
      "})\n"
     ]
    }
   ],
   "source": [
    "print(tca_results.sparse_market_charts['EURUSD_trade_df'])"
   ]
  },
  {
   "cell_type": "markdown",
   "metadata": {},
   "source": [
    "We can update the properties of a Plotly figure too, such as the title, without having to redraw the whole chart."
   ]
  },
  {
   "cell_type": "code",
   "execution_count": 38,
   "metadata": {
    "ExecuteTime": {
     "end_time": "2020-09-15T12:40:54.468970Z",
     "start_time": "2020-09-15T12:40:54.350078Z"
    }
   },
   "outputs": [
    {
     "data": {
      "image/png": "[encoded data removed]"
     },
     "metadata": {},
     "output_type": "display_data"
    }
   ],
   "source": [
    "trade_fig = tca_results.sparse_market_charts['EURUSD_trade_df']\n",
    "trade_fig.update_layout(title='Look the title is changed!')"
   ]
  },
  {
   "cell_type": "code",
   "execution_count": 39,
   "metadata": {
    "ExecuteTime": {
     "end_time": "2020-09-15T12:40:54.588984Z",
     "start_time": "2020-09-15T12:40:54.469972Z"
    }
   },
   "outputs": [
    {
     "data": {
      "image/png": "[encoded data removed]"
     },
     "metadata": {},
     "output_type": "display_data"
    }
   ],
   "source": [
    "trade_fig"
   ]
  },
  {
   "cell_type": "markdown",
   "metadata": {},
   "source": [
    "### Turning off all caching"
   ]
  },
  {
   "cell_type": "markdown",
   "metadata": {},
   "source": [
    "Even if we have `use_multithreading=False` as a parameter it is likely that we'll end up doing using some caching Redis. \n",
    "\n",
    "We can turn off all caching entirely if we want by setting the below parameters in `multithreading_params`. If we just want to make a limited query of external market data this might be a good approach. In practive, we would recommend enabling both caching (in Redis), that reduces unneccessary downloading of market data and also `use_multithreading` to take advantage of parallel computation using Celery, which we'll discuss later."
   ]
  },
  {
   "cell_type": "code",
   "execution_count": 40,
   "metadata": {
    "ExecuteTime": {
     "end_time": "2020-09-15T12:41:19.505921Z",
     "start_time": "2020-09-15T12:40:54.590979Z"
    }
   },
   "outputs": [
    {
     "name": "stderr",
     "output_type": "stream",
     "text": [
      "2020-09-15 13:40:54,591; INFO:tcapy.analysis.tcaengine: More than 1 ticker specified for TCA detailed computation. Only working on first (tcaengine.py:122)\n",
      "2020-09-15 13:40:54,592; DEBUG:tcapy.analysis.tcamarkettradeloader: Start loading trade/data/computation (tcamarkettradeloader.py:241)\n",
      "2020-09-15 13:40:54,593; DEBUG:tcapy.analysis.tcatickerloaderimpl: Get market and trade/order data for EURUSD from 2017-05-05 00:00:00+00:00 - 2017-05-10 00:00:00+00:00 (tcatickerloaderimpl.py:80)\n",
      "2020-09-15 13:40:54,595; DEBUG:tcapy.data.databasesource: Downloading 2017-05-05 00:00:00 - 2017-05-10 00:00:00 for EURUSD (databasesource.py:3816)\n",
      "2020-09-15 13:41:02,782; WARNING:tcapy.analysis.algos.benchmark: mid not in market data (benchmark.py:90)\n",
      "2020-09-15 13:41:02,783; DEBUG:tcapy.analysis.tcatickerloader: Get trade order holder for EURUSD from 2017-05-05 00:00:00+00:00 - 2017-05-10 00:00:00+00:00 (tcatickerloader.py:386)\n",
      "2020-09-15 13:41:02,818; WARNING:tcapy.data.datafactory: Dataframe empty for ticker USDEUR (datafactory.py:97)\n",
      "2020-09-15 13:41:02,820; DEBUG:tcapy.data.databasesource: Downloading 2017-05-05 00:00:00 - 2017-05-10 00:00:00 for EURUSD (databasesource.py:3816)\n",
      "2020-09-15 13:41:11,030; WARNING:tcapy.analysis.algos.benchmark: mid not in market data (benchmark.py:90)\n",
      "2020-09-15 13:41:11,070; WARNING:tcapy.data.datafactory: Dataframe empty for ticker USDEUR (datafactory.py:97)\n",
      "2020-09-15 13:41:11,072; DEBUG:tcapy.data.databasesource: Downloading 2017-05-05 00:00:00 - 2017-05-10 00:00:00 for EURUSD (databasesource.py:3816)\n",
      "2020-09-15 13:41:19,258; WARNING:tcapy.analysis.algos.benchmark: mid not in market data (benchmark.py:90)\n",
      "2020-09-15 13:41:19,263; DEBUG:tcapy.analysis.tcatickerloader: Filter the market date by start/finish date (tcatickerloader.py:761)\n",
      "2020-09-15 13:41:19,270; DEBUG:tcapy.analysis.tcatickerloader: Combine trade/order data (tcatickerloader.py:782)\n",
      "2020-09-15 13:41:19,277; DEBUG:tcapy.analysis.tcatickerloader: Calculating BenchmarkMarketSpreadToMid for market data (tcatickerloader.py:600)\n",
      "2020-09-15 13:41:19,300; DEBUG:tcapy.analysis.tcatickerloader: Filter trades by venue (tcatickerloader.py:458)\n",
      "2020-09-15 13:41:19,302; DEBUG:tcapy.analysis.tcatickerloader: Calculating derived fields and benchmarks (tcatickerloader.py:508)\n",
      "2020-09-15 13:41:19,303; DEBUG:tcapy.analysis.tcatickerloader: Calculating execution fields (tcatickerloader.py:510)\n",
      "2020-09-15 13:41:19,311; DEBUG:tcapy.analysis.tcatickerloader: Calculating benchmarks (tcatickerloader.py:536)\n",
      "2020-09-15 13:41:19,312; DEBUG:tcapy.analysis.tcatickerloader: Calculating metrics (tcatickerloader.py:554)\n",
      "2020-09-15 13:41:19,313; DEBUG:tcapy.analysis.tcatickerloader: Calculating MetricSlippage for trade_df (tcatickerloader.py:560)\n",
      "2020-09-15 13:41:19,330; DEBUG:tcapy.analysis.tcatickerloader: Calculating MetricTransientMarketImpact for trade_df (tcatickerloader.py:560)\n",
      "2020-09-15 13:41:19,350; DEBUG:tcapy.analysis.tcatickerloader: Calculating MetricSlippage for order_df (tcatickerloader.py:560)\n",
      "2020-09-15 13:41:19,367; DEBUG:tcapy.analysis.tcatickerloader: Calculating MetricTransientMarketImpact for order_df (tcatickerloader.py:560)\n",
      "2020-09-15 13:41:19,382; DEBUG:tcapy.analysis.tcatickerloader: Completed derived field calculations for EURUSD (tcatickerloader.py:568)\n",
      "2020-09-15 13:41:19,384; DEBUG:tcapy.analysis.tcatickerloaderimpl: Generating downsampled market data for potentional display (tcatickerloaderimpl.py:275)\n",
      "2020-09-15 13:41:19,400; DEBUG:tcapy.analysis.tcatickerloaderimpl: About to join (tcatickerloaderimpl.py:340)\n",
      "2020-09-15 13:41:19,404; DEBUG:tcapy.analysis.tcatickerloaderimpl: Finished joining (tcatickerloaderimpl.py:356)\n",
      "2020-09-15 13:41:19,406; DEBUG:tcapy.analysis.tcatickerloaderimpl: About to join (tcatickerloaderimpl.py:340)\n",
      "2020-09-15 13:41:19,409; DEBUG:tcapy.analysis.tcatickerloaderimpl: Finished joining (tcatickerloaderimpl.py:356)\n",
      "2020-09-15 13:41:19,429; DEBUG:tcapy.analysis.tcamarkettradeloader: Finished loading data and calculating metrics on individual _tickers (tcamarkettradeloader.py:248)\n",
      "2020-09-15 13:41:19,430; DEBUG:tcapy.analysis.tcamarkettradeloaderimpl: Constructing results form to summarize analysis... (tcamarkettradeloaderimpl.py:74)\n",
      "2020-09-15 13:41:19,490; DEBUG:tcapy.analysis.tcamarkettradeloaderimpl: Now join table results... (tcamarkettradeloaderimpl.py:122)\n",
      "2020-09-15 13:41:19,491; DEBUG:tcapy.analysis.tcamarkettradeloaderimpl: Finished calculating results form and join table results! (tcamarkettradeloaderimpl.py:135)\n"
     ]
    },
    {
     "name": "stdout",
     "output_type": "stream",
     "text": [
      "Wall time: 24.9 s\n"
     ]
    }
   ],
   "source": [
    "%%time\n",
    "\n",
    "tca_request.multithreading_params = \\\n",
    "{   # True or False\n",
    "    'splice_request_by_dates': False,  \n",
    " \n",
    "    # Length of cache period\n",
    "    'cache_period': 'day',  \n",
    "\n",
    "    # Cache trade data in monthly/periodic chunks in Redis\n",
    "    'cache_period_trade_data': False,\n",
    "\n",
    "    # Cache market data in monthly/periodic chunks in Redis\n",
    "    'cache_period_market_data': False, \n",
    "\n",
    "    # Return trade data internally as handles (usually necessary for Celery)\n",
    "    'return_cache_handles_trade_data': False, \n",
    "\n",
    "    # Return market data internally as handles (usually necessary for Celery)\n",
    "    'return_cache_handles_market_data': False, \n",
    "\n",
    "    # Use single threading   \n",
    "    'parallel_library': 'single'                         \n",
    "}\n",
    "\n",
    "# Dictionary of (mostly) dataframes as output from TCA calculation\n",
    "dict_of_df = tca_engine.calculate_tca(tca_request)"
   ]
  },
  {
   "cell_type": "markdown",
   "metadata": {},
   "source": [
    "Let's see what's in the output."
   ]
  },
  {
   "cell_type": "code",
   "execution_count": 41,
   "metadata": {
    "ExecuteTime": {
     "end_time": "2020-09-15T12:41:19.520925Z",
     "start_time": "2020-09-15T12:41:19.507922Z"
    }
   },
   "outputs": [
    {
     "data": {
      "text/plain": [
       "odict_keys(['trade_df', 'order_df', 'sparse_market_trade_df', 'sparse_market_order_df', 'market_df_downsampled', 'candlestick_fig', 'dist_trade_df_slippage_by/pdf/side', 'bar_trade_df_slippage_by/mean/ticker', 'bar_trade_df_slippage_by/mean/broker_id', 'dist_order_df_slippage_by/pdf/side', 'bar_order_df_slippage_by/mean/ticker', 'bar_order_df_slippage_by/mean/broker_id', 'market_df'])"
      ]
     },
     "execution_count": 41,
     "metadata": {},
     "output_type": "execute_result"
    }
   ],
   "source": [
    "dict_of_df.keys()"
   ]
  },
  {
   "cell_type": "markdown",
   "metadata": {},
   "source": [
    "## Aggregated computation - Celery and using market data from database\n",
    "\n",
    "Let's say we want to compute several crosses? We can do that by changing the `tca_type` to `aggregated`. \n",
    "\n",
    "We'll also change our data source to use our (already populated) Arctic/MongoDB database which has Dukascopy data. \n",
    "\n",
    "There is a `DatabasePopulator` class which helps us to populate databases. We'll also change `use_multithreading` to `True`, so we can use Celery, and hence different workers will be used for each currency pair to compute various metrics and benchmarks. Then the original process will do the final calculations, which are typically much less onerous (such as creating aggregated statistics).\n",
    "\n",
    "Underneath the caching when setting `use_multithreading` to `True` also becomes complicated (eg. into `month` or `week` or `day` chunks), so we might end up trying to get more data than needed, before truncating. This means that when we hit the cache again with slightly different dates, it is still likely we'll be able to get data. If you are using an external source, `monthly` could end up making your very first call quite slow. \n",
    "\n",
    "A few points about Celery\n",
    "\n",
    "* Redis as a message broker between the client and the Celery worker\n",
    "* Memcached as a result backend once the Celery worker has finished\n",
    "* If you use Redis for both, you can often encounter race conditions\n",
    "* Memcached should be used with `python-memcached` to manage communication between Celery and Memcached as `pylibmc` is not thread-safe\n",
    "* If you have more powerful hardware, you can increase the number of Celery workers in `restart_tcapy.py`\n",
    "\n",
    "Typically, we'd recommend using `day` and this is the default, as it enables tcapy to make many calls at once to fetch the data either from the cache or database, rather than blocking for a long time grabbing large periods of data. Furthermore, it parallelizes the various serialisation/deserialisation from the cache. At the same time, making the chunks very small (eg. hour) seemed to result in too much overhead related to the parallisation process. You have to be careful though that you are not overloading your database with too many calls.\n",
    "\n",
    "We can also split up computation by date, not only the loading/caching data, but this can impact the final results if orders go across boundaries (eg. across daily boundaries). Furthermore, in our testing it wasn't clear if there was any noticable improvement in speed. Most of the time of the calculation was typically spend loading market/trade/order data, hence, why the caching of this data and also the splitting up of these data requests, seemed to have a reasonable impact.\n",
    "\n",
    "We have chosen a much larger window in this case, nearly 2 months of data.\n",
    "\n",
    "*Note, at the current time that directly downloading for Dukascopy should only be done when `use_multithreading=False` as the implementation currently not thread-safe when it comes to downloading multiple tickers*"
   ]
  },
  {
   "cell_type": "code",
   "execution_count": 15,
   "metadata": {
    "ExecuteTime": {
     "end_time": "2020-09-15T13:44:33.674554Z",
     "start_time": "2020-09-15T13:44:33.659549Z"
    }
   },
   "outputs": [],
   "source": [
    "tca_request = TCARequest(\n",
    "    start_date='24 Apr 2017', \n",
    "    finish_date='02 Jun 2017', \n",
    "    ticker=['EURUSD', 'USDJPY'],\n",
    "    tca_type='aggregated',\n",
    "    trade_data_store='csv', market_data_store='arctic-dukascopy',\n",
    "    trade_order_mapping=remote_csv_trade_order_mapping,\n",
    "    metric_calcs=[MetricSlippage(), MetricTransientMarketImpact(\n",
    "        transient_market_impact_gap={'5' : 's'})],\n",
    "    results_form=[BarResultsForm(metric_name='slippage', \n",
    "        aggregate_by_field='ticker', scalar=10000.0)],\n",
    "    benchmark_calcs=[BenchmarkMarketSpreadToMid()],\n",
    "    use_multithreading=True)"
   ]
  },
  {
   "cell_type": "markdown",
   "metadata": {},
   "source": [
    "### Comparing speed between parallel and single threaded \n",
    "\n",
    "The log output will appear to be less, because most of it will now be in the `celery.log` file, generated by the various workers. It'll take around 12 seconds on my machine, with the cache emptied."
   ]
  },
  {
   "cell_type": "code",
   "execution_count": 16,
   "metadata": {
    "ExecuteTime": {
     "end_time": "2020-09-15T13:44:47.042515Z",
     "start_time": "2020-09-15T13:44:34.560630Z"
    }
   },
   "outputs": [
    {
     "name": "stderr",
     "output_type": "stream",
     "text": [
      "2020-09-15 14:44:34,563; DEBUG:tcapy.analysis.tcamarkettradeloader: Start loading trade/data/computation (tcamarkettradeloader.py:241)\n",
      "2020-09-15 14:44:34,567; DEBUG:tcapy.analysis.tcamarkettradeloaderimpl: Split TCA request for EURUSD dates  / 2017-04-24 00:00:00+00:00 to 2017-04-24 23:59:59.999999+00:00 / 2017-04-25 00:00:00+00:00 to 2017-04-25 23:59:59.999999+00:00 / 2017-04-26 00:00:00+00:00 to 2017-04-26 23:59:59.999999+00:00 / 2017-04-27 00:00:00+00:00 to 2017-04-27 23:59:59.999999+00:00 / 2017-04-28 00:00:00+00:00 to 2017-04-28 23:59:59.999999+00:00 / 2017-04-29 00:00:00+00:00 to 2017-04-29 23:59:59.999999+00:00 / 2017-04-30 00:00:00+00:00 to 2017-04-30 23:59:59.999999+00:00 / 2017-05-01 00:00:00+00:00 to 2017-05-01 23:59:59.999999+00:00 / 2017-05-02 00:00:00+00:00 to 2017-05-02 23:59:59.999999+00:00 / 2017-05-03 00:00:00+00:00 to 2017-05-03 23:59:59.999999+00:00 / 2017-05-04 00:00:00+00:00 to 2017-05-04 23:59:59.999999+00:00 / 2017-05-05 00:00:00+00:00 to 2017-05-05 23:59:59.999999+00:00 / 2017-05-06 00:00:00+00:00 to 2017-05-06 23:59:59.999999+00:00 / 2017-05-07 00:00:00+00:00 to 2017-05-07 23:59:59.999999+00:00 / 2017-05-08 00:00:00+00:00 to 2017-05-08 23:59:59.999999+00:00 / 2017-05-09 00:00:00+00:00 to 2017-05-09 23:59:59.999999+00:00 / 2017-05-10 00:00:00+00:00 to 2017-05-10 23:59:59.999999+00:00 / 2017-05-11 00:00:00+00:00 to 2017-05-11 23:59:59.999999+00:00 / 2017-05-12 00:00:00+00:00 to 2017-05-12 23:59:59.999999+00:00 / 2017-05-13 00:00:00+00:00 to 2017-05-13 23:59:59.999999+00:00 / 2017-05-14 00:00:00+00:00 to 2017-05-14 23:59:59.999999+00:00 / 2017-05-15 00:00:00+00:00 to 2017-05-15 23:59:59.999999+00:00 / 2017-05-16 00:00:00+00:00 to 2017-05-16 23:59:59.999999+00:00 / 2017-05-17 00:00:00+00:00 to 2017-05-17 23:59:59.999999+00:00 / 2017-05-18 00:00:00+00:00 to 2017-05-18 23:59:59.999999+00:00 / 2017-05-19 00:00:00+00:00 to 2017-05-19 23:59:59.999999+00:00 / 2017-05-20 00:00:00+00:00 to 2017-05-20 23:59:59.999999+00:00 / 2017-05-21 00:00:00+00:00 to 2017-05-21 23:59:59.999999+00:00 / 2017-05-22 00:00:00+00:00 to 2017-05-22 23:59:59.999999+00:00 / 2017-05-23 00:00:00+00:00 to 2017-05-23 23:59:59.999999+00:00 / 2017-05-24 00:00:00+00:00 to 2017-05-24 23:59:59.999999+00:00 / 2017-05-25 00:00:00+00:00 to 2017-05-25 23:59:59.999999+00:00 / 2017-05-26 00:00:00+00:00 to 2017-05-26 23:59:59.999999+00:00 / 2017-05-27 00:00:00+00:00 to 2017-05-27 23:59:59.999999+00:00 / 2017-05-28 00:00:00+00:00 to 2017-05-28 23:59:59.999999+00:00 / 2017-05-29 00:00:00+00:00 to 2017-05-29 23:59:59.999999+00:00 / 2017-05-30 00:00:00+00:00 to 2017-05-30 23:59:59.999999+00:00 / 2017-05-31 00:00:00+00:00 to 2017-05-31 23:59:59.999999+00:00 / 2017-06-01 00:00:00+00:00 to 2017-06-01 23:59:59.999999+00:00 / 2017-06-02 00:00:00+00:00 to 2017-06-02 23:59:59.999999+00:00 from original request 2017-04-24 00:00:00+00:00 to 2017-06-02 00:00:00+00:00 (tcamarkettradeloaderimpl.py:366)\n",
      "2020-09-15 14:44:36,615; DEBUG:tcapy.analysis.tcamarkettradeloaderimpl: Split TCA request for USDJPY dates  / 2017-04-24 00:00:00+00:00 to 2017-04-24 23:59:59.999999+00:00 / 2017-04-25 00:00:00+00:00 to 2017-04-25 23:59:59.999999+00:00 / 2017-04-26 00:00:00+00:00 to 2017-04-26 23:59:59.999999+00:00 / 2017-04-27 00:00:00+00:00 to 2017-04-27 23:59:59.999999+00:00 / 2017-04-28 00:00:00+00:00 to 2017-04-28 23:59:59.999999+00:00 / 2017-04-29 00:00:00+00:00 to 2017-04-29 23:59:59.999999+00:00 / 2017-04-30 00:00:00+00:00 to 2017-04-30 23:59:59.999999+00:00 / 2017-05-01 00:00:00+00:00 to 2017-05-01 23:59:59.999999+00:00 / 2017-05-02 00:00:00+00:00 to 2017-05-02 23:59:59.999999+00:00 / 2017-05-03 00:00:00+00:00 to 2017-05-03 23:59:59.999999+00:00 / 2017-05-04 00:00:00+00:00 to 2017-05-04 23:59:59.999999+00:00 / 2017-05-05 00:00:00+00:00 to 2017-05-05 23:59:59.999999+00:00 / 2017-05-06 00:00:00+00:00 to 2017-05-06 23:59:59.999999+00:00 / 2017-05-07 00:00:00+00:00 to 2017-05-07 23:59:59.999999+00:00 / 2017-05-08 00:00:00+00:00 to 2017-05-08 23:59:59.999999+00:00 / 2017-05-09 00:00:00+00:00 to 2017-05-09 23:59:59.999999+00:00 / 2017-05-10 00:00:00+00:00 to 2017-05-10 23:59:59.999999+00:00 / 2017-05-11 00:00:00+00:00 to 2017-05-11 23:59:59.999999+00:00 / 2017-05-12 00:00:00+00:00 to 2017-05-12 23:59:59.999999+00:00 / 2017-05-13 00:00:00+00:00 to 2017-05-13 23:59:59.999999+00:00 / 2017-05-14 00:00:00+00:00 to 2017-05-14 23:59:59.999999+00:00 / 2017-05-15 00:00:00+00:00 to 2017-05-15 23:59:59.999999+00:00 / 2017-05-16 00:00:00+00:00 to 2017-05-16 23:59:59.999999+00:00 / 2017-05-17 00:00:00+00:00 to 2017-05-17 23:59:59.999999+00:00 / 2017-05-18 00:00:00+00:00 to 2017-05-18 23:59:59.999999+00:00 / 2017-05-19 00:00:00+00:00 to 2017-05-19 23:59:59.999999+00:00 / 2017-05-20 00:00:00+00:00 to 2017-05-20 23:59:59.999999+00:00 / 2017-05-21 00:00:00+00:00 to 2017-05-21 23:59:59.999999+00:00 / 2017-05-22 00:00:00+00:00 to 2017-05-22 23:59:59.999999+00:00 / 2017-05-23 00:00:00+00:00 to 2017-05-23 23:59:59.999999+00:00 / 2017-05-24 00:00:00+00:00 to 2017-05-24 23:59:59.999999+00:00 / 2017-05-25 00:00:00+00:00 to 2017-05-25 23:59:59.999999+00:00 / 2017-05-26 00:00:00+00:00 to 2017-05-26 23:59:59.999999+00:00 / 2017-05-27 00:00:00+00:00 to 2017-05-27 23:59:59.999999+00:00 / 2017-05-28 00:00:00+00:00 to 2017-05-28 23:59:59.999999+00:00 / 2017-05-29 00:00:00+00:00 to 2017-05-29 23:59:59.999999+00:00 / 2017-05-30 00:00:00+00:00 to 2017-05-30 23:59:59.999999+00:00 / 2017-05-31 00:00:00+00:00 to 2017-05-31 23:59:59.999999+00:00 / 2017-06-01 00:00:00+00:00 to 2017-06-01 23:59:59.999999+00:00 / 2017-06-02 00:00:00+00:00 to 2017-06-02 23:59:59.999999+00:00 from original request 2017-04-24 00:00:00+00:00 to 2017-06-02 00:00:00+00:00 (tcamarkettradeloaderimpl.py:366)\n",
      "2020-09-15 14:44:46,009; DEBUG:tcapy.analysis.tcamarkettradeloaderimpl: Finished parallel computation (tcamarkettradeloaderimpl.py:277)\n",
      "2020-09-15 14:44:46,010; WARNING:tcapy.analysis.dataframeholder: Cannot guess key type for EURUSD, assuming DataFrame (dataframeholder.py:139)\n",
      "2020-09-15 14:44:46,011; DEBUG:tcapy.data.volatilecache: Attempting to get list from cache: ['2020-09-15 13:44:43.792321__df_comp_88351_expiry_'] (volatilecache.py:540)\n",
      "2020-09-15 14:44:46,236; DEBUG:tcapy.data.volatilecache: Deleted 1 keys (volatilecache.py:576)\n",
      "2020-09-15 14:44:46,472; WARNING:tcapy.analysis.dataframeholder: Cannot guess key type for USDJPY, assuming DataFrame (dataframeholder.py:139)\n",
      "2020-09-15 14:44:46,473; DEBUG:tcapy.data.volatilecache: Attempting to get list from cache: ['2020-09-15 13:44:44.540146__df_comp_14045_expiry_'] (volatilecache.py:540)\n",
      "2020-09-15 14:44:46,722; DEBUG:tcapy.data.volatilecache: Deleted 1 keys (volatilecache.py:576)\n",
      "2020-09-15 14:44:46,973; DEBUG:tcapy.data.volatilecache: Attempting to get list from cache: ['2020-09-15 13:44:44.052076__df_comp_74884_expiry_', '2020-09-15 13:44:44.817932__df_comp_26108_expiry_'] (volatilecache.py:540)\n",
      "2020-09-15 14:44:46,977; DEBUG:tcapy.data.volatilecache: Deleted 2 keys (volatilecache.py:576)\n",
      "2020-09-15 14:44:46,991; DEBUG:tcapy.data.volatilecache: Attempting to get list from cache: ['2020-09-15 13:44:44.052105__df_comp_50915_expiry_', '2020-09-15 13:44:44.817961__df_comp_4355_expiry_'] (volatilecache.py:540)\n",
      "2020-09-15 14:44:46,995; DEBUG:tcapy.data.volatilecache: Deleted 2 keys (volatilecache.py:576)\n",
      "2020-09-15 14:44:47,008; DEBUG:tcapy.analysis.tcamarkettradeloader: Finished loading data and calculating metrics on individual _tickers (tcamarkettradeloader.py:248)\n",
      "2020-09-15 14:44:47,010; DEBUG:tcapy.analysis.tcamarkettradeloaderimpl: Constructing results form to summarize analysis... (tcamarkettradeloaderimpl.py:74)\n",
      "2020-09-15 14:44:47,028; DEBUG:tcapy.analysis.tcamarkettradeloaderimpl: Now join table results... (tcamarkettradeloaderimpl.py:122)\n",
      "2020-09-15 14:44:47,029; DEBUG:tcapy.analysis.tcamarkettradeloaderimpl: Finished calculating results form and join table results! (tcamarkettradeloaderimpl.py:135)\n"
     ]
    },
    {
     "name": "stdout",
     "output_type": "stream",
     "text": [
      "Wall time: 12.5 s\n"
     ]
    }
   ],
   "source": [
    "%%time\n",
    "\n",
    "volatile_cache.clear_cache()\n",
    "\n",
    "# Dictionary of (mostly) dataframes as output from TCA calculation\n",
    "dict_of_df = tca_engine.calculate_tca(tca_request)"
   ]
  },
  {
   "cell_type": "markdown",
   "metadata": {},
   "source": [
    "If we empty the cache, and turn off multithreading on my machine it takes around 7 seconds. It isn't always the case that multi threading is going to be faster for small date windows."
   ]
  },
  {
   "cell_type": "code",
   "execution_count": 17,
   "metadata": {
    "ExecuteTime": {
     "end_time": "2020-09-15T13:44:48.889528Z",
     "start_time": "2020-09-15T13:44:48.869529Z"
    }
   },
   "outputs": [],
   "source": [
    "volatile_cache.clear_cache()"
   ]
  },
  {
   "cell_type": "code",
   "execution_count": 18,
   "metadata": {
    "ExecuteTime": {
     "end_time": "2020-09-15T13:44:56.539870Z",
     "start_time": "2020-09-15T13:44:49.364873Z"
    }
   },
   "outputs": [
    {
     "name": "stderr",
     "output_type": "stream",
     "text": [
      "2020-09-15 14:44:49,367; DEBUG:tcapy.analysis.tcamarkettradeloader: Start loading trade/data/computation (tcamarkettradeloader.py:241)\n",
      "2020-09-15 14:44:49,369; DEBUG:tcapy.analysis.tcatickerloaderimpl: Get market and trade/order data for EURUSD from 2017-04-24 00:00:00+00:00 - 2017-06-02 00:00:00+00:00 (tcatickerloaderimpl.py:80)\n",
      "2020-09-15 14:44:49,370; DEBUG:tcapy.data.volatilecache: Attempting to get list from cache: ['arctic-dukascopy_EURUSD_2017-04-24 00:00:00+00:00_2017-06-02 00:00:00+00:00_market_df_None_comp'] (volatilecache.py:540)\n",
      "2020-09-15 14:44:49,372; DEBUG:tcapy.data.volatilecache: Attempting to get list from cache: ['arctic-dukascopy_EURUSD_2017-04-24 00:00:00+00:00_2017-06-02 00:00:00+00:00_market_df_None_comp'] (volatilecache.py:540)\n",
      "2020-09-15 14:44:49,432; INFO:tcapy.data.databasesource: Attempting to load Arctic/MongoDB library: market_data_table CHUNK_STORE (databasesource.py:1999)\n",
      "2020-09-15 14:44:49,435; INFO:tcapy.data.databasesource: Got Arctic/MongoDB library: market_data_table CHUNK_STORE (databasesource.py:2019)\n",
      "2020-09-15 14:44:50,079; DEBUG:tcapy.data.databasesource: Extracted Arctic/MongoDB library: market_data_table for ticker EURUSD-dukascopy between 2017-04-24 00:00:00 - 2017-06-02 00:00:00 from CHUNK_STORE (databasesource.py:2080)\n",
      "2020-09-15 14:44:50,148; WARNING:tcapy.analysis.algos.benchmark: mid not in market data (benchmark.py:90)\n",
      "2020-09-15 14:44:50,149; DEBUG:tcapy.analysis.tcatickerloader: Get trade order holder for EURUSD from 2017-04-24 00:00:00+00:00 - 2017-06-02 00:00:00+00:00 (tcatickerloader.py:386)\n",
      "2020-09-15 14:44:50,192; DEBUG:tcapy.data.volatilecache: Attempting to get list from cache: ['arctic-dukascopy_USDEUR_2017-04-24 00:00:00+00:00_2017-06-02 00:00:00+00:00_market_df_None_comp'] (volatilecache.py:540)\n",
      "2020-09-15 14:44:50,195; DEBUG:tcapy.data.volatilecache: Attempting to get list from cache: ['arctic-dukascopy_EURUSD_2017-04-24 00:00:00+00:00_2017-06-02 00:00:00+00:00_market_df_None_comp'] (volatilecache.py:540)\n",
      "2020-09-15 14:44:50,220; INFO:tcapy.data.databasesource: Attempting to load Arctic/MongoDB library: market_data_table CHUNK_STORE (databasesource.py:1999)\n",
      "2020-09-15 14:44:50,222; INFO:tcapy.data.databasesource: Got Arctic/MongoDB library: market_data_table CHUNK_STORE (databasesource.py:2019)\n",
      "2020-09-15 14:44:50,866; DEBUG:tcapy.data.databasesource: Extracted Arctic/MongoDB library: market_data_table for ticker EURUSD-dukascopy between 2017-04-24 00:00:00 - 2017-06-02 00:00:00 from CHUNK_STORE (databasesource.py:2080)\n",
      "2020-09-15 14:44:50,934; WARNING:tcapy.analysis.algos.benchmark: mid not in market data (benchmark.py:90)\n",
      "2020-09-15 14:44:50,963; DEBUG:tcapy.data.volatilecache: Attempting to get list from cache: ['arctic-dukascopy_EURUSD_2017-04-24 00:00:00+00:00_2017-06-02 00:00:00+00:00_market_df_None_comp'] (volatilecache.py:540)\n",
      "2020-09-15 14:44:50,966; DEBUG:tcapy.data.volatilecache: Attempting to get list from cache: ['arctic-dukascopy_EURUSD_2017-04-24 00:00:00+00:00_2017-06-02 00:00:00+00:00_market_df_None_comp'] (volatilecache.py:540)\n",
      "2020-09-15 14:44:51,008; INFO:tcapy.data.databasesource: Attempting to load Arctic/MongoDB library: market_data_table CHUNK_STORE (databasesource.py:1999)\n",
      "2020-09-15 14:44:51,011; INFO:tcapy.data.databasesource: Got Arctic/MongoDB library: market_data_table CHUNK_STORE (databasesource.py:2019)\n",
      "2020-09-15 14:44:51,650; DEBUG:tcapy.data.databasesource: Extracted Arctic/MongoDB library: market_data_table for ticker EURUSD-dukascopy between 2017-04-24 00:00:00 - 2017-06-02 00:00:00 from CHUNK_STORE (databasesource.py:2080)\n",
      "2020-09-15 14:44:51,720; WARNING:tcapy.analysis.algos.benchmark: mid not in market data (benchmark.py:90)\n",
      "2020-09-15 14:44:51,765; DEBUG:tcapy.data.volatilecache: Attempting to get list from cache: ['arctic-dukascopy_USDEUR_2017-04-24 00:00:00+00:00_2017-06-02 00:00:00+00:00_market_df_None_comp'] (volatilecache.py:540)\n",
      "2020-09-15 14:44:51,767; DEBUG:tcapy.data.volatilecache: Attempting to get list from cache: ['arctic-dukascopy_EURUSD_2017-04-24 00:00:00+00:00_2017-06-02 00:00:00+00:00_market_df_None_comp'] (volatilecache.py:540)\n",
      "2020-09-15 14:44:51,791; INFO:tcapy.data.databasesource: Attempting to load Arctic/MongoDB library: market_data_table CHUNK_STORE (databasesource.py:1999)\n",
      "2020-09-15 14:44:51,794; INFO:tcapy.data.databasesource: Got Arctic/MongoDB library: market_data_table CHUNK_STORE (databasesource.py:2019)\n",
      "2020-09-15 14:44:52,433; DEBUG:tcapy.data.databasesource: Extracted Arctic/MongoDB library: market_data_table for ticker EURUSD-dukascopy between 2017-04-24 00:00:00 - 2017-06-02 00:00:00 from CHUNK_STORE (databasesource.py:2080)\n",
      "2020-09-15 14:44:52,501; WARNING:tcapy.analysis.algos.benchmark: mid not in market data (benchmark.py:90)\n",
      "2020-09-15 14:44:52,536; DEBUG:tcapy.data.volatilecache: Attempting to get list from cache: ['arctic-dukascopy_EURUSD_2017-04-24 00:00:00+00:00_2017-06-02 00:00:00+00:00_market_df_None_comp'] (volatilecache.py:540)\n",
      "2020-09-15 14:44:52,539; DEBUG:tcapy.data.volatilecache: Attempting to get list from cache: ['arctic-dukascopy_EURUSD_2017-04-24 00:00:00+00:00_2017-06-02 00:00:00+00:00_market_df_None_comp'] (volatilecache.py:540)\n",
      "2020-09-15 14:44:52,563; INFO:tcapy.data.databasesource: Attempting to load Arctic/MongoDB library: market_data_table CHUNK_STORE (databasesource.py:1999)\n",
      "2020-09-15 14:44:52,566; INFO:tcapy.data.databasesource: Got Arctic/MongoDB library: market_data_table CHUNK_STORE (databasesource.py:2019)\n",
      "2020-09-15 14:44:53,208; DEBUG:tcapy.data.databasesource: Extracted Arctic/MongoDB library: market_data_table for ticker EURUSD-dukascopy between 2017-04-24 00:00:00 - 2017-06-02 00:00:00 from CHUNK_STORE (databasesource.py:2080)\n",
      "2020-09-15 14:44:53,277; WARNING:tcapy.analysis.algos.benchmark: mid not in market data (benchmark.py:90)\n",
      "2020-09-15 14:44:53,284; DEBUG:tcapy.analysis.tcatickerloader: Filter the market date by start/finish date (tcatickerloader.py:761)\n",
      "2020-09-15 14:44:53,334; DEBUG:tcapy.analysis.tcatickerloader: Combine trade/order data (tcatickerloader.py:782)\n",
      "2020-09-15 14:44:53,341; DEBUG:tcapy.analysis.tcatickerloader: Calculating BenchmarkMarketSpreadToMid for market data (tcatickerloader.py:600)\n",
      "2020-09-15 14:44:53,460; DEBUG:tcapy.analysis.tcatickerloader: Filter trades by venue (tcatickerloader.py:458)\n",
      "2020-09-15 14:44:53,462; DEBUG:tcapy.analysis.tcatickerloader: Calculating derived fields and benchmarks (tcatickerloader.py:508)\n",
      "2020-09-15 14:44:53,463; DEBUG:tcapy.analysis.tcatickerloader: Calculating execution fields (tcatickerloader.py:510)\n",
      "2020-09-15 14:44:53,471; DEBUG:tcapy.analysis.tcatickerloader: Calculating benchmarks (tcatickerloader.py:536)\n",
      "2020-09-15 14:44:53,472; DEBUG:tcapy.analysis.tcatickerloader: Calculating metrics (tcatickerloader.py:554)\n",
      "2020-09-15 14:44:53,473; DEBUG:tcapy.analysis.tcatickerloader: Calculating MetricSlippage for trade_df (tcatickerloader.py:560)\n",
      "2020-09-15 14:44:53,491; DEBUG:tcapy.analysis.tcatickerloader: Calculating MetricTransientMarketImpact for trade_df (tcatickerloader.py:560)\n",
      "2020-09-15 14:44:53,543; DEBUG:tcapy.analysis.tcatickerloader: Calculating MetricSlippage for order_df (tcatickerloader.py:560)\n",
      "2020-09-15 14:44:53,561; DEBUG:tcapy.analysis.tcatickerloader: Calculating MetricTransientMarketImpact for order_df (tcatickerloader.py:560)\n",
      "2020-09-15 14:44:53,584; DEBUG:tcapy.analysis.tcatickerloader: Completed derived field calculations for EURUSD (tcatickerloader.py:568)\n",
      "2020-09-15 14:44:53,587; DEBUG:tcapy.analysis.tcatickerloaderimpl: Get market and trade/order data for USDJPY from 2017-04-24 00:00:00+00:00 - 2017-06-02 00:00:00+00:00 (tcatickerloaderimpl.py:80)\n",
      "2020-09-15 14:44:53,588; DEBUG:tcapy.data.volatilecache: Attempting to get list from cache: ['arctic-dukascopy_USDJPY_2017-04-24 00:00:00+00:00_2017-06-02 00:00:00+00:00_market_df_None_comp'] (volatilecache.py:540)\n",
      "2020-09-15 14:44:53,590; DEBUG:tcapy.data.volatilecache: Attempting to get list from cache: ['arctic-dukascopy_USDJPY_2017-04-24 00:00:00+00:00_2017-06-02 00:00:00+00:00_market_df_None_comp'] (volatilecache.py:540)\n",
      "2020-09-15 14:44:53,631; INFO:tcapy.data.databasesource: Attempting to load Arctic/MongoDB library: market_data_table CHUNK_STORE (databasesource.py:1999)\n"
     ]
    },
    {
     "name": "stderr",
     "output_type": "stream",
     "text": [
      "2020-09-15 14:44:53,634; INFO:tcapy.data.databasesource: Got Arctic/MongoDB library: market_data_table CHUNK_STORE (databasesource.py:2019)\n",
      "2020-09-15 14:44:54,334; DEBUG:tcapy.data.databasesource: Extracted Arctic/MongoDB library: market_data_table for ticker USDJPY-dukascopy between 2017-04-24 00:00:00 - 2017-06-02 00:00:00 from CHUNK_STORE (databasesource.py:2080)\n",
      "2020-09-15 14:44:54,408; WARNING:tcapy.analysis.algos.benchmark: mid not in market data (benchmark.py:90)\n",
      "2020-09-15 14:44:54,409; DEBUG:tcapy.analysis.tcatickerloader: Get trade order holder for USDJPY from 2017-04-24 00:00:00+00:00 - 2017-06-02 00:00:00+00:00 (tcatickerloader.py:386)\n",
      "2020-09-15 14:44:54,452; DEBUG:tcapy.data.volatilecache: Attempting to get list from cache: ['arctic-dukascopy_JPYUSD_2017-04-24 00:00:00+00:00_2017-06-02 00:00:00+00:00_market_df_None_comp'] (volatilecache.py:540)\n",
      "2020-09-15 14:44:54,455; DEBUG:tcapy.data.volatilecache: Attempting to get list from cache: ['arctic-dukascopy_USDJPY_2017-04-24 00:00:00+00:00_2017-06-02 00:00:00+00:00_market_df_None_comp'] (volatilecache.py:540)\n",
      "2020-09-15 14:44:54,501; INFO:tcapy.data.databasesource: Attempting to load Arctic/MongoDB library: market_data_table CHUNK_STORE (databasesource.py:1999)\n",
      "2020-09-15 14:44:54,504; INFO:tcapy.data.databasesource: Got Arctic/MongoDB library: market_data_table CHUNK_STORE (databasesource.py:2019)\n",
      "2020-09-15 14:44:55,192; DEBUG:tcapy.data.databasesource: Extracted Arctic/MongoDB library: market_data_table for ticker USDJPY-dukascopy between 2017-04-24 00:00:00 - 2017-06-02 00:00:00 from CHUNK_STORE (databasesource.py:2080)\n",
      "2020-09-15 14:44:55,265; WARNING:tcapy.analysis.algos.benchmark: mid not in market data (benchmark.py:90)\n",
      "2020-09-15 14:44:55,341; DEBUG:tcapy.data.volatilecache: Attempting to get list from cache: ['arctic-dukascopy_JPYUSD_2017-04-24 00:00:00+00:00_2017-06-02 00:00:00+00:00_market_df_None_comp'] (volatilecache.py:540)\n",
      "2020-09-15 14:44:55,343; DEBUG:tcapy.data.volatilecache: Attempting to get list from cache: ['arctic-dukascopy_USDJPY_2017-04-24 00:00:00+00:00_2017-06-02 00:00:00+00:00_market_df_None_comp'] (volatilecache.py:540)\n",
      "2020-09-15 14:44:55,367; INFO:tcapy.data.databasesource: Attempting to load Arctic/MongoDB library: market_data_table CHUNK_STORE (databasesource.py:1999)\n",
      "2020-09-15 14:44:55,370; INFO:tcapy.data.databasesource: Got Arctic/MongoDB library: market_data_table CHUNK_STORE (databasesource.py:2019)\n",
      "2020-09-15 14:44:56,058; DEBUG:tcapy.data.databasesource: Extracted Arctic/MongoDB library: market_data_table for ticker USDJPY-dukascopy between 2017-04-24 00:00:00 - 2017-06-02 00:00:00 from CHUNK_STORE (databasesource.py:2080)\n",
      "2020-09-15 14:44:56,131; WARNING:tcapy.analysis.algos.benchmark: mid not in market data (benchmark.py:90)\n",
      "2020-09-15 14:44:56,162; DEBUG:tcapy.analysis.tcatickerloader: Filter the market date by start/finish date (tcatickerloader.py:761)\n",
      "2020-09-15 14:44:56,216; DEBUG:tcapy.analysis.tcatickerloader: Combine trade/order data (tcatickerloader.py:782)\n",
      "2020-09-15 14:44:56,222; DEBUG:tcapy.analysis.tcatickerloader: Calculating BenchmarkMarketSpreadToMid for market data (tcatickerloader.py:600)\n",
      "2020-09-15 14:44:56,348; DEBUG:tcapy.analysis.tcatickerloader: Filter trades by venue (tcatickerloader.py:458)\n",
      "2020-09-15 14:44:56,351; DEBUG:tcapy.analysis.tcatickerloader: Calculating derived fields and benchmarks (tcatickerloader.py:508)\n",
      "2020-09-15 14:44:56,352; DEBUG:tcapy.analysis.tcatickerloader: Calculating execution fields (tcatickerloader.py:510)\n",
      "2020-09-15 14:44:56,361; DEBUG:tcapy.analysis.tcatickerloader: Calculating benchmarks (tcatickerloader.py:536)\n",
      "2020-09-15 14:44:56,362; DEBUG:tcapy.analysis.tcatickerloader: Calculating metrics (tcatickerloader.py:554)\n",
      "2020-09-15 14:44:56,362; DEBUG:tcapy.analysis.tcatickerloader: Calculating MetricSlippage for trade_df (tcatickerloader.py:560)\n",
      "2020-09-15 14:44:56,383; DEBUG:tcapy.analysis.tcatickerloader: Calculating MetricTransientMarketImpact for trade_df (tcatickerloader.py:560)\n",
      "2020-09-15 14:44:56,435; DEBUG:tcapy.analysis.tcatickerloader: Calculating MetricSlippage for order_df (tcatickerloader.py:560)\n",
      "2020-09-15 14:44:56,453; DEBUG:tcapy.analysis.tcatickerloader: Calculating MetricTransientMarketImpact for order_df (tcatickerloader.py:560)\n",
      "2020-09-15 14:44:56,476; DEBUG:tcapy.analysis.tcatickerloader: Completed derived field calculations for USDJPY (tcatickerloader.py:568)\n",
      "2020-09-15 14:44:56,494; DEBUG:tcapy.analysis.tcamarkettradeloader: Finished loading data and calculating metrics on individual _tickers (tcamarkettradeloader.py:248)\n",
      "2020-09-15 14:44:56,496; DEBUG:tcapy.analysis.tcamarkettradeloaderimpl: Constructing results form to summarize analysis... (tcamarkettradeloaderimpl.py:74)\n",
      "2020-09-15 14:44:56,521; DEBUG:tcapy.analysis.tcamarkettradeloaderimpl: Now join table results... (tcamarkettradeloaderimpl.py:122)\n",
      "2020-09-15 14:44:56,523; DEBUG:tcapy.analysis.tcamarkettradeloaderimpl: Finished calculating results form and join table results! (tcamarkettradeloaderimpl.py:135)\n"
     ]
    },
    {
     "name": "stdout",
     "output_type": "stream",
     "text": [
      "Wall time: 7.16 s\n"
     ]
    }
   ],
   "source": [
    "%%time\n",
    "volatile_cache.clear_cache()\n",
    "\n",
    "tca_request.use_multithreading = False\n",
    "tca_request.trade_order_mapping=local_csv_trade_order_mapping\n",
    "\n",
    "# Dictionary of (mostly) dataframes as output from TCA calculation\n",
    "dict_of_df = tca_engine.calculate_tca(tca_request)"
   ]
  },
  {
   "cell_type": "markdown",
   "metadata": {},
   "source": [
    "Let's run it with multithreading on again, but this time the machine data should be cached in Redis. We see a small improvement here. If we are accessing a remote database, then the speed up would be much more significant."
   ]
  },
  {
   "cell_type": "code",
   "execution_count": 19,
   "metadata": {
    "ExecuteTime": {
     "end_time": "2020-09-15T13:45:06.692331Z",
     "start_time": "2020-09-15T13:44:59.400564Z"
    }
   },
   "outputs": [
    {
     "name": "stderr",
     "output_type": "stream",
     "text": [
      "2020-09-15 14:44:59,402; DEBUG:tcapy.analysis.tcamarkettradeloader: Start loading trade/data/computation (tcamarkettradeloader.py:241)\n",
      "2020-09-15 14:44:59,405; DEBUG:tcapy.analysis.tcamarkettradeloaderimpl: Split TCA request for EURUSD dates  / 2017-04-24 00:00:00+00:00 to 2017-04-24 23:59:59.999999+00:00 / 2017-04-25 00:00:00+00:00 to 2017-04-25 23:59:59.999999+00:00 / 2017-04-26 00:00:00+00:00 to 2017-04-26 23:59:59.999999+00:00 / 2017-04-27 00:00:00+00:00 to 2017-04-27 23:59:59.999999+00:00 / 2017-04-28 00:00:00+00:00 to 2017-04-28 23:59:59.999999+00:00 / 2017-04-29 00:00:00+00:00 to 2017-04-29 23:59:59.999999+00:00 / 2017-04-30 00:00:00+00:00 to 2017-04-30 23:59:59.999999+00:00 / 2017-05-01 00:00:00+00:00 to 2017-05-01 23:59:59.999999+00:00 / 2017-05-02 00:00:00+00:00 to 2017-05-02 23:59:59.999999+00:00 / 2017-05-03 00:00:00+00:00 to 2017-05-03 23:59:59.999999+00:00 / 2017-05-04 00:00:00+00:00 to 2017-05-04 23:59:59.999999+00:00 / 2017-05-05 00:00:00+00:00 to 2017-05-05 23:59:59.999999+00:00 / 2017-05-06 00:00:00+00:00 to 2017-05-06 23:59:59.999999+00:00 / 2017-05-07 00:00:00+00:00 to 2017-05-07 23:59:59.999999+00:00 / 2017-05-08 00:00:00+00:00 to 2017-05-08 23:59:59.999999+00:00 / 2017-05-09 00:00:00+00:00 to 2017-05-09 23:59:59.999999+00:00 / 2017-05-10 00:00:00+00:00 to 2017-05-10 23:59:59.999999+00:00 / 2017-05-11 00:00:00+00:00 to 2017-05-11 23:59:59.999999+00:00 / 2017-05-12 00:00:00+00:00 to 2017-05-12 23:59:59.999999+00:00 / 2017-05-13 00:00:00+00:00 to 2017-05-13 23:59:59.999999+00:00 / 2017-05-14 00:00:00+00:00 to 2017-05-14 23:59:59.999999+00:00 / 2017-05-15 00:00:00+00:00 to 2017-05-15 23:59:59.999999+00:00 / 2017-05-16 00:00:00+00:00 to 2017-05-16 23:59:59.999999+00:00 / 2017-05-17 00:00:00+00:00 to 2017-05-17 23:59:59.999999+00:00 / 2017-05-18 00:00:00+00:00 to 2017-05-18 23:59:59.999999+00:00 / 2017-05-19 00:00:00+00:00 to 2017-05-19 23:59:59.999999+00:00 / 2017-05-20 00:00:00+00:00 to 2017-05-20 23:59:59.999999+00:00 / 2017-05-21 00:00:00+00:00 to 2017-05-21 23:59:59.999999+00:00 / 2017-05-22 00:00:00+00:00 to 2017-05-22 23:59:59.999999+00:00 / 2017-05-23 00:00:00+00:00 to 2017-05-23 23:59:59.999999+00:00 / 2017-05-24 00:00:00+00:00 to 2017-05-24 23:59:59.999999+00:00 / 2017-05-25 00:00:00+00:00 to 2017-05-25 23:59:59.999999+00:00 / 2017-05-26 00:00:00+00:00 to 2017-05-26 23:59:59.999999+00:00 / 2017-05-27 00:00:00+00:00 to 2017-05-27 23:59:59.999999+00:00 / 2017-05-28 00:00:00+00:00 to 2017-05-28 23:59:59.999999+00:00 / 2017-05-29 00:00:00+00:00 to 2017-05-29 23:59:59.999999+00:00 / 2017-05-30 00:00:00+00:00 to 2017-05-30 23:59:59.999999+00:00 / 2017-05-31 00:00:00+00:00 to 2017-05-31 23:59:59.999999+00:00 / 2017-06-01 00:00:00+00:00 to 2017-06-01 23:59:59.999999+00:00 / 2017-06-02 00:00:00+00:00 to 2017-06-02 23:59:59.999999+00:00 from original request 2017-04-24 00:00:00+00:00 to 2017-06-02 00:00:00+00:00 (tcamarkettradeloaderimpl.py:366)\n",
      "2020-09-15 14:45:01,486; DEBUG:tcapy.analysis.tcamarkettradeloaderimpl: Split TCA request for USDJPY dates  / 2017-04-24 00:00:00+00:00 to 2017-04-24 23:59:59.999999+00:00 / 2017-04-25 00:00:00+00:00 to 2017-04-25 23:59:59.999999+00:00 / 2017-04-26 00:00:00+00:00 to 2017-04-26 23:59:59.999999+00:00 / 2017-04-27 00:00:00+00:00 to 2017-04-27 23:59:59.999999+00:00 / 2017-04-28 00:00:00+00:00 to 2017-04-28 23:59:59.999999+00:00 / 2017-04-29 00:00:00+00:00 to 2017-04-29 23:59:59.999999+00:00 / 2017-04-30 00:00:00+00:00 to 2017-04-30 23:59:59.999999+00:00 / 2017-05-01 00:00:00+00:00 to 2017-05-01 23:59:59.999999+00:00 / 2017-05-02 00:00:00+00:00 to 2017-05-02 23:59:59.999999+00:00 / 2017-05-03 00:00:00+00:00 to 2017-05-03 23:59:59.999999+00:00 / 2017-05-04 00:00:00+00:00 to 2017-05-04 23:59:59.999999+00:00 / 2017-05-05 00:00:00+00:00 to 2017-05-05 23:59:59.999999+00:00 / 2017-05-06 00:00:00+00:00 to 2017-05-06 23:59:59.999999+00:00 / 2017-05-07 00:00:00+00:00 to 2017-05-07 23:59:59.999999+00:00 / 2017-05-08 00:00:00+00:00 to 2017-05-08 23:59:59.999999+00:00 / 2017-05-09 00:00:00+00:00 to 2017-05-09 23:59:59.999999+00:00 / 2017-05-10 00:00:00+00:00 to 2017-05-10 23:59:59.999999+00:00 / 2017-05-11 00:00:00+00:00 to 2017-05-11 23:59:59.999999+00:00 / 2017-05-12 00:00:00+00:00 to 2017-05-12 23:59:59.999999+00:00 / 2017-05-13 00:00:00+00:00 to 2017-05-13 23:59:59.999999+00:00 / 2017-05-14 00:00:00+00:00 to 2017-05-14 23:59:59.999999+00:00 / 2017-05-15 00:00:00+00:00 to 2017-05-15 23:59:59.999999+00:00 / 2017-05-16 00:00:00+00:00 to 2017-05-16 23:59:59.999999+00:00 / 2017-05-17 00:00:00+00:00 to 2017-05-17 23:59:59.999999+00:00 / 2017-05-18 00:00:00+00:00 to 2017-05-18 23:59:59.999999+00:00 / 2017-05-19 00:00:00+00:00 to 2017-05-19 23:59:59.999999+00:00 / 2017-05-20 00:00:00+00:00 to 2017-05-20 23:59:59.999999+00:00 / 2017-05-21 00:00:00+00:00 to 2017-05-21 23:59:59.999999+00:00 / 2017-05-22 00:00:00+00:00 to 2017-05-22 23:59:59.999999+00:00 / 2017-05-23 00:00:00+00:00 to 2017-05-23 23:59:59.999999+00:00 / 2017-05-24 00:00:00+00:00 to 2017-05-24 23:59:59.999999+00:00 / 2017-05-25 00:00:00+00:00 to 2017-05-25 23:59:59.999999+00:00 / 2017-05-26 00:00:00+00:00 to 2017-05-26 23:59:59.999999+00:00 / 2017-05-27 00:00:00+00:00 to 2017-05-27 23:59:59.999999+00:00 / 2017-05-28 00:00:00+00:00 to 2017-05-28 23:59:59.999999+00:00 / 2017-05-29 00:00:00+00:00 to 2017-05-29 23:59:59.999999+00:00 / 2017-05-30 00:00:00+00:00 to 2017-05-30 23:59:59.999999+00:00 / 2017-05-31 00:00:00+00:00 to 2017-05-31 23:59:59.999999+00:00 / 2017-06-01 00:00:00+00:00 to 2017-06-01 23:59:59.999999+00:00 / 2017-06-02 00:00:00+00:00 to 2017-06-02 23:59:59.999999+00:00 from original request 2017-04-24 00:00:00+00:00 to 2017-06-02 00:00:00+00:00 (tcamarkettradeloaderimpl.py:366)\n",
      "2020-09-15 14:45:05,659; DEBUG:tcapy.analysis.tcamarkettradeloaderimpl: Finished parallel computation (tcamarkettradeloaderimpl.py:277)\n",
      "2020-09-15 14:45:05,660; WARNING:tcapy.analysis.dataframeholder: Cannot guess key type for EURUSD, assuming DataFrame (dataframeholder.py:139)\n",
      "2020-09-15 14:45:05,661; DEBUG:tcapy.data.volatilecache: Attempting to get list from cache: ['2020-09-15 13:45:02.314878__df_comp_20500_expiry_'] (volatilecache.py:540)\n",
      "2020-09-15 14:45:05,885; DEBUG:tcapy.data.volatilecache: Deleted 1 keys (volatilecache.py:576)\n",
      "2020-09-15 14:45:06,119; WARNING:tcapy.analysis.dataframeholder: Cannot guess key type for USDJPY, assuming DataFrame (dataframeholder.py:139)\n",
      "2020-09-15 14:45:06,120; DEBUG:tcapy.data.volatilecache: Attempting to get list from cache: ['2020-09-15 13:45:04.295662__df_comp_48827_expiry_'] (volatilecache.py:540)\n",
      "2020-09-15 14:45:06,368; DEBUG:tcapy.data.volatilecache: Deleted 1 keys (volatilecache.py:576)\n",
      "2020-09-15 14:45:06,627; DEBUG:tcapy.data.volatilecache: Attempting to get list from cache: ['2020-09-15 13:45:02.569039__df_comp_58950_expiry_', '2020-09-15 13:45:04.555942__df_comp_3169_expiry_'] (volatilecache.py:540)\n",
      "2020-09-15 14:45:06,631; DEBUG:tcapy.data.volatilecache: Deleted 2 keys (volatilecache.py:576)\n",
      "2020-09-15 14:45:06,644; DEBUG:tcapy.data.volatilecache: Attempting to get list from cache: ['2020-09-15 13:45:02.569084__df_comp_46687_expiry_', '2020-09-15 13:45:04.555970__df_comp_41895_expiry_'] (volatilecache.py:540)\n",
      "2020-09-15 14:45:06,648; DEBUG:tcapy.data.volatilecache: Deleted 2 keys (volatilecache.py:576)\n",
      "2020-09-15 14:45:06,662; DEBUG:tcapy.analysis.tcamarkettradeloader: Finished loading data and calculating metrics on individual _tickers (tcamarkettradeloader.py:248)\n",
      "2020-09-15 14:45:06,663; DEBUG:tcapy.analysis.tcamarkettradeloaderimpl: Constructing results form to summarize analysis... (tcamarkettradeloaderimpl.py:74)\n",
      "2020-09-15 14:45:06,681; DEBUG:tcapy.analysis.tcamarkettradeloaderimpl: Now join table results... (tcamarkettradeloaderimpl.py:122)\n",
      "2020-09-15 14:45:06,682; DEBUG:tcapy.analysis.tcamarkettradeloaderimpl: Finished calculating results form and join table results! (tcamarkettradeloaderimpl.py:135)\n"
     ]
    },
    {
     "name": "stdout",
     "output_type": "stream",
     "text": [
      "Wall time: 7.29 s\n"
     ]
    }
   ],
   "source": [
    "%%time\n",
    "tca_request.use_multithreading = True\n",
    "tca_request.trade_order_mapping=remote_csv_trade_order_mapping\n",
    "\n",
    "# Dictionary of (mostly) dataframes as output from TCA calculation\n",
    "dict_of_df = tca_engine.calculate_tca(tca_request)"
   ]
  },
  {
   "cell_type": "markdown",
   "metadata": {},
   "source": [
    "### Using CacheHandle object\n",
    "\n",
    "Throughout the parallelization process, `CacheHandle` objects are used extensively. Returning very large objects via Celery can cause problems, because of pickling/depickling. Rather than doing that, we instead create `CacheHandle` objects which are like pointers that point to keys in Redis, where the large DataFrames might be stored (sometimes in chunks given the limits on size of Redis values). The process is easier to control this way. Where possible we try to avoid serialisation/deserialisation of `CacheHandle` objects, until they're needed. Compression on these Redis values is enabled by default, so your RAM is not overwhelmed. In practice, you might to adjust your `redis.conf` settings to manage the store, depending on how much RAM is on your machine."
   ]
  },
  {
   "cell_type": "markdown",
   "metadata": {},
   "source": [
    "### Output of an aggregated TCA computation\n",
    "\n",
    "Let's check out the output. As an aggregated computation, we don't have the sparse market/trade DataFrames any more."
   ]
  },
  {
   "cell_type": "code",
   "execution_count": 20,
   "metadata": {
    "ExecuteTime": {
     "end_time": "2020-09-15T13:45:06.707331Z",
     "start_time": "2020-09-15T13:45:06.694331Z"
    }
   },
   "outputs": [
    {
     "data": {
      "text/plain": [
       "odict_keys(['trade_df', 'order_df', 'bar_trade_df_slippage_by/mean/ticker', 'bar_order_df_slippage_by/mean/ticker', 'EURUSD_df', 'USDJPY_df'])"
      ]
     },
     "execution_count": 20,
     "metadata": {},
     "output_type": "execute_result"
    }
   ],
   "source": [
    "dict_of_df.keys()"
   ]
  },
  {
   "cell_type": "markdown",
   "metadata": {},
   "source": [
    "If we want to have all those nice extra DataFrames, we need to set the `summary_display` parameter, and rerun the computation."
   ]
  },
  {
   "cell_type": "code",
   "execution_count": 21,
   "metadata": {
    "ExecuteTime": {
     "end_time": "2020-09-15T13:45:16.291078Z",
     "start_time": "2020-09-15T13:45:07.724980Z"
    }
   },
   "outputs": [
    {
     "name": "stderr",
     "output_type": "stream",
     "text": [
      "2020-09-15 14:45:07,725; DEBUG:tcapy.analysis.tcamarkettradeloader: Start loading trade/data/computation (tcamarkettradeloader.py:241)\n",
      "2020-09-15 14:45:07,728; DEBUG:tcapy.analysis.tcamarkettradeloaderimpl: Split TCA request for EURUSD dates  / 2017-04-24 00:00:00+00:00 to 2017-04-24 23:59:59.999999+00:00 / 2017-04-25 00:00:00+00:00 to 2017-04-25 23:59:59.999999+00:00 / 2017-04-26 00:00:00+00:00 to 2017-04-26 23:59:59.999999+00:00 / 2017-04-27 00:00:00+00:00 to 2017-04-27 23:59:59.999999+00:00 / 2017-04-28 00:00:00+00:00 to 2017-04-28 23:59:59.999999+00:00 / 2017-04-29 00:00:00+00:00 to 2017-04-29 23:59:59.999999+00:00 / 2017-04-30 00:00:00+00:00 to 2017-04-30 23:59:59.999999+00:00 / 2017-05-01 00:00:00+00:00 to 2017-05-01 23:59:59.999999+00:00 / 2017-05-02 00:00:00+00:00 to 2017-05-02 23:59:59.999999+00:00 / 2017-05-03 00:00:00+00:00 to 2017-05-03 23:59:59.999999+00:00 / 2017-05-04 00:00:00+00:00 to 2017-05-04 23:59:59.999999+00:00 / 2017-05-05 00:00:00+00:00 to 2017-05-05 23:59:59.999999+00:00 / 2017-05-06 00:00:00+00:00 to 2017-05-06 23:59:59.999999+00:00 / 2017-05-07 00:00:00+00:00 to 2017-05-07 23:59:59.999999+00:00 / 2017-05-08 00:00:00+00:00 to 2017-05-08 23:59:59.999999+00:00 / 2017-05-09 00:00:00+00:00 to 2017-05-09 23:59:59.999999+00:00 / 2017-05-10 00:00:00+00:00 to 2017-05-10 23:59:59.999999+00:00 / 2017-05-11 00:00:00+00:00 to 2017-05-11 23:59:59.999999+00:00 / 2017-05-12 00:00:00+00:00 to 2017-05-12 23:59:59.999999+00:00 / 2017-05-13 00:00:00+00:00 to 2017-05-13 23:59:59.999999+00:00 / 2017-05-14 00:00:00+00:00 to 2017-05-14 23:59:59.999999+00:00 / 2017-05-15 00:00:00+00:00 to 2017-05-15 23:59:59.999999+00:00 / 2017-05-16 00:00:00+00:00 to 2017-05-16 23:59:59.999999+00:00 / 2017-05-17 00:00:00+00:00 to 2017-05-17 23:59:59.999999+00:00 / 2017-05-18 00:00:00+00:00 to 2017-05-18 23:59:59.999999+00:00 / 2017-05-19 00:00:00+00:00 to 2017-05-19 23:59:59.999999+00:00 / 2017-05-20 00:00:00+00:00 to 2017-05-20 23:59:59.999999+00:00 / 2017-05-21 00:00:00+00:00 to 2017-05-21 23:59:59.999999+00:00 / 2017-05-22 00:00:00+00:00 to 2017-05-22 23:59:59.999999+00:00 / 2017-05-23 00:00:00+00:00 to 2017-05-23 23:59:59.999999+00:00 / 2017-05-24 00:00:00+00:00 to 2017-05-24 23:59:59.999999+00:00 / 2017-05-25 00:00:00+00:00 to 2017-05-25 23:59:59.999999+00:00 / 2017-05-26 00:00:00+00:00 to 2017-05-26 23:59:59.999999+00:00 / 2017-05-27 00:00:00+00:00 to 2017-05-27 23:59:59.999999+00:00 / 2017-05-28 00:00:00+00:00 to 2017-05-28 23:59:59.999999+00:00 / 2017-05-29 00:00:00+00:00 to 2017-05-29 23:59:59.999999+00:00 / 2017-05-30 00:00:00+00:00 to 2017-05-30 23:59:59.999999+00:00 / 2017-05-31 00:00:00+00:00 to 2017-05-31 23:59:59.999999+00:00 / 2017-06-01 00:00:00+00:00 to 2017-06-01 23:59:59.999999+00:00 / 2017-06-02 00:00:00+00:00 to 2017-06-02 23:59:59.999999+00:00 from original request 2017-04-24 00:00:00+00:00 to 2017-06-02 00:00:00+00:00 (tcamarkettradeloaderimpl.py:366)\n",
      "2020-09-15 14:45:09,745; DEBUG:tcapy.analysis.tcamarkettradeloaderimpl: Split TCA request for USDJPY dates  / 2017-04-24 00:00:00+00:00 to 2017-04-24 23:59:59.999999+00:00 / 2017-04-25 00:00:00+00:00 to 2017-04-25 23:59:59.999999+00:00 / 2017-04-26 00:00:00+00:00 to 2017-04-26 23:59:59.999999+00:00 / 2017-04-27 00:00:00+00:00 to 2017-04-27 23:59:59.999999+00:00 / 2017-04-28 00:00:00+00:00 to 2017-04-28 23:59:59.999999+00:00 / 2017-04-29 00:00:00+00:00 to 2017-04-29 23:59:59.999999+00:00 / 2017-04-30 00:00:00+00:00 to 2017-04-30 23:59:59.999999+00:00 / 2017-05-01 00:00:00+00:00 to 2017-05-01 23:59:59.999999+00:00 / 2017-05-02 00:00:00+00:00 to 2017-05-02 23:59:59.999999+00:00 / 2017-05-03 00:00:00+00:00 to 2017-05-03 23:59:59.999999+00:00 / 2017-05-04 00:00:00+00:00 to 2017-05-04 23:59:59.999999+00:00 / 2017-05-05 00:00:00+00:00 to 2017-05-05 23:59:59.999999+00:00 / 2017-05-06 00:00:00+00:00 to 2017-05-06 23:59:59.999999+00:00 / 2017-05-07 00:00:00+00:00 to 2017-05-07 23:59:59.999999+00:00 / 2017-05-08 00:00:00+00:00 to 2017-05-08 23:59:59.999999+00:00 / 2017-05-09 00:00:00+00:00 to 2017-05-09 23:59:59.999999+00:00 / 2017-05-10 00:00:00+00:00 to 2017-05-10 23:59:59.999999+00:00 / 2017-05-11 00:00:00+00:00 to 2017-05-11 23:59:59.999999+00:00 / 2017-05-12 00:00:00+00:00 to 2017-05-12 23:59:59.999999+00:00 / 2017-05-13 00:00:00+00:00 to 2017-05-13 23:59:59.999999+00:00 / 2017-05-14 00:00:00+00:00 to 2017-05-14 23:59:59.999999+00:00 / 2017-05-15 00:00:00+00:00 to 2017-05-15 23:59:59.999999+00:00 / 2017-05-16 00:00:00+00:00 to 2017-05-16 23:59:59.999999+00:00 / 2017-05-17 00:00:00+00:00 to 2017-05-17 23:59:59.999999+00:00 / 2017-05-18 00:00:00+00:00 to 2017-05-18 23:59:59.999999+00:00 / 2017-05-19 00:00:00+00:00 to 2017-05-19 23:59:59.999999+00:00 / 2017-05-20 00:00:00+00:00 to 2017-05-20 23:59:59.999999+00:00 / 2017-05-21 00:00:00+00:00 to 2017-05-21 23:59:59.999999+00:00 / 2017-05-22 00:00:00+00:00 to 2017-05-22 23:59:59.999999+00:00 / 2017-05-23 00:00:00+00:00 to 2017-05-23 23:59:59.999999+00:00 / 2017-05-24 00:00:00+00:00 to 2017-05-24 23:59:59.999999+00:00 / 2017-05-25 00:00:00+00:00 to 2017-05-25 23:59:59.999999+00:00 / 2017-05-26 00:00:00+00:00 to 2017-05-26 23:59:59.999999+00:00 / 2017-05-27 00:00:00+00:00 to 2017-05-27 23:59:59.999999+00:00 / 2017-05-28 00:00:00+00:00 to 2017-05-28 23:59:59.999999+00:00 / 2017-05-29 00:00:00+00:00 to 2017-05-29 23:59:59.999999+00:00 / 2017-05-30 00:00:00+00:00 to 2017-05-30 23:59:59.999999+00:00 / 2017-05-31 00:00:00+00:00 to 2017-05-31 23:59:59.999999+00:00 / 2017-06-01 00:00:00+00:00 to 2017-06-01 23:59:59.999999+00:00 / 2017-06-02 00:00:00+00:00 to 2017-06-02 23:59:59.999999+00:00 from original request 2017-04-24 00:00:00+00:00 to 2017-06-02 00:00:00+00:00 (tcamarkettradeloaderimpl.py:366)\n",
      "2020-09-15 14:45:14,973; DEBUG:tcapy.analysis.tcamarkettradeloaderimpl: Finished parallel computation (tcamarkettradeloaderimpl.py:277)\n",
      "2020-09-15 14:45:14,974; WARNING:tcapy.analysis.dataframeholder: Cannot guess key type for EURUSD, assuming DataFrame (dataframeholder.py:139)\n",
      "2020-09-15 14:45:14,975; DEBUG:tcapy.data.volatilecache: Attempting to get list from cache: ['2020-09-15 13:45:10.841574__df_comp_35619_expiry_'] (volatilecache.py:540)\n",
      "2020-09-15 14:45:15,208; DEBUG:tcapy.data.volatilecache: Deleted 1 keys (volatilecache.py:576)\n",
      "2020-09-15 14:45:15,439; WARNING:tcapy.analysis.dataframeholder: Cannot guess key type for USDJPY, assuming DataFrame (dataframeholder.py:139)\n",
      "2020-09-15 14:45:15,440; DEBUG:tcapy.data.volatilecache: Attempting to get list from cache: ['2020-09-15 13:45:13.284447__df_comp_72008_expiry_'] (volatilecache.py:540)\n",
      "2020-09-15 14:45:15,700; DEBUG:tcapy.data.volatilecache: Deleted 1 keys (volatilecache.py:576)\n",
      "2020-09-15 14:45:15,949; DEBUG:tcapy.data.volatilecache: Attempting to get list from cache: ['2020-09-15 13:45:11.108146__df_comp_16665_expiry_', '2020-09-15 13:45:13.542585__df_comp_81840_expiry_'] (volatilecache.py:540)\n",
      "2020-09-15 14:45:15,953; DEBUG:tcapy.data.volatilecache: Deleted 2 keys (volatilecache.py:576)\n",
      "2020-09-15 14:45:15,964; DEBUG:tcapy.data.volatilecache: Attempting to get list from cache: ['2020-09-15 13:45:11.108191__df_comp_10734_expiry_', '2020-09-15 13:45:13.542618__df_comp_86746_expiry_'] (volatilecache.py:540)\n",
      "2020-09-15 14:45:15,968; DEBUG:tcapy.data.volatilecache: Deleted 2 keys (volatilecache.py:576)\n",
      "2020-09-15 14:45:15,981; DEBUG:tcapy.data.volatilecache: Attempting to get list from cache: ['2020-09-15 13:45:11.108199__df_comp_80879_expiry_'] (volatilecache.py:540)\n",
      "2020-09-15 14:45:15,984; DEBUG:tcapy.data.volatilecache: Deleted 1 keys (volatilecache.py:576)\n",
      "2020-09-15 14:45:15,987; DEBUG:tcapy.data.volatilecache: Attempting to get list from cache: ['2020-09-15 13:45:11.108205__df_comp_55075_expiry_'] (volatilecache.py:540)\n",
      "2020-09-15 14:45:15,991; DEBUG:tcapy.data.volatilecache: Deleted 1 keys (volatilecache.py:576)\n",
      "2020-09-15 14:45:15,994; DEBUG:tcapy.data.volatilecache: Attempting to get list from cache: ['2020-09-15 13:45:11.108211__df_comp_38599_expiry_'] (volatilecache.py:540)\n",
      "2020-09-15 14:45:15,998; DEBUG:tcapy.data.volatilecache: Deleted 1 keys (volatilecache.py:576)\n",
      "2020-09-15 14:45:16,001; DEBUG:tcapy.data.volatilecache: Attempting to get list from cache: ['2020-09-15 13:45:11.108287__fig_comp_69949_expiry_'] (volatilecache.py:540)\n"
     ]
    },
    {
     "name": "stderr",
     "output_type": "stream",
     "text": [
      "2020-09-15 14:45:16,005; DEBUG:tcapy.data.volatilecache: Deleted 1 keys (volatilecache.py:576)\n",
      "2020-09-15 14:45:16,028; DEBUG:tcapy.data.volatilecache: Attempting to get list from cache: ['2020-09-15 13:45:11.108315__fig_comp_75697_expiry_'] (volatilecache.py:540)\n",
      "2020-09-15 14:45:16,033; DEBUG:tcapy.data.volatilecache: Deleted 1 keys (volatilecache.py:576)\n",
      "2020-09-15 14:45:16,075; DEBUG:tcapy.data.volatilecache: Attempting to get list from cache: ['2020-09-15 13:45:11.108343__fig_comp_59187_expiry_'] (volatilecache.py:540)\n",
      "2020-09-15 14:45:16,080; DEBUG:tcapy.data.volatilecache: Deleted 1 keys (volatilecache.py:576)\n",
      "2020-09-15 14:45:16,122; DEBUG:tcapy.data.volatilecache: Attempting to get list from cache: ['2020-09-15 13:45:13.542625__df_comp_79533_expiry_'] (volatilecache.py:540)\n",
      "2020-09-15 14:45:16,125; DEBUG:tcapy.data.volatilecache: Deleted 1 keys (volatilecache.py:576)\n",
      "2020-09-15 14:45:16,129; DEBUG:tcapy.data.volatilecache: Attempting to get list from cache: ['2020-09-15 13:45:13.542632__df_comp_94804_expiry_'] (volatilecache.py:540)\n",
      "2020-09-15 14:45:16,132; DEBUG:tcapy.data.volatilecache: Deleted 1 keys (volatilecache.py:576)\n",
      "2020-09-15 14:45:16,135; DEBUG:tcapy.data.volatilecache: Attempting to get list from cache: ['2020-09-15 13:45:13.542638__df_comp_60654_expiry_'] (volatilecache.py:540)\n",
      "2020-09-15 14:45:16,138; DEBUG:tcapy.data.volatilecache: Deleted 1 keys (volatilecache.py:576)\n",
      "2020-09-15 14:45:16,141; DEBUG:tcapy.data.volatilecache: Attempting to get list from cache: ['2020-09-15 13:45:13.542716__fig_comp_18699_expiry_'] (volatilecache.py:540)\n",
      "2020-09-15 14:45:16,145; DEBUG:tcapy.data.volatilecache: Deleted 1 keys (volatilecache.py:576)\n",
      "2020-09-15 14:45:16,167; DEBUG:tcapy.data.volatilecache: Attempting to get list from cache: ['2020-09-15 13:45:13.542744__fig_comp_99410_expiry_'] (volatilecache.py:540)\n",
      "2020-09-15 14:45:16,172; DEBUG:tcapy.data.volatilecache: Deleted 1 keys (volatilecache.py:576)\n",
      "2020-09-15 14:45:16,215; DEBUG:tcapy.data.volatilecache: Attempting to get list from cache: ['2020-09-15 13:45:13.542770__fig_comp_33903_expiry_'] (volatilecache.py:540)\n",
      "2020-09-15 14:45:16,220; DEBUG:tcapy.data.volatilecache: Deleted 1 keys (volatilecache.py:576)\n",
      "2020-09-15 14:45:16,263; DEBUG:tcapy.analysis.tcamarkettradeloader: Finished loading data and calculating metrics on individual _tickers (tcamarkettradeloader.py:248)\n",
      "2020-09-15 14:45:16,264; DEBUG:tcapy.analysis.tcamarkettradeloaderimpl: Constructing results form to summarize analysis... (tcamarkettradeloaderimpl.py:74)\n",
      "2020-09-15 14:45:16,283; DEBUG:tcapy.analysis.tcamarkettradeloaderimpl: Now join table results... (tcamarkettradeloaderimpl.py:122)\n",
      "2020-09-15 14:45:16,284; DEBUG:tcapy.analysis.tcamarkettradeloaderimpl: Finished calculating results form and join table results! (tcamarkettradeloaderimpl.py:135)\n"
     ]
    }
   ],
   "source": [
    "tca_request.summary_display = 'candlestick'\n",
    "\n",
    "# Dictionary of (mostly) dataframes as output from TCA calculation\n",
    "dict_of_df = tca_engine.calculate_tca(tca_request)"
   ]
  },
  {
   "cell_type": "markdown",
   "metadata": {},
   "source": [
    "If we inspect all the keys of the TCA output, we now see a lot more DataFrames and Plotly JSON Figures."
   ]
  },
  {
   "cell_type": "code",
   "execution_count": null,
   "metadata": {
    "ExecuteTime": {
     "end_time": "2020-09-15T12:41:57.070011Z",
     "start_time": "2020-09-15T12:40:19.968Z"
    }
   },
   "outputs": [],
   "source": [
    "dict_of_df.keys()"
   ]
  },
  {
   "cell_type": "markdown",
   "metadata": {},
   "source": [
    "At present `TCAResults` doesn't yet support `aggregate` TCA with more than one ticker. So we need to use `PlotRender` to create the various figures from the DataFrames. Here let's plot the order slippage by the ticker."
   ]
  },
  {
   "cell_type": "code",
   "execution_count": null,
   "metadata": {
    "ExecuteTime": {
     "end_time": "2020-09-15T12:41:57.071012Z",
     "start_time": "2020-09-15T12:40:19.970Z"
    }
   },
   "outputs": [],
   "source": [
    "plot_render = PlotRender()\n",
    "\n",
    "# Generate Plotly JSON Figure\n",
    "bar_fig = plot_render.plot_bar(title='Order slippage by ticker', \n",
    "              bar_df=dict_of_df['bar_order_df_slippage_by/mean/ticker'], \n",
    "              width=chart_width, height=chart_height)\n",
    "   \n",
    "# Render the Plotly JSON Figure to view\n",
    "chart.plot(bar_fig, engine='plotly', style=style)"
   ]
  },
  {
   "cell_type": "markdown",
   "metadata": {},
   "source": [
    "We can plot the sparse market/order data for both EURUSD and USDJPY."
   ]
  },
  {
   "cell_type": "code",
   "execution_count": null,
   "metadata": {
    "ExecuteTime": {
     "end_time": "2020-09-15T12:41:57.072009Z",
     "start_time": "2020-09-15T12:40:19.972Z"
    }
   },
   "outputs": [],
   "source": [
    "chart.plot(dict_of_df['EURUSD_sparse_market_order_fig'], engine='plotly', style=style)"
   ]
  },
  {
   "cell_type": "code",
   "execution_count": null,
   "metadata": {
    "ExecuteTime": {
     "end_time": "2020-09-15T12:41:57.073011Z",
     "start_time": "2020-09-15T12:40:19.974Z"
    }
   },
   "outputs": [],
   "source": [
    "chart.plot(dict_of_df['USDJPY_sparse_market_order_fig'], engine='plotly', style=style)"
   ]
  },
  {
   "cell_type": "markdown",
   "metadata": {},
   "source": [
    "### Using trade/order data from an internal database\n",
    "\n",
    "We can also collect trade/order data in internal databases (Microsoft SQL Server, MySQL or PostgreSQL). Here we are using an already populated MySQL, which has trade and order data in different tables, that we have mapped in `Constants`. The call takes around 8 seconds on my machine. At this stage, the market data has been cached from the earlier call, but the trade/order data needs to be loaded from MySQL. Underneath it will use `DatabaseSourcMySQL` to do the actual SQL calls to the database.\n",
    "\n",
    "Typically, we would expect that most calls would involve both internal trade data and market data databases."
   ]
  },
  {
   "cell_type": "code",
   "execution_count": null,
   "metadata": {
    "ExecuteTime": {
     "end_time": "2020-09-15T12:41:57.074009Z",
     "start_time": "2020-09-15T12:40:19.976Z"
    }
   },
   "outputs": [],
   "source": [
    "%%time\n",
    "tca_request.trade_data_store = 'mysql'\n",
    "tca_request.trade_order_mapping = ['trade_df', 'order_df']\n",
    "\n",
    "# Dictionary of (mostly) dataframes as output from TCA calculation\n",
    "dict_of_df = tca_engine.calculate_tca(tca_request)"
   ]
  },
  {
   "cell_type": "markdown",
   "metadata": {},
   "source": [
    "If we run it again, it takes around 5 seconds on my machine. In this case the reading the cached trade/order data from Redis (as well as the market data, which was cached earlier) has helped a bit. For longer time periods we would likely notice that caching would help."
   ]
  },
  {
   "cell_type": "code",
   "execution_count": null,
   "metadata": {
    "ExecuteTime": {
     "end_time": "2020-09-15T12:41:57.075010Z",
     "start_time": "2020-09-15T12:40:19.978Z"
    }
   },
   "outputs": [],
   "source": [
    "%%time\n",
    "\n",
    "# Dictionary of (mostly) dataframes as output from TCA calculation\n",
    "dict_of_df = tca_engine.calculate_tca(tca_request)"
   ]
  },
  {
   "cell_type": "markdown",
   "metadata": {},
   "source": [
    "We can see the output keys below."
   ]
  },
  {
   "cell_type": "code",
   "execution_count": null,
   "metadata": {
    "ExecuteTime": {
     "end_time": "2020-09-15T12:41:57.075010Z",
     "start_time": "2020-09-15T12:40:19.980Z"
    }
   },
   "outputs": [],
   "source": [
    "dict_of_df.keys()"
   ]
  },
  {
   "cell_type": "markdown",
   "metadata": {},
   "source": [
    "We can view some of the market data in returned which was stored in the database."
   ]
  },
  {
   "cell_type": "code",
   "execution_count": null,
   "metadata": {
    "ExecuteTime": {
     "end_time": "2020-09-15T12:41:57.076008Z",
     "start_time": "2020-09-15T12:40:19.982Z"
    }
   },
   "outputs": [],
   "source": [
    "dict_of_df['EURUSD_df'].head(5)"
   ]
  },
  {
   "cell_type": "markdown",
   "metadata": {},
   "source": [
    "Let's render the sparse market/order Plotly JSON Figure, which was returned for USDJPY."
   ]
  },
  {
   "cell_type": "code",
   "execution_count": null,
   "metadata": {
    "ExecuteTime": {
     "end_time": "2020-09-15T12:41:57.077010Z",
     "start_time": "2020-09-15T12:40:19.984Z"
    }
   },
   "outputs": [],
   "source": [
    "chart.plot(dict_of_df['USDJPY_sparse_market_order_fig'], \n",
    "           engine='plotly', style=style)"
   ]
  },
  {
   "cell_type": "markdown",
   "metadata": {},
   "source": [
    "# How to speed up tcapy?\n",
    "\n",
    "We go through a few ways of how to speed up tcapy below.\n",
    "\n",
    "* Increase the number of Celery workers\n",
    "    * Given tcapy distributes the computation, if you have more workers, you should be able to speed up computation considerably\n",
    "    * This is particuarly useful if you are running the computation across many tickers\n",
    "    \n",
    "* Have faster hard drives and more memory\n",
    "    * Faster hard drives will speed up your database\n",
    "    * More memory will enable Redis to cache more data in-memory, rather than having to hit the database every time\n",
    "\n",
    "* Code profiling\n",
    "    * If you use a tool like PyCharm it has an easy to use code profile, which gives you a breakdown of how long each section of code takes to run\n",
    "    * Whilst, we have used this extensively, to identify bottlenecks in the tcapy code, I'm sure we could improve the code and make it faster\n",
    "    * If you find anything that makes the code a lot quicker, let us know\n",
    "    \n",
    "* Tune database performance\n",
    "    * We have just out-of-the-box configurations for our databases (Arctic/MongoDB and Microsoft SQL Server)\n",
    "    * It is likely we can improve performance of these by tuning the configuration\n",
    "    * You can also experiment with different storage engines for Arctic, we found that for example switching to `ChunkStore` with daily buckets, seemed to be faster for our use case than `VersionStore`\n",
    "    * For example with MongoDB, we can improve performance via [sharding](https://docs.mongodb.com/manual/sharding/), which allows us to distribute the database across multiple machines"
   ]
  },
  {
   "cell_type": "markdown",
   "metadata": {},
   "source": [
    "# Running tcapy on the cloud\n",
    "\n",
    "Given that TCA is heavily compute intensive and also requires a lot of storage, it would be a good task to run in the cloud to take advantage of scaling computations. In particular, tcapy has been written with distributed computation in mind, so it can be speeded up considerably by having hardware that can run many tasks in parallel (eg. through the use of Celery to run tasks on different workers). Running tcapy with hardware which only has eg. 1-2 cores, is likely to likely to result in very slow computation.\n",
    "\n",
    "It is possible to replicate a local setup by spinning up a Linux box in the cloud (eg. [AWS EC2](https://aws.amazon.com/ec2/), [GCP Compute Engine](https://cloud.google.com/compute) or [Azure Virtual Machines](https://azure.microsoft.com/en-gb/services/virtual-machines/)), which would mirror the configuration exactly and you would self manage everything including the database.\n",
    "\n",
    "However, a more efficient way to use the cloud, would be to use specific fully managed cloud services. For illustative purposes, we've listed some of the fully managed cloud services, that could be using for different parts of tcapy on Amazon Web Services (AWS) and Google Cloud Platform (GCP).\n",
    "\n",
    "This is only a summarised list, and there are likely to be many other cloud services which are likely to be useful. We can split it roughly into 3 categories. Firstly, services related to the TCA computation and running of the web app. Secondly, we list about those services for managing and storing the underlying data, both the market tick data and also the trade/order data. Thirdly, are the services for caching the data and also to manage communication between the distributed processes.\n",
    "\n",
    "* *Computation*\n",
    "    * serverless hosting of tcapy web application and service\n",
    "        * deals with capacity provisioning, load balancing, auto-scaling to application health monitoring\n",
    "        * [AWS Elastic Beanstalk](https://aws.amazon.com/elasticbeanstalk/)\n",
    "        * [GCP App Engine](https://cloud.google.com/appengine)\n",
    "        * [Azure App Service](https://azure.microsoft.com/en-gb/services/app-service/)\n",
    "    * serverless compute for TCA calculations\n",
    "        * run code without provisioning or managing servers, pay as go model\n",
    "        * [AWS Lambda](https://aws.amazon.com/lambda/)\n",
    "        * [GCP Cloud Functions](https://cloud.google.com/functions)\n",
    "        * [Azure functions](https://azure.microsoft.com/en-gb/services/functions/)\n",
    "* *Data storage*\n",
    "    * storing market data in a database\n",
    "        * [AWS DocumentDB (mostly compatible with MongoDB)](https://aws.amazon.com/documentdb/)\n",
    "        * [GCP MongoDB Atlas](https://www.mongodb.com/cloud/atlas/mongodb-google-cloud)\n",
    "        * [GCP BigQuery](https://cloud.google.com/bigquery)\n",
    "        * [Azure Cosmos DB](https://azure.microsoft.com/en-gb/services/cosmos-db/)\n",
    "    * storing market data in shorter term disk storage\n",
    "        * [AWS EBS](https://aws.amazon.com/ebs/)\n",
    "        * [GCP Cloud Storage](https://cloud.google.com/storage)\n",
    "        * [Azure Disk Storage](https://azure.microsoft.com/en-gb/services/storage/disks/)\n",
    "    * storing market data in longer term disk storage\n",
    "        * [AWS S3](https://aws.amazon.com/s3/)\n",
    "        * [GCP Cloud Storage buckets](https://cloud.google.com/compute/docs/disks#gcsbuckets)\n",
    "        * [Azure Blob storage](https://docs.microsoft.com/en-us/azure/storage/blobs/storage-blobs-introduction)\n",
    "    * storing trade data in a database\n",
    "        * [AWS RDS](https://aws.amazon.com/rds/)\n",
    "        * [GCP Cloud SQL](https://cloud.google.com/sql)\n",
    "        * [Azure SQL Database](https://azure.microsoft.com/en-gb/services/sql-database/)\n",
    "* *In-memory caching and managing distributed processes*\n",
    "    * caching market and trade data\n",
    "        * [AWS ElasticCache for Redis](https://aws.amazon.com/elasticache/)\n",
    "        * [GCP Memorystore](https://cloud.google.com/memorystore)\n",
    "        * [Azure Cache for Redis](https://azure.microsoft.com/en-gb/services/cache/)\n",
    "    * message broker\n",
    "        * [AWS SQS](https://aws.amazon.com/sqs/)\n",
    "        * [GCP Cloud Pub/Sub](https://cloud.google.com/pubsub)\n",
    "        * [Azure Queue Storage](https://azure.microsoft.com/services/storage/queues/)\n",
    "\n",
    "At present, tcapy doesn't natively take advantage of many of these serverless cloud services. You would need to write your own wrappers to use lots of these serverless cloud features, in particular . The benefits of serverless computing are that we could massively scale the computation on demand, making it much quicker. It is likely to be cheaper in terms of computation costs, since we'll only pay for the computations on demand, rather than continually renting a powerful Linux box.\n",
    "\n",
    "**However, we are hoping to add proper support for such serverless cloud functionality for several cloud providers (if you have interest in helping us on this, let us know).**"
   ]
  },
  {
   "cell_type": "markdown",
   "metadata": {},
   "source": [
    "# Troubleshooting tcapy\n",
    "\n",
    "There are many potentional reasons why there could be issues with tcapy. Note that if you use Docker to start tcapy it might be easier, and some of these folders could be different.\n",
    "\n",
    "* Are the databases/caches accessible and have we set the right IPs/credientials for them? \n",
    "    * Wrong IPs will obviously cause problems\n",
    "    * Firewalls can frequently block access\n",
    "* Does the parallelisation work with Celery? \n",
    "    * Perhaps, you have got too many workers for your hardware\n",
    "    * Have you started your Celery workers (using `restart_tcapy.sh`) - this will automatically be started if you use Docker version\n",
    "* Have you setup your databases properly?\n",
    "    * Have they started?\n",
    "    * Are they populated?\n",
    "* Is the trade/order data in the right format? \n",
    "    * If all the field names are different, tcapy will have trouble reading them\n",
    "* Is the market data actually there, or are there big chunks missing?\n",
    "    * If there's missing market data for a period of time where you want to do TCA on your trades, it will cause problems\n",
    "\n",
    "The first place to check are in the logs in folder `/home/tcapyuser/cuemacro/tcapy/log`\n",
    "\n",
    "* tcapy application - `linux*.log` and `windows*.log`\n",
    "    * This is the most important place to start\n",
    "* Parallelisation - `celery.log`\n",
    "    * When TCA computation gets farmed out per cross, the log data is dumped here\n",
    "* Web server - `gunicorn_tcapy_error.log` and `gunicorn_tcapy_error.log`\n",
    "    * Check who is accessing the web server\n",
    "* Database - `mongo.log`\n",
    "    * Check whether the database is getting connections\n",
    "    \n",
    "Also try to look at the underlying data, by dumping it in CSV format, to see if there are any missing sections etc.\n",
    "    \n",
    "Whilst we can use Linux tools like `tail -f` and `less` to read logs, a nice log GUI available for both Linux and Windows is [glogg](https://glogg.bonnefon.org/).\n",
    "    \n",
    "Check the GitHub page for community support too if you have any issues. Cuemacro also offers commercial support for tcapy, contact saeed@cuemacro.com for more information."
   ]
  },
  {
   "cell_type": "markdown",
   "metadata": {},
   "source": [
    "# Extra coding examples with tcapy\n",
    "\n",
    "If you want to see more code examples of how to call tcapy programmatically, the `/home/tcapyuser/cuemacro/tcapy/tcapy_examples` folder has several Python scripts to illustate how to call tcapy. We are also working on more Jupyter notebooks to illustrate how to use other elements of the tcapy API."
   ]
  },
  {
   "cell_type": "markdown",
   "metadata": {},
   "source": [
    "# Conclusion\n",
    "\n",
    "We have seen how to call tcapy programatically. We showed how to download data from Dukascopy and also how to get trade data from CSV files. We indicated what the format of your trade/order data should be.\n",
    "\n",
    "We described how to do a TCA calculation with tcapy, and how to specify which metrics and benchmarks to use, as well as aggregating the statistics into timelines, distributions etc.\n",
    "\n",
    "We have also seen how using Celery to distribute the computation, as well as caching data with Redis can help to speed up the computation. If you are interesting supporting this project, please contact saeed@cuemacro.com."
   ]
  }
 ],
 "metadata": {
  "kernelspec": {
   "display_name": "Python 3",
   "language": "python",
   "name": "python3"
  },
  "language_info": {
   "codemirror_mode": {
    "name": "ipython",
    "version": 3
   },
   "file_extension": ".py",
   "mimetype": "text/x-python",
   "name": "python",
   "nbconvert_exporter": "python",
   "pygments_lexer": "ipython3",
   "version": "3.7.9"
  },
  "toc": {
   "base_numbering": 1,
   "nav_menu": {},
   "number_sections": true,
   "sideBar": true,
   "skip_h1_title": false,
   "title_cell": "Table of Contents",
   "title_sidebar": "Contents",
   "toc_cell": false,
   "toc_position": {
    "height": "calc(100% - 180px)",
    "left": "10px",
    "top": "150px",
    "width": "362.286px"
   },
   "toc_section_display": true,
   "toc_window_display": true
  }
 },
 "nbformat": 4,
 "nbformat_minor": 4
}
